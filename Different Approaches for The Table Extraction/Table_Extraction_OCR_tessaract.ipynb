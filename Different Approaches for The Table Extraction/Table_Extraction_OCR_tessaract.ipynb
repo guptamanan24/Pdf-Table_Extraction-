{
  "nbformat": 4,
  "nbformat_minor": 0,
  "metadata": {
    "colab": {
      "provenance": [],
      "gpuType": "T4"
    },
    "kernelspec": {
      "name": "python3",
      "display_name": "Python 3"
    },
    "language_info": {
      "name": "python"
    },
    "widgets": {
      "application/vnd.jupyter.widget-state+json": {
        "e5bf96605eff494b942d23d851f4cc73": {
          "model_module": "@jupyter-widgets/controls",
          "model_name": "HBoxModel",
          "model_module_version": "1.5.0",
          "state": {
            "_dom_classes": [],
            "_model_module": "@jupyter-widgets/controls",
            "_model_module_version": "1.5.0",
            "_model_name": "HBoxModel",
            "_view_count": null,
            "_view_module": "@jupyter-widgets/controls",
            "_view_module_version": "1.5.0",
            "_view_name": "HBoxView",
            "box_style": "",
            "children": [
              "IPY_MODEL_258db58478344e9ca90e9976f07cd20c",
              "IPY_MODEL_87947adc74c447b8b6b27ee23e332ff8",
              "IPY_MODEL_25b04f3ad877441ba92c7613b261cfb9"
            ],
            "layout": "IPY_MODEL_3d63a68ab55541edb0fc540021b63b8b"
          }
        },
        "258db58478344e9ca90e9976f07cd20c": {
          "model_module": "@jupyter-widgets/controls",
          "model_name": "HTMLModel",
          "model_module_version": "1.5.0",
          "state": {
            "_dom_classes": [],
            "_model_module": "@jupyter-widgets/controls",
            "_model_module_version": "1.5.0",
            "_model_name": "HTMLModel",
            "_view_count": null,
            "_view_module": "@jupyter-widgets/controls",
            "_view_module_version": "1.5.0",
            "_view_name": "HTMLView",
            "description": "",
            "description_tooltip": null,
            "layout": "IPY_MODEL_0bec1460a4e748a7baa80a68ab0111e0",
            "placeholder": "​",
            "style": "IPY_MODEL_117a3c58f7f54bcfae69bd8891737e73",
            "value": "preprocessor_config.json: 100%"
          }
        },
        "87947adc74c447b8b6b27ee23e332ff8": {
          "model_module": "@jupyter-widgets/controls",
          "model_name": "FloatProgressModel",
          "model_module_version": "1.5.0",
          "state": {
            "_dom_classes": [],
            "_model_module": "@jupyter-widgets/controls",
            "_model_module_version": "1.5.0",
            "_model_name": "FloatProgressModel",
            "_view_count": null,
            "_view_module": "@jupyter-widgets/controls",
            "_view_module_version": "1.5.0",
            "_view_name": "ProgressView",
            "bar_style": "success",
            "description": "",
            "description_tooltip": null,
            "layout": "IPY_MODEL_1e5bef87b3fe4499a136cd1980f23309",
            "max": 273,
            "min": 0,
            "orientation": "horizontal",
            "style": "IPY_MODEL_14d523a10bb544d799fead57d075b13a",
            "value": 273
          }
        },
        "25b04f3ad877441ba92c7613b261cfb9": {
          "model_module": "@jupyter-widgets/controls",
          "model_name": "HTMLModel",
          "model_module_version": "1.5.0",
          "state": {
            "_dom_classes": [],
            "_model_module": "@jupyter-widgets/controls",
            "_model_module_version": "1.5.0",
            "_model_name": "HTMLModel",
            "_view_count": null,
            "_view_module": "@jupyter-widgets/controls",
            "_view_module_version": "1.5.0",
            "_view_name": "HTMLView",
            "description": "",
            "description_tooltip": null,
            "layout": "IPY_MODEL_0e7c9397973541fa86806135d5b55839",
            "placeholder": "​",
            "style": "IPY_MODEL_a5773f1eefce478ea26e2aa6ba3438a6",
            "value": " 273/273 [00:00&lt;00:00, 16.7kB/s]"
          }
        },
        "3d63a68ab55541edb0fc540021b63b8b": {
          "model_module": "@jupyter-widgets/base",
          "model_name": "LayoutModel",
          "model_module_version": "1.2.0",
          "state": {
            "_model_module": "@jupyter-widgets/base",
            "_model_module_version": "1.2.0",
            "_model_name": "LayoutModel",
            "_view_count": null,
            "_view_module": "@jupyter-widgets/base",
            "_view_module_version": "1.2.0",
            "_view_name": "LayoutView",
            "align_content": null,
            "align_items": null,
            "align_self": null,
            "border": null,
            "bottom": null,
            "display": null,
            "flex": null,
            "flex_flow": null,
            "grid_area": null,
            "grid_auto_columns": null,
            "grid_auto_flow": null,
            "grid_auto_rows": null,
            "grid_column": null,
            "grid_gap": null,
            "grid_row": null,
            "grid_template_areas": null,
            "grid_template_columns": null,
            "grid_template_rows": null,
            "height": null,
            "justify_content": null,
            "justify_items": null,
            "left": null,
            "margin": null,
            "max_height": null,
            "max_width": null,
            "min_height": null,
            "min_width": null,
            "object_fit": null,
            "object_position": null,
            "order": null,
            "overflow": null,
            "overflow_x": null,
            "overflow_y": null,
            "padding": null,
            "right": null,
            "top": null,
            "visibility": null,
            "width": null
          }
        },
        "0bec1460a4e748a7baa80a68ab0111e0": {
          "model_module": "@jupyter-widgets/base",
          "model_name": "LayoutModel",
          "model_module_version": "1.2.0",
          "state": {
            "_model_module": "@jupyter-widgets/base",
            "_model_module_version": "1.2.0",
            "_model_name": "LayoutModel",
            "_view_count": null,
            "_view_module": "@jupyter-widgets/base",
            "_view_module_version": "1.2.0",
            "_view_name": "LayoutView",
            "align_content": null,
            "align_items": null,
            "align_self": null,
            "border": null,
            "bottom": null,
            "display": null,
            "flex": null,
            "flex_flow": null,
            "grid_area": null,
            "grid_auto_columns": null,
            "grid_auto_flow": null,
            "grid_auto_rows": null,
            "grid_column": null,
            "grid_gap": null,
            "grid_row": null,
            "grid_template_areas": null,
            "grid_template_columns": null,
            "grid_template_rows": null,
            "height": null,
            "justify_content": null,
            "justify_items": null,
            "left": null,
            "margin": null,
            "max_height": null,
            "max_width": null,
            "min_height": null,
            "min_width": null,
            "object_fit": null,
            "object_position": null,
            "order": null,
            "overflow": null,
            "overflow_x": null,
            "overflow_y": null,
            "padding": null,
            "right": null,
            "top": null,
            "visibility": null,
            "width": null
          }
        },
        "117a3c58f7f54bcfae69bd8891737e73": {
          "model_module": "@jupyter-widgets/controls",
          "model_name": "DescriptionStyleModel",
          "model_module_version": "1.5.0",
          "state": {
            "_model_module": "@jupyter-widgets/controls",
            "_model_module_version": "1.5.0",
            "_model_name": "DescriptionStyleModel",
            "_view_count": null,
            "_view_module": "@jupyter-widgets/base",
            "_view_module_version": "1.2.0",
            "_view_name": "StyleView",
            "description_width": ""
          }
        },
        "1e5bef87b3fe4499a136cd1980f23309": {
          "model_module": "@jupyter-widgets/base",
          "model_name": "LayoutModel",
          "model_module_version": "1.2.0",
          "state": {
            "_model_module": "@jupyter-widgets/base",
            "_model_module_version": "1.2.0",
            "_model_name": "LayoutModel",
            "_view_count": null,
            "_view_module": "@jupyter-widgets/base",
            "_view_module_version": "1.2.0",
            "_view_name": "LayoutView",
            "align_content": null,
            "align_items": null,
            "align_self": null,
            "border": null,
            "bottom": null,
            "display": null,
            "flex": null,
            "flex_flow": null,
            "grid_area": null,
            "grid_auto_columns": null,
            "grid_auto_flow": null,
            "grid_auto_rows": null,
            "grid_column": null,
            "grid_gap": null,
            "grid_row": null,
            "grid_template_areas": null,
            "grid_template_columns": null,
            "grid_template_rows": null,
            "height": null,
            "justify_content": null,
            "justify_items": null,
            "left": null,
            "margin": null,
            "max_height": null,
            "max_width": null,
            "min_height": null,
            "min_width": null,
            "object_fit": null,
            "object_position": null,
            "order": null,
            "overflow": null,
            "overflow_x": null,
            "overflow_y": null,
            "padding": null,
            "right": null,
            "top": null,
            "visibility": null,
            "width": null
          }
        },
        "14d523a10bb544d799fead57d075b13a": {
          "model_module": "@jupyter-widgets/controls",
          "model_name": "ProgressStyleModel",
          "model_module_version": "1.5.0",
          "state": {
            "_model_module": "@jupyter-widgets/controls",
            "_model_module_version": "1.5.0",
            "_model_name": "ProgressStyleModel",
            "_view_count": null,
            "_view_module": "@jupyter-widgets/base",
            "_view_module_version": "1.2.0",
            "_view_name": "StyleView",
            "bar_color": null,
            "description_width": ""
          }
        },
        "0e7c9397973541fa86806135d5b55839": {
          "model_module": "@jupyter-widgets/base",
          "model_name": "LayoutModel",
          "model_module_version": "1.2.0",
          "state": {
            "_model_module": "@jupyter-widgets/base",
            "_model_module_version": "1.2.0",
            "_model_name": "LayoutModel",
            "_view_count": null,
            "_view_module": "@jupyter-widgets/base",
            "_view_module_version": "1.2.0",
            "_view_name": "LayoutView",
            "align_content": null,
            "align_items": null,
            "align_self": null,
            "border": null,
            "bottom": null,
            "display": null,
            "flex": null,
            "flex_flow": null,
            "grid_area": null,
            "grid_auto_columns": null,
            "grid_auto_flow": null,
            "grid_auto_rows": null,
            "grid_column": null,
            "grid_gap": null,
            "grid_row": null,
            "grid_template_areas": null,
            "grid_template_columns": null,
            "grid_template_rows": null,
            "height": null,
            "justify_content": null,
            "justify_items": null,
            "left": null,
            "margin": null,
            "max_height": null,
            "max_width": null,
            "min_height": null,
            "min_width": null,
            "object_fit": null,
            "object_position": null,
            "order": null,
            "overflow": null,
            "overflow_x": null,
            "overflow_y": null,
            "padding": null,
            "right": null,
            "top": null,
            "visibility": null,
            "width": null
          }
        },
        "a5773f1eefce478ea26e2aa6ba3438a6": {
          "model_module": "@jupyter-widgets/controls",
          "model_name": "DescriptionStyleModel",
          "model_module_version": "1.5.0",
          "state": {
            "_model_module": "@jupyter-widgets/controls",
            "_model_module_version": "1.5.0",
            "_model_name": "DescriptionStyleModel",
            "_view_count": null,
            "_view_module": "@jupyter-widgets/base",
            "_view_module_version": "1.2.0",
            "_view_name": "StyleView",
            "description_width": ""
          }
        },
        "937f8543c90b4a178e09a669a78a214f": {
          "model_module": "@jupyter-widgets/controls",
          "model_name": "HBoxModel",
          "model_module_version": "1.5.0",
          "state": {
            "_dom_classes": [],
            "_model_module": "@jupyter-widgets/controls",
            "_model_module_version": "1.5.0",
            "_model_name": "HBoxModel",
            "_view_count": null,
            "_view_module": "@jupyter-widgets/controls",
            "_view_module_version": "1.5.0",
            "_view_name": "HBoxView",
            "box_style": "",
            "children": [
              "IPY_MODEL_fc34faac8d4b4ee7a5087b55bfd76447",
              "IPY_MODEL_fe4ba8e748de4e19b7a093873fd52f06",
              "IPY_MODEL_9a55299bd0e04c33aa0ae8b5086104a9"
            ],
            "layout": "IPY_MODEL_ea73043d6430499a8dccebe4ae8b92b7"
          }
        },
        "fc34faac8d4b4ee7a5087b55bfd76447": {
          "model_module": "@jupyter-widgets/controls",
          "model_name": "HTMLModel",
          "model_module_version": "1.5.0",
          "state": {
            "_dom_classes": [],
            "_model_module": "@jupyter-widgets/controls",
            "_model_module_version": "1.5.0",
            "_model_name": "HTMLModel",
            "_view_count": null,
            "_view_module": "@jupyter-widgets/controls",
            "_view_module_version": "1.5.0",
            "_view_name": "HTMLView",
            "description": "",
            "description_tooltip": null,
            "layout": "IPY_MODEL_9752db5c7f024f2e8b7f3e13f95fdc8f",
            "placeholder": "​",
            "style": "IPY_MODEL_33b86661be274e32b873b7435aaf5abd",
            "value": "config.json: 100%"
          }
        },
        "fe4ba8e748de4e19b7a093873fd52f06": {
          "model_module": "@jupyter-widgets/controls",
          "model_name": "FloatProgressModel",
          "model_module_version": "1.5.0",
          "state": {
            "_dom_classes": [],
            "_model_module": "@jupyter-widgets/controls",
            "_model_module_version": "1.5.0",
            "_model_name": "FloatProgressModel",
            "_view_count": null,
            "_view_module": "@jupyter-widgets/controls",
            "_view_module_version": "1.5.0",
            "_view_name": "ProgressView",
            "bar_style": "success",
            "description": "",
            "description_tooltip": null,
            "layout": "IPY_MODEL_2aa9b703495641528988ad5b87600b81",
            "max": 76520,
            "min": 0,
            "orientation": "horizontal",
            "style": "IPY_MODEL_f07697f3d3a34b2e98e5a2eef0574909",
            "value": 76520
          }
        },
        "9a55299bd0e04c33aa0ae8b5086104a9": {
          "model_module": "@jupyter-widgets/controls",
          "model_name": "HTMLModel",
          "model_module_version": "1.5.0",
          "state": {
            "_dom_classes": [],
            "_model_module": "@jupyter-widgets/controls",
            "_model_module_version": "1.5.0",
            "_model_name": "HTMLModel",
            "_view_count": null,
            "_view_module": "@jupyter-widgets/controls",
            "_view_module_version": "1.5.0",
            "_view_name": "HTMLView",
            "description": "",
            "description_tooltip": null,
            "layout": "IPY_MODEL_082ae434593848c991c4e63319eef724",
            "placeholder": "​",
            "style": "IPY_MODEL_0a7871d45efd4069b73875db2f9e42da",
            "value": " 76.5k/76.5k [00:00&lt;00:00, 3.88MB/s]"
          }
        },
        "ea73043d6430499a8dccebe4ae8b92b7": {
          "model_module": "@jupyter-widgets/base",
          "model_name": "LayoutModel",
          "model_module_version": "1.2.0",
          "state": {
            "_model_module": "@jupyter-widgets/base",
            "_model_module_version": "1.2.0",
            "_model_name": "LayoutModel",
            "_view_count": null,
            "_view_module": "@jupyter-widgets/base",
            "_view_module_version": "1.2.0",
            "_view_name": "LayoutView",
            "align_content": null,
            "align_items": null,
            "align_self": null,
            "border": null,
            "bottom": null,
            "display": null,
            "flex": null,
            "flex_flow": null,
            "grid_area": null,
            "grid_auto_columns": null,
            "grid_auto_flow": null,
            "grid_auto_rows": null,
            "grid_column": null,
            "grid_gap": null,
            "grid_row": null,
            "grid_template_areas": null,
            "grid_template_columns": null,
            "grid_template_rows": null,
            "height": null,
            "justify_content": null,
            "justify_items": null,
            "left": null,
            "margin": null,
            "max_height": null,
            "max_width": null,
            "min_height": null,
            "min_width": null,
            "object_fit": null,
            "object_position": null,
            "order": null,
            "overflow": null,
            "overflow_x": null,
            "overflow_y": null,
            "padding": null,
            "right": null,
            "top": null,
            "visibility": null,
            "width": null
          }
        },
        "9752db5c7f024f2e8b7f3e13f95fdc8f": {
          "model_module": "@jupyter-widgets/base",
          "model_name": "LayoutModel",
          "model_module_version": "1.2.0",
          "state": {
            "_model_module": "@jupyter-widgets/base",
            "_model_module_version": "1.2.0",
            "_model_name": "LayoutModel",
            "_view_count": null,
            "_view_module": "@jupyter-widgets/base",
            "_view_module_version": "1.2.0",
            "_view_name": "LayoutView",
            "align_content": null,
            "align_items": null,
            "align_self": null,
            "border": null,
            "bottom": null,
            "display": null,
            "flex": null,
            "flex_flow": null,
            "grid_area": null,
            "grid_auto_columns": null,
            "grid_auto_flow": null,
            "grid_auto_rows": null,
            "grid_column": null,
            "grid_gap": null,
            "grid_row": null,
            "grid_template_areas": null,
            "grid_template_columns": null,
            "grid_template_rows": null,
            "height": null,
            "justify_content": null,
            "justify_items": null,
            "left": null,
            "margin": null,
            "max_height": null,
            "max_width": null,
            "min_height": null,
            "min_width": null,
            "object_fit": null,
            "object_position": null,
            "order": null,
            "overflow": null,
            "overflow_x": null,
            "overflow_y": null,
            "padding": null,
            "right": null,
            "top": null,
            "visibility": null,
            "width": null
          }
        },
        "33b86661be274e32b873b7435aaf5abd": {
          "model_module": "@jupyter-widgets/controls",
          "model_name": "DescriptionStyleModel",
          "model_module_version": "1.5.0",
          "state": {
            "_model_module": "@jupyter-widgets/controls",
            "_model_module_version": "1.5.0",
            "_model_name": "DescriptionStyleModel",
            "_view_count": null,
            "_view_module": "@jupyter-widgets/base",
            "_view_module_version": "1.2.0",
            "_view_name": "StyleView",
            "description_width": ""
          }
        },
        "2aa9b703495641528988ad5b87600b81": {
          "model_module": "@jupyter-widgets/base",
          "model_name": "LayoutModel",
          "model_module_version": "1.2.0",
          "state": {
            "_model_module": "@jupyter-widgets/base",
            "_model_module_version": "1.2.0",
            "_model_name": "LayoutModel",
            "_view_count": null,
            "_view_module": "@jupyter-widgets/base",
            "_view_module_version": "1.2.0",
            "_view_name": "LayoutView",
            "align_content": null,
            "align_items": null,
            "align_self": null,
            "border": null,
            "bottom": null,
            "display": null,
            "flex": null,
            "flex_flow": null,
            "grid_area": null,
            "grid_auto_columns": null,
            "grid_auto_flow": null,
            "grid_auto_rows": null,
            "grid_column": null,
            "grid_gap": null,
            "grid_row": null,
            "grid_template_areas": null,
            "grid_template_columns": null,
            "grid_template_rows": null,
            "height": null,
            "justify_content": null,
            "justify_items": null,
            "left": null,
            "margin": null,
            "max_height": null,
            "max_width": null,
            "min_height": null,
            "min_width": null,
            "object_fit": null,
            "object_position": null,
            "order": null,
            "overflow": null,
            "overflow_x": null,
            "overflow_y": null,
            "padding": null,
            "right": null,
            "top": null,
            "visibility": null,
            "width": null
          }
        },
        "f07697f3d3a34b2e98e5a2eef0574909": {
          "model_module": "@jupyter-widgets/controls",
          "model_name": "ProgressStyleModel",
          "model_module_version": "1.5.0",
          "state": {
            "_model_module": "@jupyter-widgets/controls",
            "_model_module_version": "1.5.0",
            "_model_name": "ProgressStyleModel",
            "_view_count": null,
            "_view_module": "@jupyter-widgets/base",
            "_view_module_version": "1.2.0",
            "_view_name": "StyleView",
            "bar_color": null,
            "description_width": ""
          }
        },
        "082ae434593848c991c4e63319eef724": {
          "model_module": "@jupyter-widgets/base",
          "model_name": "LayoutModel",
          "model_module_version": "1.2.0",
          "state": {
            "_model_module": "@jupyter-widgets/base",
            "_model_module_version": "1.2.0",
            "_model_name": "LayoutModel",
            "_view_count": null,
            "_view_module": "@jupyter-widgets/base",
            "_view_module_version": "1.2.0",
            "_view_name": "LayoutView",
            "align_content": null,
            "align_items": null,
            "align_self": null,
            "border": null,
            "bottom": null,
            "display": null,
            "flex": null,
            "flex_flow": null,
            "grid_area": null,
            "grid_auto_columns": null,
            "grid_auto_flow": null,
            "grid_auto_rows": null,
            "grid_column": null,
            "grid_gap": null,
            "grid_row": null,
            "grid_template_areas": null,
            "grid_template_columns": null,
            "grid_template_rows": null,
            "height": null,
            "justify_content": null,
            "justify_items": null,
            "left": null,
            "margin": null,
            "max_height": null,
            "max_width": null,
            "min_height": null,
            "min_width": null,
            "object_fit": null,
            "object_position": null,
            "order": null,
            "overflow": null,
            "overflow_x": null,
            "overflow_y": null,
            "padding": null,
            "right": null,
            "top": null,
            "visibility": null,
            "width": null
          }
        },
        "0a7871d45efd4069b73875db2f9e42da": {
          "model_module": "@jupyter-widgets/controls",
          "model_name": "DescriptionStyleModel",
          "model_module_version": "1.5.0",
          "state": {
            "_model_module": "@jupyter-widgets/controls",
            "_model_module_version": "1.5.0",
            "_model_name": "DescriptionStyleModel",
            "_view_count": null,
            "_view_module": "@jupyter-widgets/base",
            "_view_module_version": "1.2.0",
            "_view_name": "StyleView",
            "description_width": ""
          }
        },
        "2e95ea21a7934c34b6dda7f6855b6e05": {
          "model_module": "@jupyter-widgets/controls",
          "model_name": "HBoxModel",
          "model_module_version": "1.5.0",
          "state": {
            "_dom_classes": [],
            "_model_module": "@jupyter-widgets/controls",
            "_model_module_version": "1.5.0",
            "_model_name": "HBoxModel",
            "_view_count": null,
            "_view_module": "@jupyter-widgets/controls",
            "_view_module_version": "1.5.0",
            "_view_name": "HBoxView",
            "box_style": "",
            "children": [
              "IPY_MODEL_6ea02d21a77a4f8b8b5b202d8ebe1bb7",
              "IPY_MODEL_22ff164910224cad94a478dcf573ab5d",
              "IPY_MODEL_b297bdb6778d4feabd1b4b3137fc3365"
            ],
            "layout": "IPY_MODEL_f0f76e98e59c4668b719dceca55a9679"
          }
        },
        "6ea02d21a77a4f8b8b5b202d8ebe1bb7": {
          "model_module": "@jupyter-widgets/controls",
          "model_name": "HTMLModel",
          "model_module_version": "1.5.0",
          "state": {
            "_dom_classes": [],
            "_model_module": "@jupyter-widgets/controls",
            "_model_module_version": "1.5.0",
            "_model_name": "HTMLModel",
            "_view_count": null,
            "_view_module": "@jupyter-widgets/controls",
            "_view_module_version": "1.5.0",
            "_view_name": "HTMLView",
            "description": "",
            "description_tooltip": null,
            "layout": "IPY_MODEL_13d1045f6d18475dbb55faf1ec8c8f84",
            "placeholder": "​",
            "style": "IPY_MODEL_137ffb0e02584cd085bc62baf8d546ea",
            "value": "model.safetensors: 100%"
          }
        },
        "22ff164910224cad94a478dcf573ab5d": {
          "model_module": "@jupyter-widgets/controls",
          "model_name": "FloatProgressModel",
          "model_module_version": "1.5.0",
          "state": {
            "_dom_classes": [],
            "_model_module": "@jupyter-widgets/controls",
            "_model_module_version": "1.5.0",
            "_model_name": "FloatProgressModel",
            "_view_count": null,
            "_view_module": "@jupyter-widgets/controls",
            "_view_module_version": "1.5.0",
            "_view_name": "ProgressView",
            "bar_style": "success",
            "description": "",
            "description_tooltip": null,
            "layout": "IPY_MODEL_3d8e4df6d13e495abc4db02284c6ae92",
            "max": 115320404,
            "min": 0,
            "orientation": "horizontal",
            "style": "IPY_MODEL_6652e2c34f214395b1e9a57434f05bae",
            "value": 115320404
          }
        },
        "b297bdb6778d4feabd1b4b3137fc3365": {
          "model_module": "@jupyter-widgets/controls",
          "model_name": "HTMLModel",
          "model_module_version": "1.5.0",
          "state": {
            "_dom_classes": [],
            "_model_module": "@jupyter-widgets/controls",
            "_model_module_version": "1.5.0",
            "_model_name": "HTMLModel",
            "_view_count": null,
            "_view_module": "@jupyter-widgets/controls",
            "_view_module_version": "1.5.0",
            "_view_name": "HTMLView",
            "description": "",
            "description_tooltip": null,
            "layout": "IPY_MODEL_0d0cf6f281874420b1de69abe225f872",
            "placeholder": "​",
            "style": "IPY_MODEL_329d0dc1b5f54f0d8076d0120670125c",
            "value": " 115M/115M [00:00&lt;00:00, 336MB/s]"
          }
        },
        "f0f76e98e59c4668b719dceca55a9679": {
          "model_module": "@jupyter-widgets/base",
          "model_name": "LayoutModel",
          "model_module_version": "1.2.0",
          "state": {
            "_model_module": "@jupyter-widgets/base",
            "_model_module_version": "1.2.0",
            "_model_name": "LayoutModel",
            "_view_count": null,
            "_view_module": "@jupyter-widgets/base",
            "_view_module_version": "1.2.0",
            "_view_name": "LayoutView",
            "align_content": null,
            "align_items": null,
            "align_self": null,
            "border": null,
            "bottom": null,
            "display": null,
            "flex": null,
            "flex_flow": null,
            "grid_area": null,
            "grid_auto_columns": null,
            "grid_auto_flow": null,
            "grid_auto_rows": null,
            "grid_column": null,
            "grid_gap": null,
            "grid_row": null,
            "grid_template_areas": null,
            "grid_template_columns": null,
            "grid_template_rows": null,
            "height": null,
            "justify_content": null,
            "justify_items": null,
            "left": null,
            "margin": null,
            "max_height": null,
            "max_width": null,
            "min_height": null,
            "min_width": null,
            "object_fit": null,
            "object_position": null,
            "order": null,
            "overflow": null,
            "overflow_x": null,
            "overflow_y": null,
            "padding": null,
            "right": null,
            "top": null,
            "visibility": null,
            "width": null
          }
        },
        "13d1045f6d18475dbb55faf1ec8c8f84": {
          "model_module": "@jupyter-widgets/base",
          "model_name": "LayoutModel",
          "model_module_version": "1.2.0",
          "state": {
            "_model_module": "@jupyter-widgets/base",
            "_model_module_version": "1.2.0",
            "_model_name": "LayoutModel",
            "_view_count": null,
            "_view_module": "@jupyter-widgets/base",
            "_view_module_version": "1.2.0",
            "_view_name": "LayoutView",
            "align_content": null,
            "align_items": null,
            "align_self": null,
            "border": null,
            "bottom": null,
            "display": null,
            "flex": null,
            "flex_flow": null,
            "grid_area": null,
            "grid_auto_columns": null,
            "grid_auto_flow": null,
            "grid_auto_rows": null,
            "grid_column": null,
            "grid_gap": null,
            "grid_row": null,
            "grid_template_areas": null,
            "grid_template_columns": null,
            "grid_template_rows": null,
            "height": null,
            "justify_content": null,
            "justify_items": null,
            "left": null,
            "margin": null,
            "max_height": null,
            "max_width": null,
            "min_height": null,
            "min_width": null,
            "object_fit": null,
            "object_position": null,
            "order": null,
            "overflow": null,
            "overflow_x": null,
            "overflow_y": null,
            "padding": null,
            "right": null,
            "top": null,
            "visibility": null,
            "width": null
          }
        },
        "137ffb0e02584cd085bc62baf8d546ea": {
          "model_module": "@jupyter-widgets/controls",
          "model_name": "DescriptionStyleModel",
          "model_module_version": "1.5.0",
          "state": {
            "_model_module": "@jupyter-widgets/controls",
            "_model_module_version": "1.5.0",
            "_model_name": "DescriptionStyleModel",
            "_view_count": null,
            "_view_module": "@jupyter-widgets/base",
            "_view_module_version": "1.2.0",
            "_view_name": "StyleView",
            "description_width": ""
          }
        },
        "3d8e4df6d13e495abc4db02284c6ae92": {
          "model_module": "@jupyter-widgets/base",
          "model_name": "LayoutModel",
          "model_module_version": "1.2.0",
          "state": {
            "_model_module": "@jupyter-widgets/base",
            "_model_module_version": "1.2.0",
            "_model_name": "LayoutModel",
            "_view_count": null,
            "_view_module": "@jupyter-widgets/base",
            "_view_module_version": "1.2.0",
            "_view_name": "LayoutView",
            "align_content": null,
            "align_items": null,
            "align_self": null,
            "border": null,
            "bottom": null,
            "display": null,
            "flex": null,
            "flex_flow": null,
            "grid_area": null,
            "grid_auto_columns": null,
            "grid_auto_flow": null,
            "grid_auto_rows": null,
            "grid_column": null,
            "grid_gap": null,
            "grid_row": null,
            "grid_template_areas": null,
            "grid_template_columns": null,
            "grid_template_rows": null,
            "height": null,
            "justify_content": null,
            "justify_items": null,
            "left": null,
            "margin": null,
            "max_height": null,
            "max_width": null,
            "min_height": null,
            "min_width": null,
            "object_fit": null,
            "object_position": null,
            "order": null,
            "overflow": null,
            "overflow_x": null,
            "overflow_y": null,
            "padding": null,
            "right": null,
            "top": null,
            "visibility": null,
            "width": null
          }
        },
        "6652e2c34f214395b1e9a57434f05bae": {
          "model_module": "@jupyter-widgets/controls",
          "model_name": "ProgressStyleModel",
          "model_module_version": "1.5.0",
          "state": {
            "_model_module": "@jupyter-widgets/controls",
            "_model_module_version": "1.5.0",
            "_model_name": "ProgressStyleModel",
            "_view_count": null,
            "_view_module": "@jupyter-widgets/base",
            "_view_module_version": "1.2.0",
            "_view_name": "StyleView",
            "bar_color": null,
            "description_width": ""
          }
        },
        "0d0cf6f281874420b1de69abe225f872": {
          "model_module": "@jupyter-widgets/base",
          "model_name": "LayoutModel",
          "model_module_version": "1.2.0",
          "state": {
            "_model_module": "@jupyter-widgets/base",
            "_model_module_version": "1.2.0",
            "_model_name": "LayoutModel",
            "_view_count": null,
            "_view_module": "@jupyter-widgets/base",
            "_view_module_version": "1.2.0",
            "_view_name": "LayoutView",
            "align_content": null,
            "align_items": null,
            "align_self": null,
            "border": null,
            "bottom": null,
            "display": null,
            "flex": null,
            "flex_flow": null,
            "grid_area": null,
            "grid_auto_columns": null,
            "grid_auto_flow": null,
            "grid_auto_rows": null,
            "grid_column": null,
            "grid_gap": null,
            "grid_row": null,
            "grid_template_areas": null,
            "grid_template_columns": null,
            "grid_template_rows": null,
            "height": null,
            "justify_content": null,
            "justify_items": null,
            "left": null,
            "margin": null,
            "max_height": null,
            "max_width": null,
            "min_height": null,
            "min_width": null,
            "object_fit": null,
            "object_position": null,
            "order": null,
            "overflow": null,
            "overflow_x": null,
            "overflow_y": null,
            "padding": null,
            "right": null,
            "top": null,
            "visibility": null,
            "width": null
          }
        },
        "329d0dc1b5f54f0d8076d0120670125c": {
          "model_module": "@jupyter-widgets/controls",
          "model_name": "DescriptionStyleModel",
          "model_module_version": "1.5.0",
          "state": {
            "_model_module": "@jupyter-widgets/controls",
            "_model_module_version": "1.5.0",
            "_model_name": "DescriptionStyleModel",
            "_view_count": null,
            "_view_module": "@jupyter-widgets/base",
            "_view_module_version": "1.2.0",
            "_view_name": "StyleView",
            "description_width": ""
          }
        },
        "86d9ee66e4ae43bfa2c7b59f32b0fde0": {
          "model_module": "@jupyter-widgets/controls",
          "model_name": "HBoxModel",
          "model_module_version": "1.5.0",
          "state": {
            "_dom_classes": [],
            "_model_module": "@jupyter-widgets/controls",
            "_model_module_version": "1.5.0",
            "_model_name": "HBoxModel",
            "_view_count": null,
            "_view_module": "@jupyter-widgets/controls",
            "_view_module_version": "1.5.0",
            "_view_name": "HBoxView",
            "box_style": "",
            "children": [
              "IPY_MODEL_a17d6474ef3243e48798f8d65b6a2902",
              "IPY_MODEL_a074f12c598041ae82c0e6c711103868",
              "IPY_MODEL_37c7694c46354b5ca1d3eda92cc68c7a"
            ],
            "layout": "IPY_MODEL_cd75402ba7e74b0ca80e65afd06fd1e4"
          }
        },
        "a17d6474ef3243e48798f8d65b6a2902": {
          "model_module": "@jupyter-widgets/controls",
          "model_name": "HTMLModel",
          "model_module_version": "1.5.0",
          "state": {
            "_dom_classes": [],
            "_model_module": "@jupyter-widgets/controls",
            "_model_module_version": "1.5.0",
            "_model_name": "HTMLModel",
            "_view_count": null,
            "_view_module": "@jupyter-widgets/controls",
            "_view_module_version": "1.5.0",
            "_view_name": "HTMLView",
            "description": "",
            "description_tooltip": null,
            "layout": "IPY_MODEL_945a42cb3b21486ab0e9a972ea6da1e5",
            "placeholder": "​",
            "style": "IPY_MODEL_04a2f9aafeb649d1a571ca3946be8a18",
            "value": "config.json: 100%"
          }
        },
        "a074f12c598041ae82c0e6c711103868": {
          "model_module": "@jupyter-widgets/controls",
          "model_name": "FloatProgressModel",
          "model_module_version": "1.5.0",
          "state": {
            "_dom_classes": [],
            "_model_module": "@jupyter-widgets/controls",
            "_model_module_version": "1.5.0",
            "_model_name": "FloatProgressModel",
            "_view_count": null,
            "_view_module": "@jupyter-widgets/controls",
            "_view_module_version": "1.5.0",
            "_view_name": "ProgressView",
            "bar_style": "success",
            "description": "",
            "description_tooltip": null,
            "layout": "IPY_MODEL_03fd9c5b61694742a8a6e54b22c36c35",
            "max": 76761,
            "min": 0,
            "orientation": "horizontal",
            "style": "IPY_MODEL_911a659c63aa405bb075f23b77cc8348",
            "value": 76761
          }
        },
        "37c7694c46354b5ca1d3eda92cc68c7a": {
          "model_module": "@jupyter-widgets/controls",
          "model_name": "HTMLModel",
          "model_module_version": "1.5.0",
          "state": {
            "_dom_classes": [],
            "_model_module": "@jupyter-widgets/controls",
            "_model_module_version": "1.5.0",
            "_model_name": "HTMLModel",
            "_view_count": null,
            "_view_module": "@jupyter-widgets/controls",
            "_view_module_version": "1.5.0",
            "_view_name": "HTMLView",
            "description": "",
            "description_tooltip": null,
            "layout": "IPY_MODEL_0c18a1ca0cef4177a7a7f6d4bb8a853d",
            "placeholder": "​",
            "style": "IPY_MODEL_2830f2ee4488442ba41f664afd0164da",
            "value": " 76.8k/76.8k [00:00&lt;00:00, 5.75MB/s]"
          }
        },
        "cd75402ba7e74b0ca80e65afd06fd1e4": {
          "model_module": "@jupyter-widgets/base",
          "model_name": "LayoutModel",
          "model_module_version": "1.2.0",
          "state": {
            "_model_module": "@jupyter-widgets/base",
            "_model_module_version": "1.2.0",
            "_model_name": "LayoutModel",
            "_view_count": null,
            "_view_module": "@jupyter-widgets/base",
            "_view_module_version": "1.2.0",
            "_view_name": "LayoutView",
            "align_content": null,
            "align_items": null,
            "align_self": null,
            "border": null,
            "bottom": null,
            "display": null,
            "flex": null,
            "flex_flow": null,
            "grid_area": null,
            "grid_auto_columns": null,
            "grid_auto_flow": null,
            "grid_auto_rows": null,
            "grid_column": null,
            "grid_gap": null,
            "grid_row": null,
            "grid_template_areas": null,
            "grid_template_columns": null,
            "grid_template_rows": null,
            "height": null,
            "justify_content": null,
            "justify_items": null,
            "left": null,
            "margin": null,
            "max_height": null,
            "max_width": null,
            "min_height": null,
            "min_width": null,
            "object_fit": null,
            "object_position": null,
            "order": null,
            "overflow": null,
            "overflow_x": null,
            "overflow_y": null,
            "padding": null,
            "right": null,
            "top": null,
            "visibility": null,
            "width": null
          }
        },
        "945a42cb3b21486ab0e9a972ea6da1e5": {
          "model_module": "@jupyter-widgets/base",
          "model_name": "LayoutModel",
          "model_module_version": "1.2.0",
          "state": {
            "_model_module": "@jupyter-widgets/base",
            "_model_module_version": "1.2.0",
            "_model_name": "LayoutModel",
            "_view_count": null,
            "_view_module": "@jupyter-widgets/base",
            "_view_module_version": "1.2.0",
            "_view_name": "LayoutView",
            "align_content": null,
            "align_items": null,
            "align_self": null,
            "border": null,
            "bottom": null,
            "display": null,
            "flex": null,
            "flex_flow": null,
            "grid_area": null,
            "grid_auto_columns": null,
            "grid_auto_flow": null,
            "grid_auto_rows": null,
            "grid_column": null,
            "grid_gap": null,
            "grid_row": null,
            "grid_template_areas": null,
            "grid_template_columns": null,
            "grid_template_rows": null,
            "height": null,
            "justify_content": null,
            "justify_items": null,
            "left": null,
            "margin": null,
            "max_height": null,
            "max_width": null,
            "min_height": null,
            "min_width": null,
            "object_fit": null,
            "object_position": null,
            "order": null,
            "overflow": null,
            "overflow_x": null,
            "overflow_y": null,
            "padding": null,
            "right": null,
            "top": null,
            "visibility": null,
            "width": null
          }
        },
        "04a2f9aafeb649d1a571ca3946be8a18": {
          "model_module": "@jupyter-widgets/controls",
          "model_name": "DescriptionStyleModel",
          "model_module_version": "1.5.0",
          "state": {
            "_model_module": "@jupyter-widgets/controls",
            "_model_module_version": "1.5.0",
            "_model_name": "DescriptionStyleModel",
            "_view_count": null,
            "_view_module": "@jupyter-widgets/base",
            "_view_module_version": "1.2.0",
            "_view_name": "StyleView",
            "description_width": ""
          }
        },
        "03fd9c5b61694742a8a6e54b22c36c35": {
          "model_module": "@jupyter-widgets/base",
          "model_name": "LayoutModel",
          "model_module_version": "1.2.0",
          "state": {
            "_model_module": "@jupyter-widgets/base",
            "_model_module_version": "1.2.0",
            "_model_name": "LayoutModel",
            "_view_count": null,
            "_view_module": "@jupyter-widgets/base",
            "_view_module_version": "1.2.0",
            "_view_name": "LayoutView",
            "align_content": null,
            "align_items": null,
            "align_self": null,
            "border": null,
            "bottom": null,
            "display": null,
            "flex": null,
            "flex_flow": null,
            "grid_area": null,
            "grid_auto_columns": null,
            "grid_auto_flow": null,
            "grid_auto_rows": null,
            "grid_column": null,
            "grid_gap": null,
            "grid_row": null,
            "grid_template_areas": null,
            "grid_template_columns": null,
            "grid_template_rows": null,
            "height": null,
            "justify_content": null,
            "justify_items": null,
            "left": null,
            "margin": null,
            "max_height": null,
            "max_width": null,
            "min_height": null,
            "min_width": null,
            "object_fit": null,
            "object_position": null,
            "order": null,
            "overflow": null,
            "overflow_x": null,
            "overflow_y": null,
            "padding": null,
            "right": null,
            "top": null,
            "visibility": null,
            "width": null
          }
        },
        "911a659c63aa405bb075f23b77cc8348": {
          "model_module": "@jupyter-widgets/controls",
          "model_name": "ProgressStyleModel",
          "model_module_version": "1.5.0",
          "state": {
            "_model_module": "@jupyter-widgets/controls",
            "_model_module_version": "1.5.0",
            "_model_name": "ProgressStyleModel",
            "_view_count": null,
            "_view_module": "@jupyter-widgets/base",
            "_view_module_version": "1.2.0",
            "_view_name": "StyleView",
            "bar_color": null,
            "description_width": ""
          }
        },
        "0c18a1ca0cef4177a7a7f6d4bb8a853d": {
          "model_module": "@jupyter-widgets/base",
          "model_name": "LayoutModel",
          "model_module_version": "1.2.0",
          "state": {
            "_model_module": "@jupyter-widgets/base",
            "_model_module_version": "1.2.0",
            "_model_name": "LayoutModel",
            "_view_count": null,
            "_view_module": "@jupyter-widgets/base",
            "_view_module_version": "1.2.0",
            "_view_name": "LayoutView",
            "align_content": null,
            "align_items": null,
            "align_self": null,
            "border": null,
            "bottom": null,
            "display": null,
            "flex": null,
            "flex_flow": null,
            "grid_area": null,
            "grid_auto_columns": null,
            "grid_auto_flow": null,
            "grid_auto_rows": null,
            "grid_column": null,
            "grid_gap": null,
            "grid_row": null,
            "grid_template_areas": null,
            "grid_template_columns": null,
            "grid_template_rows": null,
            "height": null,
            "justify_content": null,
            "justify_items": null,
            "left": null,
            "margin": null,
            "max_height": null,
            "max_width": null,
            "min_height": null,
            "min_width": null,
            "object_fit": null,
            "object_position": null,
            "order": null,
            "overflow": null,
            "overflow_x": null,
            "overflow_y": null,
            "padding": null,
            "right": null,
            "top": null,
            "visibility": null,
            "width": null
          }
        },
        "2830f2ee4488442ba41f664afd0164da": {
          "model_module": "@jupyter-widgets/controls",
          "model_name": "DescriptionStyleModel",
          "model_module_version": "1.5.0",
          "state": {
            "_model_module": "@jupyter-widgets/controls",
            "_model_module_version": "1.5.0",
            "_model_name": "DescriptionStyleModel",
            "_view_count": null,
            "_view_module": "@jupyter-widgets/base",
            "_view_module_version": "1.2.0",
            "_view_name": "StyleView",
            "description_width": ""
          }
        },
        "27d6d8320e3d46eaacca321f6e3f3602": {
          "model_module": "@jupyter-widgets/controls",
          "model_name": "HBoxModel",
          "model_module_version": "1.5.0",
          "state": {
            "_dom_classes": [],
            "_model_module": "@jupyter-widgets/controls",
            "_model_module_version": "1.5.0",
            "_model_name": "HBoxModel",
            "_view_count": null,
            "_view_module": "@jupyter-widgets/controls",
            "_view_module_version": "1.5.0",
            "_view_name": "HBoxView",
            "box_style": "",
            "children": [
              "IPY_MODEL_c0086c578c784b77b77cebb7dc7bc5f4",
              "IPY_MODEL_2dd138945ef6448b9598fdc44659c495",
              "IPY_MODEL_0f74285ff6fb4e80ae37c1012c1b1861"
            ],
            "layout": "IPY_MODEL_80bb54f5bcfe415891230349b7290350"
          }
        },
        "c0086c578c784b77b77cebb7dc7bc5f4": {
          "model_module": "@jupyter-widgets/controls",
          "model_name": "HTMLModel",
          "model_module_version": "1.5.0",
          "state": {
            "_dom_classes": [],
            "_model_module": "@jupyter-widgets/controls",
            "_model_module_version": "1.5.0",
            "_model_name": "HTMLModel",
            "_view_count": null,
            "_view_module": "@jupyter-widgets/controls",
            "_view_module_version": "1.5.0",
            "_view_name": "HTMLView",
            "description": "",
            "description_tooltip": null,
            "layout": "IPY_MODEL_6b7964daa5e2478da7630c89eb4fee90",
            "placeholder": "​",
            "style": "IPY_MODEL_133d473c771049f7a9108cfcff6c3b21",
            "value": "model.safetensors: 100%"
          }
        },
        "2dd138945ef6448b9598fdc44659c495": {
          "model_module": "@jupyter-widgets/controls",
          "model_name": "FloatProgressModel",
          "model_module_version": "1.5.0",
          "state": {
            "_dom_classes": [],
            "_model_module": "@jupyter-widgets/controls",
            "_model_module_version": "1.5.0",
            "_model_name": "FloatProgressModel",
            "_view_count": null,
            "_view_module": "@jupyter-widgets/controls",
            "_view_module_version": "1.5.0",
            "_view_name": "ProgressView",
            "bar_style": "success",
            "description": "",
            "description_tooltip": null,
            "layout": "IPY_MODEL_5aab8aae32c04a939d06740790a5fc59",
            "max": 115437156,
            "min": 0,
            "orientation": "horizontal",
            "style": "IPY_MODEL_232bf4d0a6a44761867484f257b1d4f0",
            "value": 115437156
          }
        },
        "0f74285ff6fb4e80ae37c1012c1b1861": {
          "model_module": "@jupyter-widgets/controls",
          "model_name": "HTMLModel",
          "model_module_version": "1.5.0",
          "state": {
            "_dom_classes": [],
            "_model_module": "@jupyter-widgets/controls",
            "_model_module_version": "1.5.0",
            "_model_name": "HTMLModel",
            "_view_count": null,
            "_view_module": "@jupyter-widgets/controls",
            "_view_module_version": "1.5.0",
            "_view_name": "HTMLView",
            "description": "",
            "description_tooltip": null,
            "layout": "IPY_MODEL_8261d131636a4edbac362c7c968f407d",
            "placeholder": "​",
            "style": "IPY_MODEL_344140434f4242e8a708addf6fe01e93",
            "value": " 115M/115M [00:00&lt;00:00, 311MB/s]"
          }
        },
        "80bb54f5bcfe415891230349b7290350": {
          "model_module": "@jupyter-widgets/base",
          "model_name": "LayoutModel",
          "model_module_version": "1.2.0",
          "state": {
            "_model_module": "@jupyter-widgets/base",
            "_model_module_version": "1.2.0",
            "_model_name": "LayoutModel",
            "_view_count": null,
            "_view_module": "@jupyter-widgets/base",
            "_view_module_version": "1.2.0",
            "_view_name": "LayoutView",
            "align_content": null,
            "align_items": null,
            "align_self": null,
            "border": null,
            "bottom": null,
            "display": null,
            "flex": null,
            "flex_flow": null,
            "grid_area": null,
            "grid_auto_columns": null,
            "grid_auto_flow": null,
            "grid_auto_rows": null,
            "grid_column": null,
            "grid_gap": null,
            "grid_row": null,
            "grid_template_areas": null,
            "grid_template_columns": null,
            "grid_template_rows": null,
            "height": null,
            "justify_content": null,
            "justify_items": null,
            "left": null,
            "margin": null,
            "max_height": null,
            "max_width": null,
            "min_height": null,
            "min_width": null,
            "object_fit": null,
            "object_position": null,
            "order": null,
            "overflow": null,
            "overflow_x": null,
            "overflow_y": null,
            "padding": null,
            "right": null,
            "top": null,
            "visibility": null,
            "width": null
          }
        },
        "6b7964daa5e2478da7630c89eb4fee90": {
          "model_module": "@jupyter-widgets/base",
          "model_name": "LayoutModel",
          "model_module_version": "1.2.0",
          "state": {
            "_model_module": "@jupyter-widgets/base",
            "_model_module_version": "1.2.0",
            "_model_name": "LayoutModel",
            "_view_count": null,
            "_view_module": "@jupyter-widgets/base",
            "_view_module_version": "1.2.0",
            "_view_name": "LayoutView",
            "align_content": null,
            "align_items": null,
            "align_self": null,
            "border": null,
            "bottom": null,
            "display": null,
            "flex": null,
            "flex_flow": null,
            "grid_area": null,
            "grid_auto_columns": null,
            "grid_auto_flow": null,
            "grid_auto_rows": null,
            "grid_column": null,
            "grid_gap": null,
            "grid_row": null,
            "grid_template_areas": null,
            "grid_template_columns": null,
            "grid_template_rows": null,
            "height": null,
            "justify_content": null,
            "justify_items": null,
            "left": null,
            "margin": null,
            "max_height": null,
            "max_width": null,
            "min_height": null,
            "min_width": null,
            "object_fit": null,
            "object_position": null,
            "order": null,
            "overflow": null,
            "overflow_x": null,
            "overflow_y": null,
            "padding": null,
            "right": null,
            "top": null,
            "visibility": null,
            "width": null
          }
        },
        "133d473c771049f7a9108cfcff6c3b21": {
          "model_module": "@jupyter-widgets/controls",
          "model_name": "DescriptionStyleModel",
          "model_module_version": "1.5.0",
          "state": {
            "_model_module": "@jupyter-widgets/controls",
            "_model_module_version": "1.5.0",
            "_model_name": "DescriptionStyleModel",
            "_view_count": null,
            "_view_module": "@jupyter-widgets/base",
            "_view_module_version": "1.2.0",
            "_view_name": "StyleView",
            "description_width": ""
          }
        },
        "5aab8aae32c04a939d06740790a5fc59": {
          "model_module": "@jupyter-widgets/base",
          "model_name": "LayoutModel",
          "model_module_version": "1.2.0",
          "state": {
            "_model_module": "@jupyter-widgets/base",
            "_model_module_version": "1.2.0",
            "_model_name": "LayoutModel",
            "_view_count": null,
            "_view_module": "@jupyter-widgets/base",
            "_view_module_version": "1.2.0",
            "_view_name": "LayoutView",
            "align_content": null,
            "align_items": null,
            "align_self": null,
            "border": null,
            "bottom": null,
            "display": null,
            "flex": null,
            "flex_flow": null,
            "grid_area": null,
            "grid_auto_columns": null,
            "grid_auto_flow": null,
            "grid_auto_rows": null,
            "grid_column": null,
            "grid_gap": null,
            "grid_row": null,
            "grid_template_areas": null,
            "grid_template_columns": null,
            "grid_template_rows": null,
            "height": null,
            "justify_content": null,
            "justify_items": null,
            "left": null,
            "margin": null,
            "max_height": null,
            "max_width": null,
            "min_height": null,
            "min_width": null,
            "object_fit": null,
            "object_position": null,
            "order": null,
            "overflow": null,
            "overflow_x": null,
            "overflow_y": null,
            "padding": null,
            "right": null,
            "top": null,
            "visibility": null,
            "width": null
          }
        },
        "232bf4d0a6a44761867484f257b1d4f0": {
          "model_module": "@jupyter-widgets/controls",
          "model_name": "ProgressStyleModel",
          "model_module_version": "1.5.0",
          "state": {
            "_model_module": "@jupyter-widgets/controls",
            "_model_module_version": "1.5.0",
            "_model_name": "ProgressStyleModel",
            "_view_count": null,
            "_view_module": "@jupyter-widgets/base",
            "_view_module_version": "1.2.0",
            "_view_name": "StyleView",
            "bar_color": null,
            "description_width": ""
          }
        },
        "8261d131636a4edbac362c7c968f407d": {
          "model_module": "@jupyter-widgets/base",
          "model_name": "LayoutModel",
          "model_module_version": "1.2.0",
          "state": {
            "_model_module": "@jupyter-widgets/base",
            "_model_module_version": "1.2.0",
            "_model_name": "LayoutModel",
            "_view_count": null,
            "_view_module": "@jupyter-widgets/base",
            "_view_module_version": "1.2.0",
            "_view_name": "LayoutView",
            "align_content": null,
            "align_items": null,
            "align_self": null,
            "border": null,
            "bottom": null,
            "display": null,
            "flex": null,
            "flex_flow": null,
            "grid_area": null,
            "grid_auto_columns": null,
            "grid_auto_flow": null,
            "grid_auto_rows": null,
            "grid_column": null,
            "grid_gap": null,
            "grid_row": null,
            "grid_template_areas": null,
            "grid_template_columns": null,
            "grid_template_rows": null,
            "height": null,
            "justify_content": null,
            "justify_items": null,
            "left": null,
            "margin": null,
            "max_height": null,
            "max_width": null,
            "min_height": null,
            "min_width": null,
            "object_fit": null,
            "object_position": null,
            "order": null,
            "overflow": null,
            "overflow_x": null,
            "overflow_y": null,
            "padding": null,
            "right": null,
            "top": null,
            "visibility": null,
            "width": null
          }
        },
        "344140434f4242e8a708addf6fe01e93": {
          "model_module": "@jupyter-widgets/controls",
          "model_name": "DescriptionStyleModel",
          "model_module_version": "1.5.0",
          "state": {
            "_model_module": "@jupyter-widgets/controls",
            "_model_module_version": "1.5.0",
            "_model_name": "DescriptionStyleModel",
            "_view_count": null,
            "_view_module": "@jupyter-widgets/base",
            "_view_module_version": "1.2.0",
            "_view_name": "StyleView",
            "description_width": ""
          }
        }
      }
    },
    "accelerator": "GPU"
  },
  "cells": [
    {
      "cell_type": "code",
      "source": [
        "!pip install transformers\n",
        "!sudo apt install tesseract-ocr\n",
        "!pip install pytesseract\n",
        "!pip install easyocr\n",
        "!sudo apt-get install -y poppler-utils\n",
        "!pip install pdf2image\n",
        "!wget \"https://fonts.google.com/download?family=Roboto\" -O roboto.zip\n",
        "!unzip roboto.zip -d ./roboto"
      ],
      "metadata": {
        "id": "EPkBRx8fgnMH",
        "colab": {
          "base_uri": "https://localhost:8080/"
        },
        "outputId": "407c8d77-0f83-40c9-8fb6-85499ccab5f7"
      },
      "execution_count": null,
      "outputs": [
        {
          "output_type": "stream",
          "name": "stdout",
          "text": [
            "Requirement already satisfied: transformers in /usr/local/lib/python3.10/dist-packages (4.41.2)\n",
            "Requirement already satisfied: filelock in /usr/local/lib/python3.10/dist-packages (from transformers) (3.15.3)\n",
            "Requirement already satisfied: huggingface-hub<1.0,>=0.23.0 in /usr/local/lib/python3.10/dist-packages (from transformers) (0.23.4)\n",
            "Requirement already satisfied: numpy>=1.17 in /usr/local/lib/python3.10/dist-packages (from transformers) (1.25.2)\n",
            "Requirement already satisfied: packaging>=20.0 in /usr/local/lib/python3.10/dist-packages (from transformers) (24.1)\n",
            "Requirement already satisfied: pyyaml>=5.1 in /usr/local/lib/python3.10/dist-packages (from transformers) (6.0.1)\n",
            "Requirement already satisfied: regex!=2019.12.17 in /usr/local/lib/python3.10/dist-packages (from transformers) (2024.5.15)\n",
            "Requirement already satisfied: requests in /usr/local/lib/python3.10/dist-packages (from transformers) (2.31.0)\n",
            "Requirement already satisfied: tokenizers<0.20,>=0.19 in /usr/local/lib/python3.10/dist-packages (from transformers) (0.19.1)\n",
            "Requirement already satisfied: safetensors>=0.4.1 in /usr/local/lib/python3.10/dist-packages (from transformers) (0.4.3)\n",
            "Requirement already satisfied: tqdm>=4.27 in /usr/local/lib/python3.10/dist-packages (from transformers) (4.66.4)\n",
            "Requirement already satisfied: fsspec>=2023.5.0 in /usr/local/lib/python3.10/dist-packages (from huggingface-hub<1.0,>=0.23.0->transformers) (2023.6.0)\n",
            "Requirement already satisfied: typing-extensions>=3.7.4.3 in /usr/local/lib/python3.10/dist-packages (from huggingface-hub<1.0,>=0.23.0->transformers) (4.12.2)\n",
            "Requirement already satisfied: charset-normalizer<4,>=2 in /usr/local/lib/python3.10/dist-packages (from requests->transformers) (3.3.2)\n",
            "Requirement already satisfied: idna<4,>=2.5 in /usr/local/lib/python3.10/dist-packages (from requests->transformers) (3.7)\n",
            "Requirement already satisfied: urllib3<3,>=1.21.1 in /usr/local/lib/python3.10/dist-packages (from requests->transformers) (2.0.7)\n",
            "Requirement already satisfied: certifi>=2017.4.17 in /usr/local/lib/python3.10/dist-packages (from requests->transformers) (2024.6.2)\n",
            "Reading package lists... Done\n",
            "Building dependency tree... Done\n",
            "Reading state information... Done\n",
            "The following additional packages will be installed:\n",
            "  tesseract-ocr-eng tesseract-ocr-osd\n",
            "The following NEW packages will be installed:\n",
            "  tesseract-ocr tesseract-ocr-eng tesseract-ocr-osd\n",
            "0 upgraded, 3 newly installed, 0 to remove and 45 not upgraded.\n",
            "Need to get 4,816 kB of archives.\n",
            "After this operation, 15.6 MB of additional disk space will be used.\n",
            "Get:1 http://archive.ubuntu.com/ubuntu jammy/universe amd64 tesseract-ocr-eng all 1:4.00~git30-7274cfa-1.1 [1,591 kB]\n",
            "Get:2 http://archive.ubuntu.com/ubuntu jammy/universe amd64 tesseract-ocr-osd all 1:4.00~git30-7274cfa-1.1 [2,990 kB]\n",
            "Get:3 http://archive.ubuntu.com/ubuntu jammy/universe amd64 tesseract-ocr amd64 4.1.1-2.1build1 [236 kB]\n",
            "Fetched 4,816 kB in 3s (1,666 kB/s)\n",
            "debconf: unable to initialize frontend: Dialog\n",
            "debconf: (No usable dialog-like program is installed, so the dialog based frontend cannot be used. at /usr/share/perl5/Debconf/FrontEnd/Dialog.pm line 78, <> line 3.)\n",
            "debconf: falling back to frontend: Readline\n",
            "debconf: unable to initialize frontend: Readline\n",
            "debconf: (This frontend requires a controlling tty.)\n",
            "debconf: falling back to frontend: Teletype\n",
            "dpkg-preconfigure: unable to re-open stdin: \n",
            "Selecting previously unselected package tesseract-ocr-eng.\n",
            "(Reading database ... 121925 files and directories currently installed.)\n",
            "Preparing to unpack .../tesseract-ocr-eng_1%3a4.00~git30-7274cfa-1.1_all.deb ...\n",
            "Unpacking tesseract-ocr-eng (1:4.00~git30-7274cfa-1.1) ...\n",
            "Selecting previously unselected package tesseract-ocr-osd.\n",
            "Preparing to unpack .../tesseract-ocr-osd_1%3a4.00~git30-7274cfa-1.1_all.deb ...\n",
            "Unpacking tesseract-ocr-osd (1:4.00~git30-7274cfa-1.1) ...\n",
            "Selecting previously unselected package tesseract-ocr.\n",
            "Preparing to unpack .../tesseract-ocr_4.1.1-2.1build1_amd64.deb ...\n",
            "Unpacking tesseract-ocr (4.1.1-2.1build1) ...\n",
            "Setting up tesseract-ocr-eng (1:4.00~git30-7274cfa-1.1) ...\n",
            "Setting up tesseract-ocr-osd (1:4.00~git30-7274cfa-1.1) ...\n",
            "Setting up tesseract-ocr (4.1.1-2.1build1) ...\n",
            "Processing triggers for man-db (2.10.2-1) ...\n",
            "Collecting pytesseract\n",
            "  Downloading pytesseract-0.3.10-py3-none-any.whl (14 kB)\n",
            "Requirement already satisfied: packaging>=21.3 in /usr/local/lib/python3.10/dist-packages (from pytesseract) (24.1)\n",
            "Requirement already satisfied: Pillow>=8.0.0 in /usr/local/lib/python3.10/dist-packages (from pytesseract) (9.4.0)\n",
            "Installing collected packages: pytesseract\n",
            "Successfully installed pytesseract-0.3.10\n",
            "Collecting easyocr\n",
            "  Downloading easyocr-1.7.1-py3-none-any.whl (2.9 MB)\n",
            "\u001b[2K     \u001b[90m━━━━━━━━━━━━━━━━━━━━━━━━━━━━━━━━━━━━━━━━\u001b[0m \u001b[32m2.9/2.9 MB\u001b[0m \u001b[31m42.6 MB/s\u001b[0m eta \u001b[36m0:00:00\u001b[0m\n",
            "\u001b[?25hRequirement already satisfied: torch in /usr/local/lib/python3.10/dist-packages (from easyocr) (2.3.0+cu121)\n",
            "Requirement already satisfied: torchvision>=0.5 in /usr/local/lib/python3.10/dist-packages (from easyocr) (0.18.0+cu121)\n",
            "Requirement already satisfied: opencv-python-headless in /usr/local/lib/python3.10/dist-packages (from easyocr) (4.10.0.84)\n",
            "Requirement already satisfied: scipy in /usr/local/lib/python3.10/dist-packages (from easyocr) (1.11.4)\n",
            "Requirement already satisfied: numpy in /usr/local/lib/python3.10/dist-packages (from easyocr) (1.25.2)\n",
            "Requirement already satisfied: Pillow in /usr/local/lib/python3.10/dist-packages (from easyocr) (9.4.0)\n",
            "Requirement already satisfied: scikit-image in /usr/local/lib/python3.10/dist-packages (from easyocr) (0.19.3)\n",
            "Collecting python-bidi (from easyocr)\n",
            "  Downloading python_bidi-0.4.2-py2.py3-none-any.whl (30 kB)\n",
            "Requirement already satisfied: PyYAML in /usr/local/lib/python3.10/dist-packages (from easyocr) (6.0.1)\n",
            "Requirement already satisfied: Shapely in /usr/local/lib/python3.10/dist-packages (from easyocr) (2.0.4)\n",
            "Collecting pyclipper (from easyocr)\n",
            "  Downloading pyclipper-1.3.0.post5-cp310-cp310-manylinux_2_12_x86_64.manylinux2010_x86_64.whl (908 kB)\n",
            "\u001b[2K     \u001b[90m━━━━━━━━━━━━━━━━━━━━━━━━━━━━━━━━━━━━━━━━\u001b[0m \u001b[32m908.3/908.3 kB\u001b[0m \u001b[31m55.2 MB/s\u001b[0m eta \u001b[36m0:00:00\u001b[0m\n",
            "\u001b[?25hCollecting ninja (from easyocr)\n",
            "  Downloading ninja-1.11.1.1-py2.py3-none-manylinux1_x86_64.manylinux_2_5_x86_64.whl (307 kB)\n",
            "\u001b[2K     \u001b[90m━━━━━━━━━━━━━━━━━━━━━━━━━━━━━━━━━━━━━━━━\u001b[0m \u001b[32m307.2/307.2 kB\u001b[0m \u001b[31m30.9 MB/s\u001b[0m eta \u001b[36m0:00:00\u001b[0m\n",
            "\u001b[?25hRequirement already satisfied: filelock in /usr/local/lib/python3.10/dist-packages (from torch->easyocr) (3.15.3)\n",
            "Requirement already satisfied: typing-extensions>=4.8.0 in /usr/local/lib/python3.10/dist-packages (from torch->easyocr) (4.12.2)\n",
            "Requirement already satisfied: sympy in /usr/local/lib/python3.10/dist-packages (from torch->easyocr) (1.12.1)\n",
            "Requirement already satisfied: networkx in /usr/local/lib/python3.10/dist-packages (from torch->easyocr) (3.3)\n",
            "Requirement already satisfied: jinja2 in /usr/local/lib/python3.10/dist-packages (from torch->easyocr) (3.1.4)\n",
            "Requirement already satisfied: fsspec in /usr/local/lib/python3.10/dist-packages (from torch->easyocr) (2023.6.0)\n",
            "Collecting nvidia-cuda-nvrtc-cu12==12.1.105 (from torch->easyocr)\n",
            "  Using cached nvidia_cuda_nvrtc_cu12-12.1.105-py3-none-manylinux1_x86_64.whl (23.7 MB)\n",
            "Collecting nvidia-cuda-runtime-cu12==12.1.105 (from torch->easyocr)\n",
            "  Using cached nvidia_cuda_runtime_cu12-12.1.105-py3-none-manylinux1_x86_64.whl (823 kB)\n",
            "Collecting nvidia-cuda-cupti-cu12==12.1.105 (from torch->easyocr)\n",
            "  Using cached nvidia_cuda_cupti_cu12-12.1.105-py3-none-manylinux1_x86_64.whl (14.1 MB)\n",
            "Collecting nvidia-cudnn-cu12==8.9.2.26 (from torch->easyocr)\n",
            "  Using cached nvidia_cudnn_cu12-8.9.2.26-py3-none-manylinux1_x86_64.whl (731.7 MB)\n",
            "Collecting nvidia-cublas-cu12==12.1.3.1 (from torch->easyocr)\n",
            "  Using cached nvidia_cublas_cu12-12.1.3.1-py3-none-manylinux1_x86_64.whl (410.6 MB)\n",
            "Collecting nvidia-cufft-cu12==11.0.2.54 (from torch->easyocr)\n",
            "  Using cached nvidia_cufft_cu12-11.0.2.54-py3-none-manylinux1_x86_64.whl (121.6 MB)\n",
            "Collecting nvidia-curand-cu12==10.3.2.106 (from torch->easyocr)\n",
            "  Using cached nvidia_curand_cu12-10.3.2.106-py3-none-manylinux1_x86_64.whl (56.5 MB)\n",
            "Collecting nvidia-cusolver-cu12==11.4.5.107 (from torch->easyocr)\n",
            "  Using cached nvidia_cusolver_cu12-11.4.5.107-py3-none-manylinux1_x86_64.whl (124.2 MB)\n",
            "Collecting nvidia-cusparse-cu12==12.1.0.106 (from torch->easyocr)\n",
            "  Using cached nvidia_cusparse_cu12-12.1.0.106-py3-none-manylinux1_x86_64.whl (196.0 MB)\n",
            "Collecting nvidia-nccl-cu12==2.20.5 (from torch->easyocr)\n",
            "  Using cached nvidia_nccl_cu12-2.20.5-py3-none-manylinux2014_x86_64.whl (176.2 MB)\n",
            "Collecting nvidia-nvtx-cu12==12.1.105 (from torch->easyocr)\n",
            "  Using cached nvidia_nvtx_cu12-12.1.105-py3-none-manylinux1_x86_64.whl (99 kB)\n",
            "Requirement already satisfied: triton==2.3.0 in /usr/local/lib/python3.10/dist-packages (from torch->easyocr) (2.3.0)\n",
            "Collecting nvidia-nvjitlink-cu12 (from nvidia-cusolver-cu12==11.4.5.107->torch->easyocr)\n",
            "  Downloading nvidia_nvjitlink_cu12-12.5.40-py3-none-manylinux2014_x86_64.whl (21.3 MB)\n",
            "\u001b[2K     \u001b[90m━━━━━━━━━━━━━━━━━━━━━━━━━━━━━━━━━━━━━━━━\u001b[0m \u001b[32m21.3/21.3 MB\u001b[0m \u001b[31m62.8 MB/s\u001b[0m eta \u001b[36m0:00:00\u001b[0m\n",
            "\u001b[?25hRequirement already satisfied: six in /usr/local/lib/python3.10/dist-packages (from python-bidi->easyocr) (1.16.0)\n",
            "Requirement already satisfied: imageio>=2.4.1 in /usr/local/lib/python3.10/dist-packages (from scikit-image->easyocr) (2.31.6)\n",
            "Requirement already satisfied: tifffile>=2019.7.26 in /usr/local/lib/python3.10/dist-packages (from scikit-image->easyocr) (2024.6.18)\n",
            "Requirement already satisfied: PyWavelets>=1.1.1 in /usr/local/lib/python3.10/dist-packages (from scikit-image->easyocr) (1.6.0)\n",
            "Requirement already satisfied: packaging>=20.0 in /usr/local/lib/python3.10/dist-packages (from scikit-image->easyocr) (24.1)\n",
            "Requirement already satisfied: MarkupSafe>=2.0 in /usr/local/lib/python3.10/dist-packages (from jinja2->torch->easyocr) (2.1.5)\n",
            "Requirement already satisfied: mpmath<1.4.0,>=1.1.0 in /usr/local/lib/python3.10/dist-packages (from sympy->torch->easyocr) (1.3.0)\n",
            "Installing collected packages: pyclipper, ninja, python-bidi, nvidia-nvtx-cu12, nvidia-nvjitlink-cu12, nvidia-nccl-cu12, nvidia-curand-cu12, nvidia-cufft-cu12, nvidia-cuda-runtime-cu12, nvidia-cuda-nvrtc-cu12, nvidia-cuda-cupti-cu12, nvidia-cublas-cu12, nvidia-cusparse-cu12, nvidia-cudnn-cu12, nvidia-cusolver-cu12, easyocr\n",
            "Successfully installed easyocr-1.7.1 ninja-1.11.1.1 nvidia-cublas-cu12-12.1.3.1 nvidia-cuda-cupti-cu12-12.1.105 nvidia-cuda-nvrtc-cu12-12.1.105 nvidia-cuda-runtime-cu12-12.1.105 nvidia-cudnn-cu12-8.9.2.26 nvidia-cufft-cu12-11.0.2.54 nvidia-curand-cu12-10.3.2.106 nvidia-cusolver-cu12-11.4.5.107 nvidia-cusparse-cu12-12.1.0.106 nvidia-nccl-cu12-2.20.5 nvidia-nvjitlink-cu12-12.5.40 nvidia-nvtx-cu12-12.1.105 pyclipper-1.3.0.post5 python-bidi-0.4.2\n",
            "Reading package lists... Done\n",
            "Building dependency tree... Done\n",
            "Reading state information... Done\n",
            "The following NEW packages will be installed:\n",
            "  poppler-utils\n",
            "0 upgraded, 1 newly installed, 0 to remove and 45 not upgraded.\n",
            "Need to get 186 kB of archives.\n",
            "After this operation, 696 kB of additional disk space will be used.\n",
            "Get:1 http://archive.ubuntu.com/ubuntu jammy-updates/main amd64 poppler-utils amd64 22.02.0-2ubuntu0.4 [186 kB]\n",
            "Fetched 186 kB in 1s (140 kB/s)\n",
            "debconf: unable to initialize frontend: Dialog\n",
            "debconf: (No usable dialog-like program is installed, so the dialog based frontend cannot be used. at /usr/share/perl5/Debconf/FrontEnd/Dialog.pm line 78, <> line 1.)\n",
            "debconf: falling back to frontend: Readline\n",
            "debconf: unable to initialize frontend: Readline\n",
            "debconf: (This frontend requires a controlling tty.)\n",
            "debconf: falling back to frontend: Teletype\n",
            "dpkg-preconfigure: unable to re-open stdin: \n",
            "Selecting previously unselected package poppler-utils.\n",
            "(Reading database ... 121972 files and directories currently installed.)\n",
            "Preparing to unpack .../poppler-utils_22.02.0-2ubuntu0.4_amd64.deb ...\n",
            "Unpacking poppler-utils (22.02.0-2ubuntu0.4) ...\n",
            "Setting up poppler-utils (22.02.0-2ubuntu0.4) ...\n",
            "Processing triggers for man-db (2.10.2-1) ...\n",
            "Collecting pdf2image\n",
            "  Downloading pdf2image-1.17.0-py3-none-any.whl (11 kB)\n",
            "Requirement already satisfied: pillow in /usr/local/lib/python3.10/dist-packages (from pdf2image) (9.4.0)\n",
            "Installing collected packages: pdf2image\n",
            "Successfully installed pdf2image-1.17.0\n",
            "--2024-06-26 13:33:41--  https://fonts.google.com/download?family=Roboto\n",
            "Resolving fonts.google.com (fonts.google.com)... 74.125.130.102, 74.125.130.101, 74.125.130.138, ...\n",
            "Connecting to fonts.google.com (fonts.google.com)|74.125.130.102|:443... connected.\n",
            "HTTP request sent, awaiting response... 200 OK\n",
            "Length: unspecified [text/html]\n",
            "Saving to: ‘roboto.zip’\n",
            "\n",
            "roboto.zip              [ <=>                ]   8.48K  --.-KB/s    in 0s      \n",
            "\n",
            "2024-06-26 13:33:41 (52.9 MB/s) - ‘roboto.zip’ saved [8684]\n",
            "\n",
            "Archive:  roboto.zip\n",
            "  End-of-central-directory signature not found.  Either this file is not\n",
            "  a zipfile, or it constitutes one disk of a multi-part archive.  In the\n",
            "  latter case the central directory and zipfile comment will be found on\n",
            "  the last disk(s) of this archive.\n",
            "unzip:  cannot find zipfile directory in one of roboto.zip or\n",
            "        roboto.zip.zip, and cannot find roboto.zip.ZIP, period.\n"
          ]
        }
      ]
    },
    {
      "cell_type": "code",
      "source": [
        "from transformers import AutoImageProcessor, TableTransformerForObjectDetection\n",
        "import torch\n",
        "from PIL import Image, ImageDraw, ImageFont\n",
        "import matplotlib.pyplot as plt\n",
        "import csv\n",
        "import numpy as np\n",
        "import pandas as pd\n",
        "from pdf2image import convert_from_path\n",
        "from tqdm.auto import tqdm\n",
        "import pytesseract\n",
        "import easyocr"
      ],
      "metadata": {
        "id": "rJkFZcD4aTaP"
      },
      "execution_count": null,
      "outputs": []
    },
    {
      "cell_type": "code",
      "source": [
        "from google.colab import drive\n",
        "drive.mount('/content/drive')"
      ],
      "metadata": {
        "id": "cnllUQ6-buE-",
        "colab": {
          "base_uri": "https://localhost:8080/"
        },
        "outputId": "844a0b4e-03ac-4a66-f881-6a78dd26b3b2"
      },
      "execution_count": null,
      "outputs": [
        {
          "output_type": "stream",
          "name": "stdout",
          "text": [
            "Mounted at /content/drive\n"
          ]
        }
      ]
    },
    {
      "cell_type": "code",
      "source": [
        "from pdf2image import convert_from_path\n",
        "def pdf_to_img(pdf_path):\n",
        "    # Convert all pages of the PDF to a list of images\n",
        "    images = convert_from_path(pdf_path, fmt='jpeg')\n",
        "    return images"
      ],
      "metadata": {
        "id": "BB9Pf2meaVpq"
      },
      "execution_count": null,
      "outputs": []
    },
    {
      "cell_type": "code",
      "source": [
        "\n",
        "model_name = \"microsoft/table-transformer-detection\"\n",
        "# define image preprocessor for table transformer\n",
        "image_processor = AutoImageProcessor.from_pretrained(model_name)\n",
        "\n",
        "# import table transformer model for table detection\n",
        "model = TableTransformerForObjectDetection.from_pretrained(model_name,\n",
        "                                                           revision=\"no_timm\")\n"
      ],
      "metadata": {
        "id": "-vb2CKSPcAhJ",
        "colab": {
          "base_uri": "https://localhost:8080/",
          "height": 261,
          "referenced_widgets": [
            "e5bf96605eff494b942d23d851f4cc73",
            "258db58478344e9ca90e9976f07cd20c",
            "87947adc74c447b8b6b27ee23e332ff8",
            "25b04f3ad877441ba92c7613b261cfb9",
            "3d63a68ab55541edb0fc540021b63b8b",
            "0bec1460a4e748a7baa80a68ab0111e0",
            "117a3c58f7f54bcfae69bd8891737e73",
            "1e5bef87b3fe4499a136cd1980f23309",
            "14d523a10bb544d799fead57d075b13a",
            "0e7c9397973541fa86806135d5b55839",
            "a5773f1eefce478ea26e2aa6ba3438a6",
            "937f8543c90b4a178e09a669a78a214f",
            "fc34faac8d4b4ee7a5087b55bfd76447",
            "fe4ba8e748de4e19b7a093873fd52f06",
            "9a55299bd0e04c33aa0ae8b5086104a9",
            "ea73043d6430499a8dccebe4ae8b92b7",
            "9752db5c7f024f2e8b7f3e13f95fdc8f",
            "33b86661be274e32b873b7435aaf5abd",
            "2aa9b703495641528988ad5b87600b81",
            "f07697f3d3a34b2e98e5a2eef0574909",
            "082ae434593848c991c4e63319eef724",
            "0a7871d45efd4069b73875db2f9e42da",
            "2e95ea21a7934c34b6dda7f6855b6e05",
            "6ea02d21a77a4f8b8b5b202d8ebe1bb7",
            "22ff164910224cad94a478dcf573ab5d",
            "b297bdb6778d4feabd1b4b3137fc3365",
            "f0f76e98e59c4668b719dceca55a9679",
            "13d1045f6d18475dbb55faf1ec8c8f84",
            "137ffb0e02584cd085bc62baf8d546ea",
            "3d8e4df6d13e495abc4db02284c6ae92",
            "6652e2c34f214395b1e9a57434f05bae",
            "0d0cf6f281874420b1de69abe225f872",
            "329d0dc1b5f54f0d8076d0120670125c"
          ]
        },
        "outputId": "ac692a48-0de8-43b4-ffca-b6a49312cf67"
      },
      "execution_count": null,
      "outputs": [
        {
          "output_type": "stream",
          "name": "stderr",
          "text": [
            "/usr/local/lib/python3.10/dist-packages/huggingface_hub/utils/_token.py:89: UserWarning: \n",
            "The secret `HF_TOKEN` does not exist in your Colab secrets.\n",
            "To authenticate with the Hugging Face Hub, create a token in your settings tab (https://huggingface.co/settings/tokens), set it as secret in your Google Colab and restart your session.\n",
            "You will be able to reuse this secret in all of your notebooks.\n",
            "Please note that authentication is recommended but still optional to access public models or datasets.\n",
            "  warnings.warn(\n"
          ]
        },
        {
          "output_type": "display_data",
          "data": {
            "text/plain": [
              "preprocessor_config.json:   0%|          | 0.00/273 [00:00<?, ?B/s]"
            ],
            "application/vnd.jupyter.widget-view+json": {
              "version_major": 2,
              "version_minor": 0,
              "model_id": "e5bf96605eff494b942d23d851f4cc73"
            }
          },
          "metadata": {}
        },
        {
          "output_type": "stream",
          "name": "stderr",
          "text": [
            "The `max_size` parameter is deprecated and will be removed in v4.26. Please specify in `size['longest_edge'] instead`.\n"
          ]
        },
        {
          "output_type": "display_data",
          "data": {
            "text/plain": [
              "config.json:   0%|          | 0.00/76.5k [00:00<?, ?B/s]"
            ],
            "application/vnd.jupyter.widget-view+json": {
              "version_major": 2,
              "version_minor": 0,
              "model_id": "937f8543c90b4a178e09a669a78a214f"
            }
          },
          "metadata": {}
        },
        {
          "output_type": "display_data",
          "data": {
            "text/plain": [
              "model.safetensors:   0%|          | 0.00/115M [00:00<?, ?B/s]"
            ],
            "application/vnd.jupyter.widget-view+json": {
              "version_major": 2,
              "version_minor": 0,
              "model_id": "2e95ea21a7934c34b6dda7f6855b6e05"
            }
          },
          "metadata": {}
        }
      ]
    },
    {
      "cell_type": "code",
      "source": [
        "def detect_table(image_doc):\n",
        "    results = []\n",
        "\n",
        "    for image in image_doc:\n",
        "        # preprocess image document\n",
        "        inputs = image_processor(images=image, return_tensors=\"pt\")\n",
        "\n",
        "        # detect tables\n",
        "        outputs = model(**inputs)\n",
        "\n",
        "        # convert outputs (bounding boxes and class logits) to Pascal VOC format (xmin, ymin, xmax, ymax)\n",
        "        target_sizes = torch.tensor([image.size[::-1]])\n",
        "        page_results = image_processor.post_process_object_detection(outputs,\n",
        "                                                                     threshold=0.8,\n",
        "                                                                     target_sizes=target_sizes)\n",
        "\n",
        "        results.append({\"image\" : image ,\"Result\" : page_results})\n",
        "\n",
        "    return results\n"
      ],
      "metadata": {
        "id": "lnD_g4fvcRt8"
      },
      "execution_count": null,
      "outputs": []
    },
    {
      "cell_type": "code",
      "source": [
        "def get_table_bbox(results, label_map):\n",
        "    \"\"\"\n",
        "    Extracts the bounding box coordinates for tables from detection results.\n",
        "\n",
        "    Parameters:\n",
        "    - results: List of dictionaries, each containing detection results for each page\n",
        "    - label_map: Dictionary mapping label IDs to human-readable labels\n",
        "\n",
        "    Returns:\n",
        "    - tables_coordinates: List of dictionaries with bounding box coordinates in Pascal VOC format\n",
        "    \"\"\"\n",
        "    tables_coordinates = []\n",
        "\n",
        "    for page_idx, page_results in enumerate(results):\n",
        "        image = page_results[\"image\"]\n",
        "        for detection in page_results[\"Result\"]:\n",
        "            boxes = detection[\"boxes\"]\n",
        "            scores = detection[\"scores\"]\n",
        "            labels = detection[\"labels\"]\n",
        "\n",
        "            for score, label, box in zip(scores, labels, boxes):\n",
        "                if score >= 0.95:  # Only consider detections with high confidence\n",
        "                    # Convert box coordinates to integer and ensure Pascal VOC format\n",
        "                    xmin, ymin, xmax, ymax = [round(i, 2) for i in box.tolist()]\n",
        "\n",
        "                    table_dict = {\n",
        "                        \"page\": page_idx + 1,\n",
        "                        \"label\": label_map.get(label.item(), \"Unknown\"),\n",
        "                        \"confidence\": round(score.item(), 3),\n",
        "                        \"xmin\": xmin,\n",
        "                        \"ymin\": ymin,\n",
        "                        \"xmax\": xmax,\n",
        "                        \"ymax\": ymax\n",
        "                    }\n",
        "\n",
        "                    tables_coordinates.append(table_dict)\n",
        "\n",
        "                    # Print prediction label, confidence score, and bbox values\n",
        "                    print(\n",
        "                        f\"Page {page_idx + 1}: Detected {label_map.get(label.item(), 'Unknown')} with confidence \"\n",
        "                        f\"{table_dict['confidence']} at location (xmin: {xmin}, ymin: {ymin}, xmax: {xmax}, ymax: {ymax})\"\n",
        "                    )\n",
        "\n",
        "    return tables_coordinates"
      ],
      "metadata": {
        "id": "ezFdje00cZxj"
      },
      "execution_count": null,
      "outputs": []
    },
    {
      "cell_type": "code",
      "source": [
        "from PIL import ImageDraw\n",
        "\n",
        "def highlight_tables(image, table_boxes, padding):\n",
        "    \"\"\"\n",
        "    Highlights the detected tables on the image with red rectangles.\n",
        "\n",
        "    Parameters:\n",
        "    - image: The PIL.Image object to highlight\n",
        "    - table_boxes: List of dictionaries with table bounding box coordinates\n",
        "    - padding: Padding to add around each bounding box\n",
        "\n",
        "    Returns:\n",
        "    - doc_image: The image with highlighted tables\n",
        "    \"\"\"\n",
        "    # Create a drawing context for the image\n",
        "    doc_image = image.copy()\n",
        "    draw = ImageDraw.Draw(doc_image)\n",
        "\n",
        "    # Iterate over each table bounding box\n",
        "    for table in table_boxes:\n",
        "        # Define the coordinates for the rectangle with padding\n",
        "        rectangle_coords = (table[\"xmin\"] - padding,\n",
        "                            table[\"ymin\"] - padding,\n",
        "                            table[\"xmax\"] + padding,\n",
        "                            table[\"ymax\"] + padding)\n",
        "\n",
        "        # Draw a red rectangle around the detected table\n",
        "        draw.rectangle(rectangle_coords, outline=\"red\", width=2)\n",
        "\n",
        "    return doc_image\n",
        "\n"
      ],
      "metadata": {
        "id": "1YwfOoW0chjs"
      },
      "execution_count": null,
      "outputs": []
    },
    {
      "cell_type": "code",
      "source": [
        "from PIL import Image\n",
        "\n",
        "def get_cropped_images(image, table_bbox, padding):\n",
        "    \"\"\"\n",
        "    Crops out regions corresponding to detected tables from the image.\n",
        "\n",
        "    Parameters:\n",
        "    - image: The PIL.Image object from which tables are to be cropped\n",
        "    - table_bbox: List of dictionaries with bounding box coordinates for each table\n",
        "    - padding: Padding to apply around each bounding box\n",
        "\n",
        "    Returns:\n",
        "    - cropped_images: List of cropped images (PIL.Image objects) for each detected table\n",
        "    \"\"\"\n",
        "    cropped_images = []\n",
        "\n",
        "    if not table_bbox:\n",
        "        print(\"No tables detected in the image.\")\n",
        "        return cropped_images\n",
        "\n",
        "    for table in table_bbox:\n",
        "        # Calculate coordinates with padding\n",
        "        left = max(table[\"xmin\"] - padding, 0)\n",
        "        top = max(table[\"ymin\"] - padding, 0)\n",
        "        right = min(table[\"xmax\"] + padding, image.width)\n",
        "        bottom = min(table[\"ymax\"] + padding, image.height)\n",
        "\n",
        "        # Crop the image\n",
        "        cropped_image = image.crop((left, top, right, bottom))\n",
        "        cropped_images.append(cropped_image)\n",
        "\n",
        "    return cropped_images\n"
      ],
      "metadata": {
        "id": "52PHlrg5cmDb"
      },
      "execution_count": null,
      "outputs": []
    },
    {
      "cell_type": "code",
      "source": [
        "\n",
        "# import model for detecting table features e.g. rows, columns, etc\n",
        "structure_model = TableTransformerForObjectDetection.from_pretrained(\"microsoft/table-structure-recognition-v1.1-all\")\n"
      ],
      "metadata": {
        "id": "-wYvFbcrdHzm",
        "colab": {
          "base_uri": "https://localhost:8080/",
          "height": 81,
          "referenced_widgets": [
            "86d9ee66e4ae43bfa2c7b59f32b0fde0",
            "a17d6474ef3243e48798f8d65b6a2902",
            "a074f12c598041ae82c0e6c711103868",
            "37c7694c46354b5ca1d3eda92cc68c7a",
            "cd75402ba7e74b0ca80e65afd06fd1e4",
            "945a42cb3b21486ab0e9a972ea6da1e5",
            "04a2f9aafeb649d1a571ca3946be8a18",
            "03fd9c5b61694742a8a6e54b22c36c35",
            "911a659c63aa405bb075f23b77cc8348",
            "0c18a1ca0cef4177a7a7f6d4bb8a853d",
            "2830f2ee4488442ba41f664afd0164da",
            "27d6d8320e3d46eaacca321f6e3f3602",
            "c0086c578c784b77b77cebb7dc7bc5f4",
            "2dd138945ef6448b9598fdc44659c495",
            "0f74285ff6fb4e80ae37c1012c1b1861",
            "80bb54f5bcfe415891230349b7290350",
            "6b7964daa5e2478da7630c89eb4fee90",
            "133d473c771049f7a9108cfcff6c3b21",
            "5aab8aae32c04a939d06740790a5fc59",
            "232bf4d0a6a44761867484f257b1d4f0",
            "8261d131636a4edbac362c7c968f407d",
            "344140434f4242e8a708addf6fe01e93"
          ]
        },
        "outputId": "5b40c625-a80e-4a21-993a-17d29e53977e"
      },
      "execution_count": null,
      "outputs": [
        {
          "output_type": "display_data",
          "data": {
            "text/plain": [
              "config.json:   0%|          | 0.00/76.8k [00:00<?, ?B/s]"
            ],
            "application/vnd.jupyter.widget-view+json": {
              "version_major": 2,
              "version_minor": 0,
              "model_id": "86d9ee66e4ae43bfa2c7b59f32b0fde0"
            }
          },
          "metadata": {}
        },
        {
          "output_type": "display_data",
          "data": {
            "text/plain": [
              "model.safetensors:   0%|          | 0.00/115M [00:00<?, ?B/s]"
            ],
            "application/vnd.jupyter.widget-view+json": {
              "version_major": 2,
              "version_minor": 0,
              "model_id": "27d6d8320e3d46eaacca321f6e3f3602"
            }
          },
          "metadata": {}
        }
      ]
    },
    {
      "cell_type": "code",
      "source": [
        "\n",
        "def get_table_features(cropped_image):\n",
        "    \"\"\"\n",
        "    Extract features from a cropped image of a table.\n",
        "\n",
        "    Parameters:\n",
        "    - cropped_image: The PIL.Image object representing a cropped table\n",
        "\n",
        "    Returns:\n",
        "    - features: List of dictionaries, each containing detected feature label, confidence score, and bbox values\n",
        "    \"\"\"\n",
        "    # Preprocess image input for the table structure model\n",
        "    inputs = image_processor(images=cropped_image, return_tensors=\"pt\")\n",
        "\n",
        "    # Make prediction using the table structure model\n",
        "    with torch.no_grad():\n",
        "        outputs = structure_model(**inputs)\n",
        "\n",
        "    # Post-process output to get bounding box format in Pascal VOC\n",
        "    target_sizes = torch.tensor([cropped_image.size[::-1]])\n",
        "    results = image_processor.post_process_object_detection(outputs, threshold=0.9, target_sizes=target_sizes)[0]\n",
        "\n",
        "    # List to store detected features\n",
        "    features = []\n",
        "\n",
        "    # Iterate through all detected features\n",
        "    for i, (score, label, box) in enumerate(zip(results[\"scores\"], results[\"labels\"], results[\"boxes\"])):\n",
        "        # Convert the box tensor to a list of rounded floats\n",
        "        box = [round(coord, 2) for coord in box.tolist()]\n",
        "        score = score.item()\n",
        "        label = structure_model.config.id2label[label.item()]\n",
        "\n",
        "        # Create a dictionary for each detected feature\n",
        "        feature_dict = {\n",
        "            \"label\": label,\n",
        "            \"score\": score,\n",
        "            \"bbox\": box\n",
        "        }\n",
        "\n",
        "        # Append to the features list\n",
        "        features.append(feature_dict)\n",
        "\n",
        "        # Print detected features\n",
        "       # print(f\"Detected {label} with confidence {round(score, 3)} at location {box}\")\n",
        "\n",
        "    return features\n",
        "\n"
      ],
      "metadata": {
        "id": "yB4rub6OdMcA"
      },
      "execution_count": null,
      "outputs": []
    },
    {
      "cell_type": "code",
      "source": [
        "from PIL import ImageDraw, ImageFont\n",
        "def display_detected_features(cropped_image, features):\n",
        "    \"\"\"\n",
        "    Draws bounding boxes and labels on a cropped image based on detected features.\n",
        "\n",
        "    Parameters:\n",
        "    - cropped_image: The PIL.Image object representing a cropped table\n",
        "    - features: List of dictionaries containing feature label, confidence score, and bbox values\n",
        "\n",
        "    Returns:\n",
        "    - cropped_table_visualized: The image with bounding boxes and labels drawn\n",
        "    \"\"\"\n",
        "    cropped_table_visualized = cropped_image.copy()\n",
        "    draw = ImageDraw.Draw(cropped_table_visualized)\n",
        "\n",
        "    # Load a font; replace with a valid path to a .ttf file on your system\n",
        "    try:\n",
        "        font_path = \"/content/drive/MyDrive/Roboto-Italic.ttf\"\n",
        "        font = ImageFont.truetype(font_path, 15)\n",
        "    except IOError:\n",
        "        print(f\"Could not load font from {font_path}. Using default font.\")\n",
        "        font = ImageFont.load_default()\n",
        "\n",
        "    # Iterate through all features and display bounding boxes with text labels\n",
        "    for feature in features:\n",
        "        # Draw rectangle for each feature's bounding box\n",
        "        draw.rectangle(feature[\"bbox\"], outline=\"red\", width=2)\n",
        "\n",
        "        # Calculate text position and draw the label\n",
        "        text_position = (feature[\"bbox\"][0], max(feature[\"bbox\"][1] - 15, 0))\n",
        "        draw.text(text_position, feature[\"label\"], fill=\"blue\", font=font)\n",
        "\n",
        "    return cropped_table_visualized\n",
        "\n",
        "\n",
        "\n"
      ],
      "metadata": {
        "id": "JoZX2tMEdTcG"
      },
      "execution_count": null,
      "outputs": []
    },
    {
      "cell_type": "code",
      "source": [
        "def get_cell_coordinates_by_row(table_data):\n",
        "    # Extract rows and columns\n",
        "    rows = [entry for entry in table_data if entry['label'] == 'table row']\n",
        "    columns = [entry for entry in table_data if entry['label'] == 'table column']\n",
        "\n",
        "    # Sort rows and columns by their Y and X coordinates, respectively\n",
        "    rows.sort(key=lambda x: x['bbox'][1])\n",
        "    columns.sort(key=lambda x: x['bbox'][0])\n",
        "\n",
        "\n",
        "    # Initialize cell coordinates list\n",
        "    cell_coordinates = []\n",
        "\n",
        "    # Generate cell coordinates for each row\n",
        "    for row in rows:\n",
        "        row_cells = []\n",
        "        for column in columns:\n",
        "            # Calculate cell bounding box\n",
        "            cell_bbox = [column['bbox'][0], row['bbox'][1], column['bbox'][2], row['bbox'][3]]\n",
        "            row_cells.append({'cell': cell_bbox})\n",
        "        cell_coordinates.append({'cells': row_cells, 'cell_count': len(row_cells)})\n",
        "\n",
        "    return cell_coordinates\n",
        "\n",
        "\n"
      ],
      "metadata": {
        "id": "y4P-G_bCoq_o"
      },
      "execution_count": null,
      "outputs": []
    },
    {
      "cell_type": "code",
      "source": [
        "\n",
        "def apply_ocr(cell_coordinates, cropped_image):\n",
        "    # let's OCR row by row\n",
        "    data = dict()\n",
        "    max_num_columns = 0\n",
        "    for idx, row in enumerate(tqdm(cell_coordinates)):\n",
        "        row_text = []\n",
        "        for cell in row[\"cells\"]:\n",
        "            # crop cell out of image\n",
        "            cell_image = np.array(cropped_image.crop(cell[\"cell\"]))\n",
        "\n",
        "            # apply OCR using PyTesseract\n",
        "            text = pytesseract.image_to_string(cell_image, lang='eng', config='--psm 6').strip()\n",
        "            if text:\n",
        "                row_text.append(text)\n",
        "\n",
        "\n",
        "        if len(row_text) > max_num_columns:\n",
        "            max_num_columns = len(row_text)\n",
        "\n",
        "        data[idx] = row_text\n",
        "\n",
        "    print(\"Max number of columns:\", max_num_columns)\n",
        "\n",
        "    # pad rows which don't have max_num_columns elements\n",
        "    for row, row_data in data.copy().items():\n",
        "        if len(row_data) != max_num_columns:\n",
        "            row_data = row_data + [\"\" for _ in range(max_num_columns - len(row_data))]\n",
        "        data[row] = row_data\n",
        "        print(row_data)\n",
        "\n",
        "    return data\n",
        "\n"
      ],
      "metadata": {
        "id": "2vHEQwBPpghh"
      },
      "execution_count": null,
      "outputs": []
    },
    {
      "cell_type": "code",
      "source": [
        "import csv\n",
        "import pandas as pd\n",
        "\n",
        "def write_csv(data):\n",
        "  with open('output.csv','w') as result_file:\n",
        "      wr = csv.writer(result_file, dialect='excel')\n",
        "      # Verify if 'data' is indeed a dictionary\n",
        "      if isinstance(data, dict):\n",
        "          for row, row_text in data.items():\n",
        "              wr.writerow(row_text)\n",
        "      else:\n",
        "          print(\"Error: 'data' is not a dictionary. Cannot write to CSV.\")\n"
      ],
      "metadata": {
        "id": "5FzI05ThpuNU"
      },
      "execution_count": null,
      "outputs": []
    },
    {
      "cell_type": "code",
      "source": [
        "import os\n",
        "import pandas as pd\n",
        "import gc\n",
        "from tqdm import tqdm\n",
        "import json\n",
        "from pdf2image import convert_from_path\n",
        "from transformers import AutoImageProcessor, TableTransformerForObjectDetection\n",
        "\n",
        "# Function to convert PDF to images\n",
        "def pdf_to_img(pdf_path):\n",
        "    images = convert_from_path(pdf_path, fmt='jpeg')\n",
        "    return images\n",
        "\n",
        "# Function to detect tables in a batch of images\n",
        "def detect_table(image_doc):\n",
        "    results = []\n",
        "    for image in image_doc:\n",
        "        inputs = image_processor(images=image, return_tensors=\"pt\")\n",
        "        outputs = model(**inputs)\n",
        "        target_sizes = torch.tensor([image.size[::-1]])\n",
        "        page_results = image_processor.post_process_object_detection(outputs, threshold=0.9, target_sizes=target_sizes)\n",
        "        results.append({\"image\": image, \"Result\": page_results})\n",
        "    return results\n",
        "\n",
        "# Function to extract bounding boxes for detected tables\n",
        "def get_table_bbox(results, label_map):\n",
        "    tables_coordinates = []\n",
        "    for page_idx, page_results in enumerate(results):\n",
        "        for detection in page_results[\"Result\"]:\n",
        "            boxes = detection[\"boxes\"]\n",
        "            scores = detection[\"scores\"]\n",
        "            labels = detection[\"labels\"]\n",
        "            for score, label, box in zip(scores, labels, boxes):\n",
        "                if score >= 0.96:\n",
        "                    xmin, ymin, xmax, ymax = [round(i, 2) for i in box.tolist()]\n",
        "                    table_dict = {\n",
        "                        \"page\": page_idx + 1,\n",
        "                        \"label\": label_map.get(label.item(), \"Unknown\"),\n",
        "                        \"confidence\": round(score.item(), 3),\n",
        "                        \"xmin\": xmin,\n",
        "                        \"ymin\": ymin,\n",
        "                        \"xmax\": xmax,\n",
        "                        \"ymax\": ymax\n",
        "                    }\n",
        "                    tables_coordinates.append(table_dict)\n",
        "    return tables_coordinates\n",
        "\n",
        "# Function to process a batch of pages\n",
        "def process_batch(batch_images, batch_num):\n",
        "    table_results = detect_table(batch_images)\n",
        "    label_map = {1: 'table'}\n",
        "    table_bbox = get_table_bbox(table_results, label_map)\n",
        "    padding = 40\n",
        "    all_cropped_images = []\n",
        "    for i, image in enumerate(batch_images):\n",
        "        page_num =  i + 1\n",
        "        table_boxes = [table for table in table_bbox if table[\"page\"] == page_num]\n",
        "        cropped_images = get_cropped_images(image, table_boxes, padding)\n",
        "        all_cropped_images.extend(cropped_images)\n",
        "    tables_features = {}\n",
        "    for idx, cropped_image in enumerate(all_cropped_images):\n",
        "        features = get_table_features(cropped_image)\n",
        "        tables_features[idx] = {\n",
        "            \"image\": cropped_image,\n",
        "            \"features\": features\n",
        "        }\n",
        "    all_table_coordinates = []\n",
        "    for table_id, data in tables_features.items():\n",
        "        table_coordinates = get_cell_coordinates_by_row(data[\"features\"])\n",
        "        all_table_coordinates.append({\"ID\": table_id, \"Coordinates\": table_coordinates})\n",
        "    for table_coordinate in tqdm(all_table_coordinates):\n",
        "        table_data = apply_ocr(table_coordinate['Coordinates'], all_cropped_images[table_coordinate['ID']])\n",
        "        all_table_data.append({\n",
        "            \"Batch\": batch_num,\n",
        "            \"TableID\": table_coordinate['ID'],\n",
        "            \"TableData\": dataframe_to_json(table_data)\n",
        "        })\n",
        "\n",
        "# Function to convert table data to JSON\n",
        "def dataframe_to_json(table_data):\n",
        "    df = pd.DataFrame(table_data)\n",
        "    return df.to_dict(orient='records')\n",
        "\n",
        "# Initialize paths and parameters\n",
        "input_folder = '/content/drive/MyDrive/PDF_FILES'  # Replace with your input folder path\n",
        "output_folder = '/content/drive/MyDrive/output_Etracted'  # Replace with your output folder path\n",
        "\n",
        "batch_size = 5\n",
        "image_processor = AutoImageProcessor.from_pretrained(\"microsoft/table-transformer-detection\")\n",
        "model = TableTransformerForObjectDetection.from_pretrained(\"microsoft/table-transformer-detection\", revision=\"no_timm\")\n",
        "all_table_data = []\n",
        "\n",
        "# Ensure output folder exists, create if not\n",
        "os.makedirs(output_folder, exist_ok=True)\n",
        "\n",
        "# Process each PDF file in the input folder\n",
        "for pdf_file in os.listdir(input_folder):\n",
        "    if pdf_file.endswith('.pdf'):\n",
        "        pdf_path = os.path.join(input_folder, pdf_file)\n",
        "        output_json_file = os.path.join(output_folder, f\"{os.path.splitext(pdf_file)[0]}.json\")\n",
        "\n",
        "        # Convert PDF to images and get the total number of pages\n",
        "        images = pdf_to_img(pdf_path)\n",
        "        total_pages = len(images)\n",
        "        num_batches = (total_pages + batch_size - 1) // batch_size\n",
        "\n",
        "        # Process each batch\n",
        "        for batch_num in range(num_batches):\n",
        "            start_page = batch_num * batch_size\n",
        "            end_page = min((batch_num + 1) * batch_size, total_pages)\n",
        "            batch_images = images[start_page:end_page]\n",
        "\n",
        "            # Process the current batch\n",
        "            process_batch(batch_images, batch_num)\n",
        "\n",
        "            # Clear variables and perform garbage collection to manage memory\n",
        "            del batch_images\n",
        "            gc.collect()\n",
        "\n",
        "        # Save all tables to a JSON file\n",
        "        with open(output_json_file, 'w') as f:\n",
        "            json.dump(all_table_data, f, indent=4)\n",
        "\n",
        "        print(f\"All tables extracted and saved to {output_json_file}\")\n"
      ],
      "metadata": {
        "colab": {
          "base_uri": "https://localhost:8080/",
          "height": 1000
        },
        "id": "ocEBeqZJu0KY",
        "outputId": "c651b2e8-bd48-4a94-e6a3-80779ecf1dc2"
      },
      "execution_count": null,
      "outputs": [
        {
          "output_type": "stream",
          "name": "stdout",
          "text": [
            "No tables detected in the image.\n",
            "No tables detected in the image.\n",
            "No tables detected in the image.\n"
          ]
        },
        {
          "output_type": "stream",
          "name": "stderr",
          "text": [
            "  0%|          | 0/2 [00:00<?, ?it/s]\n",
            "  0%|          | 0/30 [00:00<?, ?it/s]\u001b[A\n",
            "  3%|▎         | 1/30 [00:00<00:21,  1.33it/s]\u001b[A\n",
            "  7%|▋         | 2/30 [00:01<00:19,  1.45it/s]\u001b[A\n",
            " 10%|█         | 3/30 [00:02<00:17,  1.51it/s]\u001b[A\n",
            " 13%|█▎        | 4/30 [00:02<00:17,  1.52it/s]\u001b[A\n",
            " 17%|█▋        | 5/30 [00:03<00:16,  1.56it/s]\u001b[A\n",
            " 20%|██        | 6/30 [00:03<00:14,  1.60it/s]\u001b[A\n",
            " 23%|██▎       | 7/30 [00:04<00:14,  1.63it/s]\u001b[A\n",
            " 27%|██▋       | 8/30 [00:05<00:13,  1.66it/s]\u001b[A\n",
            " 30%|███       | 9/30 [00:05<00:12,  1.66it/s]\u001b[A\n",
            " 33%|███▎      | 10/30 [00:06<00:11,  1.69it/s]\u001b[A\n",
            " 37%|███▋      | 11/30 [00:06<00:11,  1.67it/s]\u001b[A\n",
            " 40%|████      | 12/30 [00:07<00:10,  1.69it/s]\u001b[A\n",
            " 43%|████▎     | 13/30 [00:08<00:10,  1.67it/s]\u001b[A\n",
            " 47%|████▋     | 14/30 [00:08<00:10,  1.59it/s]\u001b[A\n",
            " 50%|█████     | 15/30 [00:09<00:12,  1.24it/s]\u001b[A\n",
            " 53%|█████▎    | 16/30 [00:11<00:12,  1.08it/s]\u001b[A\n",
            " 57%|█████▋    | 17/30 [00:12<00:13,  1.01s/it]\u001b[A\n",
            " 60%|██████    | 18/30 [00:12<00:10,  1.12it/s]\u001b[A\n",
            " 63%|██████▎   | 19/30 [00:13<00:08,  1.26it/s]\u001b[A\n",
            " 67%|██████▋   | 20/30 [00:14<00:07,  1.35it/s]\u001b[A\n",
            " 70%|███████   | 21/30 [00:14<00:06,  1.42it/s]\u001b[A\n",
            " 73%|███████▎  | 22/30 [00:15<00:05,  1.47it/s]\u001b[A\n",
            " 77%|███████▋  | 23/30 [00:16<00:04,  1.50it/s]\u001b[A\n",
            " 80%|████████  | 24/30 [00:16<00:03,  1.54it/s]\u001b[A\n",
            " 83%|████████▎ | 25/30 [00:17<00:03,  1.58it/s]\u001b[A\n",
            " 87%|████████▋ | 26/30 [00:17<00:02,  1.55it/s]\u001b[A\n",
            " 90%|█████████ | 27/30 [00:18<00:01,  1.57it/s]\u001b[A\n",
            " 93%|█████████▎| 28/30 [00:19<00:01,  1.57it/s]\u001b[A\n",
            " 97%|█████████▋| 29/30 [00:19<00:00,  1.56it/s]\u001b[A\n",
            "100%|██████████| 30/30 [00:20<00:00,  1.46it/s]\n",
            " 50%|█████     | 1/2 [00:20<00:20, 20.51s/it]"
          ]
        },
        {
          "output_type": "stream",
          "name": "stdout",
          "text": [
            "Max number of columns: 3\n",
            "['1.0', 'TNtrOductiOn..........ccccccccccsseccccuccececcueececccecceccuseccccuecccceuseecsssuuecsscsuuececessnsececsutessecseece', '']\n",
            "['1.1.', 'Study ODjectives: ..........cccccccccccccccccccccccccceccccuececcecucecccccuccecsscuececcssueececsusscsceeueeeees', '']\n",
            "['1.2.', 'Backeround And Rationale: ..............cccccccccccccccecccscceucccuccccscccusccuseceusccuscecuccenseeene', '']\n",
            "['2.0', 'Eligibility Assessment and Enrollment............c...cccccccccccssecccccsceecececseccecscsecescansecceuans', '']\n",
            "['2.1.', 'Eligibility Criteria 00... ..cccccccccccccccccceccccccecccccucecccccsececcuceccecauseccesucseccecsesescesaueecees', '']\n",
            "['2.2.', 'Screening Evaluation ..........cccccccccccscccccecceececeeccccecceececsseececeurececseseessssstsececuuneeeess', '']\n",
            "['2.3.', 'Registration PLOC@CUIESS ................cccssssssseesseecececcecccccecccccucasaessssesecesecececececeeeceeas', '']\n",
            "['3.0', 'Study Implementation .....ccccccccccsccscscsececececesceseccevscescssssevscsevevsvssvevevssisvevseseevevseeevees', '']\n",
            "['3.1.', 'Study Desigins......ccccccccccccecceccccesscsesevssesesscssescssssessssacsevsevssvsssesseassevssessacsevssvseseeaee', '']\n",
            "['3.2.', 'Drug Administrations .........cccccccccccccscccecsccscscscsececseseccscsesevacsesecscscsecavsssevecacsevevees', '']\n",
            "['3.3.', 'On-Study Evaluation ...............ccccccccceccccccccccceccccccccccsssssececseeseceeceececcesceeseaassateeess', '']\n",
            "['3.4.', 'Re-Treatment ........cccccccccccccscscsscscsssecscscscsecscsesevecscsesevscseseavacsesevacscsecavssseecacsesevees', '']\n",
            "['3.5.', 'Post Study Evaluation (FollOwW-up): ..........0...ccccccccscccccesssccessscccessscecesssseceseeesens', '']\n",
            "['3.6.', 'Criteria for Removal from Protocol Therapy and Off Study Criteria..........', '']\n",
            "['3.6.', '1 Off Treatment Criteria’ occccssscsscmcncsasacenssoncmnmnvesncnnsennuncawweseeues', '']\n",
            "['3.6.', '2 Off Study Criterias.........cc ccc cccccccccccsccsseseesecseecseesecsecssecseeaeeseesseesesseeseeseeeaes', '']\n",
            "['4.0', 'Supportive Care wo......ccecccccesssccccccececesecseccecececceseeeestccececeesesestusececceseeseenttaeeceeeeetettenee', '']\n",
            "['5.6.', 'Sponsor Monitoring PLAN ssceeserscessseecesscees ee AOS', '']\n",
            "['5.7.', 'Safety Monitoring Committee (SMC)... cccccccccccccccccccccccesccssssssseesecesececeeeeeceeeeeeas', '']\n",
            "['5.8.', 'Handling of Tissue Specimens for Research Purposes.................cccccccccceeeeeeees', '']\n",
            "['6.0', 'Human Subjects Protections ...........cccccccccssscesscesseeesecesseccsscesesesecesseessecessecesesesseeeseees', '']\n",
            "['6.1.', 'Rationale for Patient Selection ...........0..cccccccceccceessceseesssccessssceecsseecessseseeseeceees', '']\n",
            "['6.2.', 'Participation of Children sissescosseccecessssessesseescorssxseasecnenanceesasse nnn', '']\n",
            "['6.3.', 'Evaluation of Benefits and Risks ............00...0.ccccccccccsccessccesecesscceseceesenseeenseenseees', '']\n",
            "['6.4.', 'Consent Document .0.........0..ccccccccccccssecesscsssesesccssecesseceseseseeessecesseesseseseesseeesseeeas', '']\n",
            "['7.0', 'SAFETY REPORTING REQUIREMENTS/DATA AND SAFETY MONITORIN\\n39', 'NG PLAN']\n",
            "['71', 'De fimitions 00... .ccc ccc ccccccccccccccecceseccccccccccececseennnscecccecessuseettaceeeeceeeeecetentaeeeceeeeenennees', '']\n",
            "['7.2', 'Routine Data Reporting’ ...........cccccc cc ccccccceeeecccccccceceesenenncccccceseseeeeentateeeceseeeeeenes', '']\n",
            "['7.3', 'NCI-IRB Reporting o.....ccccccccccccccccsccscscscsccscscsssecacssssecsesevevasssssacscsecavassesecacseseeees', '']\n",
            "['7.4', 'NIH Office of Biotechnology Activities (OBA)/Institutional Biosafety Comr', 'mittee']\n"
          ]
        },
        {
          "output_type": "stream",
          "name": "stderr",
          "text": [
            "\n",
            "  0%|          | 0/7 [00:00<?, ?it/s]\u001b[A\n",
            " 14%|█▍        | 1/7 [00:00<00:04,  1.34it/s]\u001b[A\n",
            " 29%|██▊       | 2/7 [00:01<00:03,  1.51it/s]\u001b[A\n",
            " 43%|████▎     | 3/7 [00:02<00:03,  1.29it/s]\u001b[A\n",
            " 57%|█████▋    | 4/7 [00:03<00:03,  1.04s/it]\u001b[A\n",
            " 71%|███████▏  | 5/7 [00:05<00:02,  1.20s/it]\u001b[A\n",
            " 86%|████████▌ | 6/7 [00:05<00:01,  1.05s/it]\u001b[A\n",
            "100%|██████████| 7/7 [00:06<00:00,  1.05it/s]\n",
            "100%|██████████| 2/2 [00:27<00:00, 13.61s/it]\n"
          ]
        },
        {
          "output_type": "stream",
          "name": "stdout",
          "text": [
            "Max number of columns: 3\n",
            "['8.6.', '. Trimethoprim and Sulfamethoxazole Double Strensth (TMP / SMX DS) .........', 'eceeeee 47']\n",
            "['8.7.', '. Herpes Virus Prophylaxis ccvavavavavavavavavavavavavavavavavevavavevavavevavavavevavevavavevatevevevevivesesesees', 'cose AY']\n",
            "['8.8.', '© FUCOMA TON oo... ceccccecececcccosscsccecscsesecscsecsvscssvsvssssvevsessvevessvsvevsvisevsvssisvevsvisusvavssssvevsvesees', 'cesses. 48']\n",
            "['8.9.', '. Anti-VEGFR2 CAR transduced CD8+ PBL .............ccccccccccccccccccccccccccecccecseeccceeusecs', 'esseeee 48']\n",
            "['8.10', '0. Support Medications......................:ccccceseecccceccccccccccccccccsssseseesececececececcececeescsaaaaaseeess', 'veeeeeee 49']\n",
            "['9.0', 'PRTC encase nc cc cee ss en se case cede ee nee eon ca esd saci ance densa aca cists vei hese dgawstc bees', 'arsssenn OU']\n",
            "['10.0', '‘Tables: Frewres. and AppendiCes!vescenessssesesssmeanceeneeeese eee ere', 'saree 9']\n",
            "No tables detected in the image.\n",
            "No tables detected in the image.\n",
            "No tables detected in the image.\n",
            "No tables detected in the image.\n"
          ]
        },
        {
          "output_type": "stream",
          "name": "stderr",
          "text": [
            "  0%|          | 0/1 [00:00<?, ?it/s]\n",
            "0it [00:00, ?it/s]\n",
            "100%|██████████| 1/1 [00:00<00:00, 65.81it/s]\n"
          ]
        },
        {
          "output_type": "stream",
          "name": "stdout",
          "text": [
            "Max number of columns: 0\n",
            "No tables detected in the image.\n",
            "No tables detected in the image.\n",
            "No tables detected in the image.\n",
            "No tables detected in the image.\n",
            "No tables detected in the image.\n"
          ]
        },
        {
          "output_type": "stream",
          "name": "stderr",
          "text": [
            "0it [00:00, ?it/s]\n"
          ]
        },
        {
          "output_type": "stream",
          "name": "stdout",
          "text": [
            "No tables detected in the image.\n",
            "No tables detected in the image.\n",
            "No tables detected in the image.\n",
            "No tables detected in the image.\n",
            "No tables detected in the image.\n"
          ]
        },
        {
          "output_type": "stream",
          "name": "stderr",
          "text": [
            "0it [00:00, ?it/s]\n"
          ]
        },
        {
          "output_type": "stream",
          "name": "stdout",
          "text": [
            "No tables detected in the image.\n",
            "No tables detected in the image.\n",
            "No tables detected in the image.\n",
            "No tables detected in the image.\n"
          ]
        },
        {
          "output_type": "stream",
          "name": "stderr",
          "text": [
            "  0%|          | 0/1 [00:00<?, ?it/s]\n",
            "  0%|          | 0/11 [00:00<?, ?it/s]\u001b[A\n",
            "  9%|▉         | 1/11 [00:03<00:38,  3.80s/it]\u001b[A\n",
            " 18%|█▊        | 2/11 [00:06<00:28,  3.20s/it]\u001b[A\n",
            " 27%|██▋       | 3/11 [00:09<00:25,  3.17s/it]\u001b[A\n",
            " 36%|███▋      | 4/11 [00:12<00:21,  3.12s/it]\u001b[A\n",
            " 45%|████▌     | 5/11 [00:15<00:18,  3.11s/it]\u001b[A\n",
            " 55%|█████▍    | 6/11 [00:17<00:13,  2.77s/it]\u001b[A\n",
            " 64%|██████▎   | 7/11 [00:19<00:09,  2.34s/it]\u001b[A\n",
            " 73%|███████▎  | 8/11 [00:20<00:06,  2.03s/it]\u001b[A\n",
            " 82%|████████▏ | 9/11 [00:22<00:03,  1.80s/it]\u001b[A\n",
            " 91%|█████████ | 10/11 [00:23<00:01,  1.68s/it]\u001b[A\n",
            "100%|██████████| 11/11 [00:24<00:00,  2.27s/it]\n",
            "100%|██████████| 1/1 [00:24<00:00, 24.96s/it]\n"
          ]
        },
        {
          "output_type": "stream",
          "name": "stdout",
          "text": [
            "Max number of columns: 12\n",
            "['Day', '| -7', '| -6', '| -5', '| -4', '| -3', '-1 |', '1 |', '1', '| 2', '|3', '| 4']\n",
            "['Therapy', 'yo', 'jo', 'y', 'fo', ')', '|', '|', '|', 'p', '}', 'fo']\n",
            "['Cyclophosphamide (60 mg/kg)', 'ite', '|x', 'y', 'J', 'J', '|', '|', 'a', 'p', ')', 'J']\n",
            "['Fludarabine (25 mg/m”', 'fo', 'fo', '|x', '|x', '[xX', 'x', '|', 'a', 'pS', '—', '[']\n",
            "['Anti-VEGFR2 CAR CD8+ PBL', 'yt', 'ft', 'y', '|', 'J', '_', 'xT', 'a', 'PS', '[', 'T']\n",
            "['Aldesleukin', '|', '|', '|', 'y', 'y', 'a', 'xX? |', 'xX', 'x', 'px”', '|X']\n",
            "['Filgrastim® 5 mceg/kg/day)', 'yy', 't', 'y', '|,', 'y', '|', '|', 'x |', 'x', 'xX”', '[Xx']\n",
            "['TMP/SMX', 'x', '1x”', '1x', 'x', 'x', 'x', 'x |', 'x |', 'x', '1x', '[x']\n",
            "['160mg/800mg (example)', '|', '', '', '', '', '', '', '', '', '', '']\n",
            "['Fluconazole” (400 mg po)', '|', '|', '|', 'y', 'J', 'a', 'xX |', 'x', 'x', '[x', '[x']\n",
            "['Valacyclovir po or Acyclovir Iv°', ',', ',', ',', ',', ',', '|', 'x |', 'xX', 'x', 'Ix”', 'TX']\n",
            "No tables detected in the image.\n",
            "No tables detected in the image.\n",
            "No tables detected in the image.\n",
            "No tables detected in the image.\n",
            "No tables detected in the image.\n"
          ]
        },
        {
          "output_type": "stream",
          "name": "stderr",
          "text": [
            "0it [00:00, ?it/s]\n"
          ]
        },
        {
          "output_type": "stream",
          "name": "stdout",
          "text": [
            "No tables detected in the image.\n",
            "No tables detected in the image.\n",
            "No tables detected in the image.\n",
            "No tables detected in the image.\n"
          ]
        },
        {
          "output_type": "stream",
          "name": "stderr",
          "text": [
            "  0%|          | 0/1 [00:00<?, ?it/s]\n",
            "  0%|          | 0/8 [00:00<?, ?it/s]\u001b[A\n",
            " 12%|█▎        | 1/8 [00:00<00:04,  1.68it/s]\u001b[A\n",
            " 25%|██▌       | 2/8 [00:01<00:03,  1.61it/s]\u001b[A\n",
            " 38%|███▊      | 3/8 [00:01<00:02,  1.71it/s]\u001b[A\n",
            " 50%|█████     | 4/8 [00:02<00:02,  1.73it/s]\u001b[A\n",
            " 62%|██████▎   | 5/8 [00:02<00:01,  1.73it/s]\u001b[A\n",
            " 75%|███████▌  | 6/8 [00:03<00:01,  1.84it/s]\u001b[A\n",
            " 88%|████████▊ | 7/8 [00:03<00:00,  1.86it/s]\u001b[A\n",
            "100%|██████████| 8/8 [00:04<00:00,  1.83it/s]\n",
            "100%|██████████| 1/1 [00:04<00:00,  4.40s/it]\n"
          ]
        },
        {
          "output_type": "stream",
          "name": "stdout",
          "text": [
            "Max number of columns: 4\n",
            "['Target\\nLesions', 'Non-\\nTarget\\nT esions', 'New\\nLesions', 'Overall\\nResponse']\n",
            "['“CR J.', 'CR |.', 'No\\nNo |.', 'CR']\n",
            "['my', 'Non-\\nCR/Non-\\nPD', 'Ny', 'PR']\n",
            "['—pR |', 'Non-PD', 'No |', 'PR']\n",
            "['sp |...', 'Non-PD', 'No |.', 'SD']\n",
            "['“PDT', 'Any', 'Yes or\\nNo', 'PD']\n",
            "['Any', 'PD', 'Yes or\\nNo', 'PD']\n",
            "['Any', 'Any', 'Yes', 'PD']\n",
            "No tables detected in the image.\n",
            "No tables detected in the image.\n",
            "No tables detected in the image.\n",
            "No tables detected in the image.\n",
            "No tables detected in the image.\n"
          ]
        },
        {
          "output_type": "stream",
          "name": "stderr",
          "text": [
            "0it [00:00, ?it/s]\n"
          ]
        },
        {
          "output_type": "stream",
          "name": "stdout",
          "text": [
            "No tables detected in the image.\n",
            "No tables detected in the image.\n",
            "No tables detected in the image.\n",
            "No tables detected in the image.\n",
            "No tables detected in the image.\n"
          ]
        },
        {
          "output_type": "stream",
          "name": "stderr",
          "text": [
            "0it [00:00, ?it/s]\n"
          ]
        },
        {
          "output_type": "stream",
          "name": "stdout",
          "text": [
            "No tables detected in the image.\n",
            "No tables detected in the image.\n",
            "No tables detected in the image.\n",
            "No tables detected in the image.\n",
            "No tables detected in the image.\n"
          ]
        },
        {
          "output_type": "stream",
          "name": "stderr",
          "text": [
            "0it [00:00, ?it/s]\n"
          ]
        },
        {
          "output_type": "stream",
          "name": "stdout",
          "text": [
            "No tables detected in the image.\n",
            "No tables detected in the image.\n",
            "No tables detected in the image.\n"
          ]
        },
        {
          "output_type": "stream",
          "name": "stderr",
          "text": [
            "  0%|          | 0/2 [00:00<?, ?it/s]\n",
            "  0%|          | 0/4 [00:00<?, ?it/s]\u001b[A\n",
            " 25%|██▌       | 1/4 [00:00<00:01,  1.66it/s]\u001b[A\n",
            " 50%|█████     | 2/4 [00:01<00:01,  1.63it/s]\u001b[A\n",
            " 75%|███████▌  | 3/4 [00:01<00:00,  1.54it/s]\u001b[A\n",
            "100%|██████████| 4/4 [00:02<00:00,  1.50it/s]\n",
            " 50%|█████     | 1/2 [00:02<00:02,  2.68s/it]"
          ]
        },
        {
          "output_type": "stream",
          "name": "stdout",
          "text": [
            "Max number of columns: 5\n",
            "['Treatment*', 'Total', 'PR (%)', 'CR(%)', 'OR (%)']\n",
            "['200cG TBI', '25', '11 (44.0%)', '2 (8.0%)', '13\\n(52 0%)']\n",
            "['(52+, 48+, 42+, 14, 10,\\n6, 5, 5, 4, 3, 3)', '(56+, 45+)', '(wey 707', '', '']\n",
            "['(33+, 26+, 26, 26+, 13,\\n7, 6, 6, 5, 4, 3)', '(36+, 19, 33+,\\n32+, 27+, 26+,\\n95+)', 'A wf', '', '']\n"
          ]
        },
        {
          "output_type": "stream",
          "name": "stderr",
          "text": [
            "\n",
            "  0%|          | 0/20 [00:00<?, ?it/s]\u001b[A\n",
            "  5%|▌         | 1/20 [00:00<00:11,  1.68it/s]\u001b[A\n",
            " 10%|█         | 2/20 [00:01<00:09,  1.81it/s]\u001b[A\n",
            " 15%|█▌        | 3/20 [00:01<00:08,  1.96it/s]\u001b[A\n",
            " 20%|██        | 4/20 [00:02<00:08,  1.99it/s]\u001b[A\n",
            " 25%|██▌       | 5/20 [00:02<00:07,  2.01it/s]\u001b[A\n",
            " 30%|███       | 6/20 [00:03<00:06,  2.03it/s]\u001b[A\n",
            " 35%|███▌      | 7/20 [00:03<00:06,  2.06it/s]\u001b[A\n",
            " 40%|████      | 8/20 [00:03<00:05,  2.08it/s]\u001b[A\n",
            " 45%|████▌     | 9/20 [00:04<00:05,  2.06it/s]\u001b[A\n",
            " 50%|█████     | 10/20 [00:04<00:04,  2.02it/s]\u001b[A\n",
            " 55%|█████▌    | 11/20 [00:05<00:04,  2.07it/s]\u001b[A\n",
            " 60%|██████    | 12/20 [00:05<00:03,  2.11it/s]\u001b[A\n",
            " 65%|██████▌   | 13/20 [00:06<00:03,  2.04it/s]\u001b[A\n",
            " 70%|███████   | 14/20 [00:07<00:03,  1.72it/s]\u001b[A\n",
            " 75%|███████▌  | 15/20 [00:08<00:03,  1.27it/s]\u001b[A\n",
            " 80%|████████  | 16/20 [00:09<00:03,  1.16it/s]\u001b[A\n",
            " 85%|████████▌ | 17/20 [00:10<00:02,  1.15it/s]\u001b[A\n",
            " 90%|█████████ | 18/20 [00:11<00:01,  1.20it/s]\u001b[A\n",
            " 95%|█████████▌| 19/20 [00:11<00:00,  1.33it/s]\u001b[A\n",
            "100%|██████████| 20/20 [00:12<00:00,  1.63it/s]\n",
            "100%|██████████| 2/2 [00:14<00:00,  7.48s/it]\n"
          ]
        },
        {
          "output_type": "stream",
          "name": "stdout",
          "text": [
            "Max number of columns: 4\n",
            "['Attribute\\nmeasured', 'Duration,\\nNumber or\\nType', 'M\\nPat', 'umber\\nof\\n\\ntients\\n(%)']\n",
            "['Days in\\nHospital!', '6-10', '6', '(178)']\n",
            "['11l=-L5', '18', '(51%)', '']\n",
            "['1o-Z20', '4a', '(Lbs)', '']\n",
            "['417-49', 'i', '(42U0)', '']\n",
            "['pRBC\\nTransfusions', '0', '2', '(6%)']\n",
            "['1-5', '18', '(51%)', '']\n",
            "['6-10', '13', '(37%)', '']\n",
            "['ii Tis', '~', '»\\\\O0)}', '']\n",
            "['Platelet\\nTransfusions', '0', '6', '(17%)']\n",
            "['ae)', 'ak', '(60%)', '']\n",
            "['6-10', '2S', '(14%)', '']\n",
            "['een Ren ne ee', 'ae', 'Rie ORY', '']\n",
            "['SE Se a ae ee\\nTnfections', 'peer eee\\nzoster', 'a', 'eee']\n",
            "['SE ne ee ee', 'SR Ee\\nPneumocystis\\npneumonia', '2', '(6%)']\n",
            "['pneumonia\\nEBV-B cell\\n7 esnecha onein-es', '1', '(3%)', '']\n",
            "['RSV\\npneumonia', '1', '(3%)', '']\n",
            "['Other', 'Febrile', '13', '(37%)']\n",
            "['neutropenia\\nIntubated\\neo we', '3', '(9%)', '']\n",
            "['Tor ayspnea\\nCortical\\nblindness', '1', '(3%)', '']\n",
            "No tables detected in the image.\n",
            "No tables detected in the image.\n",
            "No tables detected in the image.\n",
            "No tables detected in the image.\n",
            "No tables detected in the image.\n"
          ]
        },
        {
          "output_type": "stream",
          "name": "stderr",
          "text": [
            "0it [00:00, ?it/s]\n"
          ]
        },
        {
          "output_type": "stream",
          "name": "stdout",
          "text": [
            "No tables detected in the image.\n",
            "No tables detected in the image.\n",
            "No tables detected in the image.\n"
          ]
        },
        {
          "output_type": "stream",
          "name": "stderr",
          "text": [
            "  0%|          | 0/2 [00:00<?, ?it/s]\n",
            "  0%|          | 0/26 [00:00<?, ?it/s]\u001b[A\n",
            "  4%|▍         | 1/26 [00:00<00:15,  1.64it/s]\u001b[A\n",
            "  8%|▊         | 2/26 [00:01<00:12,  1.86it/s]\u001b[A\n",
            " 12%|█▏        | 3/26 [00:01<00:12,  1.90it/s]\u001b[A\n",
            " 15%|█▌        | 4/26 [00:02<00:11,  1.96it/s]\u001b[A\n",
            " 19%|█▉        | 5/26 [00:02<00:10,  1.98it/s]\u001b[A\n",
            " 23%|██▎       | 6/26 [00:03<00:09,  2.00it/s]\u001b[A\n",
            " 27%|██▋       | 7/26 [00:03<00:09,  2.00it/s]\u001b[A\n",
            " 31%|███       | 8/26 [00:04<00:09,  1.94it/s]\u001b[A\n",
            " 35%|███▍      | 9/26 [00:04<00:08,  1.94it/s]\u001b[A\n",
            " 38%|███▊      | 10/26 [00:05<00:08,  1.95it/s]\u001b[A\n",
            " 42%|████▏     | 11/26 [00:05<00:07,  1.98it/s]\u001b[A\n",
            " 46%|████▌     | 12/26 [00:06<00:07,  2.00it/s]\u001b[A\n",
            " 50%|█████     | 13/26 [00:06<00:06,  1.87it/s]\u001b[A\n",
            " 54%|█████▍    | 14/26 [00:07<00:06,  1.89it/s]\u001b[A\n",
            " 58%|█████▊    | 15/26 [00:07<00:05,  1.95it/s]\u001b[A\n",
            " 62%|██████▏   | 16/26 [00:08<00:05,  1.99it/s]\u001b[A\n",
            " 65%|██████▌   | 17/26 [00:08<00:04,  2.01it/s]\u001b[A\n",
            " 69%|██████▉   | 18/26 [00:09<00:03,  2.00it/s]\u001b[A\n",
            " 73%|███████▎  | 19/26 [00:09<00:03,  2.01it/s]\u001b[A\n",
            " 77%|███████▋  | 20/26 [00:10<00:03,  1.98it/s]\u001b[A\n",
            " 81%|████████  | 21/26 [00:11<00:03,  1.56it/s]\u001b[A\n",
            " 85%|████████▍ | 22/26 [00:12<00:02,  1.42it/s]\u001b[A\n",
            " 88%|████████▊ | 23/26 [00:12<00:02,  1.30it/s]\u001b[A\n",
            " 92%|█████████▏| 24/26 [00:13<00:01,  1.21it/s]\u001b[A\n",
            " 96%|█████████▌| 25/26 [00:14<00:00,  1.36it/s]\u001b[A\n",
            "100%|██████████| 26/26 [00:14<00:00,  1.74it/s]\n",
            " 50%|█████     | 1/2 [00:14<00:14, 14.95s/it]"
          ]
        },
        {
          "output_type": "stream",
          "name": "stdout",
          "text": [
            "Max number of columns: 4\n",
            "['Chills', '52', 'Bilirubinemia', '40']\n",
            "['Fever', '29', 'Creatinine increase', '33']\n",
            "['Malaise', '27', 'Peripheral edema', '28']\n",
            "['Asthenia', '23', 'SGOT increase', '23']\n",
            "['Infection', '13', 'Weight gain', '16']\n",
            "['Pain', '42', 'Edema —', '15']\n",
            "['Abdominal pain', '11', 'Acidosis', '12']\n",
            "['Abdomen enlarged', '10', 'Hypomagnesemia', '12']\n",
            "['Cardiovascular', 'Hypocalcemia', '11', '']\n",
            "['Hypotension', '71', 'Alkaline phosphatase in', '10']\n",
            "['Tachycardia', '23', 'Nervous :', '']\n",
            "['Vasodilation', '13', 'Confusion', '34']\n",
            "['Supraventricular tachycar', 'lia 12', 'Somnolence', '22:']\n",
            "['Arrhythmia', '10', 'Dizziness', '11']\n",
            "['Digestive', 'Respiratory', '', '']\n",
            "['Diarrhea', '67', 'Dvsonea', '43']\n",
            "['Vomiting', '50', 'Lung disorder?', '24']\n",
            "['Nausea', '35', 'Respiratory disorder®', '11']\n",
            "['Stomatitis', '22', 'Cough increase', '11']\n",
            "['Anorexia', '20', 'Rhinitis', '10']\n",
            "['Nausea and vomiting', '19', 'Skin and Appendages', '']\n",
            "['Hemic and Lymphatic', 'Rash', '42', '']\n",
            "['Thrombocytopenia', '37', 'Pruritus', '24']\n",
            "['Anemia', '29', 'Exfoliative dermatitis', '18']\n",
            "['Leukopenia', '16', 'Urogenital', '']\n",
            "['Oliguria', '6.', '', '']\n"
          ]
        },
        {
          "output_type": "stream",
          "name": "stderr",
          "text": [
            "\n",
            "  0%|          | 0/13 [00:00<?, ?it/s]\u001b[A\n",
            "  8%|▊         | 1/13 [00:00<00:09,  1.31it/s]\u001b[A\n",
            " 15%|█▌        | 2/13 [00:01<00:08,  1.30it/s]\u001b[A\n",
            " 23%|██▎       | 3/13 [00:02<00:10,  1.01s/it]\u001b[A\n",
            " 31%|███       | 4/13 [00:04<00:11,  1.24s/it]\u001b[A\n",
            " 38%|███▊      | 5/13 [00:06<00:10,  1.36s/it]\u001b[A\n",
            " 46%|████▌     | 6/13 [00:07<00:08,  1.27s/it]\u001b[A\n",
            " 54%|█████▍    | 7/13 [00:07<00:06,  1.07s/it]\u001b[A\n",
            " 62%|██████▏   | 8/13 [00:08<00:04,  1.04it/s]\u001b[A\n",
            " 69%|██████▉   | 9/13 [00:09<00:03,  1.07it/s]\u001b[A\n",
            " 77%|███████▋  | 10/13 [00:10<00:03,  1.12s/it]\u001b[A\n",
            " 85%|████████▍ | 11/13 [00:12<00:02,  1.23s/it]\u001b[A\n",
            " 92%|█████████▏| 12/13 [00:13<00:01,  1.16s/it]\u001b[A\n",
            "100%|██████████| 13/13 [00:13<00:00,  1.07s/it]\n",
            "100%|██████████| 2/2 [00:28<00:00, 14.45s/it]\n"
          ]
        },
        {
          "output_type": "stream",
          "name": "stdout",
          "text": [
            "Max number of columns: 5\n",
            "['Expected toxicity |', 'Expected |\\norade', 'Supportive |\\nMeasures', 'Stop Cycle* |', 'Stop Treatment **']\n",
            "['Chills', '# ]', 'IV Meperidine 25-50\\nme. IV glh, prn,', 'eT', 'No']\n",
            "['Fever', 'i', 'Acetaminophen 650\\nmg, po, q4h;\\nIndomethicin 50-75\\nmo nn ah', 'eT', 'No']\n",
            "['Pruritis', '|', '—o? Fn?\\nHydroxyzine HCL\\n10-20 mg po q6h,\\nprn;\\nDiphenhydramine\\nHCL25-50 mg, po,\\na4h. prn', '|', 'No']\n",
            "['Nausea/ Vomiting/\\nAnorexia', '|', 'Ondansetron 10 mg,\\nIV, q8h, prn;\\nGranisetron 0.01\\nmg/kg IV daily prn;\\nDroperidol | mg, IV\\nq4-6h, prn;\\nProchlorperazine 25\\nmg pr, prn or 10 mg\\nTV a6h orn', '|', 'No']\n",
            "['Diarrhea', '|', 'Loperamide 2mg, po,\\nq3h, prn;\\nDiphenoxylate HCl\\n2.5 mg and atropine\\nsulfate 25 mcg, po,\\nq3h, prn; codeine\\nsulfate 30-60 mg, po,\\na4h. prn', 'If uncontrolled after\\n24 hours despite all\\nsupportive measures', 'No']\n",
            "['Malaise', '3 or 4', 'Bedrest', 'If other toxicities\\noccur\\nsimultaneously', 'No']\n",
            "['Hyperbilirubinemia', '3 or4', 'Observation', 'If other toxicities\\noccur\\nsimultaneously', 'No']\n",
            "['Anemia', '3 or 4', 'Transfusion with\\nPRBCs', 'If uncontrolled\\ndespite all\\nsupportive measures', 'No']\n",
            "['Thrombocytopenia', '3or4', '‘Transfusion with\\nplatelets', 'If uncontrolled\\ndespite all\\nsupportive measures', 'No']\n",
            "['Edema/Weight gain', '3 |\\n3', 'Diuretics prn', 'No\\n— No', 'No']\n",
            "['Hypotension |', '|', 'Fluid resuscitation\\nVasopressor support', 'If uncontrolled\\ndespite all\\nsupportive measures', 'No']\n",
            "['11-C-0013', '65', '', '', '']\n"
          ]
        },
        {
          "output_type": "stream",
          "name": "stderr",
          "text": [
            "  0%|          | 0/3 [00:00<?, ?it/s]\n",
            "  0%|          | 0/14 [00:00<?, ?it/s]\u001b[A\n",
            "  7%|▋         | 1/14 [00:00<00:09,  1.42it/s]\u001b[A\n",
            " 14%|█▍        | 2/14 [00:01<00:08,  1.39it/s]\u001b[A\n",
            " 21%|██▏       | 3/14 [00:02<00:07,  1.46it/s]\u001b[A\n",
            " 29%|██▊       | 4/14 [00:02<00:06,  1.51it/s]\u001b[A\n",
            " 36%|███▌      | 5/14 [00:03<00:06,  1.45it/s]\u001b[A\n",
            " 43%|████▎     | 6/14 [00:04<00:06,  1.26it/s]\u001b[A\n",
            " 50%|█████     | 7/14 [00:05<00:06,  1.11it/s]\u001b[A\n",
            " 57%|█████▋    | 8/14 [00:06<00:06,  1.02s/it]\u001b[A\n",
            " 64%|██████▍   | 9/14 [00:07<00:05,  1.02s/it]\u001b[A\n",
            " 71%|███████▏  | 10/14 [00:08<00:03,  1.11it/s]\u001b[A\n",
            " 79%|███████▊  | 11/14 [00:09<00:02,  1.15it/s]\u001b[A\n",
            " 86%|████████▌ | 12/14 [00:10<00:01,  1.11it/s]\u001b[A\n",
            " 93%|█████████▎| 13/14 [00:11<00:00,  1.17it/s]\u001b[A\n",
            "100%|██████████| 14/14 [00:11<00:00,  1.20it/s]\n",
            " 33%|███▎      | 1/3 [00:11<00:23, 11.65s/it]"
          ]
        },
        {
          "output_type": "stream",
          "name": "stdout",
          "text": [
            "Max number of columns: 5\n",
            "['Dyspnea |', '3 or4', 'Oxygen or ventilatory\\nsupport', 'If requires\\nventilatory support', 'No']\n",
            "['Oliguria', '3 0r4', 'Fluid boluses or\\ndopamine at renal\\ndoses', 'If uncontrolled\\ndespite all\\nsupportive measures', 'No']\n",
            "['Increased creatinine', '3 o0r4', 'Observation', 'Yes (grade 4)', 'No']\n",
            "['Renal failure', '3 or4', 'Dialysis', 'Yes', 'Yes']\n",
            "['Pleural effusion', '3', 'Thoracentesis', 'If uncontrolled\\ndespite all\\nsupportive measures', 'No']\n",
            "['Bowel perforation', '3', 'Surgical intervention', '7 Yes', 'Yes']\n",
            "['Contiaan', '3', 'Observation', 'Yes', 'No']\n",
            "['Somnolence', '3 or 4', 'Intubation for airway\\nnratectian', 'Yes', 'Yes']\n",
            "['Elevated Troponin\\nlevels', '3 or 4', 'Observation', 'Yes', 'If changes in LV\\nfunction have not\\nimproved to baseline\\nby next dose']\n",
            "['Myocardial\\nInfarction', '4', 'Supportive care', 'Yes', 'Yes']\n",
            "['Elevated\\ntransaminases', '3 or 4', 'Observation', 'For grade 4 without\\nliver metastases', 'If changes have not\\nimproved to baseline\\nby next dose']\n",
            "['Hyperbiirubinemia', '3 Ore', 'Observation', 'For grade 4 without\\nliver metastases', 'if changes nave not\\nimproved to baseline\\nby next dose']\n",
            "['Electrolyte\\nimbalances', '3 or 4', 'Electrolyte\\nreplacement', 'If uncontrolled\\ndespite all\\nsupportive measures', 'No']\n",
            "['Neutropenia', '— 4', 'Observation', 'No', 'No']\n"
          ]
        },
        {
          "output_type": "stream",
          "name": "stderr",
          "text": [
            "\n",
            "  0%|          | 0/45 [00:00<?, ?it/s]\u001b[A\n",
            "  2%|▏         | 1/45 [00:01<00:45,  1.04s/it]\u001b[A\n",
            "  4%|▍         | 2/45 [00:02<00:45,  1.06s/it]\u001b[A\n",
            "  7%|▋         | 3/45 [00:03<00:46,  1.10s/it]\u001b[A\n",
            "  9%|▉         | 4/45 [00:04<00:44,  1.07s/it]\u001b[A\n",
            " 11%|█         | 5/45 [00:05<00:44,  1.12s/it]\u001b[A\n",
            " 13%|█▎        | 6/45 [00:07<00:50,  1.28s/it]\u001b[A\n",
            " 16%|█▌        | 7/45 [00:08<00:54,  1.45s/it]\u001b[A\n",
            " 18%|█▊        | 8/45 [00:10<00:52,  1.43s/it]\u001b[A\n",
            " 20%|██        | 9/45 [00:11<00:46,  1.29s/it]\u001b[A\n",
            " 22%|██▏       | 10/45 [00:12<00:42,  1.21s/it]\u001b[A\n",
            " 24%|██▍       | 11/45 [00:13<00:39,  1.15s/it]\u001b[A\n",
            " 27%|██▋       | 12/45 [00:14<00:37,  1.14s/it]\u001b[A\n",
            " 29%|██▉       | 13/45 [00:15<00:35,  1.10s/it]\u001b[A\n",
            " 31%|███       | 14/45 [00:16<00:33,  1.09s/it]\u001b[A\n",
            " 33%|███▎      | 15/45 [00:17<00:31,  1.07s/it]\u001b[A\n",
            " 36%|███▌      | 16/45 [00:18<00:31,  1.10s/it]\u001b[A\n",
            " 38%|███▊      | 17/45 [00:19<00:32,  1.15s/it]\u001b[A\n",
            " 40%|████      | 18/45 [00:21<00:35,  1.32s/it]\u001b[A\n",
            " 42%|████▏     | 19/45 [00:23<00:38,  1.47s/it]\u001b[A\n",
            " 44%|████▍     | 20/45 [00:24<00:33,  1.33s/it]\u001b[A\n",
            " 47%|████▋     | 21/45 [00:25<00:29,  1.22s/it]\u001b[A\n",
            " 49%|████▉     | 22/45 [00:26<00:26,  1.15s/it]\u001b[A\n",
            " 51%|█████     | 23/45 [00:27<00:24,  1.13s/it]\u001b[A\n",
            " 53%|█████▎    | 24/45 [00:28<00:22,  1.08s/it]\u001b[A\n",
            " 56%|█████▌    | 25/45 [00:29<00:21,  1.09s/it]\u001b[A\n",
            " 58%|█████▊    | 26/45 [00:30<00:20,  1.09s/it]\u001b[A\n",
            " 60%|██████    | 27/45 [00:31<00:19,  1.09s/it]\u001b[A\n",
            " 62%|██████▏   | 28/45 [00:32<00:18,  1.07s/it]\u001b[A\n",
            " 64%|██████▍   | 29/45 [00:34<00:19,  1.21s/it]\u001b[A\n",
            " 67%|██████▋   | 30/45 [00:36<00:22,  1.50s/it]\u001b[A\n",
            " 69%|██████▉   | 31/45 [00:38<00:21,  1.54s/it]\u001b[A\n",
            " 71%|███████   | 32/45 [00:39<00:18,  1.41s/it]\u001b[A\n",
            " 73%|███████▎  | 33/45 [00:40<00:15,  1.33s/it]\u001b[A\n",
            " 76%|███████▌  | 34/45 [00:41<00:13,  1.22s/it]\u001b[A\n",
            " 78%|███████▊  | 35/45 [00:42<00:11,  1.18s/it]\u001b[A\n",
            " 80%|████████  | 36/45 [00:43<00:10,  1.17s/it]\u001b[A\n",
            " 82%|████████▏ | 37/45 [00:44<00:09,  1.14s/it]\u001b[A\n",
            " 84%|████████▍ | 38/45 [00:45<00:07,  1.09s/it]\u001b[A\n",
            " 87%|████████▋ | 39/45 [00:46<00:06,  1.04s/it]\u001b[A\n",
            " 89%|████████▉ | 40/45 [00:47<00:05,  1.07s/it]\u001b[A\n",
            " 91%|█████████ | 41/45 [00:49<00:05,  1.30s/it]\u001b[A\n",
            " 93%|█████████▎| 42/45 [00:51<00:04,  1.43s/it]\u001b[A\n",
            " 96%|█████████▌| 43/45 [00:52<00:02,  1.40s/it]\u001b[A\n",
            " 98%|█████████▊| 44/45 [00:53<00:01,  1.30s/it]\u001b[A\n",
            "100%|██████████| 45/45 [00:54<00:00,  1.22s/it]\n",
            " 67%|██████▋   | 2/3 [01:06<00:36, 36.98s/it]"
          ]
        },
        {
          "output_type": "stream",
          "name": "stdout",
          "text": [
            "Max number of columns: 9\n",
            "['TABLE |', '. Toxicity o)', '‘Treatment wi', 'h Interleukin-:', '', '', '', '', '']\n",
            "['Interleukin-2 Plus', 'Alone', 'TNF', 'a-IFN', 'MoAB', '_ YE', 'LAK', 'TIL', 'Total']\n",
            "['Number of Patients\\nNumber of Courses', '155\\n236', '38\\n85', '128\\n210', 'ae\\n35', '+ 19\\n30', '214\\n348', '66\\n95', '652°\\n1039']\n",
            "['ais eli', '76', 'm', '“Oo', 'e', 'sot', '22', '200', '']\n",
            "['ae\\nTdctienn', 'oer\\nsz', 'me\\n9', 'b inoed\\nWw', '=\\na', '=\\n>', 'aes.\\n>', 'bain\\nA', 'nid\\nwo']\n",
            "['Necrosis', '3', '9', 'i', '', '', '', '', '']\n",
            "['Reesiviosis', '', '', '', '', '', '', '', '']\n",
            "['Mucositis (requiring liquid diet)', '6', '7', 'a', '12', '2', '30', '', '']\n",
            "['Alimentation not possible', '1', '1', '2', '4', '', '', '', '']\n",
            "['Nausea and vomiting', '162', '42', '117', '14', '20', '263', '48', '666']\n",
            "['Diarrhea', '144', '38', '98', 'IS', '13', '250', '38', '396']\n",
            "['Hyperbilirubinemia (maximum/meg %)', 'Oo', 'a', '', '', '', '', '', '']\n",
            "['2.1-6.0 -', '126', '49', '97', '21', '18', '190', '46', '547']\n",
            "['6,1-10.0', '49\\nos', '3', '12\\nx', '8\\na', '9', '72\\nam', '26\\n~~', '179\\nas']\n",
            "['Wt', '20', '7.', '2', 'aU', '8', '6o', '', '']\n",
            "['Oliguna\\n<0 mi/8 hours', 'RI', '37', '67', '14', '9', '114', 'hy', '347']\n",
            "['a Te eae\\n<240 ml/24 hours', '19', '2', '3', '1', '12', '“5', '42', '']\n",
            "['Weight gain (% body weight)', '', '', '', '', '', '', '', '']\n",
            "['0.0-5.0', '106', '23', '65', '8', '9', '117', '49', '377']\n",
            "['10 1-150', 'BQ', '17', '”%', '4', '9', '62', '1§', '175']\n",
            "['15.1-20.0', 'a', '3', '8', '15', '3', '38', '', '']\n",
            "['Vr', '<<', '9', 'é', 'ad', '', '', '', '']\n",
            "['2.1-6.0\\nce, aie', '148\\nara', '43', '121', '20\\n-', '14', '237', '34\\np itd', '637']\n",
            "['Tissue ischemia', 'I', '<', '', '', '', '', '', '']\n",
            "['not intubated\\nx a oe', '7\\neae', '1', '2?\\nae', '4\\ned', '1', '28\\nper', '7', '67']\n",
            "['Bronchospasm\\nPleural effusion (requiring', '2', '2', '1', '4', '9', '', '', '']\n",
            "['Plcural CHusion (requiring\\nthoracentesis)', '4', '2', '7', '', '', '', '', '']\n",
            "['Somnolence', '99', '>', 'Bs 9', '6', '>', 'AS', 'g', '14']\n",
            "['SUES\\nCama', 'oF\\n9', 'ae\\nQ', '&\\n>', 'wd\\nQ', '=\\ns', 'ane\\n32', '', '']\n",
            "['{Loma\\nPS la DEE:', 'z\\na', 'i\\na', '6\\nA', '~', '<\\na', 'LJ\\naes', '2\\nae', '33\\ninate']\n",
            "['Disonentation\\nBe ee RE a se', 'oe\\naan', 'a\\nrae', 'ww\\nSe', 't', '4', 'oF', '10', 'aid']\n",
            "['Hypotension (requiring pressors)', '119', '16', '40', '17', '12', '259', '45', '508']\n",
            "['A dae Jee\\nee ae', '2\\nrT', '°\\n1', 'oe\\n£', '', '', '', '', '']\n",
            "['Myocardial infarction', '4', '1', '6', '', '', '', '', '']\n",
            "['ATT YUMAS:', 'to', '-', 'te', '2', 'oF', '0', '1', '']\n",
            "['Anema requiring tanstusion (numoer\\nunits transfused)', '', '', '', '', '', '', '', '']\n",
            "['i.', 'TF', '16', '53', '9', '6', '176', '40', '377']\n",
            "['6-10', '22', '5', '3', '2', '53', '9', '95', '']\n",
            "['Tl-I5', '4', '15', '4', '24', '', '', '', '']\n",
            "['16+', '1', '14', '', '', '', '', '', '']\n",
            "['Thrombocytopenia (minimum/mm’)', '', '', '', '', '', '', '', '']\n",
            "['<20,000', '“5', '2', '4', '6', 'Tt', '9', '131', '']\n",
            "['2,00 IOV UU\\nLAAN innnan,', 'oe\\ner', 'a\\nos', 'OL\\na', 'Lid\\nae', 'Me\\n°', '1OU\\n70', 'wv\\nany', '301\\nme']\n",
            "['OV,UU T= TU U0', 'a', '»', '10', 'S', 's', 'oe', '<8)', '']\n",
            "['Central line sepsis\\nDeath', '13\\n4', '©\\n1', '4', '36\\n3', '2\\n>', '63\\n10', '', '']\n"
          ]
        },
        {
          "output_type": "stream",
          "name": "stderr",
          "text": [
            "\n",
            "  0%|          | 0/13 [00:00<?, ?it/s]\u001b[A\n",
            "  8%|▊         | 1/13 [00:00<00:07,  1.64it/s]\u001b[A\n",
            " 15%|█▌        | 2/13 [00:01<00:07,  1.51it/s]\u001b[A\n",
            " 23%|██▎       | 3/13 [00:02<00:06,  1.45it/s]\u001b[A\n",
            " 31%|███       | 4/13 [00:02<00:06,  1.44it/s]\u001b[A\n",
            " 38%|███▊      | 5/13 [00:03<00:05,  1.38it/s]\u001b[A\n",
            " 46%|████▌     | 6/13 [00:04<00:05,  1.35it/s]\u001b[A\n",
            " 54%|█████▍    | 7/13 [00:04<00:04,  1.38it/s]\u001b[A\n",
            " 62%|██████▏   | 8/13 [00:05<00:03,  1.41it/s]\u001b[A\n",
            " 69%|██████▉   | 9/13 [00:06<00:02,  1.44it/s]\u001b[A\n",
            " 77%|███████▋  | 10/13 [00:07<00:02,  1.19it/s]\u001b[A\n",
            " 85%|████████▍ | 11/13 [00:08<00:01,  1.05it/s]\u001b[A\n",
            " 92%|█████████▏| 12/13 [00:09<00:01,  1.04s/it]\u001b[A\n",
            "100%|██████████| 13/13 [00:10<00:00,  1.21it/s]\n",
            "100%|██████████| 3/3 [01:17<00:00, 25.71s/it]\n"
          ]
        },
        {
          "output_type": "stream",
          "name": "stdout",
          "text": [
            "Max number of columns: 5\n",
            "['Test', 'Method', 'Limits', 'Result', 'Initials/\\nDate']\n",
            "['Cell viability’', 'trypan blue exclusion', '>70%', ',', '— |.']\n",
            "['Total viable cell\\nnumber!', 'visual microscopic count', 'Between 10° and\\n5x 10!° cells', 'po', 'fo']\n",
            "['Identity', 'FACs', '> 80 % CD3+CD8+\\nafter transduction on\\nREP cells', '}', 'of']\n",
            "['Tumor reactivity”', 'y-IFN release vs.\\nVEGER2 cell line', '>200 pg/ml and > 2\\ntimes background', 'a', 'fp']\n",
            "['AA...\\nCAR expression', 'FACS analysis of the\\ntransduced cells', 'PBL, >30%', '}', 'fo']\n",
            "['Microbiological\\nstudies', 'gram stain a', 'no micro-organisms\\nseen', 'jo', 'fo']\n",
            "['aerobic culture™*', 'no growth', 'Jo', 'fe', '']\n",
            "['fungal culture”', 'no growth', 'Jo', 'fe', '']\n",
            "['anaerobic culture“', 'no growth', 'Jo', 'fp', '']\n",
            "['mycoplasma test”', 'negative', 'Jo', 'fe', '']\n",
            "['Endotoxin', 'limulus assay', '<5 E.U./kg', '.', 'pO']\n",
            "['RCR', 'S+L- Assay*\\nRCR-PCR®', 'negative', 'fo', 'fp']\n",
            "All tables extracted and saved to /content/drive/MyDrive/output_Extracted/Copy of NCT01218867.json\n",
            "No tables detected in the image.\n",
            "No tables detected in the image.\n",
            "No tables detected in the image.\n"
          ]
        },
        {
          "output_type": "stream",
          "name": "stderr",
          "text": [
            "  0%|          | 0/2 [00:00<?, ?it/s]\n",
            "  0%|          | 0/2 [00:00<?, ?it/s]\u001b[A\n",
            " 50%|█████     | 1/2 [00:00<00:00,  1.61it/s]\u001b[A\n",
            "100%|██████████| 2/2 [00:01<00:00,  1.54it/s]\n",
            " 50%|█████     | 1/2 [00:01<00:01,  1.32s/it]"
          ]
        },
        {
          "output_type": "stream",
          "name": "stdout",
          "text": [
            "Max number of columns: 5\n",
            "['Product', '| Phase |', 'Indication', '| Release Date', 'Page Number']\n",
            "['JCAROI5', '2', 'RR adult ALL', '14 Jul 2016', 'Page 2 of 130']\n"
          ]
        },
        {
          "output_type": "stream",
          "name": "stderr",
          "text": [
            "\n",
            "  0%|          | 0/2 [00:00<?, ?it/s]\u001b[A\n",
            " 50%|█████     | 1/2 [00:00<00:00,  1.50it/s]\u001b[A\n",
            "100%|██████████| 2/2 [00:01<00:00,  1.52it/s]\n",
            "100%|██████████| 2/2 [00:02<00:00,  1.32s/it]\n"
          ]
        },
        {
          "output_type": "stream",
          "name": "stdout",
          "text": [
            "Max number of columns: 5\n",
            "['Product', '| Phase |', 'Indication', '| Release Date', '| Page Number']\n",
            "['JCARO15', '2', 'R/R adult ALL', '14 Jul 2016', 'Page 3 of 131']\n",
            "No tables detected in the image.\n"
          ]
        },
        {
          "output_type": "stream",
          "name": "stderr",
          "text": [
            "  0%|          | 0/4 [00:00<?, ?it/s]\n",
            "  0%|          | 0/2 [00:00<?, ?it/s]\u001b[A\n",
            " 50%|█████     | 1/2 [00:01<00:01,  1.13s/it]\u001b[A\n",
            "100%|██████████| 2/2 [00:02<00:00,  1.06s/it]\n",
            " 25%|██▌       | 1/4 [00:02<00:06,  2.14s/it]"
          ]
        },
        {
          "output_type": "stream",
          "name": "stdout",
          "text": [
            "Max number of columns: 5\n",
            "['Product', '| Phase |', 'Indication', '| Release Date', 'Page Number']\n",
            "['JCAROI5', '2', 'R/R adult ALL', '14 Jul 2016', 'Page 4 of 131']\n"
          ]
        },
        {
          "output_type": "stream",
          "name": "stderr",
          "text": [
            "\n",
            "  0%|          | 0/2 [00:00<?, ?it/s]\u001b[A\n",
            " 50%|█████     | 1/2 [00:00<00:00,  1.60it/s]\u001b[A\n",
            "100%|██████████| 2/2 [00:01<00:00,  1.54it/s]\n",
            " 50%|█████     | 2/4 [00:03<00:03,  1.65s/it]"
          ]
        },
        {
          "output_type": "stream",
          "name": "stdout",
          "text": [
            "Max number of columns: 5\n",
            "['Product', '| Phase |', 'Indication', '| Release Date', 'Page Number']\n",
            "['JCAROI5', '2', 'R/R adult ALL', '14 Jul 2016', 'Page 5 of 131']\n"
          ]
        },
        {
          "output_type": "stream",
          "name": "stderr",
          "text": [
            "\n",
            "  0%|          | 0/2 [00:00<?, ?it/s]\u001b[A\n",
            " 50%|█████     | 1/2 [00:00<00:00,  1.56it/s]\u001b[A\n",
            "100%|██████████| 2/2 [00:01<00:00,  1.56it/s]\n",
            " 75%|███████▌  | 3/4 [00:04<00:01,  1.49s/it]"
          ]
        },
        {
          "output_type": "stream",
          "name": "stdout",
          "text": [
            "Max number of columns: 5\n",
            "['Product', '| Phase', 'Indication', '| Release Date', 'Page Number']\n",
            "['JCAROI5', '2', 'R/R adult ALL', '14 Jul 2016', 'Page 7 of 131']\n"
          ]
        },
        {
          "output_type": "stream",
          "name": "stderr",
          "text": [
            "\n",
            "  0%|          | 0/2 [00:00<?, ?it/s]\u001b[A\n",
            " 50%|█████     | 1/2 [00:00<00:00,  1.60it/s]\u001b[A\n",
            "100%|██████████| 2/2 [00:01<00:00,  1.56it/s]\n",
            "100%|██████████| 4/4 [00:06<00:00,  1.51s/it]\n"
          ]
        },
        {
          "output_type": "stream",
          "name": "stdout",
          "text": [
            "Max number of columns: 5\n",
            "['Product', '| Phase |', 'Indication', '| Release Date', 'Page Number']\n",
            "['JCAROI5', '2', 'R/R adult ALL', '14 Jul 2016', 'Page 8 of 131']\n"
          ]
        },
        {
          "output_type": "stream",
          "name": "stderr",
          "text": [
            "  0%|          | 0/5 [00:00<?, ?it/s]\n",
            "  0%|          | 0/2 [00:00<?, ?it/s]\u001b[A\n",
            " 50%|█████     | 1/2 [00:00<00:00,  1.66it/s]\u001b[A\n",
            "100%|██████████| 2/2 [00:01<00:00,  1.21it/s]\n",
            " 20%|██        | 1/5 [00:01<00:06,  1.66s/it]"
          ]
        },
        {
          "output_type": "stream",
          "name": "stdout",
          "text": [
            "Max number of columns: 5\n",
            "['Product', '| Phase |', 'Indication', '| Release Date', 'Page Number']\n",
            "['JCARO15', '2', 'R/R adult ALL', '14 Jul 2016', 'Page 9 of 131']\n"
          ]
        },
        {
          "output_type": "stream",
          "name": "stderr",
          "text": [
            "\n",
            "  0%|          | 0/2 [00:00<?, ?it/s]\u001b[A\n",
            " 50%|█████     | 1/2 [00:01<00:01,  1.13s/it]\u001b[A\n",
            "100%|██████████| 2/2 [00:02<00:00,  1.17s/it]\n",
            " 40%|████      | 2/5 [00:04<00:06,  2.07s/it]"
          ]
        },
        {
          "output_type": "stream",
          "name": "stdout",
          "text": [
            "Max number of columns: 5\n",
            "['Product', '| Phase |', 'Indication', 'Release Date', 'Page Number']\n",
            "['JCARO15', '2', 'R/R adult ALL', '14 Jul 2016', 'Page 10 of 131']\n"
          ]
        },
        {
          "output_type": "stream",
          "name": "stderr",
          "text": [
            "\n",
            "  0%|          | 0/2 [00:00<?, ?it/s]\u001b[A\n",
            " 50%|█████     | 1/2 [00:00<00:00,  1.07it/s]\u001b[A\n",
            "100%|██████████| 2/2 [00:01<00:00,  1.26it/s]\n",
            " 60%|██████    | 3/5 [00:05<00:03,  1.85s/it]"
          ]
        },
        {
          "output_type": "stream",
          "name": "stdout",
          "text": [
            "Max number of columns: 5\n",
            "['Product', '| Phase |', 'Indication', '| Release Date', 'Page Number']\n",
            "['JCAROI5', '2', 'R/R adult ALL', '14 Jul 2016', 'Page 11 of 131']\n"
          ]
        },
        {
          "output_type": "stream",
          "name": "stderr",
          "text": [
            "\n",
            "  0%|          | 0/2 [00:00<?, ?it/s]\u001b[A\n",
            " 50%|█████     | 1/2 [00:00<00:00,  1.58it/s]\u001b[A\n",
            "100%|██████████| 2/2 [00:01<00:00,  1.55it/s]\n",
            " 80%|████████  | 4/5 [00:06<00:01,  1.64s/it]"
          ]
        },
        {
          "output_type": "stream",
          "name": "stdout",
          "text": [
            "Max number of columns: 5\n",
            "['Product', '| Phase |', 'Indication', '| Release Date', 'Page Number']\n",
            "['JCAROI5', '2', 'R/R adult ALL', '14 Jul 2016', 'Page 12 of 131']\n"
          ]
        },
        {
          "output_type": "stream",
          "name": "stderr",
          "text": [
            "\n",
            "  0%|          | 0/2 [00:00<?, ?it/s]\u001b[A\n",
            " 50%|█████     | 1/2 [00:00<00:00,  1.58it/s]\u001b[A\n",
            "100%|██████████| 2/2 [00:01<00:00,  1.57it/s]\n",
            "100%|██████████| 5/5 [00:08<00:00,  1.64s/it]\n"
          ]
        },
        {
          "output_type": "stream",
          "name": "stdout",
          "text": [
            "Max number of columns: 5\n",
            "['Product', '| Phase |', 'Indication', '| Release Date', '| Page Number']\n",
            "['JCAROI5S', '2', 'R/R adult ALL', '14 Jul 2016', 'Page 13 of 131']\n",
            "No tables detected in the image.\n",
            "No tables detected in the image.\n"
          ]
        },
        {
          "output_type": "stream",
          "name": "stderr",
          "text": [
            "  0%|          | 0/3 [00:00<?, ?it/s]\n",
            "  0%|          | 0/2 [00:00<?, ?it/s]\u001b[A\n",
            " 50%|█████     | 1/2 [00:00<00:00,  1.61it/s]\u001b[A\n",
            "100%|██████████| 2/2 [00:01<00:00,  1.57it/s]\n",
            " 33%|███▎      | 1/3 [00:01<00:02,  1.28s/it]"
          ]
        },
        {
          "output_type": "stream",
          "name": "stdout",
          "text": [
            "Max number of columns: 5\n",
            "['Product', '| Phase |', 'Indication', 'Release Date', 'Page Number']\n",
            "['JCARO15', '2', 'R/R adult ALL', '14 Jul 2016', 'Page 14 of 131']\n"
          ]
        },
        {
          "output_type": "stream",
          "name": "stderr",
          "text": [
            "\n",
            "  0%|          | 0/2 [00:00<?, ?it/s]\u001b[A\n",
            " 50%|█████     | 1/2 [00:00<00:00,  1.40it/s]\u001b[A\n",
            "100%|██████████| 2/2 [00:01<00:00,  1.07it/s]\n",
            " 67%|██████▋   | 2/3 [00:03<00:01,  1.64s/it]"
          ]
        },
        {
          "output_type": "stream",
          "name": "stdout",
          "text": [
            "Max number of columns: 5\n",
            "['Product', '| Phase |', 'Indication', '| Release Date', 'Page Number']\n",
            "['JCAROI5', '2', 'R/R adult ALL', '14 Jul 2016', 'Page 15 of 131']\n"
          ]
        },
        {
          "output_type": "stream",
          "name": "stderr",
          "text": [
            "\n",
            "  0%|          | 0/2 [00:00<?, ?it/s]\u001b[A\n",
            " 50%|█████     | 1/2 [00:01<00:01,  1.12s/it]\u001b[A\n",
            "100%|██████████| 2/2 [00:02<00:00,  1.16s/it]\n",
            "100%|██████████| 3/3 [00:05<00:00,  1.84s/it]\n"
          ]
        },
        {
          "output_type": "stream",
          "name": "stdout",
          "text": [
            "Max number of columns: 5\n",
            "['Product', '| Phase |', 'Indication', '| Release Date', 'Page Number']\n",
            "['JCARO15', '2', 'R/R adult ALL', '14 Jul 2016', 'Page 18 of 131']\n"
          ]
        },
        {
          "output_type": "stream",
          "name": "stderr",
          "text": [
            "  0%|          | 0/7 [00:00<?, ?it/s]\n",
            "  0%|          | 0/2 [00:00<?, ?it/s]\u001b[A\n",
            " 50%|█████     | 1/2 [00:00<00:00,  1.58it/s]\u001b[A\n",
            "100%|██████████| 2/2 [00:01<00:00,  1.51it/s]\n",
            " 14%|█▍        | 1/7 [00:01<00:08,  1.33s/it]"
          ]
        },
        {
          "output_type": "stream",
          "name": "stdout",
          "text": [
            "Max number of columns: 5\n",
            "['Product', '| Phase |', 'Indication', '| Release Date', 'Page Number']\n",
            "['JCARO15', '2', 'R/R adult ALL', '14 Jul 2016', 'Page 19 of 131']\n"
          ]
        },
        {
          "output_type": "stream",
          "name": "stderr",
          "text": [
            "\n",
            "  0%|          | 0/2 [00:00<?, ?it/s]\u001b[A\n",
            " 50%|█████     | 1/2 [00:00<00:00,  1.58it/s]\u001b[A\n",
            "100%|██████████| 2/2 [00:01<00:00,  1.55it/s]\n",
            " 29%|██▊       | 2/7 [00:02<00:06,  1.31s/it]"
          ]
        },
        {
          "output_type": "stream",
          "name": "stdout",
          "text": [
            "Max number of columns: 5\n",
            "['Product', '| Phase', 'Indication', '| Release Date', 'Page Number']\n",
            "['JCAROI5', '2', 'R/R adult ALL', '14 Jul 2016', 'Page 20 of 131']\n"
          ]
        },
        {
          "output_type": "stream",
          "name": "stderr",
          "text": [
            "\n",
            "  0%|          | 0/6 [00:00<?, ?it/s]\u001b[A\n",
            " 17%|█▋        | 1/6 [00:00<00:02,  2.09it/s]\u001b[A\n",
            " 33%|███▎      | 2/6 [00:00<00:01,  2.03it/s]\u001b[A\n",
            " 50%|█████     | 3/6 [00:01<00:01,  1.94it/s]\u001b[A\n",
            " 67%|██████▋   | 4/6 [00:02<00:01,  1.62it/s]\u001b[A\n",
            " 83%|████████▎ | 5/6 [00:03<00:00,  1.38it/s]\u001b[A\n",
            "100%|██████████| 6/6 [00:04<00:00,  1.42it/s]\n",
            " 43%|████▎     | 3/7 [00:06<00:10,  2.65s/it]"
          ]
        },
        {
          "output_type": "stream",
          "name": "stdout",
          "text": [
            "Max number of columns: 4\n",
            "['Disease', 'Burden', '', '']\n",
            "['if', 'Low‘ (n=16)', 'High* (n=17)’', 'Total']\n",
            "['Complete remission®', '16/16 (100%)', '13/16 (81%)', '29/32 (91%)']\n",
            "['Complete molecular remission@', '12/16 (75%)', '11/12° (92%)', '23/28° (82%']\n",
            "['Severe CRS', '0/16 (0%)', 'TIT (41%)', '7/33 (21%)']\n",
            "['> Grade 3 neurotoxicity', '3/16 (19%)', 'T/17 (41%)', '10/33 (30%)']\n"
          ]
        },
        {
          "output_type": "stream",
          "name": "stderr",
          "text": [
            "\n",
            "  0%|          | 0/2 [00:00<?, ?it/s]\u001b[A\n",
            " 50%|█████     | 1/2 [00:01<00:01,  1.18s/it]\u001b[A\n",
            "100%|██████████| 2/2 [00:01<00:00,  1.02it/s]\n",
            " 57%|█████▋    | 4/7 [00:08<00:07,  2.39s/it]"
          ]
        },
        {
          "output_type": "stream",
          "name": "stdout",
          "text": [
            "Max number of columns: 5\n",
            "['Product', '| Phase |', 'Indication', '| Release Date', 'Page Number']\n",
            "['JCARO15', '2', 'R/R adult ALL', '14 Jul 2016', 'Page 21 of 131']\n"
          ]
        },
        {
          "output_type": "stream",
          "name": "stderr",
          "text": [
            "\n",
            "  0%|          | 0/2 [00:00<?, ?it/s]\u001b[A\n",
            " 50%|█████     | 1/2 [00:00<00:00,  1.55it/s]\u001b[A\n",
            "100%|██████████| 2/2 [00:01<00:00,  1.55it/s]\n",
            " 71%|███████▏  | 5/7 [00:10<00:03,  2.00s/it]"
          ]
        },
        {
          "output_type": "stream",
          "name": "stdout",
          "text": [
            "Max number of columns: 5\n",
            "['Product', '| Phase |', 'Indication', 'Release Date', 'Page Number']\n",
            "['JCARO15', '2', 'R/R adult ALL', '14 Jul 2016', 'Page 22 of 131']\n"
          ]
        },
        {
          "output_type": "stream",
          "name": "stderr",
          "text": [
            "\n",
            "  0%|          | 0/6 [00:00<?, ?it/s]\u001b[A\n",
            " 17%|█▋        | 1/6 [00:00<00:02,  2.09it/s]\u001b[A\n",
            " 33%|███▎      | 2/6 [00:01<00:02,  1.90it/s]\u001b[A\n",
            " 50%|█████     | 3/6 [00:01<00:01,  2.20it/s]\u001b[A\n",
            " 67%|██████▋   | 4/6 [00:01<00:00,  2.32it/s]\u001b[A\n",
            " 83%|████████▎ | 5/6 [00:02<00:00,  2.35it/s]\u001b[A\n",
            "100%|██████████| 6/6 [00:02<00:00,  2.19it/s]\n",
            " 86%|████████▌ | 6/7 [00:12<00:02,  2.25s/it]"
          ]
        },
        {
          "output_type": "stream",
          "name": "stdout",
          "text": [
            "Max number of columns: 3\n",
            "['Juno 015001\\n(data as of 01 July 2016)', 'MSKCC 09-114\\n(data as of 01 May 2016)', '']\n",
            "['Morphologic Subjects\\nCyclophosphamide alone\\n(N=14)', 'Morphologic Subjects’\\nCyclophosphamide alone\\n(N=23)', '']\n",
            "['sCRS', '2 14%)\"', '11 (48%)']\n",
            "['Grade >3 neurotoxicity', '3 (21%)', '8 (35%)']\n",
            "['Deaths due to toxicity', '0', '2 (9%)']\n",
            "['First infusion, median cell dose (range)\\n(x105/kg)', '0.93 (0.65, 1.43)', '2.52 (1.08, 4.32)']\n"
          ]
        },
        {
          "output_type": "stream",
          "name": "stderr",
          "text": [
            "\n",
            "  0%|          | 0/2 [00:00<?, ?it/s]\u001b[A\n",
            " 50%|█████     | 1/2 [00:00<00:00,  1.56it/s]\u001b[A\n",
            "100%|██████████| 2/2 [00:01<00:00,  1.51it/s]\n",
            "100%|██████████| 7/7 [00:14<00:00,  2.04s/it]\n"
          ]
        },
        {
          "output_type": "stream",
          "name": "stdout",
          "text": [
            "Max number of columns: 5\n",
            "['Product', '| Phase |', 'Indication', 'Release Date', 'Page Number']\n",
            "['JCARO15', '2', 'R/R adult ALL', '14 Jul 2016', 'Page 23 of 131']\n"
          ]
        },
        {
          "output_type": "stream",
          "name": "stderr",
          "text": [
            "  0%|          | 0/5 [00:00<?, ?it/s]\n",
            "  0%|          | 0/2 [00:00<?, ?it/s]\u001b[A\n",
            " 50%|█████     | 1/2 [00:01<00:01,  1.11s/it]\u001b[A\n",
            "100%|██████████| 2/2 [00:02<00:00,  1.18s/it]\n",
            " 20%|██        | 1/5 [00:02<00:09,  2.38s/it]"
          ]
        },
        {
          "output_type": "stream",
          "name": "stdout",
          "text": [
            "Max number of columns: 5\n",
            "['Product', '| Phase |', 'Indication', '| Release Date', 'Page Number']\n",
            "['JCARO15', '2', 'R/R adult ALL', '14 Jul 2016', 'Page 24 of 131']\n"
          ]
        },
        {
          "output_type": "stream",
          "name": "stderr",
          "text": [
            "\n",
            "  0%|          | 0/2 [00:00<?, ?it/s]\u001b[A\n",
            " 50%|█████     | 1/2 [00:00<00:00,  1.45it/s]\u001b[A\n",
            "100%|██████████| 2/2 [00:01<00:00,  1.47it/s]\n",
            " 40%|████      | 2/5 [00:03<00:05,  1.79s/it]"
          ]
        },
        {
          "output_type": "stream",
          "name": "stdout",
          "text": [
            "Max number of columns: 5\n",
            "['Product', '| Phase |', 'Indication', '| Release Date', 'Page Number']\n",
            "['JCARO15', '2', 'R/R adult ALL', '14 Jul 2016', 'Page 25 of 131']\n"
          ]
        },
        {
          "output_type": "stream",
          "name": "stderr",
          "text": [
            "\n",
            "  0%|          | 0/2 [00:00<?, ?it/s]\u001b[A\n",
            " 50%|█████     | 1/2 [00:00<00:00,  1.60it/s]\u001b[A\n",
            "100%|██████████| 2/2 [00:01<00:00,  1.55it/s]\n",
            " 60%|██████    | 3/5 [00:05<00:03,  1.57s/it]"
          ]
        },
        {
          "output_type": "stream",
          "name": "stdout",
          "text": [
            "Max number of columns: 5\n",
            "['Product', 'Phase |', 'Indication', '| Release Date', 'Page Number']\n",
            "['JCARO15', '2', 'R/R adult ALL', '14 Jul 2016', 'Page 26 of 131']\n"
          ]
        },
        {
          "output_type": "stream",
          "name": "stderr",
          "text": [
            "\n",
            "  0%|          | 0/2 [00:00<?, ?it/s]\u001b[A\n",
            " 50%|█████     | 1/2 [00:00<00:00,  1.58it/s]\u001b[A\n",
            "100%|██████████| 2/2 [00:01<00:00,  1.51it/s]\n",
            " 80%|████████  | 4/5 [00:06<00:01,  1.47s/it]"
          ]
        },
        {
          "output_type": "stream",
          "name": "stdout",
          "text": [
            "Max number of columns: 5\n",
            "['Product', '| Phase |', 'Indication', '| Release Date', '| Page Number']\n",
            "['JCARO15', '2', 'R/R adult ALL', '14 Jul 2016', 'Page 27 of 131']\n"
          ]
        },
        {
          "output_type": "stream",
          "name": "stderr",
          "text": [
            "\n",
            "  0%|          | 0/2 [00:00<?, ?it/s]\u001b[A\n",
            " 50%|█████     | 1/2 [00:00<00:00,  1.57it/s]\u001b[A\n",
            "100%|██████████| 2/2 [00:01<00:00,  1.58it/s]\n",
            "100%|██████████| 5/5 [00:07<00:00,  1.53s/it]\n"
          ]
        },
        {
          "output_type": "stream",
          "name": "stdout",
          "text": [
            "Max number of columns: 5\n",
            "['Product', '| Phase |', 'Indication', 'Release Date', 'Page Number']\n",
            "['JCAROI5', '2', 'R/R adult ALL', '14 Jul 2016', 'Page 28 of 131']\n"
          ]
        },
        {
          "output_type": "stream",
          "name": "stderr",
          "text": [
            "  0%|          | 0/8 [00:00<?, ?it/s]\n",
            "  0%|          | 0/5 [00:00<?, ?it/s]\u001b[A\n",
            " 20%|██        | 1/5 [00:01<00:07,  1.78s/it]\u001b[A\n",
            " 40%|████      | 2/5 [00:03<00:04,  1.48s/it]\u001b[A\n",
            " 60%|██████    | 3/5 [00:04<00:02,  1.35s/it]\u001b[A\n",
            " 80%|████████  | 4/5 [00:05<00:01,  1.28s/it]\u001b[A\n",
            "100%|██████████| 5/5 [00:06<00:00,  1.32s/it]\n",
            " 12%|█▎        | 1/8 [00:06<00:46,  6.63s/it]"
          ]
        },
        {
          "output_type": "stream",
          "name": "stdout",
          "text": [
            "Max number of columns: 10\n",
            "['Subject\\nID', 'Bone\\nmarrow\\nblast %', 'Dose #1\\n(CAR*/\\nkg)', 'sCRS', '> Grade 3\\nNeurotox', 'Day of\\nretreat', 'Bone\\nmarrow blast\\n% at retreat', 'Dose #2\\n(CAR*\\n/kg)', 'sCRS', '> Grade 3\\nNeurotox']\n",
            "['High', '1.1108', 'No', '. Nom “', '} NA', 'NA', 'NA |', 'NA', '| NA', '']\n",
            "['97%', '3x10', 'No', '| Now', 'Day 15', 'High', '3.8x 10°', 'No |', '| = No |', '']\n",
            "['EM\\nonly”', '3x10', 'No', 'Lng', '| NA', 'NA', 'Na |', 'UNA', 'PNA', '']\n",
            "['90%', '4.3x10°', 'No', 'Pr', 'Multiple', '56%', '3.3x10°', 'Ne |', 'No', '']\n"
          ]
        },
        {
          "output_type": "stream",
          "name": "stderr",
          "text": [
            "\n",
            "  0%|          | 0/2 [00:00<?, ?it/s]\u001b[A\n",
            " 50%|█████     | 1/2 [00:00<00:00,  1.59it/s]\u001b[A\n",
            "100%|██████████| 2/2 [00:01<00:00,  1.56it/s]\n",
            " 25%|██▌       | 2/8 [00:07<00:20,  3.49s/it]"
          ]
        },
        {
          "output_type": "stream",
          "name": "stdout",
          "text": [
            "Max number of columns: 5\n",
            "['Product', 'Phase |', 'Indication', 'Release Date', 'Page Number']\n",
            "['JCARO15', '2', 'R/R adult ALL', '14 Jul 2016', 'Page 29 of 131']\n"
          ]
        },
        {
          "output_type": "stream",
          "name": "stderr",
          "text": [
            "\n",
            "  0%|          | 0/7 [00:00<?, ?it/s]\u001b[A\n",
            " 14%|█▍        | 1/7 [00:00<00:01,  3.81it/s]\u001b[A\n",
            " 29%|██▊       | 2/7 [00:00<00:01,  3.45it/s]\u001b[A\n",
            " 43%|████▎     | 3/7 [00:02<00:03,  1.11it/s]\u001b[A\n",
            " 57%|█████▋    | 4/7 [00:02<00:02,  1.28it/s]\u001b[A\n",
            " 71%|███████▏  | 5/7 [00:05<00:03,  1.53s/it]\u001b[A\n",
            " 86%|████████▌ | 6/7 [00:06<00:01,  1.45s/it]\u001b[A\n",
            "100%|██████████| 7/7 [00:07<00:00,  1.08s/it]\n",
            " 38%|███▊      | 3/8 [00:15<00:26,  5.34s/it]"
          ]
        },
        {
          "output_type": "stream",
          "name": "stdout",
          "text": [
            "Max number of columns: 2\n",
            "['jectives', '| Endpoints']\n",
            "['mary (Primary Efficacy Analysis Set)', '']\n",
            "['To evaluate the efficacy of JCARO15 as\\nmeasured by overall remission rate\\n(ORR) after the final JCARO15 infusion\\nin subjects with morphologic evidence of\\ndisease, based on independent review\\ncommittee (IRC) assessment', 'e ORR, defined as the proportion of\\nsubjects with CR or complete remission\\nwith incomplete blood count recovery\\n(CRi), as determined by examination of\\nthe bone marrow, peripheral blood, and\\ncerebrospinal fluid (CSF), as well as\\nphysical examination and evaluation of\\ncentral nervous system (CNS)\\nsymptoms.']\n",
            "['Ce\\nondary', '——_=']\n",
            "['To evaluate the duration of remission', 'e Duration of morphologic remission,\\ndefined as the time from achievement of\\nmorphologic CR or CRi, whichever\\noccurs first, to morphologic relapse or\\ndeath due to B-cell ALL\\n\\ne Duration of molecular remission,\\ndefined as the time from achievement of\\nan MRD-negative CR or CRi, whichever\\noccurs first, to molecular relapse\\n(appearance of MRD) or morphologic\\npatos pee dandtoodisad« BD wall ATT']\n",
            "['To evaluate the percentage of subjects\\nwho achieve a CR or CRi with no\\nevidence of MRD in the bone marrow\\n(1.e., below the level of detection for the\\nIeH gene sequencing)', 'e Percentage of subjects who achieve CR\\nor CRi with an MRD-negative bone\\nmarrow, as assessed by IgH gene\\nsequencing']\n",
            "['To evaluate the safety and tolerability of\\nJCARO15 therapy', 'e Type, frequency, and severity of adverse\\nevents (AEs) and laboratory\\nabnormalities']\n"
          ]
        },
        {
          "output_type": "stream",
          "name": "stderr",
          "text": [
            "\n",
            "  0%|          | 0/2 [00:00<?, ?it/s]\u001b[A\n",
            " 50%|█████     | 1/2 [00:00<00:00,  1.53it/s]\u001b[A\n",
            "100%|██████████| 2/2 [00:01<00:00,  1.48it/s]\n",
            " 50%|█████     | 4/8 [00:16<00:15,  3.77s/it]"
          ]
        },
        {
          "output_type": "stream",
          "name": "stdout",
          "text": [
            "Max number of columns: 5\n",
            "['Product', '| Phase |', 'Indication', '| Release Date', 'Page Number']\n",
            "['JCAROI5', '2', 'R/R adult ALL', '14 Jul 2016', 'Page 30 of 131']\n"
          ]
        },
        {
          "output_type": "stream",
          "name": "stderr",
          "text": [
            "\n",
            "  0%|          | 0/10 [00:00<?, ?it/s]\u001b[A\n",
            " 10%|█         | 1/10 [00:00<00:03,  2.69it/s]\u001b[A\n",
            " 20%|██        | 2/10 [00:01<00:06,  1.25it/s]\u001b[A\n",
            " 30%|███       | 3/10 [00:03<00:07,  1.13s/it]\u001b[A\n",
            " 40%|████      | 4/10 [00:03<00:06,  1.06s/it]\u001b[A\n",
            " 50%|█████     | 5/10 [00:05<00:05,  1.06s/it]\u001b[A\n",
            " 60%|██████    | 6/10 [00:05<00:03,  1.20it/s]\u001b[A\n",
            " 70%|███████   | 7/10 [00:06<00:02,  1.29it/s]\u001b[A\n",
            " 80%|████████  | 8/10 [00:07<00:01,  1.19it/s]\u001b[A\n",
            " 90%|█████████ | 9/10 [00:07<00:00,  1.39it/s]\u001b[A\n",
            "100%|██████████| 10/10 [00:08<00:00,  1.21it/s]\n",
            " 62%|██████▎   | 5/8 [00:25<00:16,  5.40s/it]"
          ]
        },
        {
          "output_type": "stream",
          "name": "stdout",
          "text": [
            "Max number of columns: 3\n",
            "[')jectives', 'ndpoints', '']\n",
            "['To characterize the cellular\\npharmacokinetic (PK) profile of\\nJCARO1S5, including the quantity and\\npersistence in the peripheral blood anc\\nbone marrow', '» Cellular PK profile o:\\nCmax, Tmax, AUC)\\n\\n» Maximum expansion\\n\\n» Duration of persisten', 'of JCAROIS (e.g.,\\n)\\n\\non of JCARO15\\nence of JCARO15']\n",
            "['Pe EERE Te LMT eee RISEN” Bs\\nfollowing the final JCARO15 infusion\\nOc a Na I tc es', 'a eae! REE PES\\nCR/CRi without HSC\\nthe final JCARO1S5 in\\nMonth 6 post-infusio', 'ARR VE AR Ne SE ee,\\nSCT from the time of\\ninfusion to the\\n\\nion assessment\\noc, ae']\n",
            "['To compare the safety and tolerability\\nthe JCARO15 cell product with the\\nMSKCC 1928z CAR T cell product', '» Type, frequency, and\\ntreatment-emergent A\\nemergent AEs of spe', 'nd severity of\\nt AEs and treatment-\\nyecial interest (AEST)']\n",
            "['‘Lo evaluate the percentage of subjects\\nwho achieve a morphologic remission\\nwithin 6 months after the final JCARO\\ninfusion and then proceed to HSCT', '» Percentage of subject\\nCR/CRi and then pro\\nwhile in remission w:\\nthe final JCARO1S5 in', 'cts who achieve a\\nroceed to HSCT\\nwithin 6 months aftet\\ninfusion']\n",
            "['ploratory f- __ :', '', '']\n",
            "['To describe the change in the number\\nnormal B lymphocytes over time\\nfollowing JCARO15 treatment', '» Peripheral blood B c«', 'cell counts']\n",
            "['To describe the relationship between\\nCD19 and CD22 expression on leuker\\nblasts at baseline, blast percentage,\\nand/or bone marrow cellularity, and\\nJCARO1I5 safety, PK, and efficacy', '» Median CD19 and Cl\\nleukemia blasts as as:\\nquantitative flow cyt', 'CD22 expression on\\nassessed by a\\nytometry assay']\n",
            "['Product Phase Inc', 'Release Date', 'Page Number']\n",
            "['JCAROI5S 2 RR:', '‘ 14 Jul 2016', 'Page 31 of 131']\n"
          ]
        },
        {
          "output_type": "stream",
          "name": "stderr",
          "text": [
            "\n",
            "  0%|          | 0/2 [00:00<?, ?it/s]\u001b[A\n",
            " 50%|█████     | 1/2 [00:01<00:01,  1.13s/it]\u001b[A\n",
            "100%|██████████| 2/2 [00:02<00:00,  1.19s/it]\n",
            " 75%|███████▌  | 6/8 [00:27<00:08,  4.38s/it]"
          ]
        },
        {
          "output_type": "stream",
          "name": "stdout",
          "text": [
            "Max number of columns: 5\n",
            "['Product', '| Phase |', 'Indication', '| Release Date', '| Page Number']\n",
            "['JCAROI5', 'a ae', 'R/R adult ALL', '14 Jul 2016', 'Page 32 of 131']\n"
          ]
        },
        {
          "output_type": "stream",
          "name": "stderr",
          "text": [
            "\n",
            "  0%|          | 0/3 [00:00<?, ?it/s]\u001b[A\n",
            " 33%|███▎      | 1/3 [00:00<00:00,  2.23it/s]\u001b[A\n",
            " 67%|██████▋   | 2/3 [00:01<00:00,  1.40it/s]\u001b[A\n",
            "100%|██████████| 3/3 [00:02<00:00,  1.32it/s]\n",
            " 88%|████████▊ | 7/8 [00:29<00:03,  3.69s/it]"
          ]
        },
        {
          "output_type": "stream",
          "name": "stdout",
          "text": [
            "Max number of columns: 2\n",
            "['Objectives', 'Endpoints']\n",
            "['11. To describe changes in the tumor\\nmicroenvironment components\\nfollowing JCARO15 treatment', 'e Gene expression profiling, targeted\\nDNA sequencing, whole genome/exome\\nsequencing, and/or immunophenotypic\\nanalysis of cells obtained from bone\\nmarrow aspirate and biopsy at baseline,\\npost-treatment, and at relapse']\n",
            "['12. To characterize changes in quality of life\\noutcome measures and hospital resource\\nutilization for subjects treated with\\nJCARO15', 'e Subject-reported outcomes as measured.\\nby FACT-Leu questionnaire\\n\\ne Hospital resource utilization as\\nmeasured by number of inpatient days,\\nintensive care unit (ICU) days, and\\noutpatient visits']\n"
          ]
        },
        {
          "output_type": "stream",
          "name": "stderr",
          "text": [
            "\n",
            "  0%|          | 0/2 [00:00<?, ?it/s]\u001b[A\n",
            " 50%|█████     | 1/2 [00:00<00:00,  1.53it/s]\u001b[A\n",
            "100%|██████████| 2/2 [00:01<00:00,  1.53it/s]\n",
            "100%|██████████| 8/8 [00:31<00:00,  3.89s/it]\n"
          ]
        },
        {
          "output_type": "stream",
          "name": "stdout",
          "text": [
            "Max number of columns: 5\n",
            "['Product', '| Phase |', 'Indication', 'Release Date', 'Page Number']\n",
            "['JCARO15', '2', 'R/R adult ALL', '14 Jul 2016', 'Page 33 of 131']\n"
          ]
        },
        {
          "output_type": "stream",
          "name": "stderr",
          "text": [
            "  0%|          | 0/6 [00:00<?, ?it/s]\n",
            "  0%|          | 0/2 [00:00<?, ?it/s]\u001b[A\n",
            " 50%|█████     | 1/2 [00:00<00:00,  1.61it/s]\u001b[A\n",
            "100%|██████████| 2/2 [00:01<00:00,  1.37it/s]\n",
            " 17%|█▋        | 1/6 [00:01<00:07,  1.47s/it]"
          ]
        },
        {
          "output_type": "stream",
          "name": "stdout",
          "text": [
            "Max number of columns: 5\n",
            "['Product', 'Phase |', 'Indication', '| Release Date', 'Page Number']\n",
            "['JCARO15', '2', 'R/R adult ALL', '14 Jul 2016', 'Page 34 of 131']\n"
          ]
        },
        {
          "output_type": "stream",
          "name": "stderr",
          "text": [
            "\n",
            "  0%|          | 0/2 [00:00<?, ?it/s]\u001b[A\n",
            " 50%|█████     | 1/2 [00:01<00:01,  1.13s/it]\u001b[A\n",
            "100%|██████████| 2/2 [00:02<00:00,  1.25s/it]\n",
            " 33%|███▎      | 2/6 [00:03<00:08,  2.09s/it]"
          ]
        },
        {
          "output_type": "stream",
          "name": "stdout",
          "text": [
            "Max number of columns: 5\n",
            "['Product', '| Phase |', 'Indication', '| Release Date', 'Page Number']\n",
            "['JCARO15', '2', 'R/R adult ALL', '14 Jul 2016', 'Page 35 of 131']\n"
          ]
        },
        {
          "output_type": "stream",
          "name": "stderr",
          "text": [
            "\n",
            "  0%|          | 0/2 [00:00<?, ?it/s]\u001b[A\n",
            " 50%|█████     | 1/2 [00:01<00:01,  1.34s/it]\u001b[A\n",
            "100%|██████████| 2/2 [00:02<00:00,  1.33s/it]\n",
            " 50%|█████     | 3/6 [00:06<00:07,  2.35s/it]"
          ]
        },
        {
          "output_type": "stream",
          "name": "stdout",
          "text": [
            "Max number of columns: 5\n",
            "['Product', '| Phase |', 'Indication', '| Release Date', 'Page Number']\n",
            "['JCARO15', '2', 'R/R adult ALL', '14 Jul 2016', 'Page 36 of 131']\n"
          ]
        },
        {
          "output_type": "stream",
          "name": "stderr",
          "text": [
            "\n",
            "  0%|          | 0/2 [00:00<?, ?it/s]\u001b[A\n",
            " 50%|█████     | 1/2 [00:01<00:01,  1.15s/it]\u001b[A\n",
            "100%|██████████| 2/2 [00:02<00:00,  1.04s/it]\n",
            " 67%|██████▋   | 4/6 [00:08<00:04,  2.25s/it]"
          ]
        },
        {
          "output_type": "stream",
          "name": "stdout",
          "text": [
            "Max number of columns: 5\n",
            "['Product', '| Phase |', 'Indication', '| Release Date', '| Page Number']\n",
            "['JCARO15', '2', 'R/R adult ALL', '14 Jul 2016', 'Page 37 of 131']\n"
          ]
        },
        {
          "output_type": "stream",
          "name": "stderr",
          "text": [
            "\n",
            "  0%|          | 0/7 [00:00<?, ?it/s]\u001b[A\n",
            " 14%|█▍        | 1/7 [00:00<00:03,  1.57it/s]\u001b[A\n",
            " 29%|██▊       | 2/7 [00:01<00:03,  1.47it/s]\u001b[A\n",
            " 43%|████▎     | 3/7 [00:02<00:02,  1.40it/s]\u001b[A\n",
            " 57%|█████▋    | 4/7 [00:02<00:02,  1.34it/s]\u001b[A\n",
            " 71%|███████▏  | 5/7 [00:03<00:01,  1.27it/s]\u001b[A\n",
            " 86%|████████▌ | 6/7 [00:04<00:00,  1.30it/s]\u001b[A\n",
            "100%|██████████| 7/7 [00:05<00:00,  1.30it/s]\n",
            " 83%|████████▎ | 5/6 [00:14<00:03,  3.38s/it]"
          ]
        },
        {
          "output_type": "stream",
          "name": "stdout",
          "text": [
            "Max number of columns: 5\n",
            "['| Treatment', '| Required for', 'Dose', 'Timing', '']\n",
            "['Cyclophosphamide', 'All subjects', '1.0-3.0 g/m? IV', '2-5 days prior to\\nJCARO15 Dose #14', '']\n",
            "['JCARUID DOSE FL', 'JCARO15', 'All subjects', '1 x 106 JCARO15\\ncells/kg”', 'Day 1°']\n",
            "['Bone marrow\\nexamination\\n(assessment of\\nJCARO15\\nengraftment/\\nexpansion)', '—', 'All subjects', '»', 'Day 14']\n",
            "['JCARO15 Dose #2', 'Cyclophosphamide', 'May be given to\\nsubjects with\\nWBC count\\n\\n= 1000/uL at the\\ndiscretion of the\\nInvestigator', '1.0-3.0 g/m? IV', '2-5 days prior to\\nJCAROI5 Dose #24']\n",
            "['JCARO15', 'All subjects', '3 x 10° JCARO15\\ncells/kg?', '14-28 days after\\nJCARO15 Dose #1°', '']\n",
            "['Bone marrow\\nexamination\\n(response\\nassessment)*', '[', 'All subjects', 'kes', '28 (+2) days after\\nJCARO15 Dose #2°']\n"
          ]
        },
        {
          "output_type": "stream",
          "name": "stderr",
          "text": [
            "\n",
            "  0%|          | 0/2 [00:00<?, ?it/s]\u001b[A\n",
            " 50%|█████     | 1/2 [00:00<00:00,  1.62it/s]\u001b[A\n",
            "100%|██████████| 2/2 [00:01<00:00,  1.54it/s]\n",
            "100%|██████████| 6/6 [00:15<00:00,  2.57s/it]\n"
          ]
        },
        {
          "output_type": "stream",
          "name": "stdout",
          "text": [
            "Max number of columns: 5\n",
            "['Product', '| Phase |', 'Indication', '| Release Date', 'Page Number']\n",
            "['JCAROI5', '2', 'R/R adult ALL', '14 Jul 2016', 'Page 38 of 131']\n"
          ]
        },
        {
          "output_type": "stream",
          "name": "stderr",
          "text": [
            "  0%|          | 0/5 [00:00<?, ?it/s]\n",
            "  0%|          | 0/2 [00:00<?, ?it/s]\u001b[A\n",
            " 50%|█████     | 1/2 [00:00<00:00,  1.62it/s]\u001b[A\n",
            "100%|██████████| 2/2 [00:01<00:00,  1.57it/s]\n",
            " 20%|██        | 1/5 [00:01<00:05,  1.28s/it]"
          ]
        },
        {
          "output_type": "stream",
          "name": "stdout",
          "text": [
            "Max number of columns: 5\n",
            "['Product', '| Phase |', 'Indication', '| Release Date', 'Page Number']\n",
            "['JCARO15', '2', 'R/R adult ALL', '14 Jul 2016', 'Page 39 of 131']\n"
          ]
        },
        {
          "output_type": "stream",
          "name": "stderr",
          "text": [
            "\n",
            "  0%|          | 0/2 [00:00<?, ?it/s]\u001b[A\n",
            " 50%|█████     | 1/2 [00:00<00:00,  1.56it/s]\u001b[A\n",
            "100%|██████████| 2/2 [00:01<00:00,  1.50it/s]\n",
            " 40%|████      | 2/5 [00:02<00:03,  1.32s/it]"
          ]
        },
        {
          "output_type": "stream",
          "name": "stdout",
          "text": [
            "Max number of columns: 5\n",
            "['Product', '| Phase |', 'Indication', '| Release Date', '| Page Number']\n",
            "['JCARO15', '2', 'R/R adult ALL', '14 Jul 2016', 'Page 40 of 131']\n"
          ]
        },
        {
          "output_type": "stream",
          "name": "stderr",
          "text": [
            "\n",
            "  0%|          | 0/2 [00:00<?, ?it/s]\u001b[A\n",
            " 50%|█████     | 1/2 [00:00<00:00,  1.57it/s]\u001b[A\n",
            "100%|██████████| 2/2 [00:01<00:00,  1.51it/s]\n",
            " 60%|██████    | 3/5 [00:03<00:02,  1.32s/it]"
          ]
        },
        {
          "output_type": "stream",
          "name": "stdout",
          "text": [
            "Max number of columns: 5\n",
            "['Product', '| Phase |', 'Indication', '| Release Date', 'Page Number']\n",
            "['JCARO15', '2', 'R/R adult ALL', '14 Jul 2016', 'Page 41 of 131']\n"
          ]
        },
        {
          "output_type": "stream",
          "name": "stderr",
          "text": [
            "\n",
            "  0%|          | 0/2 [00:00<?, ?it/s]\u001b[A\n",
            " 50%|█████     | 1/2 [00:00<00:00,  1.58it/s]\u001b[A\n",
            "100%|██████████| 2/2 [00:01<00:00,  1.57it/s]\n",
            " 80%|████████  | 4/5 [00:05<00:01,  1.31s/it]"
          ]
        },
        {
          "output_type": "stream",
          "name": "stdout",
          "text": [
            "Max number of columns: 5\n",
            "['Product', '| Phase |', 'Indication', '| Release Date', 'Page Number']\n",
            "['JCAROI5', '2', 'R/R adult ALL', '14 Jul 2016', 'Page 42 of 131']\n"
          ]
        },
        {
          "output_type": "stream",
          "name": "stderr",
          "text": [
            "\n",
            "  0%|          | 0/2 [00:00<?, ?it/s]\u001b[A\n",
            " 50%|█████     | 1/2 [00:00<00:00,  1.60it/s]\u001b[A\n",
            "100%|██████████| 2/2 [00:01<00:00,  1.55it/s]\n",
            "100%|██████████| 5/5 [00:06<00:00,  1.31s/it]\n"
          ]
        },
        {
          "output_type": "stream",
          "name": "stdout",
          "text": [
            "Max number of columns: 5\n",
            "['Product', '| Phase |', 'Indication', 'Release Date', '| Page Number']\n",
            "['JCARO15', '2', 'R/R adult ALL', '14 Jul 2016', 'Page 43 of 131']\n"
          ]
        },
        {
          "output_type": "stream",
          "name": "stderr",
          "text": [
            "  0%|          | 0/5 [00:00<?, ?it/s]\n",
            "  0%|          | 0/2 [00:00<?, ?it/s]\u001b[A\n",
            " 50%|█████     | 1/2 [00:00<00:00,  1.58it/s]\u001b[A\n",
            "100%|██████████| 2/2 [00:01<00:00,  1.56it/s]\n",
            " 20%|██        | 1/5 [00:01<00:05,  1.30s/it]"
          ]
        },
        {
          "output_type": "stream",
          "name": "stdout",
          "text": [
            "Max number of columns: 5\n",
            "['Product', '| Phase |', 'Indication', '| Release Date', 'Page Number']\n",
            "['JCAROI5', '2', 'R/R adult ALL', '14 Jul 2016', 'Page 44 of 131']\n"
          ]
        },
        {
          "output_type": "stream",
          "name": "stderr",
          "text": [
            "\n",
            "  0%|          | 0/2 [00:00<?, ?it/s]\u001b[A\n",
            " 50%|█████     | 1/2 [00:00<00:00,  1.57it/s]\u001b[A\n",
            "100%|██████████| 2/2 [00:01<00:00,  1.56it/s]\n",
            " 40%|████      | 2/5 [00:02<00:03,  1.29s/it]"
          ]
        },
        {
          "output_type": "stream",
          "name": "stdout",
          "text": [
            "Max number of columns: 5\n",
            "['Product', '| Phase |', 'Indication', '| Release Date', 'Page Number']\n",
            "['JCARO15', '2', 'R/R adult ALL', '14 Jul 2016', 'Page 45 of 131']\n"
          ]
        },
        {
          "output_type": "stream",
          "name": "stderr",
          "text": [
            "\n",
            "  0%|          | 0/2 [00:00<?, ?it/s]\u001b[A\n",
            " 50%|█████     | 1/2 [00:00<00:00,  1.52it/s]\u001b[A\n",
            "100%|██████████| 2/2 [00:01<00:00,  1.53it/s]\n",
            " 60%|██████    | 3/5 [00:03<00:02,  1.30s/it]"
          ]
        },
        {
          "output_type": "stream",
          "name": "stdout",
          "text": [
            "Max number of columns: 5\n",
            "['Product', '| Phase |', 'Indication', '| Release Date', 'Page Number']\n",
            "['JCAROI5', '2', 'R/R adult ALL', '14 Jul 2016', 'Page 46 of 131']\n"
          ]
        },
        {
          "output_type": "stream",
          "name": "stderr",
          "text": [
            "\n",
            "  0%|          | 0/2 [00:00<?, ?it/s]\u001b[A\n",
            " 50%|█████     | 1/2 [00:00<00:00,  1.55it/s]\u001b[A\n",
            "100%|██████████| 2/2 [00:01<00:00,  1.54it/s]\n",
            " 80%|████████  | 4/5 [00:05<00:01,  1.31s/it]"
          ]
        },
        {
          "output_type": "stream",
          "name": "stdout",
          "text": [
            "Max number of columns: 5\n",
            "['Product', '| Phase |', 'Indication', 'Release Date', '| Page Number']\n",
            "['JCAROI5', '2', 'R/R adult ALL', '14 Jul 2016', 'Page 47 of 131']\n"
          ]
        },
        {
          "output_type": "stream",
          "name": "stderr",
          "text": [
            "\n",
            "  0%|          | 0/2 [00:00<?, ?it/s]\u001b[A\n",
            " 50%|█████     | 1/2 [00:00<00:00,  1.57it/s]\u001b[A\n",
            "100%|██████████| 2/2 [00:01<00:00,  1.55it/s]\n",
            "100%|██████████| 5/5 [00:06<00:00,  1.30s/it]\n"
          ]
        },
        {
          "output_type": "stream",
          "name": "stdout",
          "text": [
            "Max number of columns: 5\n",
            "['Product', '| Phase |', 'Indication', '| Release Date', 'Page Number']\n",
            "['JCARO15', '2', 'R/R adult ALL', '14 Jul 2016', 'Page 48 of 131']\n"
          ]
        },
        {
          "output_type": "stream",
          "name": "stderr",
          "text": [
            "  0%|          | 0/5 [00:00<?, ?it/s]\n",
            "  0%|          | 0/2 [00:00<?, ?it/s]\u001b[A\n",
            " 50%|█████     | 1/2 [00:01<00:01,  1.16s/it]\u001b[A\n",
            "100%|██████████| 2/2 [00:02<00:00,  1.01s/it]\n",
            " 20%|██        | 1/5 [00:02<00:08,  2.02s/it]"
          ]
        },
        {
          "output_type": "stream",
          "name": "stdout",
          "text": [
            "Max number of columns: 5\n",
            "['Product', '| Phase |', 'Indication', '| Release Date', '| Page Number']\n",
            "['JCAROI5', '2', 'R/R adult ALL', '14 Jul 2016', 'Page 49 of 131']\n"
          ]
        },
        {
          "output_type": "stream",
          "name": "stderr",
          "text": [
            "\n",
            "  0%|          | 0/2 [00:00<?, ?it/s]\u001b[A\n",
            " 50%|█████     | 1/2 [00:00<00:00,  1.54it/s]\u001b[A\n",
            "100%|██████████| 2/2 [00:01<00:00,  1.53it/s]\n",
            " 40%|████      | 2/5 [00:03<00:04,  1.61s/it]"
          ]
        },
        {
          "output_type": "stream",
          "name": "stdout",
          "text": [
            "Max number of columns: 5\n",
            "['Product', '| Phase |', 'Indication', '| Release Date', 'Page Number']\n",
            "['JCARO15', '2', 'R/R adult ALL', '14 Jul 2016', 'Page 50 of 131']\n"
          ]
        },
        {
          "output_type": "stream",
          "name": "stderr",
          "text": [
            "\n",
            "  0%|          | 0/2 [00:00<?, ?it/s]\u001b[A\n",
            " 50%|█████     | 1/2 [00:00<00:00,  1.60it/s]\u001b[A\n",
            "100%|██████████| 2/2 [00:01<00:00,  1.55it/s]\n",
            " 60%|██████    | 3/5 [00:04<00:02,  1.47s/it]"
          ]
        },
        {
          "output_type": "stream",
          "name": "stdout",
          "text": [
            "Max number of columns: 5\n",
            "['Product', '| Phase |', 'Indication', '| Release Date', 'Page Number']\n",
            "['JCARO15', '2', 'R/R adult ALL', '14 Jul 2016', 'Page 51 of 131']\n"
          ]
        },
        {
          "output_type": "stream",
          "name": "stderr",
          "text": [
            "\n",
            "  0%|          | 0/2 [00:00<?, ?it/s]\u001b[A\n",
            " 50%|█████     | 1/2 [00:00<00:00,  1.56it/s]\u001b[A\n",
            "100%|██████████| 2/2 [00:01<00:00,  1.55it/s]\n",
            " 80%|████████  | 4/5 [00:05<00:01,  1.40s/it]"
          ]
        },
        {
          "output_type": "stream",
          "name": "stdout",
          "text": [
            "Max number of columns: 5\n",
            "['Product', '| Phase |', 'Indication', '| Release Date', 'Page Number']\n",
            "['JCAROI5', '2', 'R/R adult ALL', '14 Jul 2016', 'Page 52 of 131']\n"
          ]
        },
        {
          "output_type": "stream",
          "name": "stderr",
          "text": [
            "\n",
            "  0%|          | 0/2 [00:00<?, ?it/s]\u001b[A\n",
            " 50%|█████     | 1/2 [00:00<00:00,  1.57it/s]\u001b[A\n",
            "100%|██████████| 2/2 [00:01<00:00,  1.54it/s]\n",
            "100%|██████████| 5/5 [00:07<00:00,  1.45s/it]\n"
          ]
        },
        {
          "output_type": "stream",
          "name": "stdout",
          "text": [
            "Max number of columns: 5\n",
            "['Product', '| Phase |', 'Indication', '| Release Date', '| Page Number']\n",
            "['JCARO15', '2', 'R/R adult ALL', '14 Jul 2016', 'Page 53 of 131']\n"
          ]
        },
        {
          "output_type": "stream",
          "name": "stderr",
          "text": [
            "  0%|          | 0/5 [00:00<?, ?it/s]\n",
            "  0%|          | 0/2 [00:00<?, ?it/s]\u001b[A\n",
            " 50%|█████     | 1/2 [00:01<00:01,  1.11s/it]\u001b[A\n",
            "100%|██████████| 2/2 [00:02<00:00,  1.17s/it]\n",
            " 20%|██        | 1/5 [00:02<00:09,  2.36s/it]"
          ]
        },
        {
          "output_type": "stream",
          "name": "stdout",
          "text": [
            "Max number of columns: 5\n",
            "['Product', '| Phase |', 'Indication', '| Release Date', '| Page Number']\n",
            "['JCARO15', '2', 'R/R adult ALL', '14 Jul 2016', 'Page 54 of 131']\n"
          ]
        },
        {
          "output_type": "stream",
          "name": "stderr",
          "text": [
            "\n",
            "  0%|          | 0/2 [00:00<?, ?it/s]\u001b[A\n",
            " 50%|█████     | 1/2 [00:00<00:00,  1.04it/s]\u001b[A\n",
            "100%|██████████| 2/2 [00:01<00:00,  1.23it/s]\n",
            " 40%|████      | 2/5 [00:03<00:05,  1.93s/it]"
          ]
        },
        {
          "output_type": "stream",
          "name": "stdout",
          "text": [
            "Max number of columns: 5\n",
            "['Product', '| Phase |', 'Indication', 'Release Date', '| Page Number']\n",
            "['JCAROI5', '2', 'R/R adult ALL', '14 Jul 2016', 'Page 55 of 131']\n"
          ]
        },
        {
          "output_type": "stream",
          "name": "stderr",
          "text": [
            "\n",
            "  0%|          | 0/2 [00:00<?, ?it/s]\u001b[A\n",
            " 50%|█████     | 1/2 [00:00<00:00,  1.56it/s]\u001b[A\n",
            "100%|██████████| 2/2 [00:01<00:00,  1.52it/s]\n",
            " 60%|██████    | 3/5 [00:05<00:03,  1.65s/it]"
          ]
        },
        {
          "output_type": "stream",
          "name": "stdout",
          "text": [
            "Max number of columns: 5\n",
            "['Product', '| Phase |', 'Indication', 'Release Date', 'Page Number']\n",
            "['JCARO15', '2', 'R/R adult ALL', '14 Jul 2016', 'Page 56 of 131']\n"
          ]
        },
        {
          "output_type": "stream",
          "name": "stderr",
          "text": [
            "\n",
            "  0%|          | 0/2 [00:00<?, ?it/s]\u001b[A\n",
            " 50%|█████     | 1/2 [00:00<00:00,  1.47it/s]\u001b[A\n",
            "100%|██████████| 2/2 [00:01<00:00,  1.53it/s]\n",
            " 80%|████████  | 4/5 [00:06<00:01,  1.52s/it]"
          ]
        },
        {
          "output_type": "stream",
          "name": "stdout",
          "text": [
            "Max number of columns: 5\n",
            "['Product', '| Phase |', 'Indication', '| Release Date', 'Page Number']\n",
            "['JCAROI5', '2', 'R/R adult ALL', '14 Jul 2016', 'Page 57 of 131']\n"
          ]
        },
        {
          "output_type": "stream",
          "name": "stderr",
          "text": [
            "\n",
            "  0%|          | 0/2 [00:00<?, ?it/s]\u001b[A\n",
            " 50%|█████     | 1/2 [00:00<00:00,  1.56it/s]\u001b[A\n",
            "100%|██████████| 2/2 [00:01<00:00,  1.48it/s]\n",
            "100%|██████████| 5/5 [00:07<00:00,  1.60s/it]\n"
          ]
        },
        {
          "output_type": "stream",
          "name": "stdout",
          "text": [
            "Max number of columns: 5\n",
            "['Product', '| Phase |', 'Indication', '| Release Date', 'Page Number']\n",
            "['JCAROI5', '2', 'R/R adult ALL', '14 Jul 2016', 'Page 58 of 131']\n"
          ]
        },
        {
          "output_type": "stream",
          "name": "stderr",
          "text": [
            "  0%|          | 0/5 [00:00<?, ?it/s]\n",
            "  0%|          | 0/2 [00:00<?, ?it/s]\u001b[A\n",
            " 50%|█████     | 1/2 [00:01<00:01,  1.07s/it]\u001b[A\n",
            "100%|██████████| 2/2 [00:02<00:00,  1.15s/it]\n",
            " 20%|██        | 1/5 [00:02<00:09,  2.30s/it]"
          ]
        },
        {
          "output_type": "stream",
          "name": "stdout",
          "text": [
            "Max number of columns: 5\n",
            "['Product', '| Phase |', 'Indication', '| Release Date', 'Page Number']\n",
            "['JCAROI5', '2', 'R/R adult ALL', '14 Jul 2016', 'Page 59 of 131']\n"
          ]
        },
        {
          "output_type": "stream",
          "name": "stderr",
          "text": [
            "\n",
            "  0%|          | 0/2 [00:00<?, ?it/s]\u001b[A\n",
            " 50%|█████     | 1/2 [00:01<00:01,  1.20s/it]\u001b[A\n",
            "100%|██████████| 2/2 [00:01<00:00,  1.08it/s]\n",
            " 40%|████      | 2/5 [00:04<00:06,  2.05s/it]"
          ]
        },
        {
          "output_type": "stream",
          "name": "stdout",
          "text": [
            "Max number of columns: 5\n",
            "['Product', '| Phase |', 'Indication', '| Release Date', 'Page Number']\n",
            "['JCARO15', '2', 'R/R adult ALL', '14 Jul 2016', 'Page 60 of 131']\n"
          ]
        },
        {
          "output_type": "stream",
          "name": "stderr",
          "text": [
            "\n",
            "  0%|          | 0/2 [00:00<?, ?it/s]\u001b[A\n",
            " 50%|█████     | 1/2 [00:00<00:00,  1.53it/s]\u001b[A\n",
            "100%|██████████| 2/2 [00:01<00:00,  1.52it/s]\n",
            " 60%|██████    | 3/5 [00:05<00:03,  1.71s/it]"
          ]
        },
        {
          "output_type": "stream",
          "name": "stdout",
          "text": [
            "Max number of columns: 5\n",
            "['Product', '| Phase |', 'Indication', '| Release Date', 'Page Number']\n",
            "['JCARO15', '2', 'R/R adult ALL', '14 Jul 2016', 'Page 61 of 131']\n"
          ]
        },
        {
          "output_type": "stream",
          "name": "stderr",
          "text": [
            "\n",
            "  0%|          | 0/2 [00:00<?, ?it/s]\u001b[A\n",
            " 50%|█████     | 1/2 [00:00<00:00,  1.55it/s]\u001b[A\n",
            "100%|██████████| 2/2 [00:01<00:00,  1.51it/s]\n",
            " 80%|████████  | 4/5 [00:06<00:01,  1.56s/it]"
          ]
        },
        {
          "output_type": "stream",
          "name": "stdout",
          "text": [
            "Max number of columns: 5\n",
            "['Product', '| Phase |', 'Indication', '| Release Date', '| Page Number']\n",
            "['JCARO15', '2', 'R/R adult ALL', '14 Jul 2016', 'Page 62 of 131']\n"
          ]
        },
        {
          "output_type": "stream",
          "name": "stderr",
          "text": [
            "\n",
            "  0%|          | 0/2 [00:00<?, ?it/s]\u001b[A\n",
            " 50%|█████     | 1/2 [00:00<00:00,  1.56it/s]\u001b[A\n",
            "100%|██████████| 2/2 [00:01<00:00,  1.55it/s]\n",
            "100%|██████████| 5/5 [00:08<00:00,  1.62s/it]\n"
          ]
        },
        {
          "output_type": "stream",
          "name": "stdout",
          "text": [
            "Max number of columns: 5\n",
            "['Product', '| Phase |', 'Indication', '| Release Date', 'Page Number']\n",
            "['JCAROI5', '2', 'R/R adult ALL', '14 Jul 2016', 'Page 63 of 131']\n"
          ]
        },
        {
          "output_type": "stream",
          "name": "stderr",
          "text": [
            "  0%|          | 0/5 [00:00<?, ?it/s]\n",
            "  0%|          | 0/2 [00:00<?, ?it/s]\u001b[A\n",
            " 50%|█████     | 1/2 [00:00<00:00,  1.09it/s]\u001b[A\n",
            "100%|██████████| 2/2 [00:02<00:00,  1.04s/it]\n",
            " 20%|██        | 1/5 [00:02<00:08,  2.10s/it]"
          ]
        },
        {
          "output_type": "stream",
          "name": "stdout",
          "text": [
            "Max number of columns: 5\n",
            "['Product', '| Phase |', 'Indication', '| Release Date', 'Page Number']\n",
            "['JCARO15', '2', 'R/R adult ALL', '14 Jul 2016', 'Page 64 of 131']\n"
          ]
        },
        {
          "output_type": "stream",
          "name": "stderr",
          "text": [
            "\n",
            "  0%|          | 0/2 [00:00<?, ?it/s]\u001b[A\n",
            " 50%|█████     | 1/2 [00:01<00:01,  1.14s/it]\u001b[A\n",
            "100%|██████████| 2/2 [00:02<00:00,  1.06s/it]\n",
            " 40%|████      | 2/5 [00:04<00:06,  2.12s/it]"
          ]
        },
        {
          "output_type": "stream",
          "name": "stdout",
          "text": [
            "Max number of columns: 5\n",
            "['Product', '| Phase |', 'Indication', '| Release Date', '| Page Number']\n",
            "['JCARO15', '2', 'R/R adult ALL', '14 Jul 2016', 'Page 65 of 131']\n"
          ]
        },
        {
          "output_type": "stream",
          "name": "stderr",
          "text": [
            "\n",
            "  0%|          | 0/2 [00:00<?, ?it/s]\u001b[A\n",
            " 50%|█████     | 1/2 [00:00<00:00,  1.57it/s]\u001b[A\n",
            "100%|██████████| 2/2 [00:01<00:00,  1.54it/s]\n",
            " 60%|██████    | 3/5 [00:05<00:03,  1.75s/it]"
          ]
        },
        {
          "output_type": "stream",
          "name": "stdout",
          "text": [
            "Max number of columns: 5\n",
            "['Product', '| Phase |', 'Indication', '| Release Date', '| Page Number']\n",
            "['JCARO15', '2', 'R/R adult ALL', '14 Jul 2016', 'Page 66 of 131']\n"
          ]
        },
        {
          "output_type": "stream",
          "name": "stderr",
          "text": [
            "\n",
            "  0%|          | 0/2 [00:00<?, ?it/s]\u001b[A\n",
            " 50%|█████     | 1/2 [00:00<00:00,  1.63it/s]\u001b[A\n",
            "100%|██████████| 2/2 [00:01<00:00,  1.58it/s]\n",
            " 80%|████████  | 4/5 [00:06<00:01,  1.57s/it]"
          ]
        },
        {
          "output_type": "stream",
          "name": "stdout",
          "text": [
            "Max number of columns: 5\n",
            "['Product', '| Phase |', 'Indication', 'Release Date', '| Page Number']\n",
            "['JCAROI5', '2', 'R/R adult ALL', '14 Jul 2016', 'Page 67 of 131']\n"
          ]
        },
        {
          "output_type": "stream",
          "name": "stderr",
          "text": [
            "\n",
            "  0%|          | 0/2 [00:00<?, ?it/s]\u001b[A\n",
            " 50%|█████     | 1/2 [00:00<00:00,  1.64it/s]\u001b[A\n",
            "100%|██████████| 2/2 [00:01<00:00,  1.56it/s]\n",
            "100%|██████████| 5/5 [00:08<00:00,  1.63s/it]\n"
          ]
        },
        {
          "output_type": "stream",
          "name": "stdout",
          "text": [
            "Max number of columns: 5\n",
            "['Product', '| Phase |', 'Indication', 'Release Date', 'Page Number']\n",
            "['JCAROI5', '2', 'R/R adult ALL', '14 Jul 2016', 'Page 68 of 131']\n"
          ]
        },
        {
          "output_type": "stream",
          "name": "stderr",
          "text": [
            "  0%|          | 0/5 [00:00<?, ?it/s]\n",
            "  0%|          | 0/2 [00:00<?, ?it/s]\u001b[A\n",
            " 50%|█████     | 1/2 [00:00<00:00,  1.48it/s]\u001b[A\n",
            "100%|██████████| 2/2 [00:01<00:00,  1.11it/s]\n",
            " 20%|██        | 1/5 [00:01<00:07,  1.81s/it]"
          ]
        },
        {
          "output_type": "stream",
          "name": "stdout",
          "text": [
            "Max number of columns: 5\n",
            "['Product', '| Phase |', 'Indication', '| Release Date', 'Page Number']\n",
            "['JCAROI5', '2', 'R/R adult ALL', '14 Jul 2016', 'Page 69 of 131']\n"
          ]
        },
        {
          "output_type": "stream",
          "name": "stderr",
          "text": [
            "\n",
            "  0%|          | 0/2 [00:00<?, ?it/s]\u001b[A\n",
            " 50%|█████     | 1/2 [00:01<00:01,  1.11s/it]\u001b[A\n",
            "100%|██████████| 2/2 [00:02<00:00,  1.16s/it]\n",
            " 40%|████      | 2/5 [00:04<00:06,  2.12s/it]"
          ]
        },
        {
          "output_type": "stream",
          "name": "stdout",
          "text": [
            "Max number of columns: 5\n",
            "['Product', 'Phase |', 'Indication', '| Release Date', 'Page Number']\n",
            "['JCAROI5S', '2', 'R/R adult ALL', '14 Jul 2016', 'Page 70 of 131']\n"
          ]
        },
        {
          "output_type": "stream",
          "name": "stderr",
          "text": [
            "\n",
            "  0%|          | 0/2 [00:00<?, ?it/s]\u001b[A\n",
            " 50%|█████     | 1/2 [00:00<00:00,  1.27it/s]\u001b[A\n",
            "100%|██████████| 2/2 [00:01<00:00,  1.36it/s]\n",
            " 60%|██████    | 3/5 [00:05<00:03,  1.83s/it]"
          ]
        },
        {
          "output_type": "stream",
          "name": "stdout",
          "text": [
            "Max number of columns: 5\n",
            "['Product', '| Phase |', 'Indication', 'Release Date', '| Page Number']\n",
            "['JCARO15', '2', 'R/R adult ALL', '14 Jul 2016', 'Page 71 of 131']\n"
          ]
        },
        {
          "output_type": "stream",
          "name": "stderr",
          "text": [
            "\n",
            "  0%|          | 0/2 [00:00<?, ?it/s]\u001b[A\n",
            " 50%|█████     | 1/2 [00:00<00:00,  1.54it/s]\u001b[A\n",
            "100%|██████████| 2/2 [00:01<00:00,  1.56it/s]\n",
            " 80%|████████  | 4/5 [00:06<00:01,  1.62s/it]"
          ]
        },
        {
          "output_type": "stream",
          "name": "stdout",
          "text": [
            "Max number of columns: 5\n",
            "['Product', '| Phase |', 'Indication', '| Release Date', 'Page Number']\n",
            "['JCAROI5', '2', 'R/R adult ALL', '14 Jul 2016', 'Page 72 of 131']\n"
          ]
        },
        {
          "output_type": "stream",
          "name": "stderr",
          "text": [
            "\n",
            "  0%|          | 0/2 [00:00<?, ?it/s]\u001b[A\n",
            " 50%|█████     | 1/2 [00:00<00:00,  1.57it/s]\u001b[A\n",
            "100%|██████████| 2/2 [00:01<00:00,  1.56it/s]\n",
            "100%|██████████| 5/5 [00:08<00:00,  1.64s/it]\n"
          ]
        },
        {
          "output_type": "stream",
          "name": "stdout",
          "text": [
            "Max number of columns: 5\n",
            "['Product', '| Phase |', 'Indication', 'Release Date', 'Page Number']\n",
            "['JCAROI5', '2', 'R/R adult ALL', '14 Jul 2016', 'Page 73 of 131']\n"
          ]
        },
        {
          "output_type": "stream",
          "name": "stderr",
          "text": [
            "  0%|          | 0/5 [00:00<?, ?it/s]\n",
            "  0%|          | 0/2 [00:00<?, ?it/s]\u001b[A\n",
            " 50%|█████     | 1/2 [00:00<00:00,  1.61it/s]\u001b[A\n",
            "100%|██████████| 2/2 [00:01<00:00,  1.35it/s]\n",
            " 20%|██        | 1/5 [00:01<00:05,  1.49s/it]"
          ]
        },
        {
          "output_type": "stream",
          "name": "stdout",
          "text": [
            "Max number of columns: 5\n",
            "['Product', '| Phase |', 'Indication', '| Release Date', 'Page Number']\n",
            "['JCARO15', '2', 'R/R adult ALL', '14 Jul 2016', 'Page 74 of 131']\n"
          ]
        },
        {
          "output_type": "stream",
          "name": "stderr",
          "text": [
            "\n",
            "  0%|          | 0/2 [00:00<?, ?it/s]\u001b[A\n",
            " 50%|█████     | 1/2 [00:01<00:01,  1.12s/it]\u001b[A\n",
            "100%|██████████| 2/2 [00:02<00:00,  1.17s/it]\n",
            " 40%|████      | 2/5 [00:03<00:06,  2.00s/it]"
          ]
        },
        {
          "output_type": "stream",
          "name": "stdout",
          "text": [
            "Max number of columns: 5\n",
            "['Product', '| Phase |', 'Indication', '| Release Date', 'Page Number']\n",
            "['JCAROI5', '2', 'R/R adult ALL', '14 Jul 2016', 'Page 75 of 131']\n"
          ]
        },
        {
          "output_type": "stream",
          "name": "stderr",
          "text": [
            "\n",
            "  0%|          | 0/2 [00:00<?, ?it/s]\u001b[A\n",
            " 50%|█████     | 1/2 [00:01<00:01,  1.14s/it]\u001b[A\n",
            "100%|██████████| 2/2 [00:01<00:00,  1.10it/s]\n",
            " 60%|██████    | 3/5 [00:05<00:03,  1.92s/it]"
          ]
        },
        {
          "output_type": "stream",
          "name": "stdout",
          "text": [
            "Max number of columns: 5\n",
            "['Product', '| Phase |', 'Indication', '| Release Date', 'Page Number']\n",
            "['JCAROI5', '2', 'R/R adult ALL', '14 Jul 2016', 'Page 76 of 131']\n"
          ]
        },
        {
          "output_type": "stream",
          "name": "stderr",
          "text": [
            "\n",
            "  0%|          | 0/2 [00:00<?, ?it/s]\u001b[A\n",
            " 50%|█████     | 1/2 [00:00<00:00,  1.58it/s]\u001b[A\n",
            "100%|██████████| 2/2 [00:01<00:00,  1.54it/s]\n",
            " 80%|████████  | 4/5 [00:06<00:01,  1.68s/it]"
          ]
        },
        {
          "output_type": "stream",
          "name": "stdout",
          "text": [
            "Max number of columns: 5\n",
            "['Product', '| Phase |', 'Indication', 'Release Date', 'Page Number']\n",
            "['JCARO15', '2', 'R/R adult ALL', '14 Jul 2016', 'Page 77 of 131']\n"
          ]
        },
        {
          "output_type": "stream",
          "name": "stderr",
          "text": [
            "\n",
            "  0%|          | 0/2 [00:00<?, ?it/s]\u001b[A\n",
            " 50%|█████     | 1/2 [00:00<00:00,  1.58it/s]\u001b[A\n",
            "100%|██████████| 2/2 [00:01<00:00,  1.53it/s]\n",
            "100%|██████████| 5/5 [00:08<00:00,  1.66s/it]\n"
          ]
        },
        {
          "output_type": "stream",
          "name": "stdout",
          "text": [
            "Max number of columns: 5\n",
            "['Product', '| Phase |', 'Indication', '| Release Date', 'Page Number']\n",
            "['JCARO15', '2', 'R/R adult ALL', '14 Jul 2016', 'Page 78 of 131']\n"
          ]
        },
        {
          "output_type": "stream",
          "name": "stderr",
          "text": [
            "  0%|          | 0/6 [00:00<?, ?it/s]\n",
            "  0%|          | 0/2 [00:00<?, ?it/s]\u001b[A\n",
            " 50%|█████     | 1/2 [00:00<00:00,  1.58it/s]\u001b[A\n",
            "100%|██████████| 2/2 [00:01<00:00,  1.19it/s]\n",
            " 17%|█▋        | 1/6 [00:01<00:08,  1.69s/it]"
          ]
        },
        {
          "output_type": "stream",
          "name": "stdout",
          "text": [
            "Max number of columns: 5\n",
            "['Product', '| Phase |', 'Indication', '| Release Date', 'Page Number']\n",
            "['JCAROI5', '2', 'R/R adult ALL', '14 Jul 2016', 'Page 79 of 131']\n"
          ]
        },
        {
          "output_type": "stream",
          "name": "stderr",
          "text": [
            "\n",
            "  0%|          | 0/6 [00:00<?, ?it/s]\u001b[A\n",
            " 17%|█▋        | 1/6 [00:00<00:02,  2.15it/s]\u001b[A\n",
            " 33%|███▎      | 2/6 [00:01<00:02,  1.58it/s]\u001b[A\n",
            " 50%|█████     | 3/6 [00:02<00:02,  1.06it/s]\u001b[A\n",
            " 67%|██████▋   | 4/6 [00:03<00:01,  1.22it/s]\u001b[A\n",
            " 83%|████████▎ | 5/6 [00:03<00:00,  1.51it/s]\u001b[A\n",
            "100%|██████████| 6/6 [00:04<00:00,  1.49it/s]\n",
            " 33%|███▎      | 2/6 [00:05<00:12,  3.08s/it]"
          ]
        },
        {
          "output_type": "stream",
          "name": "stdout",
          "text": [
            "Max number of columns: 2\n",
            "['Grade', 'Description']\n",
            "['oO.', 'Fully active, able to carry on all pre-disease performance without restriction']\n",
            "['1', 'Restricted in physically strenuous activity but ambulatory and able to carry\\nout work of a light or sedentary nature, e.g., light house work, office work']\n",
            "['2', 'Ambulatory and capable of all self-care but unable to carry out any work\\nactivities. Up and about more than 50% of waking hours']\n",
            "['3', 'Capable of only limited self-care, confined to bed or chair more than 50% o:\\nwaking hours']\n",
            "['4', 'Completely disabled. Cannot carry on any self-care. Totally confined.to bed\\nor chair']\n"
          ]
        },
        {
          "output_type": "stream",
          "name": "stderr",
          "text": [
            "\n",
            "  0%|          | 0/2 [00:00<?, ?it/s]\u001b[A\n",
            " 50%|█████     | 1/2 [00:00<00:00,  1.62it/s]\u001b[A\n",
            "100%|██████████| 2/2 [00:01<00:00,  1.53it/s]\n",
            " 50%|█████     | 3/6 [00:07<00:06,  2.28s/it]"
          ]
        },
        {
          "output_type": "stream",
          "name": "stdout",
          "text": [
            "Max number of columns: 5\n",
            "['Product', '| Phase |', 'Indication', '| Release Date', 'Page Number']\n",
            "['JCAROI5', '2', 'R/R adult ALL', '14 Jul 2016', 'Page 80 of 131']\n"
          ]
        },
        {
          "output_type": "stream",
          "name": "stderr",
          "text": [
            "\n",
            "  0%|          | 0/2 [00:00<?, ?it/s]\u001b[A\n",
            " 50%|█████     | 1/2 [00:00<00:00,  1.58it/s]\u001b[A\n",
            "100%|██████████| 2/2 [00:01<00:00,  1.48it/s]\n",
            " 67%|██████▋   | 4/6 [00:08<00:03,  1.91s/it]"
          ]
        },
        {
          "output_type": "stream",
          "name": "stdout",
          "text": [
            "Max number of columns: 5\n",
            "['Product', '| Phase |', 'Indication', '| Release Date', 'Page Number']\n",
            "['JCARO15', '2', 'R/R adult ALL', '14 Jul 2016', 'Page 81 of 131']\n"
          ]
        },
        {
          "output_type": "stream",
          "name": "stderr",
          "text": [
            "\n",
            "  0%|          | 0/2 [00:00<?, ?it/s]\u001b[A\n",
            " 50%|█████     | 1/2 [00:00<00:00,  1.53it/s]\u001b[A\n",
            "100%|██████████| 2/2 [00:01<00:00,  1.57it/s]\n",
            " 83%|████████▎ | 5/6 [00:09<00:01,  1.69s/it]"
          ]
        },
        {
          "output_type": "stream",
          "name": "stdout",
          "text": [
            "Max number of columns: 5\n",
            "['Product', '| Phase |', 'Indication', '| Release Date', 'Page Number']\n",
            "['JCAROI5', '2', 'R/R adult ALL', '14 Jul 2016', 'Page 82 of 131']\n"
          ]
        },
        {
          "output_type": "stream",
          "name": "stderr",
          "text": [
            "\n",
            "  0%|          | 0/2 [00:00<?, ?it/s]\u001b[A\n",
            " 50%|█████     | 1/2 [00:00<00:00,  1.63it/s]\u001b[A\n",
            "100%|██████████| 2/2 [00:01<00:00,  1.56it/s]\n",
            "100%|██████████| 6/6 [00:11<00:00,  1.84s/it]\n"
          ]
        },
        {
          "output_type": "stream",
          "name": "stdout",
          "text": [
            "Max number of columns: 5\n",
            "['Product', '| Phase |', 'Indication', '| Release Date', 'Page Number']\n",
            "['JCARO15', '2', 'R/R adult ALL', '14 Jul 2016', 'Page 83 of 131']\n"
          ]
        },
        {
          "output_type": "stream",
          "name": "stderr",
          "text": [
            "  0%|          | 0/5 [00:00<?, ?it/s]\n",
            "  0%|          | 0/2 [00:00<?, ?it/s]\u001b[A\n",
            " 50%|█████     | 1/2 [00:01<00:01,  1.14s/it]\u001b[A\n",
            "100%|██████████| 2/2 [00:02<00:00,  1.02s/it]\n",
            " 20%|██        | 1/5 [00:02<00:08,  2.06s/it]"
          ]
        },
        {
          "output_type": "stream",
          "name": "stdout",
          "text": [
            "Max number of columns: 5\n",
            "['Product', '| Phase |', 'Indication', '| Release Date', 'Page Number']\n",
            "['JCARO15', '2', 'R/R adult ALL', '14 Jul 2016', 'Page 84 of 131']\n"
          ]
        },
        {
          "output_type": "stream",
          "name": "stderr",
          "text": [
            "\n",
            "  0%|          | 0/2 [00:00<?, ?it/s]\u001b[A\n",
            " 50%|█████     | 1/2 [00:00<00:00,  1.63it/s]\u001b[A\n",
            "100%|██████████| 2/2 [00:01<00:00,  1.55it/s]\n",
            " 40%|████      | 2/5 [00:03<00:04,  1.61s/it]"
          ]
        },
        {
          "output_type": "stream",
          "name": "stdout",
          "text": [
            "Max number of columns: 5\n",
            "['Product', '| Phase |', 'Indication', 'Release Date', 'Page Number']\n",
            "['JCARO15', '2', 'R/R adult ALL', '14 Jul 2016', 'Page 85 of 131']\n"
          ]
        },
        {
          "output_type": "stream",
          "name": "stderr",
          "text": [
            "\n",
            "  0%|          | 0/2 [00:00<?, ?it/s]\u001b[A\n",
            " 50%|█████     | 1/2 [00:00<00:00,  1.62it/s]\u001b[A\n",
            "100%|██████████| 2/2 [00:01<00:00,  1.53it/s]\n",
            " 60%|██████    | 3/5 [00:04<00:02,  1.48s/it]"
          ]
        },
        {
          "output_type": "stream",
          "name": "stdout",
          "text": [
            "Max number of columns: 5\n",
            "['Product', '| Phase |', 'Indication', '| Release Date', 'Page Number']\n",
            "['JCARO15', '2', 'R/R adult ALL', '14 Jul 2016', 'Page 86 of 131']\n"
          ]
        },
        {
          "output_type": "stream",
          "name": "stderr",
          "text": [
            "\n",
            "  0%|          | 0/2 [00:00<?, ?it/s]\u001b[A\n",
            " 50%|█████     | 1/2 [00:00<00:00,  1.58it/s]\u001b[A\n",
            "100%|██████████| 2/2 [00:01<00:00,  1.58it/s]\n",
            " 80%|████████  | 4/5 [00:05<00:01,  1.40s/it]"
          ]
        },
        {
          "output_type": "stream",
          "name": "stdout",
          "text": [
            "Max number of columns: 5\n",
            "['Product', 'Phase |', 'Indication', 'Release Date', 'Page Number']\n",
            "['JCARO15', '2', 'R/R adult ALL', '14 Jul 2016', 'Page 87 of 131']\n"
          ]
        },
        {
          "output_type": "stream",
          "name": "stderr",
          "text": [
            "\n",
            "  0%|          | 0/2 [00:00<?, ?it/s]\u001b[A\n",
            " 50%|█████     | 1/2 [00:00<00:00,  1.55it/s]\u001b[A\n",
            "100%|██████████| 2/2 [00:01<00:00,  1.53it/s]\n",
            "100%|██████████| 5/5 [00:07<00:00,  1.45s/it]\n"
          ]
        },
        {
          "output_type": "stream",
          "name": "stdout",
          "text": [
            "Max number of columns: 5\n",
            "['Product', '| Phase |', 'Indication', '| Release Date', '| Page Number']\n",
            "['JCARO15', '2', 'R/R adult ALL', '14 Jul 2016', 'Page 88 of 131']\n"
          ]
        },
        {
          "output_type": "stream",
          "name": "stderr",
          "text": [
            "  0%|          | 0/5 [00:00<?, ?it/s]\n",
            "  0%|          | 0/2 [00:00<?, ?it/s]\u001b[A\n",
            " 50%|█████     | 1/2 [00:01<00:01,  1.09s/it]\u001b[A\n",
            "100%|██████████| 2/2 [00:02<00:00,  1.15s/it]\n",
            " 20%|██        | 1/5 [00:02<00:09,  2.30s/it]"
          ]
        },
        {
          "output_type": "stream",
          "name": "stdout",
          "text": [
            "Max number of columns: 5\n",
            "['Product', '| Phase |', 'Indication', '| Release Date', 'Page Number']\n",
            "['JCARO15', '2', 'R/R adult ALL', '14 Jul 2016', 'Page 89 of 131']\n"
          ]
        },
        {
          "output_type": "stream",
          "name": "stderr",
          "text": [
            "\n",
            "  0%|          | 0/2 [00:00<?, ?it/s]\u001b[A\n",
            " 50%|█████     | 1/2 [00:01<00:01,  1.04s/it]\u001b[A\n",
            "100%|██████████| 2/2 [00:01<00:00,  1.18it/s]\n",
            " 40%|████      | 2/5 [00:04<00:05,  1.96s/it]"
          ]
        },
        {
          "output_type": "stream",
          "name": "stdout",
          "text": [
            "Max number of columns: 5\n",
            "['Product', 'Phase |', 'Indication', 'Release Date', 'Page Number']\n",
            "['JCARO15', '2', 'R/R adult ALL', '14 Jul 2016', 'Page 90 of 131']\n"
          ]
        },
        {
          "output_type": "stream",
          "name": "stderr",
          "text": [
            "\n",
            "  0%|          | 0/2 [00:00<?, ?it/s]\u001b[A\n",
            " 50%|█████     | 1/2 [00:00<00:00,  1.59it/s]\u001b[A\n",
            "100%|██████████| 2/2 [00:01<00:00,  1.59it/s]\n",
            " 60%|██████    | 3/5 [00:05<00:03,  1.64s/it]"
          ]
        },
        {
          "output_type": "stream",
          "name": "stdout",
          "text": [
            "Max number of columns: 5\n",
            "['Product', '| Phase |', 'Indication', 'Release Date', 'Page Number']\n",
            "['JCARO15', '2', 'R/R adult ALL', '14 Jul 2016', 'Page 91 of 131']\n"
          ]
        },
        {
          "output_type": "stream",
          "name": "stderr",
          "text": [
            "\n",
            "  0%|          | 0/2 [00:00<?, ?it/s]\u001b[A\n",
            " 50%|█████     | 1/2 [00:00<00:00,  1.58it/s]\u001b[A\n",
            "100%|██████████| 2/2 [00:01<00:00,  1.57it/s]\n",
            " 80%|████████  | 4/5 [00:06<00:01,  1.50s/it]"
          ]
        },
        {
          "output_type": "stream",
          "name": "stdout",
          "text": [
            "Max number of columns: 5\n",
            "['Product', '| Phase |', 'Indication', '| Release Date', 'Page Number']\n",
            "['JCARO15', '2', 'R/R adult ALL', '14 Jul 2016', 'Page 92 of 131']\n"
          ]
        },
        {
          "output_type": "stream",
          "name": "stderr",
          "text": [
            "\n",
            "  0%|          | 0/2 [00:00<?, ?it/s]\u001b[A\n",
            " 50%|█████     | 1/2 [00:00<00:00,  1.59it/s]\u001b[A\n",
            "100%|██████████| 2/2 [00:01<00:00,  1.56it/s]\n",
            "100%|██████████| 5/5 [00:07<00:00,  1.57s/it]\n"
          ]
        },
        {
          "output_type": "stream",
          "name": "stdout",
          "text": [
            "Max number of columns: 5\n",
            "['Product', '| Phase |', 'Indication', '| Release Date', 'Page Number']\n",
            "['JCAROI5', '2', 'R/R adult ALL', '14 Jul 2016', 'Page 93 of 131']\n"
          ]
        },
        {
          "output_type": "stream",
          "name": "stderr",
          "text": [
            "  0%|          | 0/5 [00:00<?, ?it/s]\n",
            "  0%|          | 0/2 [00:00<?, ?it/s]\u001b[A\n",
            " 50%|█████     | 1/2 [00:01<00:01,  1.10s/it]\u001b[A\n",
            "100%|██████████| 2/2 [00:02<00:00,  1.14s/it]\n",
            " 20%|██        | 1/5 [00:02<00:09,  2.29s/it]"
          ]
        },
        {
          "output_type": "stream",
          "name": "stdout",
          "text": [
            "Max number of columns: 5\n",
            "['Product', '| Phase |', 'Indication', '| Release Date', 'Page Number']\n",
            "['JCARO15', '2', 'R/R adult ALL', '14 Jul 2016', 'Page 94 of 131']\n"
          ]
        },
        {
          "output_type": "stream",
          "name": "stderr",
          "text": [
            "\n",
            "  0%|          | 0/2 [00:00<?, ?it/s]\u001b[A\n",
            " 50%|█████     | 1/2 [00:01<00:01,  1.14s/it]\u001b[A\n",
            "100%|██████████| 2/2 [00:01<00:00,  1.05it/s]\n",
            " 40%|████      | 2/5 [00:04<00:06,  2.07s/it]"
          ]
        },
        {
          "output_type": "stream",
          "name": "stdout",
          "text": [
            "Max number of columns: 5\n",
            "['Product', '| Phase |', 'Indication', '| Release Date', 'Page Number']\n",
            "['JCAROI5', '2', 'R/R adult ALL', '14 Jul 2016', 'Page 95 of 131']\n"
          ]
        },
        {
          "output_type": "stream",
          "name": "stderr",
          "text": [
            "\n",
            "  0%|          | 0/2 [00:00<?, ?it/s]\u001b[A\n",
            " 50%|█████     | 1/2 [00:00<00:00,  1.56it/s]\u001b[A\n",
            "100%|██████████| 2/2 [00:01<00:00,  1.54it/s]\n",
            " 60%|██████    | 3/5 [00:05<00:03,  1.72s/it]"
          ]
        },
        {
          "output_type": "stream",
          "name": "stdout",
          "text": [
            "Max number of columns: 5\n",
            "['Product', '| Phase |', 'Indication', 'Release Date', '| Page Number']\n",
            "['JCAROI5', '2', 'R/R adult ALL', '14 Jul 2016', 'Page 96 of 131']\n"
          ]
        },
        {
          "output_type": "stream",
          "name": "stderr",
          "text": [
            "\n",
            "  0%|          | 0/2 [00:00<?, ?it/s]\u001b[A\n",
            " 50%|█████     | 1/2 [00:00<00:00,  1.56it/s]\u001b[A\n",
            "100%|██████████| 2/2 [00:01<00:00,  1.56it/s]\n",
            " 80%|████████  | 4/5 [00:06<00:01,  1.55s/it]"
          ]
        },
        {
          "output_type": "stream",
          "name": "stdout",
          "text": [
            "Max number of columns: 5\n",
            "['Product', '| Phase |', 'Indication', '| Release Date', 'Page Number']\n",
            "['JCARO15', '2', 'R/R adult ALL', '14 Jul 2016', 'Page 97 of 131']\n"
          ]
        },
        {
          "output_type": "stream",
          "name": "stderr",
          "text": [
            "\n",
            "  0%|          | 0/2 [00:00<?, ?it/s]\u001b[A\n",
            " 50%|█████     | 1/2 [00:00<00:00,  1.58it/s]\u001b[A\n",
            "100%|██████████| 2/2 [00:01<00:00,  1.53it/s]\n",
            "100%|██████████| 5/5 [00:08<00:00,  1.62s/it]\n"
          ]
        },
        {
          "output_type": "stream",
          "name": "stdout",
          "text": [
            "Max number of columns: 5\n",
            "['Product', '| Phase |', 'Indication', '| Release Date', 'Page Number']\n",
            "['JCARO15', '2', 'R/R adult ALL', '14 Jul 2016', 'Page 98 of 131']\n"
          ]
        },
        {
          "output_type": "stream",
          "name": "stderr",
          "text": [
            "  0%|          | 0/5 [00:00<?, ?it/s]\n",
            "  0%|          | 0/2 [00:00<?, ?it/s]\u001b[A\n",
            " 50%|█████     | 1/2 [00:00<00:00,  1.09it/s]\u001b[A\n",
            "100%|██████████| 2/2 [00:02<00:00,  1.08s/it]\n",
            " 20%|██        | 1/5 [00:02<00:08,  2.16s/it]"
          ]
        },
        {
          "output_type": "stream",
          "name": "stdout",
          "text": [
            "Max number of columns: 5\n",
            "['Product', '| Phase |', 'Indication', '| Release Date', 'Page Number']\n",
            "['JCARO15', '2', 'R/R adult ALL', '14 Jul 2016', 'Page 99 of 131']\n"
          ]
        },
        {
          "output_type": "stream",
          "name": "stderr",
          "text": [
            "\n",
            "  0%|          | 0/2 [00:00<?, ?it/s]\u001b[A\n",
            " 50%|█████     | 1/2 [00:01<00:01,  1.15s/it]\u001b[A\n",
            "100%|██████████| 2/2 [00:02<00:00,  1.02s/it]\n",
            " 40%|████      | 2/5 [00:04<00:06,  2.10s/it]"
          ]
        },
        {
          "output_type": "stream",
          "name": "stdout",
          "text": [
            "Max number of columns: 5\n",
            "['Product', '| Phase |', 'Indication', '| Release Date', 'Page Number']\n",
            "['JCAROI5', '2', 'R/R adult ALL', '14 Jul 2016', 'Page 100 of 131']\n"
          ]
        },
        {
          "output_type": "stream",
          "name": "stderr",
          "text": [
            "\n",
            "  0%|          | 0/2 [00:00<?, ?it/s]\u001b[A\n",
            " 50%|█████     | 1/2 [00:00<00:00,  1.52it/s]\u001b[A\n",
            "100%|██████████| 2/2 [00:01<00:00,  1.55it/s]\n",
            " 60%|██████    | 3/5 [00:05<00:03,  1.73s/it]"
          ]
        },
        {
          "output_type": "stream",
          "name": "stdout",
          "text": [
            "Max number of columns: 5\n",
            "['Product', '| Phase |', 'Indication', '| Release Date', 'Page Number']\n",
            "['JCAROI5', '2', 'R/R adult ALL', '14 Jul 2016', 'Page 101 of 131']\n"
          ]
        },
        {
          "output_type": "stream",
          "name": "stderr",
          "text": [
            "\n",
            "  0%|          | 0/2 [00:00<?, ?it/s]\u001b[A\n",
            " 50%|█████     | 1/2 [00:00<00:00,  1.55it/s]\u001b[A\n",
            "100%|██████████| 2/2 [00:01<00:00,  1.56it/s]\n",
            " 80%|████████  | 4/5 [00:06<00:01,  1.56s/it]"
          ]
        },
        {
          "output_type": "stream",
          "name": "stdout",
          "text": [
            "Max number of columns: 5\n",
            "['Product', '| Phase |', 'Indication', 'Release Date', 'Page Number']\n",
            "['JCAROI5', '2', 'R/R adult ALL', '14 Jul 2016', 'Page 102 of 131']\n"
          ]
        },
        {
          "output_type": "stream",
          "name": "stderr",
          "text": [
            "\n",
            "  0%|          | 0/2 [00:00<?, ?it/s]\u001b[A\n",
            " 50%|█████     | 1/2 [00:00<00:00,  1.57it/s]\u001b[A\n",
            "100%|██████████| 2/2 [00:01<00:00,  1.52it/s]\n",
            "100%|██████████| 5/5 [00:08<00:00,  1.63s/it]\n"
          ]
        },
        {
          "output_type": "stream",
          "name": "stdout",
          "text": [
            "Max number of columns: 5\n",
            "['Product', '| Phase |', 'Indication', '| Release Date', '| Page Number']\n",
            "['JCAROI5', '2', 'R/R adult ALL', '14 Jul 2016', 'Page 103 of 131']\n"
          ]
        },
        {
          "output_type": "stream",
          "name": "stderr",
          "text": [
            "  0%|          | 0/5 [00:00<?, ?it/s]\n",
            "  0%|          | 0/2 [00:00<?, ?it/s]\u001b[A\n",
            " 50%|█████     | 1/2 [00:00<00:00,  1.08it/s]\u001b[A\n",
            "100%|██████████| 2/2 [00:02<00:00,  1.08s/it]\n",
            " 20%|██        | 1/5 [00:02<00:08,  2.17s/it]"
          ]
        },
        {
          "output_type": "stream",
          "name": "stdout",
          "text": [
            "Max number of columns: 5\n",
            "['Product', '| Phase |', 'Indication', '| Release Date', 'Page Number']\n",
            "['JCARO15', '2', 'R/R adult ALL', '14 Jul 2016', 'Page 104 of 131']\n"
          ]
        },
        {
          "output_type": "stream",
          "name": "stderr",
          "text": [
            "\n",
            "  0%|          | 0/2 [00:00<?, ?it/s]\u001b[A\n",
            " 50%|█████     | 1/2 [00:01<00:01,  1.12s/it]\u001b[A\n",
            "100%|██████████| 2/2 [00:02<00:00,  1.02s/it]\n",
            " 40%|████      | 2/5 [00:04<00:06,  2.09s/it]"
          ]
        },
        {
          "output_type": "stream",
          "name": "stdout",
          "text": [
            "Max number of columns: 5\n",
            "['Product', '| Phase |', 'Indication', 'Release Date', 'Page Number']\n",
            "['JCARO15', '2', 'R/R adult ALL', '14 Jul 2016', 'Page 105 of 131']\n"
          ]
        },
        {
          "output_type": "stream",
          "name": "stderr",
          "text": [
            "\n",
            "  0%|          | 0/2 [00:00<?, ?it/s]\u001b[A\n",
            " 50%|█████     | 1/2 [00:00<00:00,  1.62it/s]\u001b[A\n",
            "100%|██████████| 2/2 [00:01<00:00,  1.57it/s]\n",
            " 60%|██████    | 3/5 [00:05<00:03,  1.73s/it]"
          ]
        },
        {
          "output_type": "stream",
          "name": "stdout",
          "text": [
            "Max number of columns: 5\n",
            "['Product', '| Phase |', 'Indication', '| Release Date', '| Page Number']\n",
            "['JCARO15', '2', 'R/R adult ALL', '14 Jul 2016', 'Page 106 of 131']\n"
          ]
        },
        {
          "output_type": "stream",
          "name": "stderr",
          "text": [
            "\n",
            "  0%|          | 0/2 [00:00<?, ?it/s]\u001b[A\n",
            " 50%|█████     | 1/2 [00:00<00:00,  1.59it/s]\u001b[A\n",
            "100%|██████████| 2/2 [00:01<00:00,  1.60it/s]\n",
            " 80%|████████  | 4/5 [00:06<00:01,  1.54s/it]"
          ]
        },
        {
          "output_type": "stream",
          "name": "stdout",
          "text": [
            "Max number of columns: 5\n",
            "['Product', '| Phase |', 'Indication', 'Release Date', 'Page Number']\n",
            "['JCAROI5', '2', 'R/R adult ALL', '14 Jul 2016', 'Page 107 of 131']\n"
          ]
        },
        {
          "output_type": "stream",
          "name": "stderr",
          "text": [
            "\n",
            "  0%|          | 0/2 [00:00<?, ?it/s]\u001b[A\n",
            " 50%|█████     | 1/2 [00:00<00:00,  1.57it/s]\u001b[A\n",
            "100%|██████████| 2/2 [00:01<00:00,  1.50it/s]\n",
            "100%|██████████| 5/5 [00:08<00:00,  1.62s/it]\n"
          ]
        },
        {
          "output_type": "stream",
          "name": "stdout",
          "text": [
            "Max number of columns: 5\n",
            "['Product', '| Phase |', 'Indication', '| Release Date', '| Page Number']\n",
            "['JCAROI5', '2', 'R/R adult ALL', '14 Jul 2016', 'Page 108 of 131']\n"
          ]
        },
        {
          "output_type": "stream",
          "name": "stderr",
          "text": [
            "  0%|          | 0/5 [00:00<?, ?it/s]\n",
            "  0%|          | 0/2 [00:00<?, ?it/s]\u001b[A\n",
            " 50%|█████     | 1/2 [00:01<00:01,  1.08s/it]\u001b[A\n",
            "100%|██████████| 2/2 [00:02<00:00,  1.14s/it]\n",
            " 20%|██        | 1/5 [00:02<00:09,  2.29s/it]"
          ]
        },
        {
          "output_type": "stream",
          "name": "stdout",
          "text": [
            "Max number of columns: 5\n",
            "['Product', '| Phase |', 'Indication', '| Release Date', 'Page Number']\n",
            "['JCAROI5', '2', 'R/R adult ALL', '14 Jul 2016', 'Page 109 of 131']\n"
          ]
        },
        {
          "output_type": "stream",
          "name": "stderr",
          "text": [
            "\n",
            "  0%|          | 0/2 [00:00<?, ?it/s]\u001b[A\n",
            " 50%|█████     | 1/2 [00:01<00:01,  1.14s/it]\u001b[A\n",
            "100%|██████████| 2/2 [00:01<00:00,  1.12it/s]\n",
            " 40%|████      | 2/5 [00:04<00:06,  2.00s/it]"
          ]
        },
        {
          "output_type": "stream",
          "name": "stdout",
          "text": [
            "Max number of columns: 5\n",
            "['Product', '| Phase |', 'Indication', 'Release Date', '| Page Number']\n",
            "['JCAROI5', '2', 'R/R adult ALL', '14 Jul 2016', 'Page 110 of 131']\n"
          ]
        },
        {
          "output_type": "stream",
          "name": "stderr",
          "text": [
            "\n",
            "  0%|          | 0/2 [00:00<?, ?it/s]\u001b[A\n",
            " 50%|█████     | 1/2 [00:00<00:00,  1.63it/s]\u001b[A\n",
            "100%|██████████| 2/2 [00:01<00:00,  1.58it/s]\n",
            " 60%|██████    | 3/5 [00:05<00:03,  1.67s/it]"
          ]
        },
        {
          "output_type": "stream",
          "name": "stdout",
          "text": [
            "Max number of columns: 5\n",
            "['Product', 'Phase |', 'Indication', '| Release Date', 'Page Number']\n",
            "['JCAROI5', '2', 'R/R adult ALL', '14 Jul 2016', 'Page 111 of 131']\n"
          ]
        },
        {
          "output_type": "stream",
          "name": "stderr",
          "text": [
            "\n",
            "  0%|          | 0/2 [00:00<?, ?it/s]\u001b[A\n",
            " 50%|█████     | 1/2 [00:00<00:00,  1.55it/s]\u001b[A\n",
            "100%|██████████| 2/2 [00:01<00:00,  1.54it/s]\n",
            " 80%|████████  | 4/5 [00:06<00:01,  1.53s/it]"
          ]
        },
        {
          "output_type": "stream",
          "name": "stdout",
          "text": [
            "Max number of columns: 5\n",
            "['Product', 'Phase |', 'Indication', 'Release Date', 'Page Number']\n",
            "['JCARO15', '2', 'R/R adult ALL', '14 Jul 2016', 'Page 112 of 131']\n"
          ]
        },
        {
          "output_type": "stream",
          "name": "stderr",
          "text": [
            "\n",
            "  0%|          | 0/28 [00:00<?, ?it/s]\u001b[A\n",
            "  4%|▎         | 1/28 [00:00<00:24,  1.12it/s]\u001b[A\n",
            "  7%|▋         | 2/28 [00:01<00:21,  1.19it/s]\u001b[A\n",
            " 11%|█         | 3/28 [00:02<00:20,  1.23it/s]\u001b[A\n",
            " 14%|█▍        | 4/28 [00:03<00:19,  1.26it/s]\u001b[A\n",
            " 18%|█▊        | 5/28 [00:04<00:20,  1.13it/s]\u001b[A\n",
            " 21%|██▏       | 6/28 [00:05<00:19,  1.15it/s]\u001b[A\n",
            " 25%|██▌       | 7/28 [00:05<00:18,  1.15it/s]\u001b[A\n",
            " 29%|██▊       | 8/28 [00:06<00:17,  1.17it/s]\u001b[A\n",
            " 32%|███▏      | 9/28 [00:08<00:19,  1.01s/it]\u001b[A\n",
            " 36%|███▌      | 10/28 [00:09<00:20,  1.12s/it]\u001b[A\n",
            " 39%|███▉      | 11/28 [00:10<00:20,  1.18s/it]\u001b[A\n",
            " 43%|████▎     | 12/28 [00:11<00:16,  1.04s/it]\u001b[A\n",
            " 46%|████▋     | 13/28 [00:12<00:14,  1.05it/s]\u001b[A\n",
            " 50%|█████     | 14/28 [00:13<00:12,  1.10it/s]\u001b[A\n",
            " 54%|█████▎    | 15/28 [00:13<00:11,  1.15it/s]\u001b[A\n",
            " 57%|█████▋    | 16/28 [00:14<00:09,  1.23it/s]\u001b[A\n",
            " 61%|██████    | 17/28 [00:15<00:08,  1.26it/s]\u001b[A\n",
            " 64%|██████▍   | 18/28 [00:16<00:07,  1.28it/s]\u001b[A\n",
            " 68%|██████▊   | 19/28 [00:16<00:07,  1.26it/s]\u001b[A\n",
            " 71%|███████▏  | 20/28 [00:17<00:06,  1.25it/s]\u001b[A\n",
            " 75%|███████▌  | 21/28 [00:18<00:05,  1.25it/s]\u001b[A\n",
            " 79%|███████▊  | 22/28 [00:19<00:04,  1.27it/s]\u001b[A\n",
            " 82%|████████▏ | 23/28 [00:20<00:03,  1.28it/s]\u001b[A\n",
            " 86%|████████▌ | 24/28 [00:20<00:03,  1.23it/s]\u001b[A\n",
            " 89%|████████▉ | 25/28 [00:22<00:02,  1.02it/s]\u001b[A\n",
            " 93%|█████████▎| 26/28 [00:23<00:02,  1.10s/it]\u001b[A\n",
            " 96%|█████████▋| 27/28 [00:24<00:01,  1.11s/it]\u001b[A\n",
            "100%|██████████| 28/28 [00:25<00:00,  1.09it/s]\n",
            "100%|██████████| 5/5 [00:32<00:00,  6.46s/it]\n"
          ]
        },
        {
          "output_type": "stream",
          "name": "stdout",
          "text": [
            "Max number of columns: 6\n",
            "['Schedule of Events\\n(Part A)', 'Events\\n)', 'Protocol\\nSection', 'Screening', '| Leukapheresis', 'Cytoreductive\\nChemotherapy“']\n",
            "['Obtain informed consent', '|', 'TS', 'xX', '|', '']\n",
            "['Inclusion/exclusion criteria', 'eria', '5', 'XxX', '|', '']\n",
            "['Concomitant medications”', 'ns?', '8.3.3', 'xX', 'fo xX', 'xX']\n",
            "['Medical history, including confir1\\nof diagnosis, leukemia-specific hi\\nstem cell transplant history (if\\napplicable), and prior chemothera\\ntreatment', 'ing confirmation\\nspecific history,\\nory (if\\nnemotherapy', 'i', 'xX', 'f', '']\n",
            "['Physical examination, including\\nneurologic examination', 'ncluding', '8.3.2; 8.3.4', 'xX', 'L¢', 'As clinically\\nindicated']\n",
            "['Vital signs including room air Sat', 'om air SaQ2', '8.3.5.2', 'xX', 'i', 'As clinically\\nindicated']\n",
            "['Height', '|', '8.3.5.3', 'xX', 'df}', '']\n",
            "['Weight', '|', '8.3.5.3', 'xX', 'pow X', '']\n",
            "['ECOG performance status', 'tus', '8.3.5.4', 'Xx', 'aT', '']\n",
            "['Echocardiogram/MUGA scan°', 'A scan®', '8.3.5.5', 'xX', 'i', '']\n",
            "['12-Lead ECG', '|', '8.3.5.6', 'x!', 'i', '']\n",
            "['Chest x-ray', '|', '835°7', 'xX', '{|', '']\n",
            "['Head CT or MRI“', '|', '<b', 'As clinically\\nindicated', 'i', '']\n",
            "['Neuropsychological assessment', 'essment', '8.3.4', 'xX', '|', '']\n",
            "['Local Laboratory Evaluations', 'luations', '', '', '', '']\n",
            "['Serum chemistry', 'Appendix D |', 'x!', 'As clinically\\nindicated', '', '']\n",
            "['Serum inflammation markers', 'irkers', 'Appendix D', 'xX', 'L______', '']\n",
            "['Hematology', '& |', 'Appendix D', 'ee', 'i', 'As clinically\\nindicated']\n",
            "['Serum pregnancy test”', 'SS |', '|', 'xX', 'lt', '']\n",
            "['Viral serologies', '|', 'Appendix D', 'xX', 'i', '']\n",
            "['Coagulation', '|', 'Appendix D', 'xX', 'Lo', 'As clinically\\nindicated']\n",
            "['Urinalysis', '|', 'Appendix D', 'xX', 'Lt', 'As clinically\\nindicated']\n",
            "['Serum immunoglobulins', 's', 'Appendix D', 'x’', '1', '']\n",
            "['Donor chimerism/', '|', 'Appendix D', 'x’', 'tO', '']\n",
            "['CSF assessment®', '—', '8.3.4', 'x!', 'to', '']\n",
            "['Product Phas', 'Phase', 'Indication', '|', 'elease Date', 'Page Number']\n",
            "['JCAROI5S 2', '2 |', 'R/R adult ALL', 'I', '4 Jul 2016', 'Page 113 of 131']\n",
            "No tables detected in the image.\n"
          ]
        },
        {
          "output_type": "stream",
          "name": "stderr",
          "text": [
            "  0%|          | 0/6 [00:00<?, ?it/s]\n",
            "  0%|          | 0/13 [00:00<?, ?it/s]\u001b[A\n",
            "  8%|▊         | 1/13 [00:01<00:16,  1.40s/it]\u001b[A\n",
            " 15%|█▌        | 2/13 [00:02<00:14,  1.33s/it]\u001b[A\n",
            " 23%|██▎       | 3/13 [00:03<00:12,  1.27s/it]\u001b[A\n",
            " 31%|███       | 4/13 [00:05<00:11,  1.29s/it]\u001b[A\n",
            " 38%|███▊      | 5/13 [00:05<00:08,  1.11s/it]\u001b[A\n",
            " 46%|████▌     | 6/13 [00:06<00:06,  1.04it/s]\u001b[A\n",
            " 54%|█████▍    | 7/13 [00:07<00:04,  1.21it/s]\u001b[A\n",
            " 62%|██████▏   | 8/13 [00:07<00:03,  1.32it/s]\u001b[A\n",
            " 69%|██████▉   | 9/13 [00:08<00:02,  1.36it/s]\u001b[A\n",
            " 77%|███████▋  | 10/13 [00:09<00:02,  1.40it/s]\u001b[A\n",
            " 85%|████████▍ | 11/13 [00:09<00:01,  1.53it/s]\u001b[A\n",
            " 92%|█████████▏| 12/13 [00:10<00:00,  1.52it/s]\u001b[A\n",
            "100%|██████████| 13/13 [00:11<00:00,  1.18it/s]\n",
            " 17%|█▋        | 1/6 [00:11<00:55, 11.03s/it]"
          ]
        },
        {
          "output_type": "stream",
          "name": "stdout",
          "text": [
            "Max number of columns: 5\n",
            "['Schedule of Events\\n(Part A)', 'Protocol\\nSection', 'Screening', '| Leukapheresis', 'Cytoreductive\\nChemotherapy“']\n",
            "['Bone marrow examination (aspirate and\\nbiopsy)', 'ae', 'xX', 'fo', '']\n",
            "['Cytogenetics:', '|', '|', '', '']\n",
            "['Karyotyping and FISH (if data from\\ncurrent relapse not available)!', 'an', 'xX', '—', '']\n",
            "['HLA testing (if historical data are not\\navailable)”', 'Appendix D |', 'x!', 'LS', '']\n",
            "['BCR-ABL qPCR (peripheral blood or\\nbone marrow)!', 'a', 'x!', 'fo', '']\n",
            "['Intervention', '', '', '', '']\n",
            "['Leukapheresis', '8.2.1.2', '. x {€', '', '']\n",
            "['Cytoreductive chemotherapy', '62.', '| <<,', '| x', '']\n",
            "['Other supportive therapies while on\\nstudy', 'io', 'As clinically\\nindicated', '', '']\n",
            "['Safety', '', '', '', '']\n",
            "['Serious adverse events', 'a ae', 'xX', 'RPO x', 'xX']\n",
            "['Biomarkers and PK', 'See Appendi', 'x © for details', '', '']\n"
          ]
        },
        {
          "output_type": "stream",
          "name": "stderr",
          "text": [
            "\n",
            "  0%|          | 0/2 [00:00<?, ?it/s]\u001b[A\n",
            " 50%|█████     | 1/2 [00:00<00:00,  1.62it/s]\u001b[A\n",
            "100%|██████████| 2/2 [00:01<00:00,  1.56it/s]\n",
            " 33%|███▎      | 2/6 [00:12<00:21,  5.31s/it]"
          ]
        },
        {
          "output_type": "stream",
          "name": "stdout",
          "text": [
            "Max number of columns: 5\n",
            "['Product', '| Phase |', 'Indication', '| Release Date', '| Page Number']\n",
            "['JCARO15', '2', 'R/R adult ALL', '14 Jul 2016', 'Page 114 of 131']\n"
          ]
        },
        {
          "output_type": "stream",
          "name": "stderr",
          "text": [
            "\n",
            "  0%|          | 0/16 [00:00<?, ?it/s]\u001b[A\n",
            "  6%|▋         | 1/16 [00:04<01:06,  4.42s/it]\u001b[A\n",
            " 12%|█▎        | 2/16 [00:08<00:56,  4.05s/it]\u001b[A\n",
            " 19%|█▉        | 3/16 [00:11<00:45,  3.48s/it]\u001b[A\n",
            " 25%|██▌       | 4/16 [00:13<00:38,  3.23s/it]\u001b[A\n",
            " 31%|███▏      | 5/16 [00:16<00:34,  3.11s/it]\u001b[A\n",
            " 38%|███▊      | 6/16 [00:21<00:35,  3.59s/it]\u001b[A\n",
            " 44%|████▍     | 7/16 [00:24<00:30,  3.36s/it]\u001b[A\n",
            " 50%|█████     | 8/16 [00:27<00:25,  3.20s/it]\u001b[A\n",
            " 56%|█████▋    | 9/16 [00:29<00:21,  3.08s/it]\u001b[A\n",
            " 62%|██████▎   | 10/16 [00:34<00:20,  3.43s/it]\u001b[A\n",
            " 69%|██████▉   | 11/16 [00:37<00:16,  3.28s/it]\u001b[A\n",
            " 75%|███████▌  | 12/16 [00:39<00:12,  3.16s/it]\u001b[A\n",
            " 81%|████████▏ | 13/16 [00:42<00:09,  3.06s/it]\u001b[A\n",
            " 88%|████████▊ | 14/16 [00:46<00:06,  3.25s/it]\u001b[A\n",
            " 94%|█████████▍| 15/16 [00:50<00:03,  3.37s/it]\u001b[A\n",
            "100%|██████████| 16/16 [00:52<00:00,  3.30s/it]\n",
            " 50%|█████     | 3/6 [01:05<01:21, 27.03s/it]"
          ]
        },
        {
          "output_type": "stream",
          "name": "stdout",
          "text": [
            "Max number of columns: 25\n",
            "['Schedule of Events\\n(Part B)', 's\\nS\\n3S\\n2\\n3\\nnv\\n3\\n5\\ns\\n2\\n°\\nim\\na', 'on\\n4\\n=\\n3\\n3\\n~\\n5\\na\\naa)\\n-\\nSs\\na', 'Of\\nEx\\nZé\\n\\nao\\nga\\n\\nt=\\n2g\\na5\\n\\nEs\\n\\nme\\n—', '=\\n=\\nFE\\ng\\n3\\na\\nwo\\n=\\nSs\\nx\\n<\\nVv\\n5', 'se #1', '‘\\n:\\n‘\\n=\\n-\\n4\\nx\\n¢\\n<\\n¢\\n:\\n>\\n-', '3\\na\\n|\\ns| 3\\n5] A\\n| 2\\n| 2\\n5\\n=| <\\n10\\ngS', 'I', 'Post', 'Dose', 'ose #2', 'f', 'Pos\\nPo:\\nI\\nPo:\\nret', 'Post-\\nPost-\\nrec\\nPost-\\nrece!', 'nfusi\\nose j\\nive b\\nose\\ne onl', 'on M\\n#2 (su\\noth in\\nor\\nél (su\\ny one', 'onito\\nbject\\nfusio:\\nbject:\\ninfus', '‘ing:\\nthat\\n1s)\\nthat\\nion)', 'Z\\ns\\n4\\n>\\n+\\n=\\n2\\n3\\nS\\n2\\n€\\nz\\n°\\n-—', '>\\n3\\n3\\naD\\n=O\\n\\nog\\n3\\n\\ns\\nwl', '2\\n2\\n2\\n3\\n3\\nme\\ng\\n=', '', '', '']\n",
            "['| Scheduled Study Day', '-18\\nto -2', ')2', '1 |', '| 4', '14]', '1¢\\n2', '|\\nt', 'ja', '| 4', '4|', '7 |', '11 |', '| 4', 'ny', '| 60', '60 |', ') 12', 'of st', '18', '|270', 'Ss\\n3\\n\\no\\nei', '360 |', '>', '']\n",
            "['Scheduled Study Month', '|', 'dT', '_', '|', 'fo', 'Til', '|', 'oT.', '|', '|', '|', '|', '|', 'IN', '. |', '[2', '2]', '| 4', '15', 'lo', '[9', 'g\\nz\\n=', '12 |', '']\n",
            "['Visit Window (days)', '|', 'NA |', '3%', 'if', '[el', '#1]', '2 | :', '1', '[al', '+1 | 4', '#1]', '£1 |', 'jal', 'j=l4', '14]', '4|4+1', '4}+1¢', '414', '+14', 'Laid', '#14 |', '', '', '']\n",
            "['Inclusion/exclusion criteria', '5.2 |', 'x]', '_', '|', '[to', 'TI', 'L', 'cL', 'Lt', '|', 'wy', 'Ay)', 'ni', '~', 'ot', '|', 'of', 'ia', '|', 'i', '[', '|', '', '']\n",
            "['Concomitant medications', '8.3.3', 'xi', 'xX', 'xX]', 'c| X', 'x}', 'x |', '|', '[Xx', 'Lx', 'X |.', 'x]', 'xX |', '|x', 'X |?', '{x', 'X[', '[|X', '[x', '[x', '| Xx', 'XxX', 'x', 'Xx']\n",
            "['Physical examination‘', '8.3.2', 'XI', 'a', 'Xx |', '| X', 'XI', 'x |', '<|', '|x', '[%&', 'x', 'x |', 'Xf', '|x', 'x |', '|x', 'X|', '|X', '[x', 'Ix', '| x', 'XxX', 'Xx |', 'xX']\n",
            "['Vital signs, including room\\nair SaQ2!', '830.2', 'x]', 'x', 'x|', 'fx', 'x|', 'a', '|', '|¥', 'x', '¥ |', 'x]', 'x', '|x', 'x)', '|x', 'x |', 'x', '|x', '|x', 'x', 'xX', 'xt |', 'Xx']\n",
            "['Weight', '83.0.3', 'x', '_', 'x]', '|', 'il', 'of', '|.', '|X', '|', 'Wr', '|', ']', '|', 'ain', '|', '|', '|.', '|', '{', '|', '|', '', '']\n",
            "['ECOG performance status', '8.3.5.4', 'x |', 'Xx |', 'x |', 'x |', '“|', '*', 'x |', 'x', 'x} >', '| x', 'x |', '(| x', 'x', 'x', 'x', 'xe |', 'XxX', '', '', '', '', '', '']\n",
            "['MMSE', '8.3.4', 'x |', '_', 'x |', 'c| 3', 'x |', 'x', 'x |', '|x', 'i', '% |', 'x |', 'x |', '|x', 'x | 3', '|', '|', 'Cf', 'i', '|x', '| x', 'xe |', 'XxX', '']\n",
            "['ECHO/MUGA scan', '8:3:5.5', 'xe |', '~', '|', 'fo', 'ff', '“|', 'of', '[', 'Jf', 'Wy', '|', 'of', 'yo', '|', '|', '|', 'fo', '|', '|', '}', '|', '', '']\n",
            "['12-Lead ECG', '8.3.5.6', 'xe |', '=', '|', '| o', '>‘', 'A', '|', '[', 'fo', 'I', 'mi', 'of', '[o', '|', '|', '|', 'fe', '|', '|', '}', '|', '', '']\n",
            "['Head CT or MRI', '|', 'xe |', '|', '|', '[o', 'ei', '|', '|', 'y-', 'ft', 'HL', '|', 'of', '| o', '|', 'i', 'As', 'clinic', 'vally i', 'idicat', 'od', '|', '', '']\n",
            "['Chest x-ray', '83.057', 'xe |', '_', '|', 'yo', '|', '|', '|', '|', '|', 'i', '|', '|', 'y', '|', '|', 'i', 'oy', 'y', 'qT', ') |', '|', '', '']\n",
            "['Neuropsychological\\nassessment', '8.3.4', '|', 'Zz', '|', 'dv', '|', '|', '|', 'i', '|.', '1', '|', '|', '|', '|', '[x', 'x)', '|', 'y', '|x', '| |', 'Xeii |', 'x', '']\n"
          ]
        },
        {
          "output_type": "stream",
          "name": "stderr",
          "text": [
            "\n",
            "  0%|          | 0/2 [00:00<?, ?it/s]\u001b[A\n",
            " 50%|█████     | 1/2 [00:00<00:00,  1.58it/s]\u001b[A\n",
            "100%|██████████| 2/2 [00:01<00:00,  1.43it/s]\n",
            " 67%|██████▋   | 4/6 [01:06<00:33, 16.92s/it]"
          ]
        },
        {
          "output_type": "stream",
          "name": "stdout",
          "text": [
            "Max number of columns: 5\n",
            "['Product', '| Phase', 'Indication', 'Release Date', 'Page Number']\n",
            "['JCAROI15', 'Pog', 'R/R adult ALL', '14 Jul 2016', 'Page 115 of 131']\n"
          ]
        },
        {
          "output_type": "stream",
          "name": "stderr",
          "text": [
            "\n",
            "  0%|          | 0/2 [00:00<?, ?it/s]\u001b[A\n",
            " 50%|█████     | 1/2 [00:00<00:00,  1.55it/s]\u001b[A\n",
            "100%|██████████| 2/2 [00:01<00:00,  1.41it/s]\n",
            " 83%|████████▎ | 5/6 [01:08<00:11, 11.33s/it]"
          ]
        },
        {
          "output_type": "stream",
          "name": "stdout",
          "text": [
            "Max number of columns: 5\n",
            "['Product', '| Phase', 'Indication', 'Release Date', 'Page Number']\n",
            "['JCARO15', 'ee ee', 'RJR adult ALL', '14 Jul 2016', 'Page 117 of 131']\n"
          ]
        },
        {
          "output_type": "stream",
          "name": "stderr",
          "text": [
            "\n",
            "  0%|          | 0/2 [00:00<?, ?it/s]\u001b[A\n",
            " 50%|█████     | 1/2 [00:00<00:00,  1.45it/s]\u001b[A\n",
            "100%|██████████| 2/2 [00:01<00:00,  1.37it/s]\n",
            "100%|██████████| 6/6 [01:09<00:00, 11.59s/it]\n"
          ]
        },
        {
          "output_type": "stream",
          "name": "stdout",
          "text": [
            "Max number of columns: 5\n",
            "['Product', '| Phase', 'Indication', 'Release Date', 'Page Number']\n",
            "['JCAROI15', '<ewtiti‘COSOCSCsdr', 'R/R adult ALL', '14 Jul 2016', 'Page 118 of 131']\n"
          ]
        },
        {
          "output_type": "stream",
          "name": "stderr",
          "text": [
            "  0%|          | 0/10 [00:00<?, ?it/s]\n",
            "  0%|          | 0/23 [00:00<?, ?it/s]\u001b[A\n",
            "  4%|▍         | 1/23 [00:00<00:21,  1.00it/s]\u001b[A\n",
            "  9%|▊         | 2/23 [00:02<00:24,  1.15s/it]\u001b[A\n",
            " 13%|█▎        | 3/23 [00:03<00:22,  1.14s/it]\u001b[A\n",
            " 17%|█▋        | 4/23 [00:04<00:22,  1.19s/it]\u001b[A\n",
            " 22%|██▏       | 5/23 [00:06<00:25,  1.40s/it]\u001b[A\n",
            " 26%|██▌       | 6/23 [00:08<00:28,  1.65s/it]\u001b[A\n",
            " 30%|███       | 7/23 [00:10<00:27,  1.71s/it]\u001b[A\n",
            " 35%|███▍      | 8/23 [00:11<00:22,  1.51s/it]\u001b[A\n",
            " 39%|███▉      | 9/23 [00:12<00:19,  1.42s/it]\u001b[A\n",
            " 43%|████▎     | 10/23 [00:13<00:17,  1.37s/it]\u001b[A\n",
            " 48%|████▊     | 11/23 [00:15<00:17,  1.48s/it]\u001b[A\n",
            " 52%|█████▏    | 12/23 [00:16<00:15,  1.38s/it]\u001b[A\n",
            " 57%|█████▋    | 13/23 [00:18<00:13,  1.34s/it]\u001b[A\n",
            " 61%|██████    | 14/23 [00:19<00:11,  1.31s/it]\u001b[A\n",
            " 65%|██████▌   | 15/23 [00:21<00:11,  1.47s/it]\u001b[A\n",
            " 70%|██████▉   | 16/23 [00:23<00:12,  1.85s/it]\u001b[A\n",
            " 74%|███████▍  | 17/23 [00:24<00:09,  1.61s/it]\u001b[A\n",
            " 78%|███████▊  | 18/23 [00:26<00:07,  1.50s/it]\u001b[A\n",
            " 83%|████████▎ | 19/23 [00:27<00:05,  1.43s/it]\u001b[A\n",
            " 87%|████████▋ | 20/23 [00:28<00:04,  1.39s/it]\u001b[A\n",
            " 91%|█████████▏| 21/23 [00:30<00:02,  1.35s/it]\u001b[A\n",
            " 96%|█████████▌| 22/23 [00:31<00:01,  1.32s/it]\u001b[A\n",
            "100%|██████████| 23/23 [00:32<00:00,  1.42s/it]\n",
            " 10%|█         | 1/10 [00:32<04:53, 32.59s/it]"
          ]
        },
        {
          "output_type": "stream",
          "name": "stdout",
          "text": [
            "Max number of columns: 9\n",
            "['Immuno |', 'Cellul:', 'ar PK |', '', '', '', '', '', '']\n",
            "['Timepoint', 'CD19/CD22\\nquantification', 'Serum\\ncytokines', 'ATA', '-genicity\\n(CTL)', 'qPCR\\n(persistence)', 'Flow\\n(persistence)', 'Immuno-\\nphenotyping', 'Genomic\\nanalysis']\n",
            "['Part B Screening', 'a', 'XxX', 'x |', 'x', 'xX', 'Xx', '', '']\n",
            "['Dose #1 Day | prior to infusion', 'po', '|', '|', 'x', 'yYX |', 'oT', '', '']\n",
            "['Post-Dose #1', '—o = _——— —_—=', '——————_—_=', '=', '<<.', '——————', '2', '—==__===', '']\n",
            "['Day 2', 'Po', '|', ';', 'ew', 'Vi', '|', 'X', '']\n",
            "['Day 4+ 1 day', 'Po', 'tf x |', '|', 'po', 'x~ *', '| x |', 'xX |', '']\n",
            "['Day 7 + | day', 'Po', 'x', '|', 'x', 'xX', 'X', 'XxX', '']\n",
            "['Day 14+ 1 day', 'Po', 'ae', '|', '| xX |', '~~» «KK |', 'PX', 'xX |', 'XxX']\n",
            "['Before Dose #2°?', 'po', 'fox |', 'x |', '} x |', 'x |', 'PX', 'eT', '']\n",
            "['Post-Dose #2', 'SS', '——<—<——S— rr', 'TT', '} 5 a —', '>', 'ST', '——<—$———', '']\n",
            "['Day 2', 'PO', 'fx', '|', 'CT', 'Sy', 'CT', 'X', '']\n",
            "['Day 4+ 1 day', 'PCS', 'fx', '- ~£', 'x', 'fo oxtC~*”Y', 'xd', '', '']\n",
            "['Day 7 + 1 day', 'rOt~<‘“sSCs~sdYYSCSS', 'a a a', '/~Y', \"x ~'«|\", 'Tx”', 'x |', '', '']\n",
            "['Day 14+ 1 day', 'es', '~ | x 4', 'x. |', '[ox |', 'x «|', 'a ae', 'x |', 'xX']\n",
            "['Post-Final Dose (Post-Dose #1 fi', 'a\\nr subjects who receive onl', '———————————\\ny 1 infusion, Post-De', '—=—\\nse #2 for', 'Ts\\nsubjects who', '———_—_——\\nreceive 2 infusion:', 's)', 'ae', '']\n",
            "['Day 21 + 2 days', 'PY', 'x', 'x', 'x', 'x', '', '', '']\n",
            "['Day 28 + 2 days', 'PCS', 'fox', 'x |', '; x |', 'x', 'a ae', 'xd', '']\n",
            "['Month 2 (+ 14 days)', ';t~<‘“i—Cs~é~*SCS~™S', '<< faw SC|', '|', '— x «|', 'a', '|', '', '']\n",
            "['Month 3 (+ 14 days)', 'ee ee', 'ryNCO', 'x «|', '| ox |', '— x «|', 'a', '|', 'xX']\n",
            "['Month 6 (+ 14 days)', 'rOt~<‘“—sSCSsSY', '~f', 'x «|', '[ox', 'x «|', 'rT x..C~”', '|', 'xX']\n",
            "['EOS/Month 12 (+ 14 days)', 'rt~—<“—t«~C', '|', 'x |', '| ox |', 'x', 'Pox', 'oO', '']\n",
            "['Upon relapse', 'YX aah', 'nn |', '|', 'rT', 'OY', 'r..~SCSCé<Csé‘S*S', 'x |', 'e']\n"
          ]
        },
        {
          "output_type": "stream",
          "name": "stderr",
          "text": [
            "\n",
            "  0%|          | 0/2 [00:00<?, ?it/s]\u001b[A\n",
            " 50%|█████     | 1/2 [00:00<00:00,  1.29it/s]\u001b[A\n",
            "100%|██████████| 2/2 [00:02<00:00,  1.05s/it]\n",
            " 20%|██        | 2/10 [00:34<01:57, 14.66s/it]"
          ]
        },
        {
          "output_type": "stream",
          "name": "stdout",
          "text": [
            "Max number of columns: 5\n",
            "['Product', '| Phase', 'Indication', 'Release Date', 'Page Number']\n",
            "['JCARO15', 'PT', 'R/R adult ALL', '14 Jul 2016', 'Page 119 of 131']\n"
          ]
        },
        {
          "output_type": "stream",
          "name": "stderr",
          "text": [
            "\n",
            "  0%|          | 0/7 [00:00<?, ?it/s]\u001b[A\n",
            " 14%|█▍        | 1/7 [00:00<00:03,  1.85it/s]\u001b[A\n",
            " 29%|██▊       | 2/7 [00:01<00:03,  1.54it/s]\u001b[A\n",
            " 43%|████▎     | 3/7 [00:01<00:02,  1.48it/s]\u001b[A\n",
            " 57%|█████▋    | 4/7 [00:02<00:01,  1.75it/s]\u001b[A\n",
            " 71%|███████▏  | 5/7 [00:02<00:00,  2.03it/s]\u001b[A\n",
            " 86%|████████▌ | 6/7 [00:03<00:00,  2.25it/s]\u001b[A\n",
            "100%|██████████| 7/7 [00:03<00:00,  2.02it/s]\n",
            " 30%|███       | 3/10 [00:38<01:06,  9.56s/it]"
          ]
        },
        {
          "output_type": "stream",
          "name": "stdout",
          "text": [
            "Max number of columns: 2\n",
            "['Timepoint', '| qPCR (persistence)']\n",
            "['Part A Screening', 'Sn ae']\n",
            "['Day 28 Post-Final Dose (+ 2 days)“', 'OK']\n",
            "['Month 3 (+ 14 days)’', 'fo']\n",
            "['Month 6 (+ 14 days)’', 'fo']\n",
            "['End of study/Month 12 (+ 14days)“?', 'Po']\n",
            "['Upon relapse', 'tT xX']\n"
          ]
        },
        {
          "output_type": "stream",
          "name": "stderr",
          "text": [
            "\n",
            "  0%|          | 0/2 [00:00<?, ?it/s]\u001b[A\n",
            " 50%|█████     | 1/2 [00:00<00:00,  1.54it/s]\u001b[A\n",
            "100%|██████████| 2/2 [00:01<00:00,  1.53it/s]\n",
            " 40%|████      | 4/10 [00:39<00:37,  6.31s/it]"
          ]
        },
        {
          "output_type": "stream",
          "name": "stdout",
          "text": [
            "Max number of columns: 5\n",
            "['Product', '| Phase |', 'Indication', '| Release Date', 'Page Number']\n",
            "['JCAROI5', '2', 'R/R adult ALL', '14 Jul 2016', 'Page 120 of 131']\n"
          ]
        },
        {
          "output_type": "stream",
          "name": "stderr",
          "text": [
            "\n",
            "  0%|          | 0/13 [00:00<?, ?it/s]\u001b[A\n",
            "  8%|▊         | 1/13 [00:00<00:09,  1.23it/s]\u001b[A\n",
            " 15%|█▌        | 2/13 [00:01<00:10,  1.09it/s]\u001b[A\n",
            " 23%|██▎       | 3/13 [00:02<00:08,  1.15it/s]\u001b[A\n",
            " 31%|███       | 4/13 [00:03<00:07,  1.15it/s]\u001b[A\n",
            " 38%|███▊      | 5/13 [00:04<00:06,  1.22it/s]\u001b[A\n",
            " 46%|████▌     | 6/13 [00:05<00:05,  1.24it/s]\u001b[A\n",
            " 54%|█████▍    | 7/13 [00:05<00:04,  1.21it/s]\u001b[A\n",
            " 62%|██████▏   | 8/13 [00:06<00:04,  1.13it/s]\u001b[A\n",
            " 69%|██████▉   | 9/13 [00:08<00:03,  1.04it/s]\u001b[A\n",
            " 77%|███████▋  | 10/13 [00:09<00:03,  1.18s/it]\u001b[A\n",
            " 85%|████████▍ | 11/13 [00:11<00:02,  1.32s/it]\u001b[A\n",
            " 92%|█████████▏| 12/13 [00:12<00:01,  1.20s/it]\u001b[A\n",
            "100%|██████████| 13/13 [00:13<00:00,  1.01s/it]\n",
            " 50%|█████     | 5/10 [00:52<00:43,  8.76s/it]"
          ]
        },
        {
          "output_type": "stream",
          "name": "stdout",
          "text": [
            "Max number of columns: 7\n",
            "['|', 'one Mar', '‘ow Aspirate', '|', 'Bone Marrow\\nBiopsy', '', '']\n",
            "['Timepoint', 'CD19/CD22\\nquantification', 'MRD', 'qPCR\\n(persistence)', 'Genomic\\nanalysis', 'Immunohisto-\\nchemistry“', 'Skin\\nbiopsy’']\n",
            "['Part A Screening', 'x', 'Xx', 'Xx', 'xX', '', '']\n",
            "['Part B Screening', 're', 'Xx', 'xX', 'xX', '', '']\n",
            "['Post-Dose #1', '', '', '', '', '', '']\n",
            "['Day 14 (+1 day)', 'Xx', 'x', 'XxX', 'Xx', '', '']\n",
            "['Day 28 (+ 2 days)°', 'ee', 'XxX', 'xX', 'XxX', 'x', '']\n",
            "['Post-Final Dose (Post-Dose\\ninfusions)', '#1 for subjects who', 'receive on', 'y 1 infusion, Post-', 'Dose #2 for si', 'bjects who receive 2', ')']\n",
            "['Day 28 (+2 days)“', 'XxX', 'x', 'XxX', 'x', '', '']\n",
            "['Month 3 (+ 14 days)', '—_*+4|', 'XxX', '— x |', 'Xx', '| xi', '']\n",
            "['Month 6 (+ 14 days)', 're', 'XxX', 'x', 'XxX', 'I wex CC', '']\n",
            "['EOS/Month 12 (+ 14 days)', 'TT t~—<“—SsYT', 'Xx', 'xX', 'mm x.ti«”', '', '']\n",
            "['Upon relapse', 'x\\nfy', 'a', 'x', 'B€', '', '']\n"
          ]
        },
        {
          "output_type": "stream",
          "name": "stderr",
          "text": [
            "\n",
            "  0%|          | 0/12 [00:00<?, ?it/s]\u001b[A\n",
            "  8%|▊         | 1/12 [00:00<00:03,  3.24it/s]\u001b[A\n",
            " 17%|█▋        | 2/12 [00:01<00:06,  1.57it/s]\u001b[A\n",
            " 25%|██▌       | 3/12 [00:01<00:04,  2.07it/s]\u001b[A\n",
            " 33%|███▎      | 4/12 [00:01<00:03,  2.23it/s]\u001b[A\n",
            " 42%|████▏     | 5/12 [00:02<00:03,  2.17it/s]\u001b[A\n",
            " 50%|█████     | 6/12 [00:02<00:02,  2.24it/s]\u001b[A\n",
            " 58%|█████▊    | 7/12 [00:03<00:02,  2.27it/s]\u001b[A\n",
            " 67%|██████▋   | 8/12 [00:03<00:01,  2.49it/s]\u001b[A\n",
            " 75%|███████▌  | 9/12 [00:03<00:01,  2.75it/s]\u001b[A\n",
            " 83%|████████▎ | 10/12 [00:04<00:00,  2.48it/s]\u001b[A\n",
            " 92%|█████████▏| 11/12 [00:04<00:00,  2.50it/s]\u001b[A\n",
            "100%|██████████| 12/12 [00:04<00:00,  2.41it/s]\n",
            " 60%|██████    | 6/10 [00:57<00:29,  7.48s/it]"
          ]
        },
        {
          "output_type": "stream",
          "name": "stdout",
          "text": [
            "Max number of columns: 2\n",
            "['Laboratory Panel', 'Analytes']\n",
            "['Serum chemistry', 'Glucose, BUN, creatinine, sodium, potassium, chloride, calcium, total\\nprotein, albumin, total bilirubin, direct bilirubin, alkaline phosphatase,\\nALT (SGPT), AST (SGOT), magnesium, phosphate, CO2, LDH, uric\\nacid, triglycerides']\n",
            "['Hematology', 'CBC with differential']\n",
            "['Coagulation', 'PT, aPTT, INR, fibrinogen, and D-dimer']\n",
            "['Urinalysis', 'Appearance, pH, specific gravity, protein\\nGlucose, ketones, RBCs, WBCs\\nCasts, crystals, or other components']\n",
            "['Viral serology', 'HIV\\nHepatitis B (HBsAb, HBsAg, and HBcAb)\\nHepatitis C (Hep C Ab)']\n",
            "['HLA typing', 'HLA-A, HLA-B, HLA-C, HLA-DRB1, HLA-DQB1']\n",
            "['Serum markers of\\ninflammation', 'CRP, ferritin']\n",
            "['Donor chimerism', '% stem cell donor']\n",
            "['Disease characterization', 'ALL cytogenetics, FISH, BCR-ABL qPCR (for Ph+ disease), tumor\\nimmunophenotyping (flow cytometry)']\n",
            "['Cerebrospinal fluid', 'Erythrocytes (RBCs), leukocytes (WBCs) with differential, glucose,\\nprotein']\n",
            "['Serum immunoglobulins', '| IgG, IgM, IgA']\n"
          ]
        },
        {
          "output_type": "stream",
          "name": "stderr",
          "text": [
            "\n",
            "  0%|          | 0/2 [00:00<?, ?it/s]\u001b[A\n",
            " 50%|█████     | 1/2 [00:00<00:00,  1.56it/s]\u001b[A\n",
            "100%|██████████| 2/2 [00:01<00:00,  1.56it/s]\n",
            " 70%|███████   | 7/10 [00:58<00:16,  5.46s/it]"
          ]
        },
        {
          "output_type": "stream",
          "name": "stdout",
          "text": [
            "Max number of columns: 5\n",
            "['Product', '| Phase |', 'Indication', '| Release Date', '| Page Number']\n",
            "['JCAROI5', '2', 'R/R adult ALL', '14 Jul 2016', 'Page 121 of 131']\n"
          ]
        },
        {
          "output_type": "stream",
          "name": "stderr",
          "text": [
            "\n",
            "  0%|          | 0/5 [00:00<?, ?it/s]\u001b[A\n",
            " 20%|██        | 1/5 [00:00<00:02,  1.99it/s]\u001b[A\n",
            " 40%|████      | 2/5 [00:01<00:01,  1.98it/s]\u001b[A\n",
            " 60%|██████    | 3/5 [00:01<00:01,  1.87it/s]\u001b[A\n",
            " 80%|████████  | 4/5 [00:02<00:00,  1.26it/s]\u001b[A\n",
            "100%|██████████| 5/5 [00:04<00:00,  1.25it/s]\n",
            " 80%|████████  | 8/10 [01:02<00:09,  5.00s/it]"
          ]
        },
        {
          "output_type": "stream",
          "name": "stdout",
          "text": [
            "Max number of columns: 3\n",
            "['Serum\\ncreatinine units', 'Gender', 'Estimated Creatinine Clearance (mL/min)']\n",
            "['Males', '(140 — subject age [years]) x subject weight (kg)\\n72 x subject serum creatinine (mg/dL)', '']\n",
            "['aaa: ieee |', 'Females', '(140 — subject age [years]) x subject weight (kg) x 0.85\\n72 x subject serum creatinine (mg/dL)']\n",
            "['nay', 'Males', '(140 — subject age [years]) x subject weight (kg) x 1.23\\nSubject serum creatinine (uM/dL)']\n",
            "['Rivers |', 'Females', '(140 — subject age [years]) x subject weight (kg) x 1.04\\nSubject serum creatinine (uM/dL)']\n"
          ]
        },
        {
          "output_type": "stream",
          "name": "stderr",
          "text": [
            "\n",
            "  0%|          | 0/2 [00:00<?, ?it/s]\u001b[A\n",
            " 50%|█████     | 1/2 [00:01<00:01,  1.16s/it]\u001b[A\n",
            "100%|██████████| 2/2 [00:02<00:00,  1.04s/it]\n",
            " 90%|█████████ | 9/10 [01:05<00:04,  4.09s/it]"
          ]
        },
        {
          "output_type": "stream",
          "name": "stdout",
          "text": [
            "Max number of columns: 5\n",
            "['Product', '| Phase |', 'Indication', '| Release Date', 'Page Number']\n",
            "['JCARO15', '2', 'R/R adult ALL', '14 Jul 2016', 'Page 122 of 131']\n"
          ]
        },
        {
          "output_type": "stream",
          "name": "stderr",
          "text": [
            "\n",
            "  0%|          | 0/2 [00:00<?, ?it/s]\u001b[A\n",
            " 50%|█████     | 1/2 [00:00<00:00,  1.56it/s]\u001b[A\n",
            "100%|██████████| 2/2 [00:01<00:00,  1.54it/s]\n",
            "100%|██████████| 10/10 [01:06<00:00,  6.63s/it]\n"
          ]
        },
        {
          "output_type": "stream",
          "name": "stdout",
          "text": [
            "Max number of columns: 5\n",
            "['Product', '| Phase |', 'Indication', 'Release Date', 'Page Number']\n",
            "['JCAROI5', '2', 'R/R adult ALL', '14 Jul 2016', 'Page 123 of 131']\n"
          ]
        },
        {
          "output_type": "stream",
          "name": "stderr",
          "text": [
            "  0%|          | 0/6 [00:00<?, ?it/s]\n",
            "  0%|          | 0/2 [00:00<?, ?it/s]\u001b[A\n",
            " 50%|█████     | 1/2 [00:00<00:00,  1.64it/s]\u001b[A\n",
            "100%|██████████| 2/2 [00:01<00:00,  1.58it/s]\n",
            " 17%|█▋        | 1/6 [00:01<00:06,  1.28s/it]"
          ]
        },
        {
          "output_type": "stream",
          "name": "stdout",
          "text": [
            "Max number of columns: 5\n",
            "['Product', '| Phase |', 'Indication', 'Release Date', 'Page Number']\n",
            "['JCAROI5S', '2', 'R/R adult ALL', '14 Jul 2016', 'Page 124 of 131']\n"
          ]
        },
        {
          "output_type": "stream",
          "name": "stderr",
          "text": [
            "\n",
            "  0%|          | 0/2 [00:00<?, ?it/s]\u001b[A\n",
            " 50%|█████     | 1/2 [00:00<00:00,  1.16it/s]\u001b[A\n",
            "100%|██████████| 2/2 [00:02<00:00,  1.04s/it]\n",
            " 33%|███▎      | 2/6 [00:03<00:07,  1.75s/it]"
          ]
        },
        {
          "output_type": "stream",
          "name": "stdout",
          "text": [
            "Max number of columns: 5\n",
            "['Product', '| Phase |', 'Indication', 'Release Date', 'Page Number']\n",
            "['JCAROI5', '2', 'R/R adult ALL', '14 Jul 2016', 'Page 125 of 131']\n"
          ]
        },
        {
          "output_type": "stream",
          "name": "stderr",
          "text": [
            "\n",
            "  0%|          | 0/6 [00:00<?, ?it/s]\u001b[A\n",
            " 17%|█▋        | 1/6 [00:00<00:02,  1.93it/s]\u001b[A\n",
            " 33%|███▎      | 2/6 [00:03<00:08,  2.02s/it]\u001b[A\n",
            " 50%|█████     | 3/6 [00:04<00:04,  1.48s/it]\u001b[A\n",
            " 67%|██████▋   | 4/6 [00:05<00:02,  1.32s/it]\u001b[A\n",
            " 83%|████████▎ | 5/6 [00:06<00:01,  1.04s/it]\u001b[A\n",
            "100%|██████████| 6/6 [00:06<00:00,  1.14s/it]\n",
            " 50%|█████     | 3/6 [00:10<00:12,  4.08s/it]"
          ]
        },
        {
          "output_type": "stream",
          "name": "stdout",
          "text": [
            "Max number of columns: 2\n",
            "['Response Category', '| Criteria']\n",
            "['CR', 'All of the following criteria must be met:\\ne Bone marrow\\n— Trilineage hematopoiesis and < 5% blasts*\\ne Peripheral blood\\n— Neutrophils > 1,000/nL\\n— Platelets > 100,000/pL\\n— Circulating blasts < 1%\\ne Extramedullary disease\\n— No clinical evidence of extramedullary disease by physical examination;\\nno symptoms suggestive of CNS involvement\\n— Ifadditional assessments are required (e.g., CSF assessment by lumbar\\npuncture or Ommaya reservoir tap, CNS imaging, biopsy) and-are\\nperformed, results must show no evidence of disease\\ne Transfusion dependency\\n— No platelet and/or neutrophil transfusions < 7 days before the date of\\nperipheral blood sampling for disease assessment\\ne Noclinical evidence of recurrence for 4 weeks']\n",
            "['CRi', 'All of the criteria indicated above for CR are met, except that the following exist:\\ne Peripheral blood\\n— Neutrophils < 1,000/uL, or\\n— Platelets < 100,000/pL, or\\n— Platelet transfusions < 7 days before the date of peripheral blood sampling\\nfor disease assessment']\n",
            "['Relapsed disease', 'Only valid in patients who achieved a CR or CRi and in whom there exists:\\n¢ Reappearance of blasts in the peripheral blood (= 1%), or\\ne Reappearance of blasts in the bone marrow (= 5%)’, or\\ne Appearance/reappearance of any extramedullary disease after CR or CRi']\n",
            "['No response', 'Failure to attain the criteria specified above for any response categories or relapse']\n",
            "['Unknown', 'Assigned only in cases where the baseline assessment or the response assessment is\\nnot performed, is incomplete, is indeterminate, or is not performed within the\\nprotocol-specified time frame (i.e., from informed consent through 12 months after\\nthe final JCARO15 infusion)']\n"
          ]
        },
        {
          "output_type": "stream",
          "name": "stderr",
          "text": [
            "\n",
            "  0%|          | 0/2 [00:00<?, ?it/s]\u001b[A\n",
            " 50%|█████     | 1/2 [00:00<00:00,  1.62it/s]\u001b[A\n",
            "100%|██████████| 2/2 [00:01<00:00,  1.56it/s]\n",
            " 67%|██████▋   | 4/6 [00:11<00:05,  2.98s/it]"
          ]
        },
        {
          "output_type": "stream",
          "name": "stdout",
          "text": [
            "Max number of columns: 5\n",
            "['Product', '| Phase |', 'Indication', '| Release Date', '| Page Number']\n",
            "['JCAROI5', '2', 'R/R adult ALL', '14 Jul 2016', 'Page 126 of 13]']\n"
          ]
        },
        {
          "output_type": "stream",
          "name": "stderr",
          "text": [
            "\n",
            "  0%|          | 0/2 [00:00<?, ?it/s]\u001b[A\n",
            " 50%|█████     | 1/2 [00:00<00:00,  1.48it/s]\u001b[A\n",
            "100%|██████████| 2/2 [00:01<00:00,  1.53it/s]\n",
            " 83%|████████▎ | 5/6 [00:12<00:02,  2.38s/it]"
          ]
        },
        {
          "output_type": "stream",
          "name": "stdout",
          "text": [
            "Max number of columns: 5\n",
            "['Product', '| Phase |', 'Indication', 'Release Date', 'Page Number']\n",
            "['JCAROI5', '2', 'R/R adult ALL', '14 Jul 2016', 'Page 127 of 131']\n"
          ]
        },
        {
          "output_type": "stream",
          "name": "stderr",
          "text": [
            "\n",
            "  0%|          | 0/2 [00:00<?, ?it/s]\u001b[A\n",
            " 50%|█████     | 1/2 [00:00<00:00,  1.56it/s]\u001b[A\n",
            "100%|██████████| 2/2 [00:01<00:00,  1.55it/s]\n",
            "100%|██████████| 6/6 [00:14<00:00,  2.35s/it]\n"
          ]
        },
        {
          "output_type": "stream",
          "name": "stdout",
          "text": [
            "Max number of columns: 5\n",
            "['Product', '| Phase |', 'Indication', '| Release Date', 'Page Number']\n",
            "['JCAROI5', '2', 'R/R adult ALL', '14 Jul 2016', 'Page 128 of 131']\n"
          ]
        },
        {
          "output_type": "stream",
          "name": "stderr",
          "text": [
            "  0%|          | 0/5 [00:00<?, ?it/s]\n",
            "  0%|          | 0/2 [00:00<?, ?it/s]\u001b[A\n",
            " 50%|█████     | 1/2 [00:00<00:00,  1.60it/s]\u001b[A\n",
            "100%|██████████| 2/2 [00:01<00:00,  1.52it/s]\n",
            " 20%|██        | 1/5 [00:01<00:05,  1.32s/it]"
          ]
        },
        {
          "output_type": "stream",
          "name": "stdout",
          "text": [
            "Max number of columns: 5\n",
            "['Product', '| Phase |', 'Indication', '| Release Date', '| Page Number']\n",
            "['JCARO15', '2', 'R/R adult ALL', '14 Jul 2016', 'Page 129 of 131']\n"
          ]
        },
        {
          "output_type": "stream",
          "name": "stderr",
          "text": [
            "\n",
            "  0%|          | 0/2 [00:00<?, ?it/s]\u001b[A\n",
            " 50%|█████     | 1/2 [00:00<00:00,  1.47it/s]\u001b[A\n",
            "100%|██████████| 2/2 [00:01<00:00,  1.52it/s]\n",
            " 40%|████      | 2/5 [00:02<00:03,  1.33s/it]"
          ]
        },
        {
          "output_type": "stream",
          "name": "stdout",
          "text": [
            "Max number of columns: 5\n",
            "['Product', '| Phase |', 'Indication', '| Release Date', 'Page Number']\n",
            "['JCAROI5', '2', 'R/R adult ALL', '14 Jul 2016', 'Page 130 of 131']\n"
          ]
        },
        {
          "output_type": "stream",
          "name": "stderr",
          "text": [
            "\n",
            "  0%|          | 0/2 [00:00<?, ?it/s]\u001b[A\n",
            " 50%|█████     | 1/2 [00:00<00:00,  1.61it/s]\u001b[A\n",
            "100%|██████████| 2/2 [00:01<00:00,  1.53it/s]\n",
            " 60%|██████    | 3/5 [00:03<00:02,  1.32s/it]"
          ]
        },
        {
          "output_type": "stream",
          "name": "stdout",
          "text": [
            "Max number of columns: 5\n",
            "['Product', '| Phase |', 'Indication', '| Release Date', '| Page Number']\n",
            "['JCAROI5', '2', 'R/R adult ALL', '14 Jul 2016', 'Page 131 of 131']\n"
          ]
        },
        {
          "output_type": "stream",
          "name": "stderr",
          "text": [
            "\n",
            "  0%|          | 0/2 [00:00<?, ?it/s]\u001b[A\n",
            " 50%|█████     | 1/2 [00:00<00:00,  1.59it/s]\u001b[A\n",
            "100%|██████████| 2/2 [00:01<00:00,  1.56it/s]\n",
            " 80%|████████  | 4/5 [00:05<00:01,  1.31s/it]"
          ]
        },
        {
          "output_type": "stream",
          "name": "stdout",
          "text": [
            "Max number of columns: 5\n",
            "['Product', '| Phase |', 'Indication', '| Release Date', 'Page Number']\n",
            "['JCAROI5', '2', 'R/R adult ALL', '14 Jul 2016', 'Page 2 of 22']\n"
          ]
        },
        {
          "output_type": "stream",
          "name": "stderr",
          "text": [
            "\n",
            "  0%|          | 0/2 [00:00<?, ?it/s]\u001b[A\n",
            " 50%|█████     | 1/2 [00:00<00:00,  1.55it/s]\u001b[A\n",
            "100%|██████████| 2/2 [00:01<00:00,  1.55it/s]\n",
            "100%|██████████| 5/5 [00:06<00:00,  1.31s/it]\n"
          ]
        },
        {
          "output_type": "stream",
          "name": "stdout",
          "text": [
            "Max number of columns: 5\n",
            "['Product', '| Phase |', 'Indication', '| Release Date |', 'Page Number']\n",
            "['JCAROI5', '2', 'R/R adult ALL', '14 Jul 2016', 'Page 3 of 22']\n"
          ]
        },
        {
          "output_type": "stream",
          "name": "stderr",
          "text": [
            "  0%|          | 0/5 [00:00<?, ?it/s]\n",
            "  0%|          | 0/2 [00:00<?, ?it/s]\u001b[A\n",
            " 50%|█████     | 1/2 [00:01<00:01,  1.15s/it]\u001b[A\n",
            "100%|██████████| 2/2 [00:01<00:00,  1.01it/s]\n",
            " 20%|██        | 1/5 [00:01<00:07,  1.99s/it]"
          ]
        },
        {
          "output_type": "stream",
          "name": "stdout",
          "text": [
            "Max number of columns: 5\n",
            "['Product', '| Phase |', 'Indication', '| Release Date |', 'Page Number']\n",
            "['JCAROI5', '2', 'R/R adult ALL', '25 Mar 2016', 'Page 2 of 16']\n"
          ]
        },
        {
          "output_type": "stream",
          "name": "stderr",
          "text": [
            "\n",
            "  0%|          | 0/2 [00:00<?, ?it/s]\u001b[A\n",
            " 50%|█████     | 1/2 [00:00<00:00,  1.51it/s]\u001b[A\n",
            "100%|██████████| 2/2 [00:01<00:00,  1.53it/s]\n",
            " 40%|████      | 2/5 [00:03<00:04,  1.59s/it]"
          ]
        },
        {
          "output_type": "stream",
          "name": "stdout",
          "text": [
            "Max number of columns: 5\n",
            "['Product', '| Phase |', 'Indication', '| Release Date', 'Page Number']\n",
            "['JCAROI5', '2', 'R/R adult ALL', '18 Dec 2015', 'Page 2 of 5']\n"
          ]
        },
        {
          "output_type": "stream",
          "name": "stderr",
          "text": [
            "\n",
            "  0%|          | 0/2 [00:00<?, ?it/s]\u001b[A\n",
            " 50%|█████     | 1/2 [00:00<00:00,  1.53it/s]\u001b[A\n",
            "100%|██████████| 2/2 [00:01<00:00,  1.58it/s]\n",
            " 60%|██████    | 3/5 [00:04<00:02,  1.45s/it]"
          ]
        },
        {
          "output_type": "stream",
          "name": "stdout",
          "text": [
            "Max number of columns: 5\n",
            "['Product', '| Phase |', 'Indication', '| Release Date |', 'Page Number']\n",
            "['JCAROI5', '2', 'R/R adult ALL', '27 Oct 2015', 'Page 2 of 26']\n"
          ]
        },
        {
          "output_type": "stream",
          "name": "stderr",
          "text": [
            "\n",
            "  0%|          | 0/2 [00:00<?, ?it/s]\u001b[A\n",
            " 50%|█████     | 1/2 [00:00<00:00,  1.55it/s]\u001b[A\n",
            "100%|██████████| 2/2 [00:01<00:00,  1.53it/s]\n",
            " 80%|████████  | 4/5 [00:05<00:01,  1.40s/it]"
          ]
        },
        {
          "output_type": "stream",
          "name": "stdout",
          "text": [
            "Max number of columns: 5\n",
            "['Product', '| Phase |', 'Indication', '| Release Date |', 'Page Number']\n",
            "['JCARO15', '2', 'RJR adult ALL', '07 Apr 2015', 'Page 2 of 26']\n"
          ]
        },
        {
          "output_type": "stream",
          "name": "stderr",
          "text": [
            "\n",
            "  0%|          | 0/2 [00:00<?, ?it/s]\u001b[A\n",
            " 50%|█████     | 1/2 [00:00<00:00,  1.59it/s]\u001b[A\n",
            "100%|██████████| 2/2 [00:01<00:00,  1.54it/s]\n",
            "100%|██████████| 5/5 [00:07<00:00,  1.44s/it]\n"
          ]
        },
        {
          "output_type": "stream",
          "name": "stdout",
          "text": [
            "Max number of columns: 5\n",
            "['Product', '| Phase |', 'Indication', '| Release Date', 'Page Number']\n",
            "['JCARO15', '2', 'R/R adult ALL', '07 Apr 2015', 'Page 3 of 26']\n",
            "All tables extracted and saved to /content/drive/MyDrive/output_Extracted/Copy of NCT02535364.json\n",
            "No tables detected in the image.\n",
            "No tables detected in the image.\n",
            "No tables detected in the image.\n",
            "No tables detected in the image.\n"
          ]
        },
        {
          "output_type": "stream",
          "name": "stderr",
          "text": [
            "  0%|          | 0/1 [00:00<?, ?it/s]\n",
            "  0%|          | 0/4 [00:00<?, ?it/s]\u001b[A\n",
            " 25%|██▌       | 1/4 [00:00<00:01,  2.47it/s]\u001b[A\n",
            " 50%|█████     | 2/4 [00:00<00:00,  3.06it/s]\u001b[A\n",
            " 75%|███████▌  | 3/4 [00:00<00:00,  3.12it/s]\u001b[A\n",
            "100%|██████████| 4/4 [00:01<00:00,  2.97it/s]\n",
            "100%|██████████| 1/1 [00:01<00:00,  1.36s/it]\n"
          ]
        },
        {
          "output_type": "stream",
          "name": "stdout",
          "text": [
            "Max number of columns: 2\n",
            "['Drug Name:', 'PG13-CD19-H3 (anti-CD19 CAR) retroviral vec\\ntransduced autologous PBL']\n",
            "['IND Number:', '13871']\n",
            "['Sponsor:', 'Center for Cancer Research']\n",
            "['Manufacturer:', '| Surgery Branch Cell Production Facility |']\n",
            "No tables detected in the image.\n",
            "No tables detected in the image.\n",
            "No tables detected in the image.\n",
            "No tables detected in the image.\n",
            "No tables detected in the image.\n"
          ]
        },
        {
          "output_type": "stream",
          "name": "stderr",
          "text": [
            "0it [00:00, ?it/s]\n"
          ]
        },
        {
          "output_type": "stream",
          "name": "stdout",
          "text": [
            "No tables detected in the image.\n",
            "No tables detected in the image.\n",
            "No tables detected in the image.\n",
            "No tables detected in the image.\n",
            "No tables detected in the image.\n"
          ]
        },
        {
          "output_type": "stream",
          "name": "stderr",
          "text": [
            "0it [00:00, ?it/s]\n"
          ]
        },
        {
          "output_type": "stream",
          "name": "stdout",
          "text": [
            "No tables detected in the image.\n",
            "No tables detected in the image.\n",
            "No tables detected in the image.\n",
            "No tables detected in the image.\n"
          ]
        },
        {
          "output_type": "stream",
          "name": "stderr",
          "text": [
            "  0%|          | 0/1 [00:00<?, ?it/s]\n",
            "  0%|          | 0/10 [00:00<?, ?it/s]\u001b[A\n",
            " 10%|█         | 1/10 [00:01<00:13,  1.54s/it]\u001b[A\n",
            " 20%|██        | 2/10 [00:02<00:10,  1.36s/it]\u001b[A\n",
            " 30%|███       | 3/10 [00:05<00:13,  1.98s/it]\u001b[A\n",
            " 40%|████      | 4/10 [00:07<00:11,  1.87s/it]\u001b[A\n",
            " 50%|█████     | 5/10 [00:08<00:08,  1.62s/it]\u001b[A\n",
            " 60%|██████    | 6/10 [00:08<00:05,  1.25s/it]\u001b[A\n",
            " 70%|███████   | 7/10 [00:09<00:03,  1.11s/it]\u001b[A\n",
            " 80%|████████  | 8/10 [00:10<00:01,  1.10it/s]\u001b[A\n",
            " 90%|█████████ | 9/10 [00:10<00:00,  1.18it/s]\u001b[A\n",
            "100%|██████████| 10/10 [00:11<00:00,  1.17s/it]\n",
            "100%|██████████| 1/1 [00:11<00:00, 11.72s/it]\n"
          ]
        },
        {
          "output_type": "stream",
          "name": "stdout",
          "text": [
            "Max number of columns: 1\n",
            "['1, eight patients were treated with high-dose chemotherapy (cyclophosphamide\\n\\nx 2 days) and fludarabine (25mg/m? x 5 days)) followed by anti-CD19 CAR T-cells\\n4.0x10° and 4.0x10? cells) and high dose aldesleukin. Of these 8 patients, 7 are\\n, one of these patients died on study due to complications related to treatment and\\nection. Six of the seven evaluable patients have objective responses; 4 partial\\ns and 2 complete responders. Due to severe toxicities, this cohort was closed to\\nhe safety and toxicity of lower cell doses and no aldesleukin.']\n",
            "['6, two patients were treated with a high-dose chemotherapy followed by anti-CD19\\n\\nIs (0.5x10’ transduced cells/Kg) and no IL-2. Both patients have achieved a complete\\n(CR). This cohort was closed due to grade 3 neurological toxicities, so we added a dose\\nion cohort to continue accrual.']\n",
            "['8, five patients were treated with high-dose chemotherapy followed by anti-CD19\\nIs (2.5x10° transduced cells/Kg) and no IL-2. One patient died due to disease and\\n(not evaluable). Three patients have achieved a complete response (CR) and one\\n\\na non-responder. This cohort was closed due to grade 4 neurological toxicities\\n\\nin two patients, so the dose of cyclophosphamide was reduced to 30mg/kg/day for 2\\nthe dose of cells was reduced to 1.0x10° transduced cells/ke.']\n",
            "['9, six patients were treated with reduced cyclophosphamide dose (30mg/kg x 2 days)\\n-abine (25mg/m? x 5 days) followed by anti-CD19 CAR+ cells (1.0x10° transduced\\nand no IL-2. Three patients have achieved a complete response (CR) and two patients\\nsved a partial response (PR). This cohort was closed due to grade 4 creatinine and\\n\\ncal toxicities, therefore decreasing the total dose of cyclophosphamide by more than\\nfludarabine by about 30%.']\n",
            "['10, five patients were treated with reduced doses of cyclophosphamide (300mg/m? x 3\\nfludarabine (30mg/m? x 3 days) followed by 1.0x10° cells/kg and no aldesleukin. Four\\nave confirmed partial responses (PR) and one patient is a non-responder. The majority\\nes seen in this cohort were attributed to the chemotherapy preparative regimen and\\ne toxicities attributed to the fresh cell product were dose limiting toxicities (DLTs).']\n",
            "['approval of Amendment S, patients will receive Cryopreserved anti-CD19 CAR\\nells/kg followed by cyclophosphamide and fludarabine.']\n",
            "['11, four patients were treated with the reduced doses of cyclophosphamide and\\n1c followed by Cryopreserved anti-CD19 CAR+ cells (2.0x10° transduced cells/kg) and\\n‘wo patients are non-responders. Two patients have achieved partial responses.']\n",
            "['12, one patient was treated with the reduced doses of cyclophosphamide and\\ne followed by Cryopreserved anti-CD19 CAR+ cells (6.0x10° transduced cells /kg)\\n-2. This patient is a non-responder.']\n",
            "['13, one patient was treated with a moderately increased dose of cyclophosphamide anc\\ne followed by Cryopreserved anti-CD19 CAR+ cells (2.0x10° transduced cells /kg)\\n-2. This patient has achieved a partial response (PR).']\n",
            "['11 the 6-day product was cryopreserved in order to evaluate a process which could\\nsommercialization of the product by our CRADA partner. Four patients were treated in\\nand all but one patient incurred at least grade 2 toxicities. One patient was treated in']\n",
            "No tables detected in the image.\n",
            "No tables detected in the image.\n",
            "No tables detected in the image.\n",
            "No tables detected in the image.\n"
          ]
        },
        {
          "output_type": "stream",
          "name": "stderr",
          "text": [
            "  0%|          | 0/1 [00:00<?, ?it/s]\n",
            "  0%|          | 0/7 [00:00<?, ?it/s]\u001b[A\n",
            " 14%|█▍        | 1/7 [00:00<00:05,  1.19it/s]\u001b[A\n",
            " 29%|██▊       | 2/7 [00:02<00:05,  1.19s/it]\u001b[A\n",
            " 43%|████▎     | 3/7 [00:03<00:04,  1.14s/it]\u001b[A\n",
            " 57%|█████▋    | 4/7 [00:04<00:02,  1.02it/s]\u001b[A\n",
            " 71%|███████▏  | 5/7 [00:04<00:01,  1.20it/s]\u001b[A\n",
            " 86%|████████▌ | 6/7 [00:05<00:00,  1.30it/s]\u001b[A\n",
            "100%|██████████| 7/7 [00:05<00:00,  1.17it/s]\n",
            "100%|██████████| 1/1 [00:05<00:00,  5.99s/it]\n"
          ]
        },
        {
          "output_type": "stream",
          "name": "stdout",
          "text": [
            "Max number of columns: 4\n",
            "['Cohort', 'Treatment Regimen', '', '']\n",
            "['NMA Chemotherapy\\nRegimen (as specified\\nin protocol)', 'Cell dose\\n(Determined prior to\\ncryopreservation)', 'Days ir\\nCulture', '']\n",
            "['11-Completed', 'Cytoxan 300mg/m’ &\\nFludarabine 30mg/m?', '2.0x10° CAR positive cells/kg (+\\n20%)', '6-12']\n",
            "['11D-\\n(De-escalation\\nCohort)', 'Cytoxan 300mg/m? &\\nFludarabine 30mg/m?', '1.0x10° CAR positive cells/kg (+\\n20%)', '6-12']\n",
            "['12-Closed', 'Yes', '6.0x10° CAR positive cells/kg (+\\n20%)', 'i']\n",
            "['13-Completed', 'Cytoxan 500mg/m’ &\\nFludarabine 30mg/m?', '2.0x10° CAR positive cells/kg (+\\n20%)', 'ie']\n",
            "['14-Completed', 'Cytoxan 500mg/m’ &\\nFludarabine 30meg/m2', '2.0x10° CAR positive cells/kg (+\\n20%)', '6-12']\n",
            "No tables detected in the image.\n"
          ]
        },
        {
          "output_type": "stream",
          "name": "stderr",
          "text": [
            "  0%|          | 0/4 [00:00<?, ?it/s]\n",
            "  0%|          | 0/6 [00:00<?, ?it/s]\u001b[A\n",
            " 17%|█▋        | 1/6 [00:00<00:03,  1.44it/s]\u001b[A\n",
            " 33%|███▎      | 2/6 [00:01<00:03,  1.17it/s]\u001b[A\n",
            " 50%|█████     | 3/6 [00:02<00:02,  1.03it/s]\u001b[A\n",
            " 67%|██████▋   | 4/6 [00:04<00:02,  1.18s/it]\u001b[A\n",
            " 83%|████████▎ | 5/6 [00:05<00:01,  1.16s/it]\u001b[A\n",
            "100%|██████████| 6/6 [00:06<00:00,  1.01s/it]\n",
            " 25%|██▌       | 1/4 [00:06<00:18,  6.08s/it]"
          ]
        },
        {
          "output_type": "stream",
          "name": "stdout",
          "text": [
            "Max number of columns: 5\n",
            "['Cohort', 'Treatment R', '-gimen', 'Jo', ';']\n",
            "['NMA Chemotherapy Regimen', 'Cell Dose', '# of\\nPatients\\nper Cohort', '# of\\nDLTs per\\nCohort', '']\n",
            "['Fresh Cells\\n10-25 Days in Culture', 'fo', '', '', '']\n",
            "['1', 'Cytoxan 60mg/kg x 2 days &\\nFludarabine 25mg/m” x 5 days', \"1.0x10° — 1.0x10'° CAR\\ntransduced cells\", 'je', 'Po']\n",
            "['6', 'Cytoxan 60mg/kg x 2 days &\\nFludarabine 25mg/m’ x 5 days', '0.5x10’ CAR positive\\ncells/kg (+ 20%)', 'po', 'Pp']\n",
            "['8', 'Cytoxan 60mg/kg x 2 days &', '| 2.5x10° CAR positive', '15', '| 2']\n"
          ]
        },
        {
          "output_type": "stream",
          "name": "stderr",
          "text": [
            "\n",
            "  0%|          | 0/8 [00:00<?, ?it/s]\u001b[A\n",
            " 12%|█▎        | 1/8 [00:00<00:04,  1.43it/s]\u001b[A\n",
            " 25%|██▌       | 2/8 [00:01<00:04,  1.39it/s]\u001b[A\n",
            " 38%|███▊      | 3/8 [00:02<00:03,  1.29it/s]\u001b[A\n",
            " 50%|█████     | 4/8 [00:02<00:02,  1.40it/s]\u001b[A\n",
            " 62%|██████▎   | 5/8 [00:03<00:02,  1.32it/s]\u001b[A\n",
            " 75%|███████▌  | 6/8 [00:04<00:01,  1.29it/s]\u001b[A\n",
            " 88%|████████▊ | 7/8 [00:05<00:00,  1.26it/s]\u001b[A\n",
            "100%|██████████| 8/8 [00:06<00:00,  1.29it/s]\n",
            " 50%|█████     | 2/4 [00:12<00:12,  6.14s/it]"
          ]
        },
        {
          "output_type": "stream",
          "name": "stdout",
          "text": [
            "Max number of columns: 5\n",
            "['Fludarabine 25mg/m’ x 5 days', 'cells/kg (+ 20%)', 'po', 'fe', '']\n",
            "['9', 'Cytoxan 30mg/kg x 2 days &\\nFludarabine 25mg/m’ x 5 days', '1.0x10° CAR positive\\ncells/kg (+ 20%)', 'i', 'iP']\n",
            "['10', 'Cytoxan 300mg/m’ &\\nFludarabine 30mg/m x 3 days', '1.0x10° CAR positive\\ncells/kg (+ 20%)', 'fr', 'None']\n",
            "['Cryopreserved Cells\\n6-8 Days in Culture', ',', '', '', '']\n",
            "['11', 'Cytoxan 300mg/m? &\\nFludarabine 30mg/m” x 3 days', '2.0x10° CAR positive\\ncells/kg (+ 20%)', '‘', 'yt']\n",
            "['12', 'Cytoxan 300mg/m? &\\nFludarabine 30mg/m’ x 3 days', '6.0x10° CAR positive\\ncells/kg (+ 20%)', 'i', 'oe']\n",
            "['13', 'Cytoxan 500mg/m’ &\\nFludarabine 30mg/m’ x 3 days', '2.0x10° CAR positive\\ncells/kg (+ 20%)', 'Po', 'fe']\n",
            "['14', 'Cytoxan 500mg/m? &\\nFludarabine 30mg/m? x 3 days', '2.0x10° CAR positive\\ncells/kg (+ 20%)', 'pe', '']\n"
          ]
        },
        {
          "output_type": "stream",
          "name": "stderr",
          "text": [
            "\n",
            "  0%|          | 0/5 [00:00<?, ?it/s]\u001b[A\n",
            " 20%|██        | 1/5 [00:01<00:06,  1.60s/it]\u001b[A\n",
            " 40%|████      | 2/5 [00:03<00:05,  1.74s/it]\u001b[A\n",
            " 60%|██████    | 3/5 [00:06<00:04,  2.24s/it]\u001b[A\n",
            " 80%|████████  | 4/5 [00:07<00:01,  1.97s/it]\u001b[A\n",
            "100%|██████████| 5/5 [00:09<00:00,  1.89s/it]\n",
            " 75%|███████▌  | 3/4 [00:21<00:07,  7.65s/it]"
          ]
        },
        {
          "output_type": "stream",
          "name": "stdout",
          "text": [
            "Max number of columns: 14\n",
            "['Day', '| -9', '| -8', '| -7', 'y | ~', '5 | -', '3 | -', '-2 |', '-1 |', '0 |', '1 |', '2', '| 3', '| 4']\n",
            "['Therapy', '[', ';', '\\\\', '|', '|', '|', '|', '|', '|', '|', '}', 'i', '']\n",
            "['Cyclophosphamide', '[', ';', '|', '|', '|', '|', '|', '|', '|', '|', '}', 'I', '']\n",
            "['Fludarabine', '|', ';', '\\\\', '|', '(do', 'a', '|', '|', '|', '|', '|', '[-', '']\n",
            "['Cryopreserved Anti-CD19\\nCAR PBL!', '|', '|', '|', '|', '|', '|', 'a', '|', '|', '|', '|', '|', '']\n"
          ]
        },
        {
          "output_type": "stream",
          "name": "stderr",
          "text": [
            "\n",
            "  0%|          | 0/5 [00:00<?, ?it/s]\u001b[A\n",
            " 20%|██        | 1/5 [00:01<00:05,  1.45s/it]\u001b[A\n",
            " 40%|████      | 2/5 [00:02<00:04,  1.44s/it]\u001b[A\n",
            " 60%|██████    | 3/5 [00:04<00:03,  1.50s/it]\u001b[A\n",
            " 80%|████████  | 4/5 [00:05<00:01,  1.51s/it]\u001b[A\n",
            "100%|██████████| 5/5 [00:07<00:00,  1.57s/it]\n",
            "100%|██████████| 4/4 [00:29<00:00,  7.40s/it]\n"
          ]
        },
        {
          "output_type": "stream",
          "name": "stdout",
          "text": [
            "Max number of columns: 13\n",
            "['Filgrastim?', 'Xx', '| xX', 'xX', 'xX', '', '', '', '', '', '', '', '']\n",
            "['Allopurinol®', '|x', '|', '|x', '|x', 'x |', 'x |', 'x |', 'x', 'x', 'x', '|x', '']\n",
            "['TMP/SMX?\\n160me/800me (example)', '|.', 'Z', ')', 'pp', 'r |\\n. | 2', 'E|', 'al', '=|', 'Xx', 'x', 'Ba', '2']\n",
            "['Fluconazole* (400 mg po)', 't', '|', '|', '|', '|]', '|', '|', 'x |', 'x', 'Ea', 'x', '|x']\n",
            "['Valacyclovir po or\\nAcyclovir IV>', 'fo', '\\\\', '.', 'L', '|', '|', '|', 'a', 'x', '=', 'Px', 'Ee']\n",
            "No tables detected in the image.\n",
            "No tables detected in the image.\n",
            "No tables detected in the image.\n",
            "No tables detected in the image.\n"
          ]
        },
        {
          "output_type": "stream",
          "name": "stderr",
          "text": [
            "  0%|          | 0/1 [00:00<?, ?it/s]\n",
            "  0%|          | 0/1 [00:00<?, ?it/s]\u001b[A\n",
            "100%|██████████| 1/1 [00:00<00:00,  5.38it/s]\n",
            "100%|██████████| 1/1 [00:00<00:00,  5.07it/s]\n"
          ]
        },
        {
          "output_type": "stream",
          "name": "stdout",
          "text": [
            "Max number of columns: 1\n",
            "['(o Amendment N']\n",
            "No tables detected in the image.\n",
            "No tables detected in the image.\n",
            "No tables detected in the image.\n",
            "No tables detected in the image.\n",
            "No tables detected in the image.\n"
          ]
        },
        {
          "output_type": "stream",
          "name": "stderr",
          "text": [
            "0it [00:00, ?it/s]\n"
          ]
        },
        {
          "output_type": "stream",
          "name": "stdout",
          "text": [
            "No tables detected in the image.\n",
            "No tables detected in the image.\n",
            "No tables detected in the image.\n",
            "No tables detected in the image.\n",
            "No tables detected in the image.\n"
          ]
        },
        {
          "output_type": "stream",
          "name": "stderr",
          "text": [
            "0it [00:00, ?it/s]\n",
            "  0%|          | 0/5 [00:00<?, ?it/s]\n",
            "  0%|          | 0/2 [00:00<?, ?it/s]\u001b[A\n",
            " 50%|█████     | 1/2 [00:00<00:00,  1.84it/s]\u001b[A\n",
            "100%|██████████| 2/2 [00:00<00:00,  2.38it/s]\n",
            " 20%|██        | 1/5 [00:00<00:03,  1.18it/s]"
          ]
        },
        {
          "output_type": "stream",
          "name": "stdout",
          "text": [
            "Max number of columns: 1\n",
            "['hosphamide enhances persistence of adoptively transferred. anti-CD19-CAR-transduced']\n",
            "['The secondary endpoint is to determine the anti-malignancy effect of the T-cells']\n"
          ]
        },
        {
          "output_type": "stream",
          "name": "stderr",
          "text": [
            "\n",
            "  0%|          | 0/7 [00:00<?, ?it/s]\u001b[A\n",
            " 14%|█▍        | 1/7 [00:00<00:04,  1.49it/s]\u001b[A\n",
            " 29%|██▊       | 2/7 [00:01<00:04,  1.15it/s]\u001b[A\n",
            " 43%|████▎     | 3/7 [00:02<00:02,  1.52it/s]\u001b[A\n",
            " 57%|█████▋    | 4/7 [00:02<00:01,  1.81it/s]\u001b[A\n",
            " 71%|███████▏  | 5/7 [00:02<00:00,  2.05it/s]\u001b[A\n",
            " 86%|████████▌ | 6/7 [00:06<00:01,  1.56s/it]\u001b[A\n",
            "100%|██████████| 7/7 [00:10<00:00,  1.52s/it]\n",
            " 40%|████      | 2/5 [00:11<00:19,  6.61s/it]"
          ]
        },
        {
          "output_type": "stream",
          "name": "stdout",
          "text": [
            "Max number of columns: 3\n",
            "['transduced v\\ncyclophosph', 'vith an anti-CD1‘\\namide.', '19 CAR in the patients that do not receive fludarabine and']\n",
            "['The initial p\\nminimum of\\neach cohort’', 'ortion of this pro\\n3 patients per cc\\nwill be:', 'otocol will be a phase I dose escalation design with three cohorts of a\\nohort. The number of anti-CD19-transduced T-cells transferred for']\n",
            "['Cohort 1', 'between', '1.0x10? and 1.0x10!°']\n",
            "['Cohort 2', 'greater than', '']\n",
            "['Cohort 3', 'greater than', '']\n",
            "['Patients will\\nlevel until al\\nmeet the crit\\nthe number «\\nparticular de\\nthan 1/6 pati\\nmore DLTs\\n\\nnext-lowest\\ntolerated dos', 'be enrolled sequ\\n| patients have bi\\neria for the assig\\n»f cells infused. §\\nse level, three m\\nents have a DLT\\nin 3-6 patients ha\\ndose for a total o\\ne prior to startin:', 'uentially, therefore enrollment will not proceed to a higher dose\\ndeen treated in the prior cohort. If sufficient cells cannot be grown to\\nened cohort, the patient will be enrolled in the appropriate cohort for\\nShould a single patient experience a dose limiting toxicity at a\\n\\nnore patients would be treated at that dose to confirm that no greater\\n[ prior to proceeding to the next higher level. If a level with 2 or\\n\\nas been identified, three additional patients will be accrued at the\\n\\nof 6, in order to further characterize the safety of the maximum\\n\\nae the phase II portion of the trial.']\n",
            "['tolerated dos\\nIn phase II o\\none treatmer\\nchemotheray\\ntreatment ar\\nchemotheray\\npatients will\\ndoses). The:\\narm will rec\\ncells/microli\\nthan 500 cel\\npatients wit\\npart of the tr\\ndefined as a', '€ prior to startin;\\nf the trial patient\\nit arm will receiv\\ny prior to receiv:\\nn will not receiv\\ny, anti-CD19 C/\\nreceive IV aldes\\n‘andomization p¢\\nsive an equal nur\\nter, and each arr\\ns/microliter. Rat\\n_ circulating mali\\nial. For this trial,\\npatient with a pr', 'ag the phase II portion of the trial.\\n\\nits will be randomized to two treatment arms. Patients assigned to\\nve fludarabine and cyclophosphamide lymphodepleting\\n\\nving the engineered PBL cells while patients assigned to the other\\nve chemotherapy. One to four days after completion of\\nAR-transduced T-cells will be infused. After cell infusion, all\\nsleukin therapy (720,000 IU/kg every 8 hours for a maximum of 15\\nyerformed during phase II of this trial will be stratified so that each\\nimber of patients with a total CD3 count greater than or equal to 500\\nm will receive an equal number of patients with a CD3 count less\\nindomization will also be stratified so that an equal number of\\nlignant cells (leukemia) will be entered on each arm of the phase II\\n|, a patient with circulating malignant cells (leukemia) will be\\nre-treatment peripheral blood lymphocyte count of greater than 4000']\n"
          ]
        },
        {
          "output_type": "stream",
          "name": "stderr",
          "text": [
            "\n",
            "  0%|          | 0/3 [00:00<?, ?it/s]\u001b[A\n",
            " 33%|███▎      | 1/3 [00:00<00:01,  1.82it/s]\u001b[A\n",
            " 67%|██████▋   | 2/3 [00:01<00:01,  1.01s/it]\u001b[A\n",
            "100%|██████████| 3/3 [00:02<00:00,  1.09it/s]\n",
            " 60%|██████    | 3/5 [00:14<00:09,  4.86s/it]"
          ]
        },
        {
          "output_type": "stream",
          "name": "stdout",
          "text": [
            "Max number of columns: 1\n",
            "['rapy. In practice, if the persistence measure is not normally distributed in both arms\\ny a Shapiro-Wilks test in either arm) then a Wilcoxon rank sum test will be used.']\n",
            "['ignancy effects will be measured by clinical response as noted in Section 6.3, and will\\nod using 95% confidence intervals, separately for CLL and for lymphoma. As there are\\nements for a particular number of each type of disease, the results will be interpreted\\n\\ny in the context of a pilot study which may be used to guide determination of\\n\\nrs for study in future protocols if warranted.']\n",
            "['[s are observed in the 3 patients in Cohort 2, after analysis of the IFN-gamma cytokine\\nditional patients will be treated with NMA, 1.0x10’ CAR positive cells/kg (+ 20%)\\n- aldesleukin (720,000 IU/kg) (Cohort 4). If one DLT is observed in a patient treated in']\n"
          ]
        },
        {
          "output_type": "stream",
          "name": "stderr",
          "text": [
            "\n",
            "  0%|          | 0/7 [00:00<?, ?it/s]\u001b[A\n",
            " 14%|█▍        | 1/7 [00:00<00:02,  2.05it/s]\u001b[A\n",
            " 29%|██▊       | 2/7 [00:01<00:02,  1.83it/s]\u001b[A\n",
            " 43%|████▎     | 3/7 [00:01<00:02,  1.67it/s]\u001b[A\n",
            " 57%|█████▋    | 4/7 [00:02<00:01,  1.71it/s]\u001b[A\n",
            " 71%|███████▏  | 5/7 [00:02<00:01,  1.69it/s]\u001b[A\n",
            " 86%|████████▌ | 6/7 [00:03<00:00,  1.64it/s]\u001b[A\n",
            "100%|██████████| 7/7 [00:04<00:00,  1.69it/s]\n",
            " 80%|████████  | 4/5 [00:18<00:04,  4.58s/it]"
          ]
        },
        {
          "output_type": "stream",
          "name": "stdout",
          "text": [
            "Max number of columns: 4\n",
            "['Cohort', 'Treatment Regimen', '', '']\n",
            "['NMA Chemotherapy\\nRegimen (as specified in\\nprotocol)', 'Cell Dose', 'IL-2 Dose', '']\n",
            "['1 (Closed with\\nAmendment F)', 'Yes', 'between 1.0x10° and 1.0x10!°\\ncells', 'High dose\\n(720,000 IU/kg)']\n",
            "['2', 'Yes', '0.5x107 CAR positive cells/kg\\n(+ 20%)', 'High dose\\n(720,000 IU/kg)']\n",
            "['3!', 'Yes', '0.5x10’ CAR positive cells/kg\\n(+ 20%)', 'Low dose (72,000\\nIU/kg)']\n",
            "['4', 'Yes', '1.0x10’ CAR positive cells/kg\\n(4 20%)', 'High dose\\n(720,000 IU/kg)']\n",
            "['| Yes', '| 1.0x10’ CAR positive cells/kg\\n(+ 20%)', '| Low dose (72,000\\nIU/kg)', '']\n"
          ]
        },
        {
          "output_type": "stream",
          "name": "stderr",
          "text": [
            "\n",
            "  0%|          | 0/2 [00:00<?, ?it/s]\u001b[A\n",
            " 50%|█████     | 1/2 [00:00<00:00,  1.94it/s]\u001b[A\n",
            "100%|██████████| 2/2 [00:01<00:00,  1.21it/s]\n",
            "100%|██████████| 5/5 [00:20<00:00,  4.02s/it]\n"
          ]
        },
        {
          "output_type": "stream",
          "name": "stdout",
          "text": [
            "Max number of columns: 3\n",
            "['Cohort', '| Treatment Regimen', '']\n",
            "['NMA Chemotherapy Regimen\\n(as specified in protocol)', 'Cell Dose', 'IL-2\\nDose']\n",
            "No tables detected in the image.\n",
            "No tables detected in the image.\n",
            "No tables detected in the image.\n"
          ]
        },
        {
          "output_type": "stream",
          "name": "stderr",
          "text": [
            "  0%|          | 0/2 [00:00<?, ?it/s]\n",
            "  0%|          | 0/5 [00:00<?, ?it/s]\u001b[A\n",
            " 20%|██        | 1/5 [00:01<00:04,  1.19s/it]\u001b[A\n",
            " 40%|████      | 2/5 [00:03<00:06,  2.10s/it]\u001b[A\n",
            " 60%|██████    | 3/5 [00:05<00:03,  1.81s/it]\u001b[A\n",
            " 80%|████████  | 4/5 [00:06<00:01,  1.36s/it]\u001b[A\n",
            "100%|██████████| 5/5 [00:06<00:00,  1.25s/it]\n",
            " 50%|█████     | 1/2 [00:06<00:06,  6.28s/it]"
          ]
        },
        {
          "output_type": "stream",
          "name": "stdout",
          "text": [
            "Max number of columns: 1\n",
            "['ort will be expanded as described below. If a DLT is observed in one of the first 3\\n\\n, after analysis of the cytokine data, 3 additional patients can be accrued to this cohort. If\\nan | out of 6 patients in this cohort experience a DLT, this cohort will be closed, and\\nwill be accrued to Cohort 9. Cohort 9 will proceed in a similar fashion as Cohort 8. If\\nan | out of 6 patients in this cohort experience a DLT, this cohort will be closed.\\n\\nient dose reductions will be discussed with the FDA prior to initiation.']\n",
            "[\"hest dose cohort evaluated with DLTs in < | patient in 6 patients treated will be\\n\\n-d to a total of 18 evaluable patients, subject to not exceeding 3 patients in total with a\\n\\nat any time during accrual, a cumulative total of 3 evaluable patients have experienced a\\nen no further patients will be enrolled. The upper one sided 90% confidence interval\\n\\nn 3/18 is 0.334, which is marginally tolerable, while the upper one sided 90% confidence\\nbound on 4/18 is 0.396. At earlier accrual points the upper 90% confidence interval\\n\\nare higher: 3/15 has a bound of 0.393 and 4/15 has an upper 90% confidence interval\\n\\nf 0.464. Thus, 3/18 with a DLT is consistent with approximately 1/3 or fewer patients\\n\\n1 DLT, while having 3 patients with DLT occur at an earlier point, or having >3 patients\\n'T is consistent with >1/3 of patients having a DLT. These latter two conditions would be\\nred consistent with excessive toxicity.\"]\n",
            "[') will initially accrue 3 patients. If no DLTs are observed in these 3 patients, three\\n\\nal patients will be accrued. If DLTs are observed in < | patient out of 6 patients treated,\\nort will be expanded as described below. If a DLT is observed in one of the first 3\\n\\n, after analysis of the cytokine data, 3 additional patients can be accrued to this cohort. If\\nan | out of 6 patients in this cohort experience a DLT, this cohort will be closed.\\n\\n1ent dose reductions will be discussed with the FDA prior to initiation.']\n",
            "['tient in 6 patients treated develops a DLT then the cohort will be expanded to a total of\\nlable patients, subject to not exceeding 3 patients in total with a DLT.']\n",
            "['swith Amendment S']\n"
          ]
        },
        {
          "output_type": "stream",
          "name": "stderr",
          "text": [
            "\n",
            "  0%|          | 0/5 [00:00<?, ?it/s]\u001b[A\n",
            " 20%|██        | 1/5 [00:00<00:02,  1.67it/s]\u001b[A\n",
            " 40%|████      | 2/5 [00:01<00:02,  1.04it/s]\u001b[A\n",
            " 60%|██████    | 3/5 [00:02<00:01,  1.05it/s]\u001b[A\n",
            " 80%|████████  | 4/5 [00:03<00:01,  1.05s/it]\u001b[A\n",
            "100%|██████████| 5/5 [00:04<00:00,  1.06it/s]\n",
            "100%|██████████| 2/2 [00:11<00:00,  5.50s/it]\n"
          ]
        },
        {
          "output_type": "stream",
          "name": "stdout",
          "text": [
            "Max number of columns: 4\n",
            "['Cohort', 'Treatment Regimen', '', '']\n",
            "['NMA Chemotherapy Regimen\\n(as specified in protocol)', 'Cell Dose: Determined Prior to\\nCryopreservation', 'IL-2\\nDose', '']\n",
            "['11', 'Yes', '2.0x10° CAR positive cells/kg\\n(+ 20%)', 'None']\n",
            "['11D\\n(De-escalation Cohort)', 'Yes', '1.0x10° CAR positive cells/kg\\n(+ 20%)', 'None']\n",
            "['12', 'Yes', '6.0x10° CAR positive cells/kg\\n(420%)', 'None']\n",
            "No tables detected in the image.\n",
            "No tables detected in the image.\n",
            "No tables detected in the image.\n",
            "No tables detected in the image.\n",
            "No tables detected in the image.\n"
          ]
        },
        {
          "output_type": "stream",
          "name": "stderr",
          "text": [
            "0it [00:00, ?it/s]\n"
          ]
        },
        {
          "output_type": "stream",
          "name": "stdout",
          "text": [
            "No tables detected in the image.\n",
            "No tables detected in the image.\n",
            "No tables detected in the image.\n"
          ]
        },
        {
          "output_type": "stream",
          "name": "stderr",
          "text": [
            "  0%|          | 0/2 [00:00<?, ?it/s]\n",
            "  0%|          | 0/11 [00:00<?, ?it/s]\u001b[A\n",
            "  9%|▉         | 1/11 [00:01<00:18,  1.89s/it]\u001b[A\n",
            " 18%|█▊        | 2/11 [00:03<00:15,  1.69s/it]\u001b[A\n",
            " 27%|██▋       | 3/11 [00:04<00:11,  1.41s/it]\u001b[A\n",
            " 36%|███▋      | 4/11 [00:05<00:09,  1.32s/it]\u001b[A\n",
            " 45%|████▌     | 5/11 [00:06<00:06,  1.14s/it]\u001b[A\n",
            " 55%|█████▍    | 6/11 [00:07<00:05,  1.13s/it]\u001b[A\n",
            " 64%|██████▎   | 7/11 [00:08<00:04,  1.09s/it]\u001b[A\n",
            " 73%|███████▎  | 8/11 [00:09<00:03,  1.13s/it]\u001b[A\n",
            " 82%|████████▏ | 9/11 [00:11<00:02,  1.21s/it]\u001b[A\n",
            " 91%|█████████ | 10/11 [00:12<00:01,  1.33s/it]\u001b[A\n",
            "100%|██████████| 11/11 [00:14<00:00,  1.35s/it]\n",
            " 50%|█████     | 1/2 [00:14<00:14, 14.86s/it]"
          ]
        },
        {
          "output_type": "stream",
          "name": "stdout",
          "text": [
            "Max number of columns: 7\n",
            "['Study #/\\nDisease', 'Cellular\\nProduct\\nAdministered', '| Arms (n)', 'Chemotherapy, Cytokines,\\nand Immunizations', '# of Cells |', 'Response', 'Reference']\n",
            "['P', '1. Cloned PBL/TIL\\nintravenously (12)', 'None', '|', 'oe', '', '']\n",
            "['98-C-0095\\nin patients', 'Cloned\\nPeripheral\\nBlood\\nLymphocytes', '2. IV Cloned\\nPBL/TIL\\nintravenously (6*)', 'SQ IL-2 (125,000 IU/kg/d X\\n12d)', '1.5 to |', 'oe', '']\n",
            "['With\\nmetastatic\\nmelanoma', '(PBL)/ Tumor\\ninfiltrating\\nlymphocytes\\n(TIL)', '3. IV Cloned\\nPBL/TIL\\nintravenously (6°)', 'HD IL-2 (720,000 IU/kg\\n3X/d to tolerance (max 12)', 'IT.OX1LU™\\ncells', 'INIT', 'Dudley, ME.\\net al. 2001']\n",
            "['4. IV Cloned\\nPBL/TIL (3°)', 'Gp 100:209-217(210M)', '', '', '', '', '']\n",
            "['po', '1. In vitro expanded\\ncloned T-cells\\nintravenously (3)', '30 mg/kg cyclophosphamide\\nX2 days, 25 mg/kg\\nfludarabine X5 days', '0.9x10° to\\n24.2x10°', 'NR', '_', '']\n",
            "['2. In vitro expanded\\ncloned T-cells\\nintravenously (3)', '60 mg/kg cyclophosphamide\\nX2 days, 25 mg/kg\\nfludarabine X5 days', 'cells (avg.\\n10.4x10°)', 'NR', '', '', '']\n",
            "['3. In vitro expanded\\ncloned T-cells\\nintravenously (3)', '60 mg/kg cyclophosphamide\\nX2 days, 25 mg/kg\\nfludarabine X5 days plus IV\\nIL-2 (72,000 IU/kg 3X/day\\nX5 days)', '0.9x10° to', 'NR', 'Dudley, ME,\\net al. 2002', '', '']\n",
            "['99-C-0158\\nin patients\\nwith\\n\\nmetastatic\\nmelanoma', 'Tumor\\ninfiltrating\\nlymphocytes\\n(TIL)', '4. In vitro expanded\\ncloned T-cells\\nintravenously (6)', '[60 mg/kg\\ncyclophosphamide X2 days,\\n25 mg/kg fludarabine X5\\ndays]® plus IV IL-2 (720,000\\nIU/kg 3X/day to tolerance\\n(max 12)', '24.2X10\"\\ncells (avg.\\n10.4x10°)', 'NR', '']\n",
            "['5. Autologous tumor\\nreactive REP’d* bulk\\nTIL cells\\nintravenously (35)', 'Chemotherapy® plus [V HD\\nIL-2 [(720,000 IU/kg 3X/day\\nto tolerance (max 15)]\" with\\nor without immunization\\nwith gp100:209-217(210M)\\nor MART-1:26-35(27L) in\\nMontanide ISA-51™ QD X5,\\nthen Qwk X3.', '1.1 to\\n\\n16.0x10!°\\ncells (avg.\\n6.3x10!°)', '18/35\\n(51%)!\\n3CRs\\n15 PRs', 'Dudley, ME.\\net al. 2003,\\nDudley, ME.\\net al. 2005', '', '']\n",
            "['6. Autologous tumor\\nreactive REP’d® bulk\\nTIL cells\\nintravenously (6)', 'Chemotherapy® plus Low\\nDose IL-2 with or without\\nimmunization with\\ngp100:209-217(210M)\\npeptide or MART-1:26-', '8.3x10° to\\n52.9x10°\\n\\ncells (avg.\\n33.7x10°)', '3PR\\n2NR\\n1 TE!', '', '', '']\n"
          ]
        },
        {
          "output_type": "stream",
          "name": "stderr",
          "text": [
            "\n",
            "  0%|          | 0/11 [00:00<?, ?it/s]\u001b[A\n",
            "  9%|▉         | 1/11 [00:01<00:16,  1.69s/it]\u001b[A\n",
            " 18%|█▊        | 2/11 [00:03<00:13,  1.51s/it]\u001b[A\n",
            " 27%|██▋       | 3/11 [00:04<00:11,  1.42s/it]\u001b[A\n",
            " 36%|███▋      | 4/11 [00:05<00:09,  1.32s/it]\u001b[A\n",
            " 45%|████▌     | 5/11 [00:06<00:07,  1.26s/it]\u001b[A\n",
            " 55%|█████▍    | 6/11 [00:07<00:06,  1.22s/it]\u001b[A\n",
            " 64%|██████▎   | 7/11 [00:09<00:05,  1.31s/it]\u001b[A\n",
            " 73%|███████▎  | 8/11 [00:10<00:03,  1.32s/it]\u001b[A\n",
            " 82%|████████▏ | 9/11 [00:11<00:02,  1.25s/it]\u001b[A\n",
            " 91%|█████████ | 10/11 [00:13<00:01,  1.38s/it]\u001b[A\n",
            "100%|██████████| 11/11 [00:15<00:00,  1.42s/it]\n",
            "100%|██████████| 2/2 [00:30<00:00, 15.23s/it]\n"
          ]
        },
        {
          "output_type": "stream",
          "name": "stdout",
          "text": [
            "Max number of columns: 7\n",
            "['po', '35(27L) peptide in\\nMontanide ISA-51™ QD X5,\\nthen Qwk X3.', '-', '|', 'po', '', '']\n",
            "['_', '1. Escalating doses\\nof anti-gp100 TCR\\ntransduced PBL (3)', \"Chemotherapy® plus [V HD\\nIL-2' with Img gp100:209-\\n217(210M) in Montanide\\nISA-51™ QD X5, then Qwk\\nX3\", 'Up to\\n30x10?', 'l=', '|', '']\n",
            "['04-C-0181\\nin patients\\nwith\\n\\nmetastatic\\nmelanoma', 'Gp100 TCR\\nengineered T-\\ncells (PBL or\\nTIL)', '2. Anti-gp100 TCR\\nCD8+ enriched PBL\\n(8)', 'Chemotherapy® plus [V HD\\nIL-2 with 6X10° pfu\\nrFgp100P209 IV;\\nrFgp100P209 IV and IL-2\\nrepeated 28 days later.', 'Up to\\n30x10?', 'le', '.']\n",
            "['3. Escalating doses\\nof anti-gp100 TCR\\ntransduced TIL (3)', 'Chemotherapy plus [V HD\\nIL-2\" with 6X10? pfu\\nrFgp100P209 IV;\\nrFgp100P209 IV and IL-2\\nrepeated 28 days later.', 'Up to\\n30x10?', \"1PR'\", '|', '', '']\n",
            "['p', '1. Escalating doses\\nof anti-MART-1\\nTCR transduced\\nPBL (18)', 'Chemotherapy® plus [V HD\\nIL-2 with MART-1:26-\\n\\n35(27L) in Montanide ISA-\\n51™ QD X5, then Qwk X3.', 'Up to\\n30x10?', \"2PRs'\", '|', '']\n",
            "['2. Escalating doses\\nof anti-MART-1\\nCD8+ TCR\\ntransduced PBL (6)', 'Chemotherapy® plus [V HD\\nIL-2\" with MART-1:27-35 in\\nMontanide ISA-51™ QD X5,\\nthen Qwk X3', 'Up to\\n30x10°', '1 PR!', '', '', '']\n",
            "['04-C-0251\\nin patients\\nwith\\n\\nmetastatic\\nSe', 'MART-1 TCR\\nengineered T-\\ncells (PBL or\\nTIL)', '3. Escalating doses\\nof anti-MART-1\\nCD8+ TCR\\ntransduced PBL (8)', 'Chemotherapy® plus [V HD\\nIL-2 with MART-1:26-\\n\\n35(27L) in Montanide ISA-\\n51™ QD X5, then Qwk X3', 'Up to\\n30x10?', \"1 PR'\", 'Morgan, et\\nal. Science,\\n2006 Oct\\nB-21A(5706):']\n",
            "['He1anvUlia', '4. Escalating doses\\nof anti-MART-1\\nTCR transduced TIL\\n(3)', 'Chemotherapy® plus [V HD\\nIL-2 with MART-1:26-\\n\\n35(27L) in Montanide ISA-\\n51™ QD X5, then Qwk X3', 'Up to\\n30x10°', '|=', '~~ ler ae\\n| 126-9', '']\n",
            "['5. Escalating doses\\nof anti-MART-1\\nTCR transduced\\nPBL plus 1200 TBI\\n(4)', 'Chemotherapy® and 1200\\nTBI plus IV HD IL-2\" with\\nMART-1:26-35(27L) in\\nMontanide ISA-51™ QD X5,\\nthen Qwk X3', 'Up to\\n30x10°', 'I', '|', '', '']\n",
            "['07-C-0003\\nin\\nmelanoma/', 'Anti-p53 TCR\\nengineered T-', '1. Melanoma or\\nrenal cell cancer: Up\\nto 50 X 10° cells\\n(PBL) (2)', 'Chemotherapy® plus [V HD\\nIL-2\"', 'Up to\\n50x10°', '|=', 'i']\n",
            "['renal cell\\nor other\\nhistologies', '| cells (PBL)', '2. Other histologies:\\nUp to 50 X 10° cells\\n(PBL) (10)', 'Chemotherapy® plus [V HD\\nIL-2', 'Up to\\n50x10?', '1 PR!', '\\\\\"']\n",
            "No tables detected in the image.\n",
            "No tables detected in the image.\n"
          ]
        },
        {
          "output_type": "stream",
          "name": "stderr",
          "text": [
            "  0%|          | 0/3 [00:00<?, ?it/s]\n",
            "  0%|          | 0/4 [00:00<?, ?it/s]\u001b[A\n",
            " 25%|██▌       | 1/4 [00:01<00:03,  1.33s/it]\u001b[A\n",
            " 50%|█████     | 2/4 [00:02<00:02,  1.36s/it]\u001b[A\n",
            " 75%|███████▌  | 3/4 [00:03<00:01,  1.23s/it]\u001b[A\n",
            "100%|██████████| 4/4 [00:06<00:00,  1.53s/it]\n",
            " 33%|███▎      | 1/3 [00:06<00:12,  6.13s/it]"
          ]
        },
        {
          "output_type": "stream",
          "name": "stdout",
          "text": [
            "Max number of columns: 7\n",
            "['07-C-0174\\nin patients\\nwith\\n\\nmetastatic\\nmelanoma', 'Anti-\\ngp100(154)\\nTCR\\nengineered T-\\ncells (PBL)', 'Anti-gp100(154)\\nTCR transduced\\nPBL at a dose\\nranging from 0.5 X\\n10° cells up to 300\\nx10° (19)', 'Chemotherapy® plus [V HD\\nIL-2\"', '1.7x10° to\\n110.0x10°\\ncells (avg.\\n31.5x10°)', '3PR\\n14NR\\n2 TEI', 'NA']\n",
            "['07-C-0175\\nin patients\\nwith\\n\\nmetastatic\\nmelanoma', 'Anti-MART-1\\nF5 TCR\\nengineered T-\\ncells (PBL or\\nTIL)', 'Anti-MART-1 F5\\nTCR transduced\\nPBL at a dose\\nranging from 0.5 X\\n10° cells up to 300\\nx10? cells (21)', 'Chemotherapy® plus I1V HD\\nIL-2\"', '1.45x10°\\nto\\n110.0x10°\\ncells (avg.\\n34.2x10°)', '6PR\\n12 NR\\n3 TE', '-']\n",
            "['a', 'Anti-MART-1 F5\\nTCR transduced TIL\\nat a dose ranging\\nfrom 0.5 X 10° cells\\nup to 300 x10? cells', 'Chemotherapy® plus [V HD\\nIL-2\"', '84x10?\\ncells', '1 TE', '~', '']\n",
            "['07-C-0176\\nin patients\\nwith\\n\\nmetastatic\\nmelanoma', 'Young TIL', 'Young TIL at a dose\\nranging from 1.0 X\\n10° cells up to 300\\nx10° cells (26)', 'Chemotherapy® plus [V HD\\nIL-2', '11.1x10°\\nto\\n124x10°\\ncells (avg.\\n55.6x10°)', '3PR\\n19NR\\n2 TEI\\nINT)', '|-']\n"
          ]
        },
        {
          "output_type": "stream",
          "name": "stderr",
          "text": [
            "\n",
            "  0%|          | 0/1 [00:00<?, ?it/s]\u001b[A\n",
            "100%|██████████| 1/1 [00:00<00:00,  1.09it/s]\n",
            " 67%|██████▋   | 2/3 [00:07<00:03,  3.07s/it]"
          ]
        },
        {
          "output_type": "stream",
          "name": "stdout",
          "text": [
            "Max number of columns: 3\n",
            "['Attribute measured', 'Duration, Number or Type', 'Number of Patients (%)']\n"
          ]
        },
        {
          "output_type": "stream",
          "name": "stderr",
          "text": [
            "\n",
            "  0%|          | 0/6 [00:00<?, ?it/s]\u001b[A\n",
            " 17%|█▋        | 1/6 [00:01<00:06,  1.22s/it]\u001b[A\n",
            " 33%|███▎      | 2/6 [00:02<00:04,  1.21s/it]\u001b[A\n",
            " 50%|█████     | 3/6 [00:03<00:03,  1.14s/it]\u001b[A\n",
            " 67%|██████▋   | 4/6 [00:04<00:02,  1.14s/it]\u001b[A\n",
            " 83%|████████▎ | 5/6 [00:05<00:01,  1.16s/it]\u001b[A\n",
            "100%|██████████| 6/6 [00:06<00:00,  1.16s/it]\n",
            "100%|██████████| 3/3 [00:14<00:00,  4.67s/it]\n"
          ]
        },
        {
          "output_type": "stream",
          "name": "stdout",
          "text": [
            "Max number of columns: 10\n",
            "['>D19+ targ', 'ots', 'CD19', 'negative t', 'argets', '', '', '', '', '']\n",
            "['SupB15', 'NALM6', 'Toledo', '624', 'A549', 'TCO71', 'CEM', 'K562', 'Enews\\nalone', '']\n",
            "['rector cells :', '', '', '', '', '', '', '', '', '']\n",
            "['iti-CD19 CAR', '14800', '15150', '15150', '38', '19', '63', '8', '24', '4']\n",
            "['6 Control CAR', '23', '35', '36', '83', '124', '46', '22', '184', '14']\n",
            "['nor 1 Nontransduced', '13', '54', '39', 'z', '5', '|', '16', '8', '3']\n",
            "No tables detected in the image.\n",
            "No tables detected in the image.\n",
            "No tables detected in the image.\n",
            "No tables detected in the image.\n",
            "No tables detected in the image.\n"
          ]
        },
        {
          "output_type": "stream",
          "name": "stderr",
          "text": [
            "0it [00:00, ?it/s]\n"
          ]
        },
        {
          "output_type": "stream",
          "name": "stdout",
          "text": [
            "No tables detected in the image.\n",
            "No tables detected in the image.\n",
            "No tables detected in the image.\n",
            "No tables detected in the image.\n",
            "No tables detected in the image.\n"
          ]
        },
        {
          "output_type": "stream",
          "name": "stderr",
          "text": [
            "0it [00:00, ?it/s]\n"
          ]
        },
        {
          "output_type": "stream",
          "name": "stdout",
          "text": [
            "No tables detected in the image.\n",
            "No tables detected in the image.\n",
            "No tables detected in the image.\n",
            "No tables detected in the image.\n"
          ]
        },
        {
          "output_type": "stream",
          "name": "stderr",
          "text": [
            "  0%|          | 0/1 [00:00<?, ?it/s]\n",
            "  0%|          | 0/11 [00:00<?, ?it/s]\u001b[A\n",
            "  9%|▉         | 1/11 [00:00<00:06,  1.61it/s]\u001b[A\n",
            " 18%|█▊        | 2/11 [00:01<00:05,  1.53it/s]\u001b[A\n",
            " 27%|██▋       | 3/11 [00:02<00:05,  1.43it/s]\u001b[A\n",
            " 36%|███▋      | 4/11 [00:02<00:05,  1.35it/s]\u001b[A\n",
            " 45%|████▌     | 5/11 [00:03<00:04,  1.26it/s]\u001b[A\n",
            " 55%|█████▍    | 6/11 [00:04<00:04,  1.10it/s]\u001b[A\n",
            " 64%|██████▎   | 7/11 [00:05<00:03,  1.03it/s]\u001b[A\n",
            " 73%|███████▎  | 8/11 [00:06<00:02,  1.04it/s]\u001b[A\n",
            " 82%|████████▏ | 9/11 [00:07<00:01,  1.15it/s]\u001b[A\n",
            " 91%|█████████ | 10/11 [00:08<00:00,  1.24it/s]\u001b[A\n",
            "100%|██████████| 11/11 [00:08<00:00,  1.24it/s]\n",
            "100%|██████████| 1/1 [00:08<00:00,  8.89s/it]\n"
          ]
        },
        {
          "output_type": "stream",
          "name": "stdout",
          "text": [
            "Max number of columns: 5\n",
            "['Test', '| Method', '| Limits |', 'Result', 'Initials/\\nDate']\n",
            "['Cell viability!', 'trypan blue exclusion', '>70%', 'L', 'fp']\n",
            "['CAR positive\\ncells/patient weight\\n(kg)', 'Calculated Value', 'Between 0.2x10’ and\\n1.0x107 CAR positive\\ncells/kg', 'a', '|']\n",
            "['Tumor reactivity”', 'y-IEN release vs. CD19-\\nexpressing target cell lines', '>200 pg/mL', 'a', 'fe']\n",
            "['Microbiological\\nstudies', 'gram stain!', 'no micro-organisms\\nseen', 'lz', 'fe']\n",
            "['aerobic culture?', 'no growth', 'fp', '', '']\n",
            "['fungal culture?', 'fe', '', '', '']\n",
            "['anaerobic culture?', 'no growth', 'LL', 'fp', '']\n",
            "['mycoplasma test*', 'negative', 'L', 'fe', '']\n",
            "['Endotoxin', 'limulus assay!', '<5 E.U./kg', 'lL', 'fp']\n",
            "['RCR', 'S+L- Assay?\\nRCR-PCR5', 'negative', 'a', 'of']\n",
            "No tables detected in the image.\n",
            "No tables detected in the image.\n",
            "No tables detected in the image.\n"
          ]
        },
        {
          "output_type": "stream",
          "name": "stderr",
          "text": [
            "  0%|          | 0/2 [00:00<?, ?it/s]\n",
            "  0%|          | 0/7 [00:00<?, ?it/s]\u001b[A\n",
            " 14%|█▍        | 1/7 [00:00<00:03,  1.82it/s]\u001b[A\n",
            " 29%|██▊       | 2/7 [00:01<00:02,  1.77it/s]\u001b[A\n",
            " 43%|████▎     | 3/7 [00:01<00:02,  1.67it/s]\u001b[A\n",
            " 57%|█████▋    | 4/7 [00:02<00:01,  1.70it/s]\u001b[A\n",
            " 71%|███████▏  | 5/7 [00:03<00:01,  1.33it/s]\u001b[A\n",
            " 86%|████████▌ | 6/7 [00:04<00:00,  1.14it/s]\u001b[A\n",
            "100%|██████████| 7/7 [00:05<00:00,  1.25it/s]\n",
            " 50%|█████     | 1/2 [00:05<00:05,  5.63s/it]"
          ]
        },
        {
          "output_type": "stream",
          "name": "stdout",
          "text": [
            "Max number of columns: 4\n",
            "['Cohort', 'Treatment Regimen', '', '']\n",
            "['NMA Chemotherapy Regimen\\n(as specified in protocol)', 'Cell Dose', 'IL-2 Dose', '']\n",
            "['1 (Closed with\\nAmendment F)', 'Yes', 'between 1.0x10° and 1.0x10!°\\ncells', 'High dose\\n(720,000 IU/kg)']\n",
            "['2', 'Yes', '0.5x10’ CAR positive cells/kg\\n(+ 20%)', 'High dose\\n(720,000 IU/kg)']\n",
            "['3!', 'Yes', '0.5x10’ CAR positive cells/kg\\n(+ 20%)', 'Low dose (72,000\\nIU/kg)']\n",
            "['4', 'Yes', '1.0x10’ CAR positive cells/kg\\n(+ 20%)', 'High dose\\n(720,000 IU/kg)']\n",
            "['52', 'Yes', '1.0x10’ CAR positive cells/kg\\n(+ 20%)', 'Low dose (72,000\\nIU/kg)']\n"
          ]
        },
        {
          "output_type": "stream",
          "name": "stderr",
          "text": [
            "\n",
            "  0%|          | 0/9 [00:00<?, ?it/s]\u001b[A\n",
            " 11%|█         | 1/9 [00:00<00:05,  1.34it/s]\u001b[A\n",
            " 22%|██▏       | 2/9 [00:01<00:04,  1.54it/s]\u001b[A\n",
            " 33%|███▎      | 3/9 [00:02<00:04,  1.46it/s]\u001b[A\n",
            " 44%|████▍     | 4/9 [00:02<00:03,  1.45it/s]\u001b[A\n",
            " 56%|█████▌    | 5/9 [00:03<00:02,  1.52it/s]\u001b[A\n",
            " 67%|██████▋   | 6/9 [00:04<00:01,  1.50it/s]\u001b[A\n",
            " 78%|███████▊  | 7/9 [00:04<00:01,  1.50it/s]\u001b[A\n",
            " 89%|████████▉ | 8/9 [00:05<00:00,  1.51it/s]\u001b[A\n",
            "100%|██████████| 9/9 [00:05<00:00,  1.51it/s]\n",
            "100%|██████████| 2/2 [00:11<00:00,  5.80s/it]\n"
          ]
        },
        {
          "output_type": "stream",
          "name": "stdout",
          "text": [
            "Max number of columns: 4\n",
            "['Cohort', 'Treatment Regimen', '', '']\n",
            "['NMA Chemotherapy Regimen\\n(as specified in protocol)', 'Cell Dose', 'IL-2 Dose', '']\n",
            "['1 (Closed with\\nAmendment F)', 'Yes', 'between 1.0x10° and 1.0x10!° cells', 'High dose (720,000\\nIU/kg)']\n",
            "['2 (Closed with\\nAmendment H)', 'Yes', '0.5x10’ CAR positive cells/kg (+\\n20%)', 'High dose (720,000\\nIU/kg)']\n",
            "['3 (Closed with\\nAmendment H)', 'Yes', '0.5x10’ CAR positive cells/kg (+\\n20%)', 'Low dose (72,000\\nIU/kg)']\n",
            "['4 (Closed with\\nAmendment H)', 'Yes', '1.0x10’ CAR positive cells/kg (+\\n20%)', 'High dose (720,000\\nIU/kg)']\n",
            "['5 (Closed with\\nAmendment H)', 'Yes', '1.0x10’ CAR positive cells/kg (+\\n20%)', 'Low dose (72,000\\nIU/kg)']\n",
            "['6 (Closed with\\nAmendment J)', 'Yes', '0.5x10’ CAR positive cells/kg (+\\n20%)', 'None']\n",
            "['7 (Closed with\\nAmendment J)', 'Yes', '1.0x10’ CAR positive cells/kg (+\\n20%)', 'None']\n",
            "No tables detected in the image.\n",
            "No tables detected in the image.\n",
            "No tables detected in the image.\n"
          ]
        },
        {
          "output_type": "stream",
          "name": "stderr",
          "text": [
            "  0%|          | 0/1 [00:00<?, ?it/s]\n",
            "  0%|          | 0/5 [00:00<?, ?it/s]\u001b[A\n",
            " 20%|██        | 1/5 [00:00<00:01,  2.08it/s]\u001b[A\n",
            " 40%|████      | 2/5 [00:01<00:02,  1.36it/s]\u001b[A\n",
            " 60%|██████    | 3/5 [00:02<00:01,  1.15it/s]\u001b[A\n",
            " 80%|████████  | 4/5 [00:03<00:00,  1.03it/s]\u001b[A\n",
            "100%|██████████| 5/5 [00:04<00:00,  1.08it/s]\n",
            "100%|██████████| 1/1 [00:04<00:00,  4.65s/it]\n"
          ]
        },
        {
          "output_type": "stream",
          "name": "stdout",
          "text": [
            "Max number of columns: 4\n",
            "['Cohort', 'Treatment Regimen', '', '']\n",
            "['NMA Chemotherapy Regimen (as\\nspecified in protocol)', 'Cell Dose', 'IL-2 Dose', '']\n",
            "['8\\n(De-escalation Dose 1)', 'Yes', '2.5x10° CAR positive cells/kg (+\\n20%)', 'None']\n",
            "['9\\n(De-escalation Dose 2)', 'Yes', '1.0x10° CAR positive cells/kg (+\\n20%)', 'None']\n",
            "['10\\n(De-escalation Dose 2)', 'Yes — dose of both agents reduced', '1.0x10° CAR positive cells/kg (+\\n20%)', 'None']\n",
            "All tables extracted and saved to /content/drive/MyDrive/output_Extracted/Copy of NCT00924326.json\n",
            "No tables detected in the image.\n",
            "No tables detected in the image.\n",
            "No tables detected in the image.\n"
          ]
        },
        {
          "output_type": "stream",
          "name": "stderr",
          "text": [
            "  0%|          | 0/2 [00:00<?, ?it/s]\n",
            "  0%|          | 0/17 [00:00<?, ?it/s]\u001b[A\n",
            "  6%|▌         | 1/17 [00:00<00:12,  1.26it/s]\u001b[A\n",
            " 12%|█▏        | 2/17 [00:01<00:13,  1.09it/s]\u001b[A\n",
            " 18%|█▊        | 3/17 [00:02<00:12,  1.17it/s]\u001b[A\n",
            " 24%|██▎       | 4/17 [00:03<00:09,  1.43it/s]\u001b[A\n",
            " 29%|██▉       | 5/17 [00:03<00:07,  1.64it/s]\u001b[A\n",
            " 35%|███▌      | 6/17 [00:04<00:06,  1.73it/s]\u001b[A\n",
            " 41%|████      | 7/17 [00:04<00:05,  1.81it/s]\u001b[A\n",
            " 47%|████▋     | 8/17 [00:04<00:04,  1.92it/s]\u001b[A\n",
            " 53%|█████▎    | 9/17 [00:05<00:03,  2.00it/s]\u001b[A\n",
            " 59%|█████▉    | 10/17 [00:05<00:03,  1.98it/s]\u001b[A\n",
            " 65%|██████▍   | 11/17 [00:06<00:02,  2.06it/s]\u001b[A\n",
            " 71%|███████   | 12/17 [00:06<00:02,  2.12it/s]\u001b[A\n",
            " 76%|███████▋  | 13/17 [00:07<00:01,  2.18it/s]\u001b[A\n",
            " 82%|████████▏ | 14/17 [00:07<00:01,  2.19it/s]\u001b[A\n",
            " 88%|████████▊ | 15/17 [00:08<00:00,  2.26it/s]\u001b[A\n",
            " 94%|█████████▍| 16/17 [00:08<00:00,  1.87it/s]\u001b[A\n",
            "100%|██████████| 17/17 [00:09<00:00,  1.83it/s]\n",
            " 50%|█████     | 1/2 [00:09<00:09,  9.31s/it]"
          ]
        },
        {
          "output_type": "stream",
          "name": "stdout",
          "text": [
            "Max number of columns: 3\n",
            "['Initial Approval', 'Protocol Dated 08/01/11', 'Version: 00']\n",
            "['COH Amendment 01', 'Protocol Dated 10/31/11', 'Version: 01']\n",
            "['COH Amendment 02', 'Protocol Dated 12/12/11', 'Version: 02']\n",
            "['COH Amendment 03', 'Protocol Dated 02/17/12', 'Version: 03']\n",
            "['COH Amendment 04', 'Protocol Dated 04/30/12', 'Version: 04']\n",
            "['COH Amendment 05', 'Protocol Dated 06/04/12', 'Version: 05']\n",
            "['COH Amendment 06', 'Protocol Dated 07/12/12', 'Version: 06']\n",
            "['COH Amendment 07', 'Protocol Dated 11/20/12', 'Version: 07']\n",
            "['COH Amendment 08', 'Protocol Dated 05/20/13', 'Version: 08']\n",
            "['COH Amendment 09', 'Protocol Dated 10/28/13', 'Version: 09']\n",
            "['COH Amendment 10', 'Protocol Dated 02/12/14', 'Version: 10']\n",
            "['COH Amendment 11', 'Protocol Dated 06/10/14', 'Version: 11']\n",
            "['SPONSOR/IND NUMBER:', 'City of Hope/IND 14645', '']\n",
            "['DISEASE SITE:', 'Lymph Nodes and/or Bone Marrow', '']\n",
            "['STAGE (if applicable):', 'Not applicable', '']\n",
            "['MODALITY:', 'Cellular Immunotherapy Using CD19-Sr\\nImmunoreceptor Expressing Tcm-Enrichi', 'yecific Chimeric\\ned CD8\"* T Cells']\n",
            "['PHASE/TYPE:', 'Phase I/II', '']\n"
          ]
        },
        {
          "output_type": "stream",
          "name": "stderr",
          "text": [
            "\n",
            "  0%|          | 0/25 [00:00<?, ?it/s]\u001b[A\n",
            "  4%|▍         | 1/25 [00:00<00:09,  2.65it/s]\u001b[A\n",
            "  8%|▊         | 2/25 [00:00<00:08,  2.76it/s]\u001b[A\n",
            " 12%|█▏        | 3/25 [00:01<00:07,  2.87it/s]\u001b[A\n",
            " 16%|█▌        | 4/25 [00:01<00:07,  2.85it/s]\u001b[A\n",
            " 20%|██        | 5/25 [00:01<00:06,  2.86it/s]\u001b[A\n",
            " 24%|██▍       | 6/25 [00:02<00:06,  2.89it/s]\u001b[A\n",
            " 28%|██▊       | 7/25 [00:02<00:06,  2.89it/s]\u001b[A\n",
            " 32%|███▏      | 8/25 [00:02<00:05,  2.91it/s]\u001b[A\n",
            " 36%|███▌      | 9/25 [00:03<00:05,  2.89it/s]\u001b[A\n",
            " 40%|████      | 10/25 [00:03<00:06,  2.43it/s]\u001b[A\n",
            " 44%|████▍     | 11/25 [00:04<00:06,  2.19it/s]\u001b[A\n",
            " 48%|████▊     | 12/25 [00:04<00:06,  2.03it/s]\u001b[A\n",
            " 52%|█████▏    | 13/25 [00:05<00:06,  1.96it/s]\u001b[A\n",
            " 56%|█████▌    | 14/25 [00:05<00:05,  1.86it/s]\u001b[A\n",
            " 60%|██████    | 15/25 [00:06<00:05,  1.77it/s]\u001b[A\n",
            " 64%|██████▍   | 16/25 [00:06<00:04,  1.97it/s]\u001b[A\n",
            " 68%|██████▊   | 17/25 [00:07<00:03,  2.18it/s]\u001b[A\n",
            " 72%|███████▏  | 18/25 [00:07<00:02,  2.36it/s]\u001b[A\n",
            " 76%|███████▌  | 19/25 [00:08<00:02,  2.48it/s]\u001b[A\n",
            " 80%|████████  | 20/25 [00:08<00:01,  2.55it/s]\u001b[A\n",
            " 84%|████████▍ | 21/25 [00:08<00:01,  2.67it/s]\u001b[A\n",
            " 88%|████████▊ | 22/25 [00:09<00:01,  2.71it/s]\u001b[A\n",
            " 92%|█████████▏| 23/25 [00:09<00:00,  2.77it/s]\u001b[A\n",
            " 96%|█████████▌| 24/25 [00:09<00:00,  2.85it/s]\u001b[A\n",
            "100%|██████████| 25/25 [00:10<00:00,  2.47it/s]\n",
            "100%|██████████| 2/2 [00:19<00:00,  9.73s/it]\n"
          ]
        },
        {
          "output_type": "stream",
          "name": "stdout",
          "text": [
            "Max number of columns: 3\n",
            "['1.0', 'Goze', '10']\n",
            "['1.1', '10', '']\n",
            "['cs 10', '', '']\n",
            "['1.2', '10', '']\n",
            "['cs 10', '', '']\n",
            "['... 10', '', '']\n",
            "['2.1', 'all', '']\n",
            "['exes EA', '', '']\n",
            "['11', '', '']\n",
            "['12', '', '']\n",
            "['2.2', '12', '']\n",
            "['12', '', '']\n",
            "['', '', '']\n",
            "['14', '', '']\n",
            "['for\\nld', '', '']\n",
            "['2.9', 'ewes AG', '']\n",
            "['3.0', 'The', '18']\n",
            "['3.1', '18', '']\n",
            "['3.2', '19', '']\n",
            "['3.3', 'rl', '']\n",
            "['3.4', 'al', '']\n",
            "['3.5', 'n,\\ncdl', '']\n",
            "['3.6', '20', '']\n",
            "['21', '', '']\n",
            "['4.0', 'Stac', '21']\n",
            "No tables detected in the image.\n",
            "No tables detected in the image.\n",
            "No tables detected in the image.\n",
            "No tables detected in the image.\n"
          ]
        },
        {
          "output_type": "stream",
          "name": "stderr",
          "text": [
            "  0%|          | 0/1 [00:00<?, ?it/s]\n",
            "  0%|          | 0/11 [00:00<?, ?it/s]\u001b[A\n",
            "  9%|▉         | 1/11 [00:00<00:05,  1.73it/s]\u001b[A\n",
            " 18%|█▊        | 2/11 [00:01<00:05,  1.76it/s]\u001b[A\n",
            " 27%|██▋       | 3/11 [00:01<00:04,  1.78it/s]\u001b[A\n",
            " 36%|███▋      | 4/11 [00:02<00:04,  1.44it/s]\u001b[A\n",
            " 45%|████▌     | 5/11 [00:03<00:04,  1.21it/s]\u001b[A\n",
            " 55%|█████▍    | 6/11 [00:04<00:04,  1.10it/s]\u001b[A\n",
            " 64%|██████▎   | 7/11 [00:05<00:03,  1.09it/s]\u001b[A\n",
            " 73%|███████▎  | 8/11 [00:05<00:02,  1.37it/s]\u001b[A\n",
            " 82%|████████▏ | 9/11 [00:06<00:01,  1.66it/s]\u001b[A\n",
            " 91%|█████████ | 10/11 [00:06<00:00,  1.92it/s]\u001b[A\n",
            "100%|██████████| 11/11 [00:06<00:00,  1.58it/s]\n",
            "100%|██████████| 1/1 [00:06<00:00,  6.99s/it]\n"
          ]
        },
        {
          "output_type": "stream",
          "name": "stdout",
          "text": [
            "Max number of columns: 2\n",
            "['15.0', 'rities and Gender Statement...............::ccccceeeeeeeeeeeeeteeeeeeeees']\n",
            "['16.0', 'cal and Regulatory Considerations ..............:::ccccceeceeeeeeeeees']\n",
            "['Institutional Review Board .............2::::cccceeeseeeeeeeeeeeeeeeeneees', '']\n",
            "['16.1.1 Informed Consent ..............cccccccsccecceeeceeeeeeeeeeeeeeees', '']\n",
            "['| “Termination of Study siseveccessscsvevececeovessevecesccvexecsecseneeerernee', '']\n",
            "['17.0', '\\\\OlOgiCal REVIOW......... eee eee ceeeeeeeeeeeseeeeneeteeeteeeeetnaeetsaeeseaes']\n",
            "['18.0', 'earch Participant-Specific Biological Materials..............0.....']\n",
            "['19.0', '']\n",
            "['', '']\n",
            "['', '']\n",
            "['', '']\n",
            "No tables detected in the image.\n",
            "No tables detected in the image.\n",
            "No tables detected in the image.\n",
            "No tables detected in the image.\n",
            "No tables detected in the image.\n"
          ]
        },
        {
          "output_type": "stream",
          "name": "stderr",
          "text": [
            "0it [00:00, ?it/s]\n"
          ]
        },
        {
          "output_type": "stream",
          "name": "stdout",
          "text": [
            "No tables detected in the image.\n",
            "No tables detected in the image.\n",
            "No tables detected in the image.\n"
          ]
        },
        {
          "output_type": "stream",
          "name": "stderr",
          "text": [
            "  0%|          | 0/2 [00:00<?, ?it/s]\n",
            "  0%|          | 0/11 [00:00<?, ?it/s]\u001b[A\n",
            "  9%|▉         | 1/11 [00:00<00:06,  1.50it/s]\u001b[A\n",
            " 18%|█▊        | 2/11 [00:01<00:08,  1.02it/s]\u001b[A\n",
            " 27%|██▋       | 3/11 [00:02<00:06,  1.18it/s]\u001b[A\n",
            " 36%|███▋      | 4/11 [00:02<00:04,  1.47it/s]\u001b[A\n",
            " 45%|████▌     | 5/11 [00:03<00:03,  1.65it/s]\u001b[A\n",
            " 55%|█████▍    | 6/11 [00:03<00:02,  1.87it/s]\u001b[A\n",
            " 64%|██████▎   | 7/11 [00:04<00:02,  1.90it/s]\u001b[A\n",
            " 73%|███████▎  | 8/11 [00:04<00:01,  1.92it/s]\u001b[A\n",
            " 82%|████████▏ | 9/11 [00:05<00:01,  1.94it/s]\u001b[A\n",
            " 91%|█████████ | 10/11 [00:05<00:00,  1.99it/s]\u001b[A\n",
            "100%|██████████| 11/11 [00:06<00:00,  1.74it/s]\n",
            " 50%|█████     | 1/2 [00:06<00:06,  6.33s/it]"
          ]
        },
        {
          "output_type": "stream",
          "name": "stdout",
          "text": [
            "Max number of columns: 3\n",
            "['REGIMEN', 'DRUG', 'TREATMENT']\n",
            "['lfosfamide', '5000 mg/m2 mixed with Mesna 5000 mg/m2 iv over 24 hrs d2', '']\n",
            "['ICE regimen 2', 'Carboplatin', '| AUC 5 (max 800mg) iv d2']\n",
            "['Q2w x 3 cycles', 'Etoposide', '100 mg/m2/d iv d1-3']\n",
            "['fo', 'G-CSF 5 ug/kg sc qd d5-12', '']\n",
            "['Rituximab', '375 mg/m2 iv d1 q2w x 3 cycles', '']\n",
            "['RICE', 'lfosfamide', '5000 mg/m2 mixed with Mesna 5000 mg/m2 iv over 24 hrs d2']\n",
            "['Oe i et', 'Carboplatin', 'AUC 5 (max 800mg) iv d2']\n",
            "['EER: eR, ee', 'Etoposide', '100 mg/m2/d iv d1-3']\n",
            "['fo', 'G-CSF 5 ug/kg sc qd d5-12', '']\n",
            "['ESHAP', 'Etoposide', '40 ma/m2/d iv over 1 hr d1-4']\n"
          ]
        },
        {
          "output_type": "stream",
          "name": "stderr",
          "text": [
            "\n",
            "  0%|          | 0/28 [00:00<?, ?it/s]\u001b[A\n",
            "  4%|▎         | 1/28 [00:00<00:10,  2.61it/s]\u001b[A\n",
            "  7%|▋         | 2/28 [00:00<00:11,  2.33it/s]\u001b[A\n",
            " 11%|█         | 3/28 [00:01<00:10,  2.45it/s]\u001b[A\n",
            " 14%|█▍        | 4/28 [00:01<00:11,  2.02it/s]\n",
            " 50%|█████     | 1/2 [00:08<00:08,  8.32s/it]\n"
          ]
        },
        {
          "output_type": "error",
          "ename": "KeyboardInterrupt",
          "evalue": "",
          "traceback": [
            "\u001b[0;31m---------------------------------------------------------------------------\u001b[0m",
            "\u001b[0;31mKeyboardInterrupt\u001b[0m                         Traceback (most recent call last)",
            "\u001b[0;32m<ipython-input-17-0aa292081e31>\u001b[0m in \u001b[0;36m<cell line: 97>\u001b[0;34m()\u001b[0m\n\u001b[1;32m    112\u001b[0m \u001b[0;34m\u001b[0m\u001b[0m\n\u001b[1;32m    113\u001b[0m             \u001b[0;31m# Process the current batch\u001b[0m\u001b[0;34m\u001b[0m\u001b[0;34m\u001b[0m\u001b[0m\n\u001b[0;32m--> 114\u001b[0;31m             \u001b[0mprocess_batch\u001b[0m\u001b[0;34m(\u001b[0m\u001b[0mbatch_images\u001b[0m\u001b[0;34m,\u001b[0m \u001b[0mbatch_num\u001b[0m\u001b[0;34m)\u001b[0m\u001b[0;34m\u001b[0m\u001b[0;34m\u001b[0m\u001b[0m\n\u001b[0m\u001b[1;32m    115\u001b[0m \u001b[0;34m\u001b[0m\u001b[0m\n\u001b[1;32m    116\u001b[0m             \u001b[0;31m# Clear variables and perform garbage collection to manage memory\u001b[0m\u001b[0;34m\u001b[0m\u001b[0;34m\u001b[0m\u001b[0m\n",
            "\u001b[0;32m<ipython-input-17-0aa292081e31>\u001b[0m in \u001b[0;36mprocess_batch\u001b[0;34m(batch_images, batch_num)\u001b[0m\n\u001b[1;32m     70\u001b[0m         \u001b[0mall_table_coordinates\u001b[0m\u001b[0;34m.\u001b[0m\u001b[0mappend\u001b[0m\u001b[0;34m(\u001b[0m\u001b[0;34m{\u001b[0m\u001b[0;34m\"ID\"\u001b[0m\u001b[0;34m:\u001b[0m \u001b[0mtable_id\u001b[0m\u001b[0;34m,\u001b[0m \u001b[0;34m\"Coordinates\"\u001b[0m\u001b[0;34m:\u001b[0m \u001b[0mtable_coordinates\u001b[0m\u001b[0;34m}\u001b[0m\u001b[0;34m)\u001b[0m\u001b[0;34m\u001b[0m\u001b[0;34m\u001b[0m\u001b[0m\n\u001b[1;32m     71\u001b[0m     \u001b[0;32mfor\u001b[0m \u001b[0mtable_coordinate\u001b[0m \u001b[0;32min\u001b[0m \u001b[0mtqdm\u001b[0m\u001b[0;34m(\u001b[0m\u001b[0mall_table_coordinates\u001b[0m\u001b[0;34m)\u001b[0m\u001b[0;34m:\u001b[0m\u001b[0;34m\u001b[0m\u001b[0;34m\u001b[0m\u001b[0m\n\u001b[0;32m---> 72\u001b[0;31m         \u001b[0mtable_data\u001b[0m \u001b[0;34m=\u001b[0m \u001b[0mapply_ocr\u001b[0m\u001b[0;34m(\u001b[0m\u001b[0mtable_coordinate\u001b[0m\u001b[0;34m[\u001b[0m\u001b[0;34m'Coordinates'\u001b[0m\u001b[0;34m]\u001b[0m\u001b[0;34m,\u001b[0m \u001b[0mall_cropped_images\u001b[0m\u001b[0;34m[\u001b[0m\u001b[0mtable_coordinate\u001b[0m\u001b[0;34m[\u001b[0m\u001b[0;34m'ID'\u001b[0m\u001b[0;34m]\u001b[0m\u001b[0;34m]\u001b[0m\u001b[0;34m)\u001b[0m\u001b[0;34m\u001b[0m\u001b[0;34m\u001b[0m\u001b[0m\n\u001b[0m\u001b[1;32m     73\u001b[0m         all_table_data.append({\n\u001b[1;32m     74\u001b[0m             \u001b[0;34m\"Batch\"\u001b[0m\u001b[0;34m:\u001b[0m \u001b[0mbatch_num\u001b[0m\u001b[0;34m,\u001b[0m\u001b[0;34m\u001b[0m\u001b[0;34m\u001b[0m\u001b[0m\n",
            "\u001b[0;32m<ipython-input-15-f9d0d1607c8c>\u001b[0m in \u001b[0;36mapply_ocr\u001b[0;34m(cell_coordinates, cropped_image)\u001b[0m\n\u001b[1;32m     10\u001b[0m \u001b[0;34m\u001b[0m\u001b[0m\n\u001b[1;32m     11\u001b[0m             \u001b[0;31m# apply OCR using PyTesseract\u001b[0m\u001b[0;34m\u001b[0m\u001b[0;34m\u001b[0m\u001b[0m\n\u001b[0;32m---> 12\u001b[0;31m             \u001b[0mtext\u001b[0m \u001b[0;34m=\u001b[0m \u001b[0mpytesseract\u001b[0m\u001b[0;34m.\u001b[0m\u001b[0mimage_to_string\u001b[0m\u001b[0;34m(\u001b[0m\u001b[0mcell_image\u001b[0m\u001b[0;34m,\u001b[0m \u001b[0mlang\u001b[0m\u001b[0;34m=\u001b[0m\u001b[0;34m'eng'\u001b[0m\u001b[0;34m,\u001b[0m \u001b[0mconfig\u001b[0m\u001b[0;34m=\u001b[0m\u001b[0;34m'--psm 6'\u001b[0m\u001b[0;34m)\u001b[0m\u001b[0;34m.\u001b[0m\u001b[0mstrip\u001b[0m\u001b[0;34m(\u001b[0m\u001b[0;34m)\u001b[0m\u001b[0;34m\u001b[0m\u001b[0;34m\u001b[0m\u001b[0m\n\u001b[0m\u001b[1;32m     13\u001b[0m             \u001b[0;32mif\u001b[0m \u001b[0mtext\u001b[0m\u001b[0;34m:\u001b[0m\u001b[0;34m\u001b[0m\u001b[0;34m\u001b[0m\u001b[0m\n\u001b[1;32m     14\u001b[0m                 \u001b[0mrow_text\u001b[0m\u001b[0;34m.\u001b[0m\u001b[0mappend\u001b[0m\u001b[0;34m(\u001b[0m\u001b[0mtext\u001b[0m\u001b[0;34m)\u001b[0m\u001b[0;34m\u001b[0m\u001b[0;34m\u001b[0m\u001b[0m\n",
            "\u001b[0;32m/usr/local/lib/python3.10/dist-packages/pytesseract/pytesseract.py\u001b[0m in \u001b[0;36mimage_to_string\u001b[0;34m(image, lang, config, nice, output_type, timeout)\u001b[0m\n\u001b[1;32m    421\u001b[0m     \u001b[0margs\u001b[0m \u001b[0;34m=\u001b[0m \u001b[0;34m[\u001b[0m\u001b[0mimage\u001b[0m\u001b[0;34m,\u001b[0m \u001b[0;34m'txt'\u001b[0m\u001b[0;34m,\u001b[0m \u001b[0mlang\u001b[0m\u001b[0;34m,\u001b[0m \u001b[0mconfig\u001b[0m\u001b[0;34m,\u001b[0m \u001b[0mnice\u001b[0m\u001b[0;34m,\u001b[0m \u001b[0mtimeout\u001b[0m\u001b[0;34m]\u001b[0m\u001b[0;34m\u001b[0m\u001b[0;34m\u001b[0m\u001b[0m\n\u001b[1;32m    422\u001b[0m \u001b[0;34m\u001b[0m\u001b[0m\n\u001b[0;32m--> 423\u001b[0;31m     return {\n\u001b[0m\u001b[1;32m    424\u001b[0m         \u001b[0mOutput\u001b[0m\u001b[0;34m.\u001b[0m\u001b[0mBYTES\u001b[0m\u001b[0;34m:\u001b[0m \u001b[0;32mlambda\u001b[0m\u001b[0;34m:\u001b[0m \u001b[0mrun_and_get_output\u001b[0m\u001b[0;34m(\u001b[0m\u001b[0;34m*\u001b[0m\u001b[0;34m(\u001b[0m\u001b[0margs\u001b[0m \u001b[0;34m+\u001b[0m \u001b[0;34m[\u001b[0m\u001b[0;32mTrue\u001b[0m\u001b[0;34m]\u001b[0m\u001b[0;34m)\u001b[0m\u001b[0;34m)\u001b[0m\u001b[0;34m,\u001b[0m\u001b[0;34m\u001b[0m\u001b[0;34m\u001b[0m\u001b[0m\n\u001b[1;32m    425\u001b[0m         \u001b[0mOutput\u001b[0m\u001b[0;34m.\u001b[0m\u001b[0mDICT\u001b[0m\u001b[0;34m:\u001b[0m \u001b[0;32mlambda\u001b[0m\u001b[0;34m:\u001b[0m \u001b[0;34m{\u001b[0m\u001b[0;34m'text'\u001b[0m\u001b[0;34m:\u001b[0m \u001b[0mrun_and_get_output\u001b[0m\u001b[0;34m(\u001b[0m\u001b[0;34m*\u001b[0m\u001b[0margs\u001b[0m\u001b[0;34m)\u001b[0m\u001b[0;34m}\u001b[0m\u001b[0;34m,\u001b[0m\u001b[0;34m\u001b[0m\u001b[0;34m\u001b[0m\u001b[0m\n",
            "\u001b[0;32m/usr/local/lib/python3.10/dist-packages/pytesseract/pytesseract.py\u001b[0m in \u001b[0;36m<lambda>\u001b[0;34m()\u001b[0m\n\u001b[1;32m    424\u001b[0m         \u001b[0mOutput\u001b[0m\u001b[0;34m.\u001b[0m\u001b[0mBYTES\u001b[0m\u001b[0;34m:\u001b[0m \u001b[0;32mlambda\u001b[0m\u001b[0;34m:\u001b[0m \u001b[0mrun_and_get_output\u001b[0m\u001b[0;34m(\u001b[0m\u001b[0;34m*\u001b[0m\u001b[0;34m(\u001b[0m\u001b[0margs\u001b[0m \u001b[0;34m+\u001b[0m \u001b[0;34m[\u001b[0m\u001b[0;32mTrue\u001b[0m\u001b[0;34m]\u001b[0m\u001b[0;34m)\u001b[0m\u001b[0;34m)\u001b[0m\u001b[0;34m,\u001b[0m\u001b[0;34m\u001b[0m\u001b[0;34m\u001b[0m\u001b[0m\n\u001b[1;32m    425\u001b[0m         \u001b[0mOutput\u001b[0m\u001b[0;34m.\u001b[0m\u001b[0mDICT\u001b[0m\u001b[0;34m:\u001b[0m \u001b[0;32mlambda\u001b[0m\u001b[0;34m:\u001b[0m \u001b[0;34m{\u001b[0m\u001b[0;34m'text'\u001b[0m\u001b[0;34m:\u001b[0m \u001b[0mrun_and_get_output\u001b[0m\u001b[0;34m(\u001b[0m\u001b[0;34m*\u001b[0m\u001b[0margs\u001b[0m\u001b[0;34m)\u001b[0m\u001b[0;34m}\u001b[0m\u001b[0;34m,\u001b[0m\u001b[0;34m\u001b[0m\u001b[0;34m\u001b[0m\u001b[0m\n\u001b[0;32m--> 426\u001b[0;31m         \u001b[0mOutput\u001b[0m\u001b[0;34m.\u001b[0m\u001b[0mSTRING\u001b[0m\u001b[0;34m:\u001b[0m \u001b[0;32mlambda\u001b[0m\u001b[0;34m:\u001b[0m \u001b[0mrun_and_get_output\u001b[0m\u001b[0;34m(\u001b[0m\u001b[0;34m*\u001b[0m\u001b[0margs\u001b[0m\u001b[0;34m)\u001b[0m\u001b[0;34m,\u001b[0m\u001b[0;34m\u001b[0m\u001b[0;34m\u001b[0m\u001b[0m\n\u001b[0m\u001b[1;32m    427\u001b[0m     }[output_type]()\n\u001b[1;32m    428\u001b[0m \u001b[0;34m\u001b[0m\u001b[0m\n",
            "\u001b[0;32m/usr/local/lib/python3.10/dist-packages/pytesseract/pytesseract.py\u001b[0m in \u001b[0;36mrun_and_get_output\u001b[0;34m(image, extension, lang, config, nice, timeout, return_bytes)\u001b[0m\n\u001b[1;32m    286\u001b[0m         }\n\u001b[1;32m    287\u001b[0m \u001b[0;34m\u001b[0m\u001b[0m\n\u001b[0;32m--> 288\u001b[0;31m         \u001b[0mrun_tesseract\u001b[0m\u001b[0;34m(\u001b[0m\u001b[0;34m**\u001b[0m\u001b[0mkwargs\u001b[0m\u001b[0;34m)\u001b[0m\u001b[0;34m\u001b[0m\u001b[0;34m\u001b[0m\u001b[0m\n\u001b[0m\u001b[1;32m    289\u001b[0m         \u001b[0mfilename\u001b[0m \u001b[0;34m=\u001b[0m \u001b[0;34mf\"{kwargs['output_filename_base']}{extsep}{extension}\"\u001b[0m\u001b[0;34m\u001b[0m\u001b[0;34m\u001b[0m\u001b[0m\n\u001b[1;32m    290\u001b[0m         \u001b[0;32mwith\u001b[0m \u001b[0mopen\u001b[0m\u001b[0;34m(\u001b[0m\u001b[0mfilename\u001b[0m\u001b[0;34m,\u001b[0m \u001b[0;34m'rb'\u001b[0m\u001b[0;34m)\u001b[0m \u001b[0;32mas\u001b[0m \u001b[0moutput_file\u001b[0m\u001b[0;34m:\u001b[0m\u001b[0;34m\u001b[0m\u001b[0;34m\u001b[0m\u001b[0m\n",
            "\u001b[0;32m/usr/local/lib/python3.10/dist-packages/pytesseract/pytesseract.py\u001b[0m in \u001b[0;36mrun_tesseract\u001b[0;34m(input_filename, output_filename_base, extension, lang, config, nice, timeout)\u001b[0m\n\u001b[1;32m    260\u001b[0m             \u001b[0;32mraise\u001b[0m \u001b[0mTesseractNotFoundError\u001b[0m\u001b[0;34m(\u001b[0m\u001b[0;34m)\u001b[0m\u001b[0;34m\u001b[0m\u001b[0;34m\u001b[0m\u001b[0m\n\u001b[1;32m    261\u001b[0m \u001b[0;34m\u001b[0m\u001b[0m\n\u001b[0;32m--> 262\u001b[0;31m     \u001b[0;32mwith\u001b[0m \u001b[0mtimeout_manager\u001b[0m\u001b[0;34m(\u001b[0m\u001b[0mproc\u001b[0m\u001b[0;34m,\u001b[0m \u001b[0mtimeout\u001b[0m\u001b[0;34m)\u001b[0m \u001b[0;32mas\u001b[0m \u001b[0merror_string\u001b[0m\u001b[0;34m:\u001b[0m\u001b[0;34m\u001b[0m\u001b[0;34m\u001b[0m\u001b[0m\n\u001b[0m\u001b[1;32m    263\u001b[0m         \u001b[0;32mif\u001b[0m \u001b[0mproc\u001b[0m\u001b[0;34m.\u001b[0m\u001b[0mreturncode\u001b[0m\u001b[0;34m:\u001b[0m\u001b[0;34m\u001b[0m\u001b[0;34m\u001b[0m\u001b[0m\n\u001b[1;32m    264\u001b[0m             \u001b[0;32mraise\u001b[0m \u001b[0mTesseractError\u001b[0m\u001b[0;34m(\u001b[0m\u001b[0mproc\u001b[0m\u001b[0;34m.\u001b[0m\u001b[0mreturncode\u001b[0m\u001b[0;34m,\u001b[0m \u001b[0mget_errors\u001b[0m\u001b[0;34m(\u001b[0m\u001b[0merror_string\u001b[0m\u001b[0;34m)\u001b[0m\u001b[0;34m)\u001b[0m\u001b[0;34m\u001b[0m\u001b[0;34m\u001b[0m\u001b[0m\n",
            "\u001b[0;32m/usr/lib/python3.10/contextlib.py\u001b[0m in \u001b[0;36m__enter__\u001b[0;34m(self)\u001b[0m\n\u001b[1;32m    133\u001b[0m         \u001b[0;32mdel\u001b[0m \u001b[0mself\u001b[0m\u001b[0;34m.\u001b[0m\u001b[0margs\u001b[0m\u001b[0;34m,\u001b[0m \u001b[0mself\u001b[0m\u001b[0;34m.\u001b[0m\u001b[0mkwds\u001b[0m\u001b[0;34m,\u001b[0m \u001b[0mself\u001b[0m\u001b[0;34m.\u001b[0m\u001b[0mfunc\u001b[0m\u001b[0;34m\u001b[0m\u001b[0;34m\u001b[0m\u001b[0m\n\u001b[1;32m    134\u001b[0m         \u001b[0;32mtry\u001b[0m\u001b[0;34m:\u001b[0m\u001b[0;34m\u001b[0m\u001b[0;34m\u001b[0m\u001b[0m\n\u001b[0;32m--> 135\u001b[0;31m             \u001b[0;32mreturn\u001b[0m \u001b[0mnext\u001b[0m\u001b[0;34m(\u001b[0m\u001b[0mself\u001b[0m\u001b[0;34m.\u001b[0m\u001b[0mgen\u001b[0m\u001b[0;34m)\u001b[0m\u001b[0;34m\u001b[0m\u001b[0;34m\u001b[0m\u001b[0m\n\u001b[0m\u001b[1;32m    136\u001b[0m         \u001b[0;32mexcept\u001b[0m \u001b[0mStopIteration\u001b[0m\u001b[0;34m:\u001b[0m\u001b[0;34m\u001b[0m\u001b[0;34m\u001b[0m\u001b[0m\n\u001b[1;32m    137\u001b[0m             \u001b[0;32mraise\u001b[0m \u001b[0mRuntimeError\u001b[0m\u001b[0;34m(\u001b[0m\u001b[0;34m\"generator didn't yield\"\u001b[0m\u001b[0;34m)\u001b[0m \u001b[0;32mfrom\u001b[0m \u001b[0;32mNone\u001b[0m\u001b[0;34m\u001b[0m\u001b[0;34m\u001b[0m\u001b[0m\n",
            "\u001b[0;32m/usr/local/lib/python3.10/dist-packages/pytesseract/pytesseract.py\u001b[0m in \u001b[0;36mtimeout_manager\u001b[0;34m(proc, seconds)\u001b[0m\n\u001b[1;32m    125\u001b[0m     \u001b[0;32mtry\u001b[0m\u001b[0;34m:\u001b[0m\u001b[0;34m\u001b[0m\u001b[0;34m\u001b[0m\u001b[0m\n\u001b[1;32m    126\u001b[0m         \u001b[0;32mif\u001b[0m \u001b[0;32mnot\u001b[0m \u001b[0mseconds\u001b[0m\u001b[0;34m:\u001b[0m\u001b[0;34m\u001b[0m\u001b[0;34m\u001b[0m\u001b[0m\n\u001b[0;32m--> 127\u001b[0;31m             \u001b[0;32myield\u001b[0m \u001b[0mproc\u001b[0m\u001b[0;34m.\u001b[0m\u001b[0mcommunicate\u001b[0m\u001b[0;34m(\u001b[0m\u001b[0;34m)\u001b[0m\u001b[0;34m[\u001b[0m\u001b[0;36m1\u001b[0m\u001b[0;34m]\u001b[0m\u001b[0;34m\u001b[0m\u001b[0;34m\u001b[0m\u001b[0m\n\u001b[0m\u001b[1;32m    128\u001b[0m             \u001b[0;32mreturn\u001b[0m\u001b[0;34m\u001b[0m\u001b[0;34m\u001b[0m\u001b[0m\n\u001b[1;32m    129\u001b[0m \u001b[0;34m\u001b[0m\u001b[0m\n",
            "\u001b[0;32m/usr/lib/python3.10/subprocess.py\u001b[0m in \u001b[0;36mcommunicate\u001b[0;34m(self, input, timeout)\u001b[0m\n\u001b[1;32m   1152\u001b[0m \u001b[0;34m\u001b[0m\u001b[0m\n\u001b[1;32m   1153\u001b[0m             \u001b[0;32mtry\u001b[0m\u001b[0;34m:\u001b[0m\u001b[0;34m\u001b[0m\u001b[0;34m\u001b[0m\u001b[0m\n\u001b[0;32m-> 1154\u001b[0;31m                 \u001b[0mstdout\u001b[0m\u001b[0;34m,\u001b[0m \u001b[0mstderr\u001b[0m \u001b[0;34m=\u001b[0m \u001b[0mself\u001b[0m\u001b[0;34m.\u001b[0m\u001b[0m_communicate\u001b[0m\u001b[0;34m(\u001b[0m\u001b[0minput\u001b[0m\u001b[0;34m,\u001b[0m \u001b[0mendtime\u001b[0m\u001b[0;34m,\u001b[0m \u001b[0mtimeout\u001b[0m\u001b[0;34m)\u001b[0m\u001b[0;34m\u001b[0m\u001b[0;34m\u001b[0m\u001b[0m\n\u001b[0m\u001b[1;32m   1155\u001b[0m             \u001b[0;32mexcept\u001b[0m \u001b[0mKeyboardInterrupt\u001b[0m\u001b[0;34m:\u001b[0m\u001b[0;34m\u001b[0m\u001b[0;34m\u001b[0m\u001b[0m\n\u001b[1;32m   1156\u001b[0m                 \u001b[0;31m# https://bugs.python.org/issue25942\u001b[0m\u001b[0;34m\u001b[0m\u001b[0;34m\u001b[0m\u001b[0m\n",
            "\u001b[0;32m/usr/lib/python3.10/subprocess.py\u001b[0m in \u001b[0;36m_communicate\u001b[0;34m(self, input, endtime, orig_timeout)\u001b[0m\n\u001b[1;32m   2019\u001b[0m                             'failed to raise TimeoutExpired.')\n\u001b[1;32m   2020\u001b[0m \u001b[0;34m\u001b[0m\u001b[0m\n\u001b[0;32m-> 2021\u001b[0;31m                     \u001b[0mready\u001b[0m \u001b[0;34m=\u001b[0m \u001b[0mselector\u001b[0m\u001b[0;34m.\u001b[0m\u001b[0mselect\u001b[0m\u001b[0;34m(\u001b[0m\u001b[0mtimeout\u001b[0m\u001b[0;34m)\u001b[0m\u001b[0;34m\u001b[0m\u001b[0;34m\u001b[0m\u001b[0m\n\u001b[0m\u001b[1;32m   2022\u001b[0m                     \u001b[0mself\u001b[0m\u001b[0;34m.\u001b[0m\u001b[0m_check_timeout\u001b[0m\u001b[0;34m(\u001b[0m\u001b[0mendtime\u001b[0m\u001b[0;34m,\u001b[0m \u001b[0morig_timeout\u001b[0m\u001b[0;34m,\u001b[0m \u001b[0mstdout\u001b[0m\u001b[0;34m,\u001b[0m \u001b[0mstderr\u001b[0m\u001b[0;34m)\u001b[0m\u001b[0;34m\u001b[0m\u001b[0;34m\u001b[0m\u001b[0m\n\u001b[1;32m   2023\u001b[0m \u001b[0;34m\u001b[0m\u001b[0m\n",
            "\u001b[0;32m/usr/lib/python3.10/selectors.py\u001b[0m in \u001b[0;36mselect\u001b[0;34m(self, timeout)\u001b[0m\n\u001b[1;32m    414\u001b[0m         \u001b[0mready\u001b[0m \u001b[0;34m=\u001b[0m \u001b[0;34m[\u001b[0m\u001b[0;34m]\u001b[0m\u001b[0;34m\u001b[0m\u001b[0;34m\u001b[0m\u001b[0m\n\u001b[1;32m    415\u001b[0m         \u001b[0;32mtry\u001b[0m\u001b[0;34m:\u001b[0m\u001b[0;34m\u001b[0m\u001b[0;34m\u001b[0m\u001b[0m\n\u001b[0;32m--> 416\u001b[0;31m             \u001b[0mfd_event_list\u001b[0m \u001b[0;34m=\u001b[0m \u001b[0mself\u001b[0m\u001b[0;34m.\u001b[0m\u001b[0m_selector\u001b[0m\u001b[0;34m.\u001b[0m\u001b[0mpoll\u001b[0m\u001b[0;34m(\u001b[0m\u001b[0mtimeout\u001b[0m\u001b[0;34m)\u001b[0m\u001b[0;34m\u001b[0m\u001b[0;34m\u001b[0m\u001b[0m\n\u001b[0m\u001b[1;32m    417\u001b[0m         \u001b[0;32mexcept\u001b[0m \u001b[0mInterruptedError\u001b[0m\u001b[0;34m:\u001b[0m\u001b[0;34m\u001b[0m\u001b[0;34m\u001b[0m\u001b[0m\n\u001b[1;32m    418\u001b[0m             \u001b[0;32mreturn\u001b[0m \u001b[0mready\u001b[0m\u001b[0;34m\u001b[0m\u001b[0;34m\u001b[0m\u001b[0m\n",
            "\u001b[0;31mKeyboardInterrupt\u001b[0m: "
          ]
        }
      ]
    }
  ]
}